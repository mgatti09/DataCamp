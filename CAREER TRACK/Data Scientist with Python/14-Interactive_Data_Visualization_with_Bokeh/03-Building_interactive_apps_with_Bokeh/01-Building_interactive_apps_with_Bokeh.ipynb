{
 "cells": [
  {
   "cell_type": "markdown",
   "metadata": {},
   "source": [
    "# Building interactive apps with Bokeh\n",
    "\n",
    "Bokeh server applications let you connect all of the powerful Python libraries for analytics and data science, such as NumPy and Pandas, to rich interactive Bokeh visualizations. Learn about Bokeh's built-in widgets, how to add them to Bokeh documents alongside plots, and how to connect everything to real python code using the Bokeh server.\n",
    "\n",
    "## Running Bokeh Applications\n",
    "Run single module apps at the shell or Windows command prompt:\n",
    "``` Python\n",
    "bokeh serve --show myapp.py\n",
    "```\n",
    "“Directory” style apps run similarly:\n",
    "```Python \n",
    "bokeh serve --show myappdir/\n",
    "```"
   ]
  },
  {
   "cell_type": "code",
   "execution_count": 132,
   "metadata": {},
   "outputs": [],
   "source": [
    "from IPython.display import HTML, Image\n",
    "import pandas as pd\n",
    "import numpy as np\n",
    "import datetime\n",
    "\n",
    "# Import figure from bokeh.plotting\n",
    "from bokeh.plotting import figure, ColumnDataSource\n",
    "\n",
    "# Import output_file and show from bokeh.io\n",
    "from bokeh.io import output_notebook, show, curdoc\n",
    "\n",
    "# import the HoverTool\n",
    "from bokeh.models import HoverTool, CategoricalColorMapper, CDSView, GroupFilter, Slider, Select, Button, CheckboxGroup, RadioGroup, Toggle\n",
    "\n",
    "from bokeh.layouts import row, column, gridplot, widgetbox\n",
    "\n",
    "from bokeh.models.widgets import Tabs, Panel"
   ]
  },
  {
   "cell_type": "code",
   "execution_count": 8,
   "metadata": {},
   "outputs": [
    {
     "data": {
      "text/html": [
       "\n",
       "    <div class=\"bk-root\">\n",
       "        <a href=\"https://bokeh.pydata.org\" target=\"_blank\" class=\"bk-logo bk-logo-small bk-logo-notebook\"></a>\n",
       "        <span id=\"1088\">Loading BokehJS ...</span>\n",
       "    </div>"
      ]
     },
     "metadata": {},
     "output_type": "display_data"
    },
    {
     "data": {
      "application/javascript": [
       "\n",
       "(function(root) {\n",
       "  function now() {\n",
       "    return new Date();\n",
       "  }\n",
       "\n",
       "  var force = true;\n",
       "\n",
       "  if (typeof (root._bokeh_onload_callbacks) === \"undefined\" || force === true) {\n",
       "    root._bokeh_onload_callbacks = [];\n",
       "    root._bokeh_is_loading = undefined;\n",
       "  }\n",
       "\n",
       "  var JS_MIME_TYPE = 'application/javascript';\n",
       "  var HTML_MIME_TYPE = 'text/html';\n",
       "  var EXEC_MIME_TYPE = 'application/vnd.bokehjs_exec.v0+json';\n",
       "  var CLASS_NAME = 'output_bokeh rendered_html';\n",
       "\n",
       "  /**\n",
       "   * Render data to the DOM node\n",
       "   */\n",
       "  function render(props, node) {\n",
       "    var script = document.createElement(\"script\");\n",
       "    node.appendChild(script);\n",
       "  }\n",
       "\n",
       "  /**\n",
       "   * Handle when an output is cleared or removed\n",
       "   */\n",
       "  function handleClearOutput(event, handle) {\n",
       "    var cell = handle.cell;\n",
       "\n",
       "    var id = cell.output_area._bokeh_element_id;\n",
       "    var server_id = cell.output_area._bokeh_server_id;\n",
       "    // Clean up Bokeh references\n",
       "    if (id != null && id in Bokeh.index) {\n",
       "      Bokeh.index[id].model.document.clear();\n",
       "      delete Bokeh.index[id];\n",
       "    }\n",
       "\n",
       "    if (server_id !== undefined) {\n",
       "      // Clean up Bokeh references\n",
       "      var cmd = \"from bokeh.io.state import curstate; print(curstate().uuid_to_server['\" + server_id + \"'].get_sessions()[0].document.roots[0]._id)\";\n",
       "      cell.notebook.kernel.execute(cmd, {\n",
       "        iopub: {\n",
       "          output: function(msg) {\n",
       "            var id = msg.content.text.trim();\n",
       "            if (id in Bokeh.index) {\n",
       "              Bokeh.index[id].model.document.clear();\n",
       "              delete Bokeh.index[id];\n",
       "            }\n",
       "          }\n",
       "        }\n",
       "      });\n",
       "      // Destroy server and session\n",
       "      var cmd = \"import bokeh.io.notebook as ion; ion.destroy_server('\" + server_id + \"')\";\n",
       "      cell.notebook.kernel.execute(cmd);\n",
       "    }\n",
       "  }\n",
       "\n",
       "  /**\n",
       "   * Handle when a new output is added\n",
       "   */\n",
       "  function handleAddOutput(event, handle) {\n",
       "    var output_area = handle.output_area;\n",
       "    var output = handle.output;\n",
       "\n",
       "    // limit handleAddOutput to display_data with EXEC_MIME_TYPE content only\n",
       "    if ((output.output_type != \"display_data\") || (!output.data.hasOwnProperty(EXEC_MIME_TYPE))) {\n",
       "      return\n",
       "    }\n",
       "\n",
       "    var toinsert = output_area.element.find(\".\" + CLASS_NAME.split(' ')[0]);\n",
       "\n",
       "    if (output.metadata[EXEC_MIME_TYPE][\"id\"] !== undefined) {\n",
       "      toinsert[toinsert.length - 1].firstChild.textContent = output.data[JS_MIME_TYPE];\n",
       "      // store reference to embed id on output_area\n",
       "      output_area._bokeh_element_id = output.metadata[EXEC_MIME_TYPE][\"id\"];\n",
       "    }\n",
       "    if (output.metadata[EXEC_MIME_TYPE][\"server_id\"] !== undefined) {\n",
       "      var bk_div = document.createElement(\"div\");\n",
       "      bk_div.innerHTML = output.data[HTML_MIME_TYPE];\n",
       "      var script_attrs = bk_div.children[0].attributes;\n",
       "      for (var i = 0; i < script_attrs.length; i++) {\n",
       "        toinsert[toinsert.length - 1].firstChild.setAttribute(script_attrs[i].name, script_attrs[i].value);\n",
       "      }\n",
       "      // store reference to server id on output_area\n",
       "      output_area._bokeh_server_id = output.metadata[EXEC_MIME_TYPE][\"server_id\"];\n",
       "    }\n",
       "  }\n",
       "\n",
       "  function register_renderer(events, OutputArea) {\n",
       "\n",
       "    function append_mime(data, metadata, element) {\n",
       "      // create a DOM node to render to\n",
       "      var toinsert = this.create_output_subarea(\n",
       "        metadata,\n",
       "        CLASS_NAME,\n",
       "        EXEC_MIME_TYPE\n",
       "      );\n",
       "      this.keyboard_manager.register_events(toinsert);\n",
       "      // Render to node\n",
       "      var props = {data: data, metadata: metadata[EXEC_MIME_TYPE]};\n",
       "      render(props, toinsert[toinsert.length - 1]);\n",
       "      element.append(toinsert);\n",
       "      return toinsert\n",
       "    }\n",
       "\n",
       "    /* Handle when an output is cleared or removed */\n",
       "    events.on('clear_output.CodeCell', handleClearOutput);\n",
       "    events.on('delete.Cell', handleClearOutput);\n",
       "\n",
       "    /* Handle when a new output is added */\n",
       "    events.on('output_added.OutputArea', handleAddOutput);\n",
       "\n",
       "    /**\n",
       "     * Register the mime type and append_mime function with output_area\n",
       "     */\n",
       "    OutputArea.prototype.register_mime_type(EXEC_MIME_TYPE, append_mime, {\n",
       "      /* Is output safe? */\n",
       "      safe: true,\n",
       "      /* Index of renderer in `output_area.display_order` */\n",
       "      index: 0\n",
       "    });\n",
       "  }\n",
       "\n",
       "  // register the mime type if in Jupyter Notebook environment and previously unregistered\n",
       "  if (root.Jupyter !== undefined) {\n",
       "    var events = require('base/js/events');\n",
       "    var OutputArea = require('notebook/js/outputarea').OutputArea;\n",
       "\n",
       "    if (OutputArea.prototype.mime_types().indexOf(EXEC_MIME_TYPE) == -1) {\n",
       "      register_renderer(events, OutputArea);\n",
       "    }\n",
       "  }\n",
       "\n",
       "  \n",
       "  if (typeof (root._bokeh_timeout) === \"undefined\" || force === true) {\n",
       "    root._bokeh_timeout = Date.now() + 5000;\n",
       "    root._bokeh_failed_load = false;\n",
       "  }\n",
       "\n",
       "  var NB_LOAD_WARNING = {'data': {'text/html':\n",
       "     \"<div style='background-color: #fdd'>\\n\"+\n",
       "     \"<p>\\n\"+\n",
       "     \"BokehJS does not appear to have successfully loaded. If loading BokehJS from CDN, this \\n\"+\n",
       "     \"may be due to a slow or bad network connection. Possible fixes:\\n\"+\n",
       "     \"</p>\\n\"+\n",
       "     \"<ul>\\n\"+\n",
       "     \"<li>re-rerun `output_notebook()` to attempt to load from CDN again, or</li>\\n\"+\n",
       "     \"<li>use INLINE resources instead, as so:</li>\\n\"+\n",
       "     \"</ul>\\n\"+\n",
       "     \"<code>\\n\"+\n",
       "     \"from bokeh.resources import INLINE\\n\"+\n",
       "     \"output_notebook(resources=INLINE)\\n\"+\n",
       "     \"</code>\\n\"+\n",
       "     \"</div>\"}};\n",
       "\n",
       "  function display_loaded() {\n",
       "    var el = document.getElementById(\"1088\");\n",
       "    if (el != null) {\n",
       "      el.textContent = \"BokehJS is loading...\";\n",
       "    }\n",
       "    if (root.Bokeh !== undefined) {\n",
       "      if (el != null) {\n",
       "        el.textContent = \"BokehJS \" + root.Bokeh.version + \" successfully loaded.\";\n",
       "      }\n",
       "    } else if (Date.now() < root._bokeh_timeout) {\n",
       "      setTimeout(display_loaded, 100)\n",
       "    }\n",
       "  }\n",
       "\n",
       "\n",
       "  function run_callbacks() {\n",
       "    try {\n",
       "      root._bokeh_onload_callbacks.forEach(function(callback) { callback() });\n",
       "    }\n",
       "    finally {\n",
       "      delete root._bokeh_onload_callbacks\n",
       "    }\n",
       "    console.info(\"Bokeh: all callbacks have finished\");\n",
       "  }\n",
       "\n",
       "  function load_libs(js_urls, callback) {\n",
       "    root._bokeh_onload_callbacks.push(callback);\n",
       "    if (root._bokeh_is_loading > 0) {\n",
       "      console.log(\"Bokeh: BokehJS is being loaded, scheduling callback at\", now());\n",
       "      return null;\n",
       "    }\n",
       "    if (js_urls == null || js_urls.length === 0) {\n",
       "      run_callbacks();\n",
       "      return null;\n",
       "    }\n",
       "    console.log(\"Bokeh: BokehJS not loaded, scheduling load and callback at\", now());\n",
       "    root._bokeh_is_loading = js_urls.length;\n",
       "    for (var i = 0; i < js_urls.length; i++) {\n",
       "      var url = js_urls[i];\n",
       "      var s = document.createElement('script');\n",
       "      s.src = url;\n",
       "      s.async = false;\n",
       "      s.onreadystatechange = s.onload = function() {\n",
       "        root._bokeh_is_loading--;\n",
       "        if (root._bokeh_is_loading === 0) {\n",
       "          console.log(\"Bokeh: all BokehJS libraries loaded\");\n",
       "          run_callbacks()\n",
       "        }\n",
       "      };\n",
       "      s.onerror = function() {\n",
       "        console.warn(\"failed to load library \" + url);\n",
       "      };\n",
       "      console.log(\"Bokeh: injecting script tag for BokehJS library: \", url);\n",
       "      document.getElementsByTagName(\"head\")[0].appendChild(s);\n",
       "    }\n",
       "  };var element = document.getElementById(\"1088\");\n",
       "  if (element == null) {\n",
       "    console.log(\"Bokeh: ERROR: autoload.js configured with elementid '1088' but no matching script tag was found. \")\n",
       "    return false;\n",
       "  }\n",
       "\n",
       "  var js_urls = [\"https://cdn.pydata.org/bokeh/release/bokeh-1.0.2.min.js\", \"https://cdn.pydata.org/bokeh/release/bokeh-widgets-1.0.2.min.js\", \"https://cdn.pydata.org/bokeh/release/bokeh-tables-1.0.2.min.js\", \"https://cdn.pydata.org/bokeh/release/bokeh-gl-1.0.2.min.js\"];\n",
       "\n",
       "  var inline_js = [\n",
       "    function(Bokeh) {\n",
       "      Bokeh.set_log_level(\"info\");\n",
       "    },\n",
       "    \n",
       "    function(Bokeh) {\n",
       "      \n",
       "    },\n",
       "    function(Bokeh) {\n",
       "      console.log(\"Bokeh: injecting CSS: https://cdn.pydata.org/bokeh/release/bokeh-1.0.2.min.css\");\n",
       "      Bokeh.embed.inject_css(\"https://cdn.pydata.org/bokeh/release/bokeh-1.0.2.min.css\");\n",
       "      console.log(\"Bokeh: injecting CSS: https://cdn.pydata.org/bokeh/release/bokeh-widgets-1.0.2.min.css\");\n",
       "      Bokeh.embed.inject_css(\"https://cdn.pydata.org/bokeh/release/bokeh-widgets-1.0.2.min.css\");\n",
       "      console.log(\"Bokeh: injecting CSS: https://cdn.pydata.org/bokeh/release/bokeh-tables-1.0.2.min.css\");\n",
       "      Bokeh.embed.inject_css(\"https://cdn.pydata.org/bokeh/release/bokeh-tables-1.0.2.min.css\");\n",
       "    }\n",
       "  ];\n",
       "\n",
       "  function run_inline_js() {\n",
       "    \n",
       "    if ((root.Bokeh !== undefined) || (force === true)) {\n",
       "      for (var i = 0; i < inline_js.length; i++) {\n",
       "        inline_js[i].call(root, root.Bokeh);\n",
       "      }if (force === true) {\n",
       "        display_loaded();\n",
       "      }} else if (Date.now() < root._bokeh_timeout) {\n",
       "      setTimeout(run_inline_js, 100);\n",
       "    } else if (!root._bokeh_failed_load) {\n",
       "      console.log(\"Bokeh: BokehJS failed to load within specified timeout.\");\n",
       "      root._bokeh_failed_load = true;\n",
       "    } else if (force !== true) {\n",
       "      var cell = $(document.getElementById(\"1088\")).parents('.cell').data().cell;\n",
       "      cell.output_area.append_execute_result(NB_LOAD_WARNING)\n",
       "    }\n",
       "\n",
       "  }\n",
       "\n",
       "  if (root._bokeh_is_loading === 0) {\n",
       "    console.log(\"Bokeh: BokehJS loaded, going straight to plotting\");\n",
       "    run_inline_js();\n",
       "  } else {\n",
       "    load_libs(js_urls, function() {\n",
       "      console.log(\"Bokeh: BokehJS plotting callback run at\", now());\n",
       "      run_inline_js();\n",
       "    });\n",
       "  }\n",
       "}(window));"
      ],
      "application/vnd.bokehjs_load.v0+json": "\n(function(root) {\n  function now() {\n    return new Date();\n  }\n\n  var force = true;\n\n  if (typeof (root._bokeh_onload_callbacks) === \"undefined\" || force === true) {\n    root._bokeh_onload_callbacks = [];\n    root._bokeh_is_loading = undefined;\n  }\n\n  \n\n  \n  if (typeof (root._bokeh_timeout) === \"undefined\" || force === true) {\n    root._bokeh_timeout = Date.now() + 5000;\n    root._bokeh_failed_load = false;\n  }\n\n  var NB_LOAD_WARNING = {'data': {'text/html':\n     \"<div style='background-color: #fdd'>\\n\"+\n     \"<p>\\n\"+\n     \"BokehJS does not appear to have successfully loaded. If loading BokehJS from CDN, this \\n\"+\n     \"may be due to a slow or bad network connection. Possible fixes:\\n\"+\n     \"</p>\\n\"+\n     \"<ul>\\n\"+\n     \"<li>re-rerun `output_notebook()` to attempt to load from CDN again, or</li>\\n\"+\n     \"<li>use INLINE resources instead, as so:</li>\\n\"+\n     \"</ul>\\n\"+\n     \"<code>\\n\"+\n     \"from bokeh.resources import INLINE\\n\"+\n     \"output_notebook(resources=INLINE)\\n\"+\n     \"</code>\\n\"+\n     \"</div>\"}};\n\n  function display_loaded() {\n    var el = document.getElementById(\"1088\");\n    if (el != null) {\n      el.textContent = \"BokehJS is loading...\";\n    }\n    if (root.Bokeh !== undefined) {\n      if (el != null) {\n        el.textContent = \"BokehJS \" + root.Bokeh.version + \" successfully loaded.\";\n      }\n    } else if (Date.now() < root._bokeh_timeout) {\n      setTimeout(display_loaded, 100)\n    }\n  }\n\n\n  function run_callbacks() {\n    try {\n      root._bokeh_onload_callbacks.forEach(function(callback) { callback() });\n    }\n    finally {\n      delete root._bokeh_onload_callbacks\n    }\n    console.info(\"Bokeh: all callbacks have finished\");\n  }\n\n  function load_libs(js_urls, callback) {\n    root._bokeh_onload_callbacks.push(callback);\n    if (root._bokeh_is_loading > 0) {\n      console.log(\"Bokeh: BokehJS is being loaded, scheduling callback at\", now());\n      return null;\n    }\n    if (js_urls == null || js_urls.length === 0) {\n      run_callbacks();\n      return null;\n    }\n    console.log(\"Bokeh: BokehJS not loaded, scheduling load and callback at\", now());\n    root._bokeh_is_loading = js_urls.length;\n    for (var i = 0; i < js_urls.length; i++) {\n      var url = js_urls[i];\n      var s = document.createElement('script');\n      s.src = url;\n      s.async = false;\n      s.onreadystatechange = s.onload = function() {\n        root._bokeh_is_loading--;\n        if (root._bokeh_is_loading === 0) {\n          console.log(\"Bokeh: all BokehJS libraries loaded\");\n          run_callbacks()\n        }\n      };\n      s.onerror = function() {\n        console.warn(\"failed to load library \" + url);\n      };\n      console.log(\"Bokeh: injecting script tag for BokehJS library: \", url);\n      document.getElementsByTagName(\"head\")[0].appendChild(s);\n    }\n  };var element = document.getElementById(\"1088\");\n  if (element == null) {\n    console.log(\"Bokeh: ERROR: autoload.js configured with elementid '1088' but no matching script tag was found. \")\n    return false;\n  }\n\n  var js_urls = [\"https://cdn.pydata.org/bokeh/release/bokeh-1.0.2.min.js\", \"https://cdn.pydata.org/bokeh/release/bokeh-widgets-1.0.2.min.js\", \"https://cdn.pydata.org/bokeh/release/bokeh-tables-1.0.2.min.js\", \"https://cdn.pydata.org/bokeh/release/bokeh-gl-1.0.2.min.js\"];\n\n  var inline_js = [\n    function(Bokeh) {\n      Bokeh.set_log_level(\"info\");\n    },\n    \n    function(Bokeh) {\n      \n    },\n    function(Bokeh) {\n      console.log(\"Bokeh: injecting CSS: https://cdn.pydata.org/bokeh/release/bokeh-1.0.2.min.css\");\n      Bokeh.embed.inject_css(\"https://cdn.pydata.org/bokeh/release/bokeh-1.0.2.min.css\");\n      console.log(\"Bokeh: injecting CSS: https://cdn.pydata.org/bokeh/release/bokeh-widgets-1.0.2.min.css\");\n      Bokeh.embed.inject_css(\"https://cdn.pydata.org/bokeh/release/bokeh-widgets-1.0.2.min.css\");\n      console.log(\"Bokeh: injecting CSS: https://cdn.pydata.org/bokeh/release/bokeh-tables-1.0.2.min.css\");\n      Bokeh.embed.inject_css(\"https://cdn.pydata.org/bokeh/release/bokeh-tables-1.0.2.min.css\");\n    }\n  ];\n\n  function run_inline_js() {\n    \n    if ((root.Bokeh !== undefined) || (force === true)) {\n      for (var i = 0; i < inline_js.length; i++) {\n        inline_js[i].call(root, root.Bokeh);\n      }if (force === true) {\n        display_loaded();\n      }} else if (Date.now() < root._bokeh_timeout) {\n      setTimeout(run_inline_js, 100);\n    } else if (!root._bokeh_failed_load) {\n      console.log(\"Bokeh: BokehJS failed to load within specified timeout.\");\n      root._bokeh_failed_load = true;\n    } else if (force !== true) {\n      var cell = $(document.getElementById(\"1088\")).parents('.cell').data().cell;\n      cell.output_area.append_execute_result(NB_LOAD_WARNING)\n    }\n\n  }\n\n  if (root._bokeh_is_loading === 0) {\n    console.log(\"Bokeh: BokehJS loaded, going straight to plotting\");\n    run_inline_js();\n  } else {\n    load_libs(js_urls, function() {\n      console.log(\"Bokeh: BokehJS plotting callback run at\", now());\n      run_inline_js();\n    });\n  }\n}(window));"
     },
     "metadata": {},
     "output_type": "display_data"
    }
   ],
   "source": [
    "output_notebook()"
   ]
  },
  {
   "cell_type": "markdown",
   "metadata": {},
   "source": [
    "## Introducing the [Bokeh Server][1]\n",
    "\n",
    "[1]: https://bokeh.pydata.org/en/latest/docs/user_guide/server.html"
   ]
  },
  {
   "cell_type": "code",
   "execution_count": 5,
   "metadata": {},
   "outputs": [
    {
     "data": {
      "text/html": [
       "<video style=\"display:block; margin: 0 auto;\" controls>\n",
       "      <source src=\"_Docs/01-Introducing_the_Bokeh_Server.mp4\" type=\"video/mp4\">\n",
       "</video>\n"
      ],
      "text/plain": [
       "<IPython.core.display.HTML object>"
      ]
     },
     "metadata": {},
     "output_type": "display_data"
    }
   ],
   "source": [
    "%%HTML\n",
    "<video style=\"display:block; margin: 0 auto;\" controls>\n",
    "      <source src=\"_Docs/01-Introducing_the_Bokeh_Server.mp4\" type=\"video/mp4\">\n",
    "</video>"
   ]
  },
  {
   "cell_type": "markdown",
   "metadata": {},
   "source": [
    "### Using the current document\n",
    "Let's get started with building an interactive Bokeh app. This typically begins with importing the `curdoc`, or \"current document\", function from `bokeh.io`. This current document will eventually hold all the plots, controls, and layouts that you create. Your job in this exercise is to use this function to add a single plot to your application.\n",
    "\n",
    "In the video, Bryan described the process for running a Bokeh app using the bokeh serve command line tool. In this chapter and the one that follows, the DataCamp environment does this for you behind the scenes. Notice that your code is part of a `script.py` file. When you hit 'Submit Answer', you'll see in the IPython Shell that we call bokeh serve `script.py` for you.\n",
    "\n",
    "Remember, as in the previous chapters, that there are different options available for you to interact with your plots, and as before, you may have to scroll down to view the lower portion of the plots."
   ]
  },
  {
   "cell_type": "code",
   "execution_count": 9,
   "metadata": {},
   "outputs": [
    {
     "data": {
      "text/html": [
       "\n",
       "\n",
       "\n",
       "\n",
       "\n",
       "\n",
       "  <div class=\"bk-root\" id=\"c307d0f6-1190-40e3-9b15-bdf526e86f03\"></div>\n"
      ]
     },
     "metadata": {},
     "output_type": "display_data"
    },
    {
     "data": {
      "application/javascript": [
       "(function(root) {\n",
       "  function embed_document(root) {\n",
       "    \n",
       "  var docs_json = {\"386566d0-6e54-4ab8-a882-bcf9e6541dd8\":{\"roots\":{\"references\":[{\"attributes\":{\"below\":[{\"id\":\"1098\",\"type\":\"LinearAxis\"}],\"left\":[{\"id\":\"1103\",\"type\":\"LinearAxis\"}],\"renderers\":[{\"id\":\"1098\",\"type\":\"LinearAxis\"},{\"id\":\"1102\",\"type\":\"Grid\"},{\"id\":\"1103\",\"type\":\"LinearAxis\"},{\"id\":\"1107\",\"type\":\"Grid\"},{\"id\":\"1116\",\"type\":\"BoxAnnotation\"},{\"id\":\"1126\",\"type\":\"GlyphRenderer\"}],\"title\":{\"id\":\"1138\",\"type\":\"Title\"},\"toolbar\":{\"id\":\"1114\",\"type\":\"Toolbar\"},\"x_range\":{\"id\":\"1090\",\"type\":\"DataRange1d\"},\"x_scale\":{\"id\":\"1094\",\"type\":\"LinearScale\"},\"y_range\":{\"id\":\"1092\",\"type\":\"DataRange1d\"},\"y_scale\":{\"id\":\"1096\",\"type\":\"LinearScale\"}},\"id\":\"1089\",\"subtype\":\"Figure\",\"type\":\"Plot\"},{\"attributes\":{\"active_drag\":\"auto\",\"active_inspect\":\"auto\",\"active_multi\":null,\"active_scroll\":\"auto\",\"active_tap\":\"auto\",\"tools\":[{\"id\":\"1108\",\"type\":\"PanTool\"},{\"id\":\"1109\",\"type\":\"WheelZoomTool\"},{\"id\":\"1110\",\"type\":\"BoxZoomTool\"},{\"id\":\"1111\",\"type\":\"SaveTool\"},{\"id\":\"1112\",\"type\":\"ResetTool\"},{\"id\":\"1113\",\"type\":\"HelpTool\"}]},\"id\":\"1114\",\"type\":\"Toolbar\"},{\"attributes\":{},\"id\":\"1108\",\"type\":\"PanTool\"},{\"attributes\":{},\"id\":\"1109\",\"type\":\"WheelZoomTool\"},{\"attributes\":{\"overlay\":{\"id\":\"1116\",\"type\":\"BoxAnnotation\"}},\"id\":\"1110\",\"type\":\"BoxZoomTool\"},{\"attributes\":{},\"id\":\"1111\",\"type\":\"SaveTool\"},{\"attributes\":{},\"id\":\"1112\",\"type\":\"ResetTool\"},{\"attributes\":{\"source\":{\"id\":\"1123\",\"type\":\"ColumnDataSource\"}},\"id\":\"1127\",\"type\":\"CDSView\"},{\"attributes\":{},\"id\":\"1113\",\"type\":\"HelpTool\"},{\"attributes\":{\"bottom_units\":\"screen\",\"fill_alpha\":{\"value\":0.5},\"fill_color\":{\"value\":\"lightgrey\"},\"left_units\":\"screen\",\"level\":\"overlay\",\"line_alpha\":{\"value\":1.0},\"line_color\":{\"value\":\"black\"},\"line_dash\":[4,4],\"line_width\":{\"value\":2},\"plot\":null,\"render_mode\":\"css\",\"right_units\":\"screen\",\"top_units\":\"screen\"},\"id\":\"1116\",\"type\":\"BoxAnnotation\"},{\"attributes\":{\"data_source\":{\"id\":\"1123\",\"type\":\"ColumnDataSource\"},\"glyph\":{\"id\":\"1124\",\"type\":\"Line\"},\"hover_glyph\":null,\"muted_glyph\":null,\"nonselection_glyph\":{\"id\":\"1125\",\"type\":\"Line\"},\"selection_glyph\":null,\"view\":{\"id\":\"1127\",\"type\":\"CDSView\"}},\"id\":\"1126\",\"type\":\"GlyphRenderer\"},{\"attributes\":{},\"id\":\"1139\",\"type\":\"BasicTickFormatter\"},{\"attributes\":{\"plot\":null,\"text\":\"\"},\"id\":\"1138\",\"type\":\"Title\"},{\"attributes\":{},\"id\":\"1144\",\"type\":\"Selection\"},{\"attributes\":{},\"id\":\"1141\",\"type\":\"BasicTickFormatter\"},{\"attributes\":{\"callback\":null,\"data\":{\"x\":[1,2,3,4,5],\"y\":[2,5,4,6,7]},\"selected\":{\"id\":\"1144\",\"type\":\"Selection\"},\"selection_policy\":{\"id\":\"1145\",\"type\":\"UnionRenderers\"}},\"id\":\"1123\",\"type\":\"ColumnDataSource\"},{\"attributes\":{},\"id\":\"1145\",\"type\":\"UnionRenderers\"},{\"attributes\":{\"callback\":null},\"id\":\"1090\",\"type\":\"DataRange1d\"},{\"attributes\":{\"line_alpha\":0.1,\"line_color\":\"#1f77b4\",\"x\":{\"field\":\"x\"},\"y\":{\"field\":\"y\"}},\"id\":\"1125\",\"type\":\"Line\"},{\"attributes\":{\"line_color\":\"#1f77b4\",\"x\":{\"field\":\"x\"},\"y\":{\"field\":\"y\"}},\"id\":\"1124\",\"type\":\"Line\"},{\"attributes\":{\"callback\":null},\"id\":\"1092\",\"type\":\"DataRange1d\"},{\"attributes\":{},\"id\":\"1094\",\"type\":\"LinearScale\"},{\"attributes\":{},\"id\":\"1096\",\"type\":\"LinearScale\"},{\"attributes\":{},\"id\":\"1099\",\"type\":\"BasicTicker\"},{\"attributes\":{\"formatter\":{\"id\":\"1139\",\"type\":\"BasicTickFormatter\"},\"plot\":{\"id\":\"1089\",\"subtype\":\"Figure\",\"type\":\"Plot\"},\"ticker\":{\"id\":\"1099\",\"type\":\"BasicTicker\"}},\"id\":\"1098\",\"type\":\"LinearAxis\"},{\"attributes\":{\"plot\":{\"id\":\"1089\",\"subtype\":\"Figure\",\"type\":\"Plot\"},\"ticker\":{\"id\":\"1099\",\"type\":\"BasicTicker\"}},\"id\":\"1102\",\"type\":\"Grid\"},{\"attributes\":{\"formatter\":{\"id\":\"1141\",\"type\":\"BasicTickFormatter\"},\"plot\":{\"id\":\"1089\",\"subtype\":\"Figure\",\"type\":\"Plot\"},\"ticker\":{\"id\":\"1104\",\"type\":\"BasicTicker\"}},\"id\":\"1103\",\"type\":\"LinearAxis\"},{\"attributes\":{\"dimension\":1,\"plot\":{\"id\":\"1089\",\"subtype\":\"Figure\",\"type\":\"Plot\"},\"ticker\":{\"id\":\"1104\",\"type\":\"BasicTicker\"}},\"id\":\"1107\",\"type\":\"Grid\"},{\"attributes\":{},\"id\":\"1104\",\"type\":\"BasicTicker\"}],\"root_ids\":[\"1089\"]},\"title\":\"Bokeh Application\",\"version\":\"1.0.2\"}};\n",
       "  var render_items = [{\"docid\":\"386566d0-6e54-4ab8-a882-bcf9e6541dd8\",\"roots\":{\"1089\":\"c307d0f6-1190-40e3-9b15-bdf526e86f03\"}}];\n",
       "  root.Bokeh.embed.embed_items_notebook(docs_json, render_items);\n",
       "\n",
       "  }\n",
       "  if (root.Bokeh !== undefined) {\n",
       "    embed_document(root);\n",
       "  } else {\n",
       "    var attempts = 0;\n",
       "    var timer = setInterval(function(root) {\n",
       "      if (root.Bokeh !== undefined) {\n",
       "        embed_document(root);\n",
       "        clearInterval(timer);\n",
       "      }\n",
       "      attempts++;\n",
       "      if (attempts > 100) {\n",
       "        console.log(\"Bokeh: ERROR: Unable to run BokehJS code because BokehJS library is missing\");\n",
       "        clearInterval(timer);\n",
       "      }\n",
       "    }, 10, root)\n",
       "  }\n",
       "})(window);"
      ],
      "application/vnd.bokehjs_exec.v0+json": ""
     },
     "metadata": {
      "application/vnd.bokehjs_exec.v0+json": {
       "id": "1089"
      }
     },
     "output_type": "display_data"
    }
   ],
   "source": [
    "# Create a new plot: plot\n",
    "plot = figure()\n",
    "\n",
    "# Add a line to the plot\n",
    "plot.line([1,2,3,4,5],[2,5,4,6,7])\n",
    "\n",
    "# Add the plot to the current document\n",
    "curdoc().add_root(plot)\n",
    "\n",
    "show(plot) # aditional line of code to show the result in the "
   ]
  },
  {
   "cell_type": "markdown",
   "metadata": {},
   "source": [
    "### Add a single slider\n",
    "In the previous exercise, you added a single plot to the \"current document\" of your application. In this exercise, you'll practice adding a layout to your current document.\n",
    "\n",
    "Your job here is to create a single slider, use it to create a widgetbox layout, and then add this layout to the current document.\n",
    "\n",
    "The slider you create here cannot be used for much, but in the later exercises, you'll use it to update your plots!"
   ]
  },
  {
   "cell_type": "code",
   "execution_count": 11,
   "metadata": {},
   "outputs": [
    {
     "data": {
      "text/html": [
       "\n",
       "\n",
       "\n",
       "\n",
       "\n",
       "\n",
       "  <div class=\"bk-root\" id=\"6363c651-d69f-497f-9ec9-eced96c0a04f\"></div>\n"
      ]
     },
     "metadata": {},
     "output_type": "display_data"
    },
    {
     "data": {
      "application/javascript": [
       "(function(root) {\n",
       "  function embed_document(root) {\n",
       "    \n",
       "  var docs_json = {\"dbf76ddd-7f59-42e1-b38e-36d78a596495\":{\"roots\":{\"references\":[{\"attributes\":{\"children\":[{\"id\":\"1200\",\"type\":\"Slider\"}]},\"id\":\"1201\",\"type\":\"WidgetBox\"},{\"attributes\":{\"callback\":null,\"end\":10,\"start\":0,\"step\":0.1,\"title\":\"my slider\",\"value\":2},\"id\":\"1200\",\"type\":\"Slider\"}],\"root_ids\":[\"1201\"]},\"title\":\"Bokeh Application\",\"version\":\"1.0.2\"}};\n",
       "  var render_items = [{\"docid\":\"dbf76ddd-7f59-42e1-b38e-36d78a596495\",\"roots\":{\"1201\":\"6363c651-d69f-497f-9ec9-eced96c0a04f\"}}];\n",
       "  root.Bokeh.embed.embed_items_notebook(docs_json, render_items);\n",
       "\n",
       "  }\n",
       "  if (root.Bokeh !== undefined) {\n",
       "    embed_document(root);\n",
       "  } else {\n",
       "    var attempts = 0;\n",
       "    var timer = setInterval(function(root) {\n",
       "      if (root.Bokeh !== undefined) {\n",
       "        embed_document(root);\n",
       "        clearInterval(timer);\n",
       "      }\n",
       "      attempts++;\n",
       "      if (attempts > 100) {\n",
       "        console.log(\"Bokeh: ERROR: Unable to run BokehJS code because BokehJS library is missing\");\n",
       "        clearInterval(timer);\n",
       "      }\n",
       "    }, 10, root)\n",
       "  }\n",
       "})(window);"
      ],
      "application/vnd.bokehjs_exec.v0+json": ""
     },
     "metadata": {
      "application/vnd.bokehjs_exec.v0+json": {
       "id": "1201"
      }
     },
     "output_type": "display_data"
    }
   ],
   "source": [
    "# Create a slider: slider\n",
    "slider = Slider(title='my slider', start=0, end=10, step=0.1, value=2)\n",
    "\n",
    "# Create a widgetbox layout: layout\n",
    "layout = widgetbox(slider)\n",
    "\n",
    "# Add the layout to the current document\n",
    "curdoc().add_root(layout)\n",
    "\n",
    "show(layout) # aditional line of code to show the result in the notebook"
   ]
  },
  {
   "cell_type": "markdown",
   "metadata": {},
   "source": [
    "### Multiple sliders in one document\n",
    "Having added a single slider in a widgetbox layout to your current document, you'll now add multiple sliders into the current document.\n",
    "\n",
    "Your job in this exercise is to create two sliders, add them to a widgetbox layout, and then add the layout into the current document."
   ]
  },
  {
   "cell_type": "code",
   "execution_count": 12,
   "metadata": {},
   "outputs": [
    {
     "data": {
      "text/html": [
       "\n",
       "\n",
       "\n",
       "\n",
       "\n",
       "\n",
       "  <div class=\"bk-root\" id=\"409c1202-32ef-4197-8ac5-951a843f66cd\"></div>\n"
      ]
     },
     "metadata": {},
     "output_type": "display_data"
    },
    {
     "data": {
      "application/javascript": [
       "(function(root) {\n",
       "  function embed_document(root) {\n",
       "    \n",
       "  var docs_json = {\"50b3f197-4aa9-4523-aec0-d172ac73a59d\":{\"roots\":{\"references\":[{\"attributes\":{\"children\":[{\"id\":\"1220\",\"type\":\"Slider\"},{\"id\":\"1221\",\"type\":\"Slider\"}]},\"id\":\"1222\",\"type\":\"WidgetBox\"},{\"attributes\":{\"callback\":null,\"end\":100,\"start\":10,\"title\":\"slider2\",\"value\":20},\"id\":\"1221\",\"type\":\"Slider\"},{\"attributes\":{\"callback\":null,\"end\":10,\"start\":0,\"step\":0.1,\"title\":\"slider1\",\"value\":2},\"id\":\"1220\",\"type\":\"Slider\"}],\"root_ids\":[\"1222\"]},\"title\":\"Bokeh Application\",\"version\":\"1.0.2\"}};\n",
       "  var render_items = [{\"docid\":\"50b3f197-4aa9-4523-aec0-d172ac73a59d\",\"roots\":{\"1222\":\"409c1202-32ef-4197-8ac5-951a843f66cd\"}}];\n",
       "  root.Bokeh.embed.embed_items_notebook(docs_json, render_items);\n",
       "\n",
       "  }\n",
       "  if (root.Bokeh !== undefined) {\n",
       "    embed_document(root);\n",
       "  } else {\n",
       "    var attempts = 0;\n",
       "    var timer = setInterval(function(root) {\n",
       "      if (root.Bokeh !== undefined) {\n",
       "        embed_document(root);\n",
       "        clearInterval(timer);\n",
       "      }\n",
       "      attempts++;\n",
       "      if (attempts > 100) {\n",
       "        console.log(\"Bokeh: ERROR: Unable to run BokehJS code because BokehJS library is missing\");\n",
       "        clearInterval(timer);\n",
       "      }\n",
       "    }, 10, root)\n",
       "  }\n",
       "})(window);"
      ],
      "application/vnd.bokehjs_exec.v0+json": ""
     },
     "metadata": {
      "application/vnd.bokehjs_exec.v0+json": {
       "id": "1222"
      }
     },
     "output_type": "display_data"
    }
   ],
   "source": [
    "# Create first slider: slider1\n",
    "slider1 = Slider(title='slider1',start=0,end=10,step=0.1,value=2)\n",
    "\n",
    "# Create second slider: slider2\n",
    "slider2 = Slider(title='slider2',start=10,end=100,step=1,value=20)\n",
    "\n",
    "# Add slider1 and slider2 to a widgetbox\n",
    "layout = widgetbox(slider1,slider2)\n",
    "\n",
    "# Add the layout to the current document\n",
    "curdoc().add_root(layout)\n",
    "\n",
    "show(layout) # aditional line of code to show the result in the notebook"
   ]
  },
  {
   "cell_type": "markdown",
   "metadata": {},
   "source": [
    "## Connecting sliders to plots"
   ]
  },
  {
   "cell_type": "code",
   "execution_count": 13,
   "metadata": {},
   "outputs": [
    {
     "data": {
      "text/html": [
       "<video style=\"display:block; margin: 0 auto;\" controls>\n",
       "      <source src=\"_Docs/02-Connecting_sliders_to_plots.mp4\" type=\"video/mp4\">\n",
       "</video>\n"
      ],
      "text/plain": [
       "<IPython.core.display.HTML object>"
      ]
     },
     "metadata": {},
     "output_type": "display_data"
    }
   ],
   "source": [
    "%%HTML\n",
    "<video style=\"display:block; margin: 0 auto;\" controls>\n",
    "      <source src=\"_Docs/02-Connecting_sliders_to_plots.mp4\" type=\"video/mp4\">\n",
    "</video>"
   ]
  },
  {
   "cell_type": "markdown",
   "metadata": {},
   "source": [
    "### How to combine Bokeh models into layouts\n",
    "Let's begin making a Bokeh application that has a simple slider and plot, that also updates the plot based on the slider.\n",
    "\n",
    "In this exercise, your job is to first explicitly create a `ColumnDataSource`. You'll then combine a plot and a slider into a single column layout, and add it to the current document.\n",
    "\n",
    "After you are done, notice how in the figure you generate, the slider will not actually update the plot, because a widget callback has not been defined. You'll learn how to update the plot using widget callbacks in the next exercise.\n",
    "\n",
    "All the necessary modules have been imported for you. The plot is available in the workspace as `plot`, and the slider is available as `slider`."
   ]
  },
  {
   "cell_type": "code",
   "execution_count": 110,
   "metadata": {},
   "outputs": [],
   "source": [
    "x = np.linspace(0.3, 10, num=300)\n",
    "mu, sigma = .1, .5 # mean and standard deviation\n",
    "y = ((np.exp(-(np.log(x) - mu)**2 / (2 * sigma**2)) / (x * sigma * np.sqrt(2 * np.pi))))\n",
    "\n",
    "# Create slider\n",
    "slider = Slider(title='scale',start=1,end=10,step=1,value=1)\n",
    "\n",
    "# Create a new plot: plot\n",
    "plot = figure()"
   ]
  },
  {
   "cell_type": "code",
   "execution_count": 111,
   "metadata": {},
   "outputs": [],
   "source": [
    "y = [-0.19056796,  0.13314778,  0.39032789,  0.58490071,  0.72755027,\n",
    "        0.82941604,  0.90008145,  0.94719898,  0.97667411,  0.99299073,\n",
    "        0.99952869,  0.99882928,  0.99280334,  0.98288947,  0.97017273,\n",
    "        0.95547297,  0.93941048,  0.92245495,  0.90496191,  0.88720012,\n",
    "        0.86937208,  0.85162961,  0.83408561,  0.81682308,  0.79990193,\n",
    "        0.78336433,  0.76723876,  0.75154314,  0.7362873 ,  0.72147487,\n",
    "        0.70710477,  0.69317237,  0.67967038,  0.66658956,  0.65391928,\n",
    "        0.64164796,  0.62976339,  0.61825301,  0.60710407,  0.59630386,\n",
    "        0.58583975,  0.57569933,  0.56587047,  0.55634135,  0.5471005 ,\n",
    "        0.53813683,  0.52943965,  0.52099866,  0.51280394,  0.50484599,\n",
    "        0.49711569,  0.48960429,  0.48230342,  0.47520507,  0.46830157,\n",
    "        0.4615856 ,  0.45505012,  0.44868845,  0.44249417,  0.43646114,\n",
    "        0.43058352,  0.42485569,  0.4192723 ,  0.41382821,  0.40851854,\n",
    "        0.40333859,  0.39828387,  0.39335008,  0.38853312,  0.38382904,\n",
    "        0.37923407,  0.37474459,  0.37035715,  0.36606841,  0.3618752 ,\n",
    "        0.35777446,  0.35376325,  0.34983877,  0.34599831,  0.34223928,\n",
    "        0.33855919,  0.33495564,  0.33142632,  0.32796903,  0.32458163,\n",
    "        0.32126208,  0.3180084 ,  0.3148187 ,  0.31169115,  0.30862399,\n",
    "        0.30561552,  0.30266411,  0.29976818,  0.29692621,  0.29413673,\n",
    "        0.29139834,  0.28870966,  0.28606938,  0.28347622,  0.28092895,\n",
    "        0.27842639,  0.27596739,  0.27355084,  0.27117567,  0.26884083,\n",
    "        0.26654532,  0.26428818,  0.26206846,  0.25988525,  0.25773767,\n",
    "        0.25562487,  0.25354602,  0.25150031,  0.24948698,  0.24750527,\n",
    "        0.24555444,  0.24363379,  0.24174264,  0.23988032,  0.23804617,\n",
    "        0.23623958,  0.23445993,  0.23270663,  0.2309791 ,  0.2292768 ,\n",
    "        0.22759917,  0.22594568,  0.22431583,  0.22270912,  0.22112506,\n",
    "        0.21956318,  0.21802302,  0.21650414,  0.2150061 ,  0.21352848,\n",
    "        0.21207087,  0.21063286,  0.20921408,  0.20781413,  0.20643266,\n",
    "        0.20506929,  0.20372368,  0.20239549,  0.20108438,  0.19979003,\n",
    "        0.19851212,  0.19725034,  0.19600439,  0.19477398,  0.19355882,\n",
    "        0.19235862,  0.19117313,  0.19000206,  0.18884517,  0.18770219,\n",
    "        0.18657288,  0.18545699,  0.1843543 ,  0.18326456,  0.18218756,\n",
    "        0.18112306,  0.18007087,  0.17903076,  0.17800253,  0.17698598,\n",
    "        0.17598091,  0.17498713,  0.17400446,  0.1730327 ,  0.17207168,\n",
    "        0.17112122,  0.17018115,  0.1692513 ,  0.16833151,  0.16742161,\n",
    "        0.16652145,  0.16563087,  0.16474972,  0.16387786,  0.16301513,\n",
    "        0.16216139,  0.16131651,  0.16048035,  0.15965278,  0.15883366,\n",
    "        0.15802286,  0.15722027,  0.15642575,  0.15563919,  0.15486047,\n",
    "        0.15408947,  0.15332608,  0.15257018,  0.15182167,  0.15108044,\n",
    "        0.15034639,  0.14961941,  0.14889939,  0.14818625,  0.14747988,\n",
    "        0.14678019,  0.14608708,  0.14540046,  0.14472024,  0.14404634,\n",
    "        0.14337866,  0.14271712,  0.14206163,  0.14141212,  0.1407685 ,\n",
    "        0.14013069,  0.13949862,  0.1388722 ,  0.13825137,  0.13763605,\n",
    "        0.13702616,  0.13642163,  0.1358224 ,  0.13522839,  0.13463954,\n",
    "        0.13405578,  0.13347705,  0.13290327,  0.1323344 ,  0.13177035,\n",
    "        0.13121109,  0.13065653,  0.13010663,  0.12956133,  0.12902056,\n",
    "        0.12848428,  0.12795242,  0.12742494,  0.12690177,  0.12638288,\n",
    "        0.12586819,  0.12535768,  0.12485127,  0.12434893,  0.12385061,\n",
    "        0.12335625,  0.12286581,  0.12237925,  0.12189652,  0.12141757,\n",
    "        0.12094236,  0.12047084,  0.12000298,  0.11953873,  0.11907805,\n",
    "        0.1186209 ,  0.11816724,  0.11771703,  0.11727022,  0.11682679,\n",
    "        0.11638669,  0.11594988,  0.11551634,  0.11508601,  0.11465888,\n",
    "        0.11423489,  0.11381403,  0.11339624,  0.11298151,  0.11256979,\n",
    "        0.11216106,  0.11175527,  0.11135241,  0.11095243,  0.11055531,\n",
    "        0.11016102,  0.10976953,  0.1093808 ,  0.10899481,  0.10861153,\n",
    "        0.10823093,  0.10785298,  0.10747766,  0.10710493,  0.10673478,\n",
    "        0.10636717,  0.10600208,  0.10563948,  0.10527936,  0.10492167,\n",
    "        0.1045664 ,  0.10421352,  0.10386302,  0.10351486,  0.10316902,\n",
    "        0.10282548,  0.10248422,  0.10214521,  0.10180843,  0.10147386,\n",
    "        0.10114148,  0.10081127,  0.1004832 ,  0.10015726,  0.09983342]"
   ]
  },
  {
   "cell_type": "code",
   "execution_count": 112,
   "metadata": {},
   "outputs": [
    {
     "data": {
      "text/html": [
       "\n",
       "\n",
       "\n",
       "\n",
       "\n",
       "\n",
       "  <div class=\"bk-root\" id=\"d19bb039-7178-42d6-935d-d497e6b512ce\"></div>\n"
      ]
     },
     "metadata": {},
     "output_type": "display_data"
    },
    {
     "data": {
      "application/javascript": [
       "(function(root) {\n",
       "  function embed_document(root) {\n",
       "    \n",
       "  var docs_json = {\"feb1de98-d5c9-492a-9d4b-8a1761ba7255\":{\"roots\":{\"references\":[{\"attributes\":{\"children\":[{\"id\":\"12601\",\"type\":\"WidgetBox\"},{\"id\":\"12561\",\"subtype\":\"Figure\",\"type\":\"Plot\"}]},\"id\":\"12602\",\"type\":\"Column\"},{\"attributes\":{\"plot\":null,\"text\":\"\"},\"id\":\"12967\",\"type\":\"Title\"},{\"attributes\":{},\"id\":\"12581\",\"type\":\"WheelZoomTool\"},{\"attributes\":{\"callback\":null},\"id\":\"12564\",\"type\":\"DataRange1d\"},{\"attributes\":{\"children\":[{\"id\":\"12560\",\"type\":\"Slider\"}]},\"id\":\"12601\",\"type\":\"WidgetBox\"},{\"attributes\":{\"formatter\":{\"id\":\"12970\",\"type\":\"BasicTickFormatter\"},\"plot\":{\"id\":\"12561\",\"subtype\":\"Figure\",\"type\":\"Plot\"},\"ticker\":{\"id\":\"12576\",\"type\":\"BasicTicker\"}},\"id\":\"12575\",\"type\":\"LinearAxis\"},{\"attributes\":{\"data_source\":{\"id\":\"12595\",\"type\":\"ColumnDataSource\"},\"glyph\":{\"id\":\"12597\",\"type\":\"Line\"},\"hover_glyph\":null,\"muted_glyph\":null,\"nonselection_glyph\":{\"id\":\"12598\",\"type\":\"Line\"},\"selection_glyph\":null,\"view\":{\"id\":\"12600\",\"type\":\"CDSView\"}},\"id\":\"12599\",\"type\":\"GlyphRenderer\"},{\"attributes\":{},\"id\":\"12571\",\"type\":\"BasicTicker\"},{\"attributes\":{\"line_alpha\":0.1,\"line_color\":\"#1f77b4\",\"x\":{\"field\":\"x\"},\"y\":{\"field\":\"y\"}},\"id\":\"12598\",\"type\":\"Line\"},{\"attributes\":{},\"id\":\"12973\",\"type\":\"Selection\"},{\"attributes\":{},\"id\":\"12974\",\"type\":\"UnionRenderers\"},{\"attributes\":{\"formatter\":{\"id\":\"12968\",\"type\":\"BasicTickFormatter\"},\"plot\":{\"id\":\"12561\",\"subtype\":\"Figure\",\"type\":\"Plot\"},\"ticker\":{\"id\":\"12571\",\"type\":\"BasicTicker\"}},\"id\":\"12570\",\"type\":\"LinearAxis\"},{\"attributes\":{},\"id\":\"12584\",\"type\":\"ResetTool\"},{\"attributes\":{},\"id\":\"12968\",\"type\":\"BasicTickFormatter\"},{\"attributes\":{\"source\":{\"id\":\"12595\",\"type\":\"ColumnDataSource\"}},\"id\":\"12600\",\"type\":\"CDSView\"},{\"attributes\":{},\"id\":\"12568\",\"type\":\"LinearScale\"},{\"attributes\":{\"bottom_units\":\"screen\",\"fill_alpha\":{\"value\":0.5},\"fill_color\":{\"value\":\"lightgrey\"},\"left_units\":\"screen\",\"level\":\"overlay\",\"line_alpha\":{\"value\":1.0},\"line_color\":{\"value\":\"black\"},\"line_dash\":[4,4],\"line_width\":{\"value\":2},\"plot\":null,\"render_mode\":\"css\",\"right_units\":\"screen\",\"top_units\":\"screen\"},\"id\":\"12588\",\"type\":\"BoxAnnotation\"},{\"attributes\":{},\"id\":\"12576\",\"type\":\"BasicTicker\"},{\"attributes\":{\"line_color\":\"#1f77b4\",\"x\":{\"field\":\"x\"},\"y\":{\"field\":\"y\"}},\"id\":\"12597\",\"type\":\"Line\"},{\"attributes\":{\"plot\":{\"id\":\"12561\",\"subtype\":\"Figure\",\"type\":\"Plot\"},\"ticker\":{\"id\":\"12571\",\"type\":\"BasicTicker\"}},\"id\":\"12574\",\"type\":\"Grid\"},{\"attributes\":{\"dimension\":1,\"plot\":{\"id\":\"12561\",\"subtype\":\"Figure\",\"type\":\"Plot\"},\"ticker\":{\"id\":\"12576\",\"type\":\"BasicTicker\"}},\"id\":\"12579\",\"type\":\"Grid\"},{\"attributes\":{},\"id\":\"12970\",\"type\":\"BasicTickFormatter\"},{\"attributes\":{},\"id\":\"12566\",\"type\":\"LinearScale\"},{\"attributes\":{},\"id\":\"12585\",\"type\":\"HelpTool\"},{\"attributes\":{\"callback\":null,\"end\":10,\"start\":1,\"title\":\"scale\",\"value\":1},\"id\":\"12560\",\"type\":\"Slider\"},{\"attributes\":{\"active_drag\":\"auto\",\"active_inspect\":\"auto\",\"active_multi\":null,\"active_scroll\":\"auto\",\"active_tap\":\"auto\",\"tools\":[{\"id\":\"12580\",\"type\":\"PanTool\"},{\"id\":\"12581\",\"type\":\"WheelZoomTool\"},{\"id\":\"12582\",\"type\":\"BoxZoomTool\"},{\"id\":\"12583\",\"type\":\"SaveTool\"},{\"id\":\"12584\",\"type\":\"ResetTool\"},{\"id\":\"12585\",\"type\":\"HelpTool\"}]},\"id\":\"12586\",\"type\":\"Toolbar\"},{\"attributes\":{},\"id\":\"12583\",\"type\":\"SaveTool\"},{\"attributes\":{\"overlay\":{\"id\":\"12588\",\"type\":\"BoxAnnotation\"}},\"id\":\"12582\",\"type\":\"BoxZoomTool\"},{\"attributes\":{},\"id\":\"12580\",\"type\":\"PanTool\"},{\"attributes\":{\"callback\":null,\"data\":{\"x\":{\"__ndarray__\":\"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\",\"dtype\":\"float64\",\"shape\":[300]},\"y\":[-0.19056796,0.13314778,0.39032789,0.58490071,0.72755027,0.82941604,0.90008145,0.94719898,0.97667411,0.99299073,0.99952869,0.99882928,0.99280334,0.98288947,0.97017273,0.95547297,0.93941048,0.92245495,0.90496191,0.88720012,0.86937208,0.85162961,0.83408561,0.81682308,0.79990193,0.78336433,0.76723876,0.75154314,0.7362873,0.72147487,0.70710477,0.69317237,0.67967038,0.66658956,0.65391928,0.64164796,0.62976339,0.61825301,0.60710407,0.59630386,0.58583975,0.57569933,0.56587047,0.55634135,0.5471005,0.53813683,0.52943965,0.52099866,0.51280394,0.50484599,0.49711569,0.48960429,0.48230342,0.47520507,0.46830157,0.4615856,0.45505012,0.44868845,0.44249417,0.43646114,0.43058352,0.42485569,0.4192723,0.41382821,0.40851854,0.40333859,0.39828387,0.39335008,0.38853312,0.38382904,0.37923407,0.37474459,0.37035715,0.36606841,0.3618752,0.35777446,0.35376325,0.34983877,0.34599831,0.34223928,0.33855919,0.33495564,0.33142632,0.32796903,0.32458163,0.32126208,0.3180084,0.3148187,0.31169115,0.30862399,0.30561552,0.30266411,0.29976818,0.29692621,0.29413673,0.29139834,0.28870966,0.28606938,0.28347622,0.28092895,0.27842639,0.27596739,0.27355084,0.27117567,0.26884083,0.26654532,0.26428818,0.26206846,0.25988525,0.25773767,0.25562487,0.25354602,0.25150031,0.24948698,0.24750527,0.24555444,0.24363379,0.24174264,0.23988032,0.23804617,0.23623958,0.23445993,0.23270663,0.2309791,0.2292768,0.22759917,0.22594568,0.22431583,0.22270912,0.22112506,0.21956318,0.21802302,0.21650414,0.2150061,0.21352848,0.21207087,0.21063286,0.20921408,0.20781413,0.20643266,0.20506929,0.20372368,0.20239549,0.20108438,0.19979003,0.19851212,0.19725034,0.19600439,0.19477398,0.19355882,0.19235862,0.19117313,0.19000206,0.18884517,0.18770219,0.18657288,0.18545699,0.1843543,0.18326456,0.18218756,0.18112306,0.18007087,0.17903076,0.17800253,0.17698598,0.17598091,0.17498713,0.17400446,0.1730327,0.17207168,0.17112122,0.17018115,0.1692513,0.16833151,0.16742161,0.16652145,0.16563087,0.16474972,0.16387786,0.16301513,0.16216139,0.16131651,0.16048035,0.15965278,0.15883366,0.15802286,0.15722027,0.15642575,0.15563919,0.15486047,0.15408947,0.15332608,0.15257018,0.15182167,0.15108044,0.15034639,0.14961941,0.14889939,0.14818625,0.14747988,0.14678019,0.14608708,0.14540046,0.14472024,0.14404634,0.14337866,0.14271712,0.14206163,0.14141212,0.1407685,0.14013069,0.13949862,0.1388722,0.13825137,0.13763605,0.13702616,0.13642163,0.1358224,0.13522839,0.13463954,0.13405578,0.13347705,0.13290327,0.1323344,0.13177035,0.13121109,0.13065653,0.13010663,0.12956133,0.12902056,0.12848428,0.12795242,0.12742494,0.12690177,0.12638288,0.12586819,0.12535768,0.12485127,0.12434893,0.12385061,0.12335625,0.12286581,0.12237925,0.12189652,0.12141757,0.12094236,0.12047084,0.12000298,0.11953873,0.11907805,0.1186209,0.11816724,0.11771703,0.11727022,0.11682679,0.11638669,0.11594988,0.11551634,0.11508601,0.11465888,0.11423489,0.11381403,0.11339624,0.11298151,0.11256979,0.11216106,0.11175527,0.11135241,0.11095243,0.11055531,0.11016102,0.10976953,0.1093808,0.10899481,0.10861153,0.10823093,0.10785298,0.10747766,0.10710493,0.10673478,0.10636717,0.10600208,0.10563948,0.10527936,0.10492167,0.1045664,0.10421352,0.10386302,0.10351486,0.10316902,0.10282548,0.10248422,0.10214521,0.10180843,0.10147386,0.10114148,0.10081127,0.1004832,0.10015726,0.09983342]},\"selected\":{\"id\":\"12973\",\"type\":\"Selection\"},\"selection_policy\":{\"id\":\"12974\",\"type\":\"UnionRenderers\"}},\"id\":\"12595\",\"type\":\"ColumnDataSource\"},{\"attributes\":{\"below\":[{\"id\":\"12570\",\"type\":\"LinearAxis\"}],\"left\":[{\"id\":\"12575\",\"type\":\"LinearAxis\"}],\"renderers\":[{\"id\":\"12570\",\"type\":\"LinearAxis\"},{\"id\":\"12574\",\"type\":\"Grid\"},{\"id\":\"12575\",\"type\":\"LinearAxis\"},{\"id\":\"12579\",\"type\":\"Grid\"},{\"id\":\"12588\",\"type\":\"BoxAnnotation\"},{\"id\":\"12599\",\"type\":\"GlyphRenderer\"}],\"title\":{\"id\":\"12967\",\"type\":\"Title\"},\"toolbar\":{\"id\":\"12586\",\"type\":\"Toolbar\"},\"x_range\":{\"id\":\"12562\",\"type\":\"DataRange1d\"},\"x_scale\":{\"id\":\"12566\",\"type\":\"LinearScale\"},\"y_range\":{\"id\":\"12564\",\"type\":\"DataRange1d\"},\"y_scale\":{\"id\":\"12568\",\"type\":\"LinearScale\"}},\"id\":\"12561\",\"subtype\":\"Figure\",\"type\":\"Plot\"},{\"attributes\":{\"callback\":null},\"id\":\"12562\",\"type\":\"DataRange1d\"}],\"root_ids\":[\"12602\"]},\"title\":\"Bokeh Application\",\"version\":\"1.0.2\"}};\n",
       "  var render_items = [{\"docid\":\"feb1de98-d5c9-492a-9d4b-8a1761ba7255\",\"roots\":{\"12602\":\"d19bb039-7178-42d6-935d-d497e6b512ce\"}}];\n",
       "  root.Bokeh.embed.embed_items_notebook(docs_json, render_items);\n",
       "\n",
       "  }\n",
       "  if (root.Bokeh !== undefined) {\n",
       "    embed_document(root);\n",
       "  } else {\n",
       "    var attempts = 0;\n",
       "    var timer = setInterval(function(root) {\n",
       "      if (root.Bokeh !== undefined) {\n",
       "        embed_document(root);\n",
       "        clearInterval(timer);\n",
       "      }\n",
       "      attempts++;\n",
       "      if (attempts > 100) {\n",
       "        console.log(\"Bokeh: ERROR: Unable to run BokehJS code because BokehJS library is missing\");\n",
       "        clearInterval(timer);\n",
       "      }\n",
       "    }, 10, root)\n",
       "  }\n",
       "})(window);"
      ],
      "application/vnd.bokehjs_exec.v0+json": ""
     },
     "metadata": {
      "application/vnd.bokehjs_exec.v0+json": {
       "id": "12602"
      }
     },
     "output_type": "display_data"
    }
   ],
   "source": [
    "# Create ColumnDataSource: source\n",
    "source = ColumnDataSource(data={'x':x,'y':y})\n",
    "\n",
    "# Add a line to the plot\n",
    "plot.line('x', 'y', source=source)\n",
    "\n",
    "# Create a column layout: layout\n",
    "layout = column(widgetbox(slider), plot)\n",
    "\n",
    "# Add the layout to the current document\n",
    "curdoc().add_root(layout)\n",
    "\n",
    "show(layout) # aditional line of code to show the result in the notebook"
   ]
  },
  {
   "cell_type": "markdown",
   "metadata": {},
   "source": [
    "### Learn about widget callbacks\n",
    "You'll now learn how to use widget callbacks to update the state of a Bokeh application, and in turn, the data that is presented to the user.\n",
    "\n",
    "Your job in this exercise is to use the slider's `on_change()` function to update the plot's data from the previous example. NumPy's `sin()` function will be used to update the y-axis data of the plot.\n",
    "\n",
    "Now that you have added a widget callback, notice how as you move the slider of your app, the figure also updates!"
   ]
  },
  {
   "cell_type": "code",
   "execution_count": 113,
   "metadata": {},
   "outputs": [
    {
     "name": "stderr",
     "output_type": "stream",
     "text": [
      "WARNING:bokeh.embed.util:\n",
      "You are generating standalone HTML/JS output, but trying to use real Python\n",
      "callbacks (i.e. with on_change or on_event). This combination cannot work.\n",
      "\n",
      "Only JavaScript callbacks may be used with standalone output. For more\n",
      "information on JavaScript callbacks with Bokeh, see:\n",
      "\n",
      "    http://bokeh.pydata.org/en/latest/docs/user_guide/interaction/callbacks.html\n",
      "\n",
      "Alternatively, to use real Python callbacks, a Bokeh server application may\n",
      "be used. For more information on building and running Bokeh applications, see:\n",
      "\n",
      "    http://bokeh.pydata.org/en/latest/docs/user_guide/server.html\n",
      "\n"
     ]
    },
    {
     "data": {
      "text/html": [
       "\n",
       "\n",
       "\n",
       "\n",
       "\n",
       "\n",
       "  <div class=\"bk-root\" id=\"8ae5c49c-5f2f-4029-92bd-0c433ee0eb9e\"></div>\n"
      ]
     },
     "metadata": {},
     "output_type": "display_data"
    },
    {
     "data": {
      "application/javascript": [
       "(function(root) {\n",
       "  function embed_document(root) {\n",
       "    \n",
       "  var docs_json = {\"cdafa3cd-eca7-4a31-a9c9-9b2b03103e61\":{\"roots\":{\"references\":[{\"attributes\":{\"children\":[{\"id\":\"13029\",\"type\":\"WidgetBox\"},{\"id\":\"12561\",\"subtype\":\"Figure\",\"type\":\"Plot\"}]},\"id\":\"13030\",\"type\":\"Column\"},{\"attributes\":{\"plot\":null,\"text\":\"\"},\"id\":\"12967\",\"type\":\"Title\"},{\"attributes\":{},\"id\":\"12581\",\"type\":\"WheelZoomTool\"},{\"attributes\":{\"callback\":null},\"id\":\"12564\",\"type\":\"DataRange1d\"},{\"attributes\":{\"formatter\":{\"id\":\"12970\",\"type\":\"BasicTickFormatter\"},\"plot\":{\"id\":\"12561\",\"subtype\":\"Figure\",\"type\":\"Plot\"},\"ticker\":{\"id\":\"12576\",\"type\":\"BasicTicker\"}},\"id\":\"12575\",\"type\":\"LinearAxis\"},{\"attributes\":{\"data_source\":{\"id\":\"12595\",\"type\":\"ColumnDataSource\"},\"glyph\":{\"id\":\"12597\",\"type\":\"Line\"},\"hover_glyph\":null,\"muted_glyph\":null,\"nonselection_glyph\":{\"id\":\"12598\",\"type\":\"Line\"},\"selection_glyph\":null,\"view\":{\"id\":\"12600\",\"type\":\"CDSView\"}},\"id\":\"12599\",\"type\":\"GlyphRenderer\"},{\"attributes\":{},\"id\":\"12571\",\"type\":\"BasicTicker\"},{\"attributes\":{\"line_alpha\":0.1,\"line_color\":\"#1f77b4\",\"x\":{\"field\":\"x\"},\"y\":{\"field\":\"y\"}},\"id\":\"12598\",\"type\":\"Line\"},{\"attributes\":{},\"id\":\"12973\",\"type\":\"Selection\"},{\"attributes\":{},\"id\":\"12974\",\"type\":\"UnionRenderers\"},{\"attributes\":{\"formatter\":{\"id\":\"12968\",\"type\":\"BasicTickFormatter\"},\"plot\":{\"id\":\"12561\",\"subtype\":\"Figure\",\"type\":\"Plot\"},\"ticker\":{\"id\":\"12571\",\"type\":\"BasicTicker\"}},\"id\":\"12570\",\"type\":\"LinearAxis\"},{\"attributes\":{},\"id\":\"12584\",\"type\":\"ResetTool\"},{\"attributes\":{},\"id\":\"12968\",\"type\":\"BasicTickFormatter\"},{\"attributes\":{\"source\":{\"id\":\"12595\",\"type\":\"ColumnDataSource\"}},\"id\":\"12600\",\"type\":\"CDSView\"},{\"attributes\":{},\"id\":\"12568\",\"type\":\"LinearScale\"},{\"attributes\":{\"bottom_units\":\"screen\",\"fill_alpha\":{\"value\":0.5},\"fill_color\":{\"value\":\"lightgrey\"},\"left_units\":\"screen\",\"level\":\"overlay\",\"line_alpha\":{\"value\":1.0},\"line_color\":{\"value\":\"black\"},\"line_dash\":[4,4],\"line_width\":{\"value\":2},\"plot\":null,\"render_mode\":\"css\",\"right_units\":\"screen\",\"top_units\":\"screen\"},\"id\":\"12588\",\"type\":\"BoxAnnotation\"},{\"attributes\":{},\"id\":\"12576\",\"type\":\"BasicTicker\"},{\"attributes\":{\"line_color\":\"#1f77b4\",\"x\":{\"field\":\"x\"},\"y\":{\"field\":\"y\"}},\"id\":\"12597\",\"type\":\"Line\"},{\"attributes\":{\"plot\":{\"id\":\"12561\",\"subtype\":\"Figure\",\"type\":\"Plot\"},\"ticker\":{\"id\":\"12571\",\"type\":\"BasicTicker\"}},\"id\":\"12574\",\"type\":\"Grid\"},{\"attributes\":{\"dimension\":1,\"plot\":{\"id\":\"12561\",\"subtype\":\"Figure\",\"type\":\"Plot\"},\"ticker\":{\"id\":\"12576\",\"type\":\"BasicTicker\"}},\"id\":\"12579\",\"type\":\"Grid\"},{\"attributes\":{},\"id\":\"12970\",\"type\":\"BasicTickFormatter\"},{\"attributes\":{\"children\":[{\"id\":\"12560\",\"type\":\"Slider\"}]},\"id\":\"13029\",\"type\":\"WidgetBox\"},{\"attributes\":{},\"id\":\"12566\",\"type\":\"LinearScale\"},{\"attributes\":{},\"id\":\"12585\",\"type\":\"HelpTool\"},{\"attributes\":{\"callback\":null,\"end\":10,\"start\":1,\"title\":\"scale\",\"value\":1},\"id\":\"12560\",\"type\":\"Slider\"},{\"attributes\":{\"active_drag\":\"auto\",\"active_inspect\":\"auto\",\"active_multi\":null,\"active_scroll\":\"auto\",\"active_tap\":\"auto\",\"tools\":[{\"id\":\"12580\",\"type\":\"PanTool\"},{\"id\":\"12581\",\"type\":\"WheelZoomTool\"},{\"id\":\"12582\",\"type\":\"BoxZoomTool\"},{\"id\":\"12583\",\"type\":\"SaveTool\"},{\"id\":\"12584\",\"type\":\"ResetTool\"},{\"id\":\"12585\",\"type\":\"HelpTool\"}]},\"id\":\"12586\",\"type\":\"Toolbar\"},{\"attributes\":{},\"id\":\"12583\",\"type\":\"SaveTool\"},{\"attributes\":{\"overlay\":{\"id\":\"12588\",\"type\":\"BoxAnnotation\"}},\"id\":\"12582\",\"type\":\"BoxZoomTool\"},{\"attributes\":{},\"id\":\"12580\",\"type\":\"PanTool\"},{\"attributes\":{\"callback\":null,\"data\":{\"x\":{\"__ndarray__\":\"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\",\"dtype\":\"float64\",\"shape\":[300]},\"y\":[-0.19056796,0.13314778,0.39032789,0.58490071,0.72755027,0.82941604,0.90008145,0.94719898,0.97667411,0.99299073,0.99952869,0.99882928,0.99280334,0.98288947,0.97017273,0.95547297,0.93941048,0.92245495,0.90496191,0.88720012,0.86937208,0.85162961,0.83408561,0.81682308,0.79990193,0.78336433,0.76723876,0.75154314,0.7362873,0.72147487,0.70710477,0.69317237,0.67967038,0.66658956,0.65391928,0.64164796,0.62976339,0.61825301,0.60710407,0.59630386,0.58583975,0.57569933,0.56587047,0.55634135,0.5471005,0.53813683,0.52943965,0.52099866,0.51280394,0.50484599,0.49711569,0.48960429,0.48230342,0.47520507,0.46830157,0.4615856,0.45505012,0.44868845,0.44249417,0.43646114,0.43058352,0.42485569,0.4192723,0.41382821,0.40851854,0.40333859,0.39828387,0.39335008,0.38853312,0.38382904,0.37923407,0.37474459,0.37035715,0.36606841,0.3618752,0.35777446,0.35376325,0.34983877,0.34599831,0.34223928,0.33855919,0.33495564,0.33142632,0.32796903,0.32458163,0.32126208,0.3180084,0.3148187,0.31169115,0.30862399,0.30561552,0.30266411,0.29976818,0.29692621,0.29413673,0.29139834,0.28870966,0.28606938,0.28347622,0.28092895,0.27842639,0.27596739,0.27355084,0.27117567,0.26884083,0.26654532,0.26428818,0.26206846,0.25988525,0.25773767,0.25562487,0.25354602,0.25150031,0.24948698,0.24750527,0.24555444,0.24363379,0.24174264,0.23988032,0.23804617,0.23623958,0.23445993,0.23270663,0.2309791,0.2292768,0.22759917,0.22594568,0.22431583,0.22270912,0.22112506,0.21956318,0.21802302,0.21650414,0.2150061,0.21352848,0.21207087,0.21063286,0.20921408,0.20781413,0.20643266,0.20506929,0.20372368,0.20239549,0.20108438,0.19979003,0.19851212,0.19725034,0.19600439,0.19477398,0.19355882,0.19235862,0.19117313,0.19000206,0.18884517,0.18770219,0.18657288,0.18545699,0.1843543,0.18326456,0.18218756,0.18112306,0.18007087,0.17903076,0.17800253,0.17698598,0.17598091,0.17498713,0.17400446,0.1730327,0.17207168,0.17112122,0.17018115,0.1692513,0.16833151,0.16742161,0.16652145,0.16563087,0.16474972,0.16387786,0.16301513,0.16216139,0.16131651,0.16048035,0.15965278,0.15883366,0.15802286,0.15722027,0.15642575,0.15563919,0.15486047,0.15408947,0.15332608,0.15257018,0.15182167,0.15108044,0.15034639,0.14961941,0.14889939,0.14818625,0.14747988,0.14678019,0.14608708,0.14540046,0.14472024,0.14404634,0.14337866,0.14271712,0.14206163,0.14141212,0.1407685,0.14013069,0.13949862,0.1388722,0.13825137,0.13763605,0.13702616,0.13642163,0.1358224,0.13522839,0.13463954,0.13405578,0.13347705,0.13290327,0.1323344,0.13177035,0.13121109,0.13065653,0.13010663,0.12956133,0.12902056,0.12848428,0.12795242,0.12742494,0.12690177,0.12638288,0.12586819,0.12535768,0.12485127,0.12434893,0.12385061,0.12335625,0.12286581,0.12237925,0.12189652,0.12141757,0.12094236,0.12047084,0.12000298,0.11953873,0.11907805,0.1186209,0.11816724,0.11771703,0.11727022,0.11682679,0.11638669,0.11594988,0.11551634,0.11508601,0.11465888,0.11423489,0.11381403,0.11339624,0.11298151,0.11256979,0.11216106,0.11175527,0.11135241,0.11095243,0.11055531,0.11016102,0.10976953,0.1093808,0.10899481,0.10861153,0.10823093,0.10785298,0.10747766,0.10710493,0.10673478,0.10636717,0.10600208,0.10563948,0.10527936,0.10492167,0.1045664,0.10421352,0.10386302,0.10351486,0.10316902,0.10282548,0.10248422,0.10214521,0.10180843,0.10147386,0.10114148,0.10081127,0.1004832,0.10015726,0.09983342]},\"selected\":{\"id\":\"12973\",\"type\":\"Selection\"},\"selection_policy\":{\"id\":\"12974\",\"type\":\"UnionRenderers\"}},\"id\":\"12595\",\"type\":\"ColumnDataSource\"},{\"attributes\":{\"below\":[{\"id\":\"12570\",\"type\":\"LinearAxis\"}],\"left\":[{\"id\":\"12575\",\"type\":\"LinearAxis\"}],\"renderers\":[{\"id\":\"12570\",\"type\":\"LinearAxis\"},{\"id\":\"12574\",\"type\":\"Grid\"},{\"id\":\"12575\",\"type\":\"LinearAxis\"},{\"id\":\"12579\",\"type\":\"Grid\"},{\"id\":\"12588\",\"type\":\"BoxAnnotation\"},{\"id\":\"12599\",\"type\":\"GlyphRenderer\"}],\"title\":{\"id\":\"12967\",\"type\":\"Title\"},\"toolbar\":{\"id\":\"12586\",\"type\":\"Toolbar\"},\"x_range\":{\"id\":\"12562\",\"type\":\"DataRange1d\"},\"x_scale\":{\"id\":\"12566\",\"type\":\"LinearScale\"},\"y_range\":{\"id\":\"12564\",\"type\":\"DataRange1d\"},\"y_scale\":{\"id\":\"12568\",\"type\":\"LinearScale\"}},\"id\":\"12561\",\"subtype\":\"Figure\",\"type\":\"Plot\"},{\"attributes\":{\"callback\":null},\"id\":\"12562\",\"type\":\"DataRange1d\"}],\"root_ids\":[\"13030\"]},\"title\":\"Bokeh Application\",\"version\":\"1.0.2\"}};\n",
       "  var render_items = [{\"docid\":\"cdafa3cd-eca7-4a31-a9c9-9b2b03103e61\",\"roots\":{\"13030\":\"8ae5c49c-5f2f-4029-92bd-0c433ee0eb9e\"}}];\n",
       "  root.Bokeh.embed.embed_items_notebook(docs_json, render_items);\n",
       "\n",
       "  }\n",
       "  if (root.Bokeh !== undefined) {\n",
       "    embed_document(root);\n",
       "  } else {\n",
       "    var attempts = 0;\n",
       "    var timer = setInterval(function(root) {\n",
       "      if (root.Bokeh !== undefined) {\n",
       "        embed_document(root);\n",
       "        clearInterval(timer);\n",
       "      }\n",
       "      attempts++;\n",
       "      if (attempts > 100) {\n",
       "        console.log(\"Bokeh: ERROR: Unable to run BokehJS code because BokehJS library is missing\");\n",
       "        clearInterval(timer);\n",
       "      }\n",
       "    }, 10, root)\n",
       "  }\n",
       "})(window);"
      ],
      "application/vnd.bokehjs_exec.v0+json": ""
     },
     "metadata": {
      "application/vnd.bokehjs_exec.v0+json": {
       "id": "13030"
      }
     },
     "output_type": "display_data"
    }
   ],
   "source": [
    "# Define a callback function: callback\n",
    "def callback(attr, old, new):\n",
    "\n",
    "    # Read the current value of the slider: scale\n",
    "    scale = slider.value\n",
    "\n",
    "    # Compute the updated y using np.sin(scale/x): new_y\n",
    "    new_y = np.sin(scale/x)\n",
    "\n",
    "    # Update source with the new data values\n",
    "    source.data = {'x': x, 'y': new_y}\n",
    "\n",
    "# Attach the callback to the 'value' property of slider\n",
    "slider.on_change('value',callback)\n",
    "\n",
    "# Create layout and add to current document\n",
    "layout = column(widgetbox(slider), plot)\n",
    "curdoc().add_root(layout)\n",
    "\n",
    "show(layout) # aditional line of code to show the result in the notebook"
   ]
  },
  {
   "cell_type": "markdown",
   "metadata": {},
   "source": [
    "## Updating plots from dropdowns"
   ]
  },
  {
   "cell_type": "code",
   "execution_count": 114,
   "metadata": {},
   "outputs": [
    {
     "data": {
      "text/html": [
       "<video style=\"display:block; margin: 0 auto;\" controls>\n",
       "      <source src=\"_Docs/03-Updating_plots_from_dropdowns.mp4\" type=\"video/mp4\">\n",
       "</video>\n"
      ],
      "text/plain": [
       "<IPython.core.display.HTML object>"
      ]
     },
     "metadata": {},
     "output_type": "display_data"
    }
   ],
   "source": [
    "%%HTML\n",
    "<video style=\"display:block; margin: 0 auto;\" controls>\n",
    "      <source src=\"_Docs/03-Updating_plots_from_dropdowns.mp4\" type=\"video/mp4\">\n",
    "</video>"
   ]
  },
  {
   "cell_type": "markdown",
   "metadata": {},
   "source": [
    "### Updating data sources from dropdown callbacks\n",
    "You'll now learn to update the plot's data using a drop down menu instead of a slider. This would allow users to do things like select between different data sources to view.\n",
    "\n",
    "The ColumnDataSource `source` has been created for you along with the plot. Your job in this exercise is to add a drop down menu to update the plot's data.\n",
    "\n",
    "All necessary modules have been imported for you."
   ]
  },
  {
   "cell_type": "code",
   "execution_count": 119,
   "metadata": {},
   "outputs": [],
   "source": [
    "df = pd.read_csv('../_datasets/literacy_birth_rate.csv')\n",
    "df = df.fillna(df.mean())\n",
    "df.columns = ['Country ', 'Continent', 'female_literacy', 'fertility', 'population']"
   ]
  },
  {
   "cell_type": "code",
   "execution_count": 120,
   "metadata": {},
   "outputs": [
    {
     "name": "stderr",
     "output_type": "stream",
     "text": [
      "WARNING:bokeh.embed.util:\n",
      "You are generating standalone HTML/JS output, but trying to use real Python\n",
      "callbacks (i.e. with on_change or on_event). This combination cannot work.\n",
      "\n",
      "Only JavaScript callbacks may be used with standalone output. For more\n",
      "information on JavaScript callbacks with Bokeh, see:\n",
      "\n",
      "    http://bokeh.pydata.org/en/latest/docs/user_guide/interaction/callbacks.html\n",
      "\n",
      "Alternatively, to use real Python callbacks, a Bokeh server application may\n",
      "be used. For more information on building and running Bokeh applications, see:\n",
      "\n",
      "    http://bokeh.pydata.org/en/latest/docs/user_guide/server.html\n",
      "\n"
     ]
    },
    {
     "data": {
      "text/html": [
       "\n",
       "\n",
       "\n",
       "\n",
       "\n",
       "\n",
       "  <div class=\"bk-root\" id=\"27682a1f-dc3c-44b9-a8c1-0a7d0add1ad5\"></div>\n"
      ]
     },
     "metadata": {},
     "output_type": "display_data"
    },
    {
     "data": {
      "application/javascript": [
       "(function(root) {\n",
       "  function embed_document(root) {\n",
       "    \n",
       "  var docs_json = {\"7aaf0a58-7ce4-4858-9a2c-118535300b89\":{\"roots\":{\"references\":[{\"attributes\":{\"children\":[{\"id\":\"14034\",\"type\":\"WidgetBox\"},{\"id\":\"13994\",\"subtype\":\"Figure\",\"type\":\"Plot\"}]},\"id\":\"14035\",\"type\":\"Row\"},{\"attributes\":{},\"id\":\"14434\",\"type\":\"UnionRenderers\"},{\"attributes\":{},\"id\":\"13999\",\"type\":\"LinearScale\"},{\"attributes\":{},\"id\":\"14004\",\"type\":\"BasicTicker\"},{\"attributes\":{},\"id\":\"14433\",\"type\":\"Selection\"},{\"attributes\":{\"formatter\":{\"id\":\"14428\",\"type\":\"BasicTickFormatter\"},\"plot\":{\"id\":\"13994\",\"subtype\":\"Figure\",\"type\":\"Plot\"},\"ticker\":{\"id\":\"14004\",\"type\":\"BasicTicker\"}},\"id\":\"14003\",\"type\":\"LinearAxis\"},{\"attributes\":{\"plot\":{\"id\":\"13994\",\"subtype\":\"Figure\",\"type\":\"Plot\"},\"ticker\":{\"id\":\"14004\",\"type\":\"BasicTicker\"}},\"id\":\"14007\",\"type\":\"Grid\"},{\"attributes\":{\"callback\":null},\"id\":\"13995\",\"type\":\"DataRange1d\"},{\"attributes\":{\"below\":[{\"id\":\"14003\",\"type\":\"LinearAxis\"}],\"left\":[{\"id\":\"14008\",\"type\":\"LinearAxis\"}],\"renderers\":[{\"id\":\"14003\",\"type\":\"LinearAxis\"},{\"id\":\"14007\",\"type\":\"Grid\"},{\"id\":\"14008\",\"type\":\"LinearAxis\"},{\"id\":\"14012\",\"type\":\"Grid\"},{\"id\":\"14021\",\"type\":\"BoxAnnotation\"},{\"id\":\"14031\",\"type\":\"GlyphRenderer\"}],\"title\":{\"id\":\"14427\",\"type\":\"Title\"},\"toolbar\":{\"id\":\"14019\",\"type\":\"Toolbar\"},\"x_range\":{\"id\":\"13995\",\"type\":\"DataRange1d\"},\"x_scale\":{\"id\":\"13999\",\"type\":\"LinearScale\"},\"y_range\":{\"id\":\"13997\",\"type\":\"DataRange1d\"},\"y_scale\":{\"id\":\"14001\",\"type\":\"LinearScale\"}},\"id\":\"13994\",\"subtype\":\"Figure\",\"type\":\"Plot\"},{\"attributes\":{\"formatter\":{\"id\":\"14430\",\"type\":\"BasicTickFormatter\"},\"plot\":{\"id\":\"13994\",\"subtype\":\"Figure\",\"type\":\"Plot\"},\"ticker\":{\"id\":\"14009\",\"type\":\"BasicTicker\"}},\"id\":\"14008\",\"type\":\"LinearAxis\"},{\"attributes\":{},\"id\":\"14430\",\"type\":\"BasicTickFormatter\"},{\"attributes\":{\"callback\":null,\"data\":{\"x\":{\"__ndarray__\":\"6Pup8dJN/D/b+X5qvHQFQARWDi2ynQBAdJMYBFYOAUAIrBxaZDv9P2Dl0CLb+Q5A6Pup8dJNAkD91HjpJrEUQH0/NV66SfY//tR46SYx9D9zaJHtfD8BQGmR7Xw/NQhA3SQGgZVDAEDJdr6fGi/1P7tJDAIrhwZA8tJNYhDYFEDNzMzMzMwAQOXQItv5fvw/8/3UeOkm/T9uEoPAyqEXQH9qvHSTGP4/bhKDwMqh/T89CtejcD32P3Noke18PwJACtejcD0KBEAv3SQGgZXzPy2yne+nxvU/sXJoke189z8IrBxaZDsDQBSuR+F6FBZACKwcWmQ7EEBjEFg5tMgBQFYOLbKdbxNAE4PAyqFF9D8j2/l+arwCQN0kBoGVQ/k/arx0kxgEGUB56SYxCKwCQOSlm8QgsA9AhetRuB4FGkA9CtejcD0EQC/dJAaBlQZAlkOLbOf7A0CWQ4ts5/sBQKrx0k1iEARAUrgehetRCEBEi2zn+6n9P+F6FK5H4RBAZmZmZmZmFECR7Xw/Nd4TQDMzMzMzM/U/dJMYBFYOEkD8qfHSTWIJQBFYObTIdgJAexSuR+F6EkBEi2zn+ykSQEA1XrpJjBZAN4lBYOXQ/j/AyqFFtvP7PycxCKwcWgJAd76fGi9dF0BSuB6F69EVQC2yne+nRhxArBxaZDvfBkDfT42XbhIQQLTIdr6fGgRAH4XrUbieFUCmm8QgsPIWQIGVQ4ts5wpAj8L1KFyPE0ApXI/C9Sj2PxSuR+F6FPg/bef7qfFSGEAlBoGVQ4v8P0A1XrpJDPY/MzMzMzMz9z/b+X5qvHT9P+xRuB6F6/U/TDeJQWDlBEA3iUFg5VAVQFK4HoXrURVALIcW2c73CkDl0CLb+X70P1YOLbKd7/0/001iEFg5AUBPjZduEoMVQM3MzMzMzBFAXI/C9Shc9z9g5dAi2/n2P5duEoPAyvk/hetRuB6FCUBqvHSTGAQGQM3MzMzMzApACtejcD0KEEBEi2zn+6kQQIlBYOXQIgVAN4lBYOXQB0BSuB6F61ELQFyPwvUoXAJA8/3UeOkmCEARWDm0yHYFQClcj8L1qBRAL90kBoGV/T/GSzeJQWD9P7+fGi/dJARAcT0K16NwA0DqJjEIrBwSQGiR7Xw/NfQ/KVyPwvUo/j9KDAIrhxb/P/yp8dJNYv4/30+Nl24S9z9zaJHtfD//P30/NV66yRJAHFpkO99P+T8zMzMzMzMAQNv5fmq8dP0/JQaBlUMLFEAxCKwcWmTzP9R46SYxCPg/VOOlm8QgBECsHFpkO9/1P4PAyqFFtgBAWmQ730+NEUBEi2zn+6n9PyyHFtnO9/s/bef7qfHSB0Cd76fGSzcBQEw3iUFg5QJAAyuHFtnO/z83iUFg5dD2P1K4HoXrUQpA6SYxCKwcCkBg5dAi2/n2P30/NV66SfY/+n5qvHSTBkDGSzeJQeATQIlBYOXQohZA7FG4HoXrCUBKDAIrhxb7PyYxCKwcWvo/4XoUrkfhAkB46SYxCKz8P5qZmZmZmQtAqMZLN4lB+D93vp8aL90BQBsv3SQGgQRAbhKDwMohFUAUrkfhehQPQLbz/dR46e4/lkOLbOf7AkDo+6nx0k0FQGq8dJMYBPQ/0SLb+X5qAEAshxbZzvcKQFg5tMh2vgBAAAAAAAAAAECq8dJNYhAPQDeJQWDl0A5AWDm0yHa+DUCDwMqhRbb7PwaBlUOLbA9A738soIUHB0DvfyyghQcHQO9/LKCFBwdA738soIUHB0DvfyyghQcHQA==\",\"dtype\":\"float64\",\"shape\":[167]},\"y\":{\"__ndarray__\":\"AAAAAACgVkBmZmZmZmZJQAAAAAAAwFhAMzMzMzMzVkDNzMzMzIxWQAAAAAAAAERAZmZmZmbmSEBmZmZmZmZIQJqZmZmZ2VhAAAAAAADAWEAAAAAAAOBWQJqZmZmZeVdAzczMzMyMVkAAAAAAAMBYQGZmZmZm5kxAzczMzMzMNkAzMzMzM1NUQM3MzMzMTFNAAAAAAADgVkDNzMzMzAxMQAAAAAAAwFhAAAAAAADAWEAAAAAAAKBYQM3MzMzMTFZAZmZmZmYGVkBmZmZmZiZYQGZmZmZm5lhAmpmZmZk5WECamZmZmVlXQDMzMzMzk1BAzczMzMzMTUDNzMzMzGxYQDMzMzMzs1RAMzMzMzPTWEAzMzMzM/NPQAAAAAAAwFhAMzMzMzOzUEDNzMzMzAxGQM3MzMzMTFFAMzMzMzMzKUBmZmZmZiZVQDMzMzMzs0ZAmpmZmZm5V0CamZmZmblYQDMzMzMzc1ZAzczMzMwMVEAAAAAAAABZQGZmZmZmpk1AZmZmZmZmRUDNzMzMzAxEQJqZmZmZOVhAZmZmZmYmRkDNzMzMzExTQGZmZmZmRlZAMzMzMzNTUEAzMzMzM/NQQAAAAAAAgExAzczMzMysWEAAAAAAAMBYQAAAAAAA4FhAmpmZmZmZNUAzMzMzM3NQQDMzMzMzMy5AmpmZmZm5UUDNzMzMzCxRQM3MzMzMbFRAMzMzMzMzMkAAAAAAAIBOQDMzMzMzM1ZAAAAAAACAQECamZmZmflXQDMzMzMz81hAZmZmZmbmNUAAAAAAAMBYQJqZmZmZOVdAAAAAAADAWEAAAAAAAMBRQJqZmZmZuVhAMzMzMzMTVkBmZmZmZmY6QGZmZmZmhlBAAAAAAACAVUDNzMzMzOxYQAAAAAAAwFhAzczMzMzMWECamZmZmRk8QDMzMzMz801AAAAAAADAWECamZmZmXlYQM3MzMzMDFhAAAAAAADgVECamZmZmflXQAAAAAAA4FhAzczMzMzMS0CamZmZmdlKQDMzMzMzU1RAAAAAAABgV0CamZmZmZlPQJqZmZmZWVRAmpmZmZk5VkCamZmZmXlTQGZmZmZm5jxAAAAAAADAWEAAAAAAAABZQGZmZmZmxlhAMzMzMzPTWEAAAAAAAEBLQGZmZmZm5lZAAAAAAAAAWUDNzMzMzAxYQAAAAAAA4FZAAAAAAACAWEAAAAAAAMBYQM3MzMzMjERAzczMzMzsWEAAAAAAAMBYQAAAAAAAgFVAAAAAAACASkCamZmZmflXQDMzMzMzc1hAMzMzMzMzV0DNzMzMzOxYQAAAAAAAoFhAAAAAAADASEDNzMzMzKxYQJqZmZmZ2VhAmpmZmZk5VEBmZmZmZkZXQDMzMzMzs1ZAMzMzMzNzWEAzMzMzM/NYQM3MzMzM7FVAZmZmZmbGV0CamZmZmdlXQM3MzMzM7FhAAAAAAADgVEBmZmZmZiZBQAAAAAAAQEJAzczMzMzMVEAzMzMzM/NYQM3MzMzMjFhAmpmZmZmZVkAzMzMzMzNVQGZmZmZmZlVAzczMzMwsWECamZmZmVlWQJqZmZmZWUNAZmZmZmZGVkAzMzMzM/NQQM3MzMzMrFZAmpmZmZkZVkAzMzMzM9NTQAAAAAAAYFdAMzMzMzNTV0AAAAAAACBYQAAAAAAAwFhAmpmZmZmZWEAAAAAAAOBTQAAAAAAAoFhAMzMzMzPTVEAAAAAAAIBYQGZmZmZmxlhAmpmZmZnZWEAzMzMzMxNYQAAAAAAAwFhAMzMzMzMTV0CamZmZmblWQA==\",\"dtype\":\"float64\",\"shape\":[167]}},\"selected\":{\"id\":\"14433\",\"type\":\"Selection\"},\"selection_policy\":{\"id\":\"14434\",\"type\":\"UnionRenderers\"}},\"id\":\"13993\",\"type\":\"ColumnDataSource\"},{\"attributes\":{\"dimension\":1,\"plot\":{\"id\":\"13994\",\"subtype\":\"Figure\",\"type\":\"Plot\"},\"ticker\":{\"id\":\"14009\",\"type\":\"BasicTicker\"}},\"id\":\"14012\",\"type\":\"Grid\"},{\"attributes\":{\"fill_alpha\":{\"value\":0.1},\"fill_color\":{\"value\":\"#1f77b4\"},\"line_alpha\":{\"value\":0.1},\"line_color\":{\"value\":\"#1f77b4\"},\"x\":{\"field\":\"x\"},\"y\":{\"field\":\"y\"}},\"id\":\"14030\",\"type\":\"Circle\"},{\"attributes\":{\"callback\":null},\"id\":\"13997\",\"type\":\"DataRange1d\"},{\"attributes\":{},\"id\":\"14009\",\"type\":\"BasicTicker\"},{\"attributes\":{\"source\":{\"id\":\"13993\",\"type\":\"ColumnDataSource\"}},\"id\":\"14032\",\"type\":\"CDSView\"},{\"attributes\":{},\"id\":\"14001\",\"type\":\"LinearScale\"},{\"attributes\":{\"active_drag\":\"auto\",\"active_inspect\":\"auto\",\"active_multi\":null,\"active_scroll\":\"auto\",\"active_tap\":\"auto\",\"tools\":[{\"id\":\"14013\",\"type\":\"PanTool\"},{\"id\":\"14014\",\"type\":\"WheelZoomTool\"},{\"id\":\"14015\",\"type\":\"BoxZoomTool\"},{\"id\":\"14016\",\"type\":\"SaveTool\"},{\"id\":\"14017\",\"type\":\"ResetTool\"},{\"id\":\"14018\",\"type\":\"HelpTool\"}]},\"id\":\"14019\",\"type\":\"Toolbar\"},{\"attributes\":{},\"id\":\"14013\",\"type\":\"PanTool\"},{\"attributes\":{},\"id\":\"14014\",\"type\":\"WheelZoomTool\"},{\"attributes\":{\"overlay\":{\"id\":\"14021\",\"type\":\"BoxAnnotation\"}},\"id\":\"14015\",\"type\":\"BoxZoomTool\"},{\"attributes\":{},\"id\":\"14018\",\"type\":\"HelpTool\"},{\"attributes\":{},\"id\":\"14016\",\"type\":\"SaveTool\"},{\"attributes\":{},\"id\":\"14017\",\"type\":\"ResetTool\"},{\"attributes\":{\"data_source\":{\"id\":\"13993\",\"type\":\"ColumnDataSource\"},\"glyph\":{\"id\":\"14029\",\"type\":\"Circle\"},\"hover_glyph\":null,\"muted_glyph\":null,\"nonselection_glyph\":{\"id\":\"14030\",\"type\":\"Circle\"},\"selection_glyph\":null,\"view\":{\"id\":\"14032\",\"type\":\"CDSView\"}},\"id\":\"14031\",\"type\":\"GlyphRenderer\"},{\"attributes\":{\"bottom_units\":\"screen\",\"fill_alpha\":{\"value\":0.5},\"fill_color\":{\"value\":\"lightgrey\"},\"left_units\":\"screen\",\"level\":\"overlay\",\"line_alpha\":{\"value\":1.0},\"line_color\":{\"value\":\"black\"},\"line_dash\":[4,4],\"line_width\":{\"value\":2},\"plot\":null,\"render_mode\":\"css\",\"right_units\":\"screen\",\"top_units\":\"screen\"},\"id\":\"14021\",\"type\":\"BoxAnnotation\"},{\"attributes\":{},\"id\":\"14428\",\"type\":\"BasicTickFormatter\"},{\"attributes\":{\"fill_color\":{\"value\":\"#1f77b4\"},\"line_color\":{\"value\":\"#1f77b4\"},\"x\":{\"field\":\"x\"},\"y\":{\"field\":\"y\"}},\"id\":\"14029\",\"type\":\"Circle\"},{\"attributes\":{\"callback\":null,\"options\":[\"female_literacy\",\"population\"],\"title\":\"distribution\",\"value\":\"female_literacy\"},\"id\":\"14033\",\"type\":\"Select\"},{\"attributes\":{\"plot\":null,\"text\":\"\"},\"id\":\"14427\",\"type\":\"Title\"},{\"attributes\":{\"children\":[{\"id\":\"14033\",\"type\":\"Select\"}]},\"id\":\"14034\",\"type\":\"WidgetBox\"}],\"root_ids\":[\"14035\"]},\"title\":\"Bokeh Application\",\"version\":\"1.0.2\"}};\n",
       "  var render_items = [{\"docid\":\"7aaf0a58-7ce4-4858-9a2c-118535300b89\",\"roots\":{\"14035\":\"27682a1f-dc3c-44b9-a8c1-0a7d0add1ad5\"}}];\n",
       "  root.Bokeh.embed.embed_items_notebook(docs_json, render_items);\n",
       "\n",
       "  }\n",
       "  if (root.Bokeh !== undefined) {\n",
       "    embed_document(root);\n",
       "  } else {\n",
       "    var attempts = 0;\n",
       "    var timer = setInterval(function(root) {\n",
       "      if (root.Bokeh !== undefined) {\n",
       "        embed_document(root);\n",
       "        clearInterval(timer);\n",
       "      }\n",
       "      attempts++;\n",
       "      if (attempts > 100) {\n",
       "        console.log(\"Bokeh: ERROR: Unable to run BokehJS code because BokehJS library is missing\");\n",
       "        clearInterval(timer);\n",
       "      }\n",
       "    }, 10, root)\n",
       "  }\n",
       "})(window);"
      ],
      "application/vnd.bokehjs_exec.v0+json": ""
     },
     "metadata": {
      "application/vnd.bokehjs_exec.v0+json": {
       "id": "14035"
      }
     },
     "output_type": "display_data"
    }
   ],
   "source": [
    "# Create ColumnDataSource: source\n",
    "source = ColumnDataSource(data={\n",
    "    'x' : df.fertility,\n",
    "    'y' : df.female_literacy\n",
    "})\n",
    "\n",
    "# Create a new plot: plot\n",
    "plot = figure()\n",
    "\n",
    "# Add circles to the plot\n",
    "plot.circle('x', 'y', source=source)\n",
    "\n",
    "# Define a callback function: update_plot\n",
    "def update_plot(attr, old, new):\n",
    "    # If the new Selection is 'female_literacy', update 'y' to female_literacy\n",
    "    if new == 'female_literacy': \n",
    "        source.data = {\n",
    "            'x' : df.fertility,\n",
    "            'y' : df.female_literacy\n",
    "        }\n",
    "    # Else, update 'y' to population\n",
    "    else:\n",
    "        source.data = {\n",
    "            'x' : df.fertility,\n",
    "            'y' : df.population\n",
    "        }\n",
    "\n",
    "# Create a dropdown Select widget: select    \n",
    "select = Select(title=\"distribution\", options=['female_literacy', 'population'], value='female_literacy')\n",
    "\n",
    "# Attach the update_plot callback to the 'value' property of select\n",
    "select.on_change('value', update_plot)\n",
    "\n",
    "# Create layout and add to current document\n",
    "layout = row(select, plot)\n",
    "curdoc().add_root(layout)\n",
    "\n",
    "show(layout) # aditional line of code to show the result in the notebook"
   ]
  },
  {
   "cell_type": "markdown",
   "metadata": {},
   "source": [
    "### Synchronize two dropdowns\n",
    "Here, you'll practice using a dropdown callback to update another dropdown's options. This will allow you to customize your applications even further and is a powerful addition to your toolbox.\n",
    "\n",
    "Your job in this exercise is to create two dropdown select widgets and then define a callback such that one dropdown is used to update the other dropdown.\n",
    "\n",
    "All modules necessary have been imported."
   ]
  },
  {
   "cell_type": "code",
   "execution_count": 121,
   "metadata": {},
   "outputs": [
    {
     "name": "stderr",
     "output_type": "stream",
     "text": [
      "WARNING:bokeh.embed.util:\n",
      "You are generating standalone HTML/JS output, but trying to use real Python\n",
      "callbacks (i.e. with on_change or on_event). This combination cannot work.\n",
      "\n",
      "Only JavaScript callbacks may be used with standalone output. For more\n",
      "information on JavaScript callbacks with Bokeh, see:\n",
      "\n",
      "    http://bokeh.pydata.org/en/latest/docs/user_guide/interaction/callbacks.html\n",
      "\n",
      "Alternatively, to use real Python callbacks, a Bokeh server application may\n",
      "be used. For more information on building and running Bokeh applications, see:\n",
      "\n",
      "    http://bokeh.pydata.org/en/latest/docs/user_guide/server.html\n",
      "\n"
     ]
    },
    {
     "data": {
      "text/html": [
       "\n",
       "\n",
       "\n",
       "\n",
       "\n",
       "\n",
       "  <div class=\"bk-root\" id=\"58cf3080-ac54-4210-a5d7-89ed784a3e48\"></div>\n"
      ]
     },
     "metadata": {},
     "output_type": "display_data"
    },
    {
     "data": {
      "application/javascript": [
       "(function(root) {\n",
       "  function embed_document(root) {\n",
       "    \n",
       "  var docs_json = {\"69f04be7-6edd-4758-b959-024c2e9e8276\":{\"roots\":{\"references\":[{\"attributes\":{\"children\":[{\"id\":\"14489\",\"type\":\"Select\"},{\"id\":\"14490\",\"type\":\"Select\"}]},\"id\":\"14491\",\"type\":\"WidgetBox\"},{\"attributes\":{\"callback\":null,\"options\":[\"A\",\"B\"],\"title\":\"First\",\"value\":\"A\"},\"id\":\"14489\",\"type\":\"Select\"},{\"attributes\":{\"callback\":null,\"options\":[\"1\",\"2\",\"3\"],\"title\":\"Second\",\"value\":\"1\"},\"id\":\"14490\",\"type\":\"Select\"}],\"root_ids\":[\"14491\"]},\"title\":\"Bokeh Application\",\"version\":\"1.0.2\"}};\n",
       "  var render_items = [{\"docid\":\"69f04be7-6edd-4758-b959-024c2e9e8276\",\"roots\":{\"14491\":\"58cf3080-ac54-4210-a5d7-89ed784a3e48\"}}];\n",
       "  root.Bokeh.embed.embed_items_notebook(docs_json, render_items);\n",
       "\n",
       "  }\n",
       "  if (root.Bokeh !== undefined) {\n",
       "    embed_document(root);\n",
       "  } else {\n",
       "    var attempts = 0;\n",
       "    var timer = setInterval(function(root) {\n",
       "      if (root.Bokeh !== undefined) {\n",
       "        embed_document(root);\n",
       "        clearInterval(timer);\n",
       "      }\n",
       "      attempts++;\n",
       "      if (attempts > 100) {\n",
       "        console.log(\"Bokeh: ERROR: Unable to run BokehJS code because BokehJS library is missing\");\n",
       "        clearInterval(timer);\n",
       "      }\n",
       "    }, 10, root)\n",
       "  }\n",
       "})(window);"
      ],
      "application/vnd.bokehjs_exec.v0+json": ""
     },
     "metadata": {
      "application/vnd.bokehjs_exec.v0+json": {
       "id": "14491"
      }
     },
     "output_type": "display_data"
    }
   ],
   "source": [
    "# Create two dropdown Select widgets: select1, select2\n",
    "select1 = Select(title='First', options=['A', 'B'], value='A')\n",
    "select2 = Select(title='Second', options=['1', '2', '3'], value='1')\n",
    "\n",
    "# Define a callback function: callback\n",
    "def callback(attr, old, new):\n",
    "    # If select1 is 'A' \n",
    "    if select1.value == 'A':\n",
    "        # Set select2 options to ['1', '2', '3']\n",
    "        select2.options = ['1', '2', '3']\n",
    "\n",
    "        # Set select2 value to '1'\n",
    "        select2.value = '1'\n",
    "    else:\n",
    "        # Set select2 options to ['100', '200', '300']\n",
    "        select2.options = ['100', '200', '300']\n",
    "\n",
    "        # Set select2 value to '100'\n",
    "        select2.value = '100'\n",
    "\n",
    "# Attach the callback to the 'value' property of select1\n",
    "select1.on_change('value', callback)\n",
    "\n",
    "# Create layout and add to current document\n",
    "layout = widgetbox(select1, select2)\n",
    "curdoc().add_root(layout)\n",
    "\n",
    "show(layout) # aditional line of code to show the result in the notebook"
   ]
  },
  {
   "cell_type": "markdown",
   "metadata": {},
   "source": [
    "## Buttons"
   ]
  },
  {
   "cell_type": "code",
   "execution_count": 122,
   "metadata": {},
   "outputs": [
    {
     "data": {
      "text/html": [
       "<video style=\"display:block; margin: 0 auto;\" controls>\n",
       "      <source src=\"_Docs/04-Buttons.mp4\" type=\"video/mp4\">\n",
       "</video>\n"
      ],
      "text/plain": [
       "<IPython.core.display.HTML object>"
      ]
     },
     "metadata": {},
     "output_type": "display_data"
    }
   ],
   "source": [
    "%%HTML\n",
    "<video style=\"display:block; margin: 0 auto;\" controls>\n",
    "      <source src=\"_Docs/04-Buttons.mp4\" type=\"video/mp4\">\n",
    "</video>"
   ]
  },
  {
   "cell_type": "markdown",
   "metadata": {},
   "source": [
    "### Button widgets\n",
    "It's time to practice adding buttons to your interactive visualizations. Your job in this exercise is to create a button and use its `on_click()` method to update a plot.\n",
    "\n",
    "All necessary modules have been imported for you. In addition, the `ColumnDataSource` with data `x` and `y` as well as the figure have been created for you and are available in the workspace as source and plot.\n",
    "\n",
    "When you're done, be sure to interact with the button you just added to your plot, and notice how it updates the data!"
   ]
  },
  {
   "cell_type": "code",
   "execution_count": 130,
   "metadata": {},
   "outputs": [
    {
     "data": {
      "text/html": [
       "<div style=\"display: table;\"><div style=\"display: table-row;\"><div style=\"display: table-cell;\"><b title=\"bokeh.models.renderers.GlyphRenderer\">GlyphRenderer</b>(</div><div style=\"display: table-cell;\">id&nbsp;=&nbsp;'16318', <span id=\"16321\" style=\"cursor: pointer;\">&hellip;)</span></div></div><div class=\"16320\" style=\"display: none;\"><div style=\"display: table-cell;\"></div><div style=\"display: table-cell;\">data_source&nbsp;=&nbsp;ColumnDataSource(id='16280', ...),</div></div><div class=\"16320\" style=\"display: none;\"><div style=\"display: table-cell;\"></div><div style=\"display: table-cell;\">glyph&nbsp;=&nbsp;Circle(id='16316', ...),</div></div><div class=\"16320\" style=\"display: none;\"><div style=\"display: table-cell;\"></div><div style=\"display: table-cell;\">hover_glyph&nbsp;=&nbsp;None,</div></div><div class=\"16320\" style=\"display: none;\"><div style=\"display: table-cell;\"></div><div style=\"display: table-cell;\">js_event_callbacks&nbsp;=&nbsp;{},</div></div><div class=\"16320\" style=\"display: none;\"><div style=\"display: table-cell;\"></div><div style=\"display: table-cell;\">js_property_callbacks&nbsp;=&nbsp;{},</div></div><div class=\"16320\" style=\"display: none;\"><div style=\"display: table-cell;\"></div><div style=\"display: table-cell;\">level&nbsp;=&nbsp;'glyph',</div></div><div class=\"16320\" style=\"display: none;\"><div style=\"display: table-cell;\"></div><div style=\"display: table-cell;\">muted&nbsp;=&nbsp;False,</div></div><div class=\"16320\" style=\"display: none;\"><div style=\"display: table-cell;\"></div><div style=\"display: table-cell;\">muted_glyph&nbsp;=&nbsp;None,</div></div><div class=\"16320\" style=\"display: none;\"><div style=\"display: table-cell;\"></div><div style=\"display: table-cell;\">name&nbsp;=&nbsp;None,</div></div><div class=\"16320\" style=\"display: none;\"><div style=\"display: table-cell;\"></div><div style=\"display: table-cell;\">nonselection_glyph&nbsp;=&nbsp;Circle(id='16317', ...),</div></div><div class=\"16320\" style=\"display: none;\"><div style=\"display: table-cell;\"></div><div style=\"display: table-cell;\">selection_glyph&nbsp;=&nbsp;None,</div></div><div class=\"16320\" style=\"display: none;\"><div style=\"display: table-cell;\"></div><div style=\"display: table-cell;\">subscribed_events&nbsp;=&nbsp;[],</div></div><div class=\"16320\" style=\"display: none;\"><div style=\"display: table-cell;\"></div><div style=\"display: table-cell;\">tags&nbsp;=&nbsp;[],</div></div><div class=\"16320\" style=\"display: none;\"><div style=\"display: table-cell;\"></div><div style=\"display: table-cell;\">view&nbsp;=&nbsp;CDSView(id='16319', ...),</div></div><div class=\"16320\" style=\"display: none;\"><div style=\"display: table-cell;\"></div><div style=\"display: table-cell;\">visible&nbsp;=&nbsp;True,</div></div><div class=\"16320\" style=\"display: none;\"><div style=\"display: table-cell;\"></div><div style=\"display: table-cell;\">x_range_name&nbsp;=&nbsp;'default',</div></div><div class=\"16320\" style=\"display: none;\"><div style=\"display: table-cell;\"></div><div style=\"display: table-cell;\">y_range_name&nbsp;=&nbsp;'default')</div></div></div>\n",
       "<script>\n",
       "(function() {\n",
       "  var expanded = false;\n",
       "  var ellipsis = document.getElementById(\"16321\");\n",
       "  ellipsis.addEventListener(\"click\", function() {\n",
       "    var rows = document.getElementsByClassName(\"16320\");\n",
       "    for (var i = 0; i < rows.length; i++) {\n",
       "      var el = rows[i];\n",
       "      el.style.display = expanded ? \"none\" : \"table-row\";\n",
       "    }\n",
       "    ellipsis.innerHTML = expanded ? \"&hellip;)\" : \"&lsaquo;&lsaquo;&lsaquo;\";\n",
       "    expanded = !expanded;\n",
       "  });\n",
       "})();\n",
       "</script>\n"
      ],
      "text/plain": [
       "GlyphRenderer(id='16318', ...)"
      ]
     },
     "execution_count": 130,
     "metadata": {},
     "output_type": "execute_result"
    }
   ],
   "source": [
    "y = np.sin(x)\n",
    "# Create ColumnDataSource: source\n",
    "source = ColumnDataSource(data={\n",
    "    'x' : x,\n",
    "    'y' : y\n",
    "})\n",
    "\n",
    "# Create a new plot: plot\n",
    "plot = figure()\n",
    "\n",
    "# Add circles to the plot\n",
    "plot.circle('x', 'y', source=source)"
   ]
  },
  {
   "cell_type": "code",
   "execution_count": 131,
   "metadata": {},
   "outputs": [
    {
     "name": "stderr",
     "output_type": "stream",
     "text": [
      "WARNING:bokeh.embed.util:\n",
      "You are generating standalone HTML/JS output, but trying to use real Python\n",
      "callbacks (i.e. with on_change or on_event). This combination cannot work.\n",
      "\n",
      "Only JavaScript callbacks may be used with standalone output. For more\n",
      "information on JavaScript callbacks with Bokeh, see:\n",
      "\n",
      "    http://bokeh.pydata.org/en/latest/docs/user_guide/interaction/callbacks.html\n",
      "\n",
      "Alternatively, to use real Python callbacks, a Bokeh server application may\n",
      "be used. For more information on building and running Bokeh applications, see:\n",
      "\n",
      "    http://bokeh.pydata.org/en/latest/docs/user_guide/server.html\n",
      "\n"
     ]
    },
    {
     "data": {
      "text/html": [
       "\n",
       "\n",
       "\n",
       "\n",
       "\n",
       "\n",
       "  <div class=\"bk-root\" id=\"e3679a53-cb84-45f3-a7e9-706563c44f7d\"></div>\n"
      ]
     },
     "metadata": {},
     "output_type": "display_data"
    },
    {
     "data": {
      "application/javascript": [
       "(function(root) {\n",
       "  function embed_document(root) {\n",
       "    \n",
       "  var docs_json = {\"a821b6da-e690-4f75-ba8b-da71734967bb\":{\"roots\":{\"references\":[{\"attributes\":{\"children\":[{\"id\":\"16323\",\"type\":\"WidgetBox\"},{\"id\":\"16281\",\"subtype\":\"Figure\",\"type\":\"Plot\"}]},\"id\":\"16324\",\"type\":\"Column\"},{\"attributes\":{\"children\":[{\"id\":\"16322\",\"type\":\"Button\"}]},\"id\":\"16323\",\"type\":\"WidgetBox\"},{\"attributes\":{},\"id\":\"16757\",\"type\":\"UnionRenderers\"},{\"attributes\":{\"dimension\":1,\"plot\":{\"id\":\"16281\",\"subtype\":\"Figure\",\"type\":\"Plot\"},\"ticker\":{\"id\":\"16296\",\"type\":\"BasicTicker\"}},\"id\":\"16299\",\"type\":\"Grid\"},{\"attributes\":{},\"id\":\"16751\",\"type\":\"BasicTickFormatter\"},{\"attributes\":{},\"id\":\"16296\",\"type\":\"BasicTicker\"},{\"attributes\":{\"below\":[{\"id\":\"16290\",\"type\":\"LinearAxis\"}],\"left\":[{\"id\":\"16295\",\"type\":\"LinearAxis\"}],\"renderers\":[{\"id\":\"16290\",\"type\":\"LinearAxis\"},{\"id\":\"16294\",\"type\":\"Grid\"},{\"id\":\"16295\",\"type\":\"LinearAxis\"},{\"id\":\"16299\",\"type\":\"Grid\"},{\"id\":\"16308\",\"type\":\"BoxAnnotation\"},{\"id\":\"16318\",\"type\":\"GlyphRenderer\"}],\"title\":{\"id\":\"16750\",\"type\":\"Title\"},\"toolbar\":{\"id\":\"16306\",\"type\":\"Toolbar\"},\"x_range\":{\"id\":\"16282\",\"type\":\"DataRange1d\"},\"x_scale\":{\"id\":\"16286\",\"type\":\"LinearScale\"},\"y_range\":{\"id\":\"16284\",\"type\":\"DataRange1d\"},\"y_scale\":{\"id\":\"16288\",\"type\":\"LinearScale\"}},\"id\":\"16281\",\"subtype\":\"Figure\",\"type\":\"Plot\"},{\"attributes\":{\"source\":{\"id\":\"16280\",\"type\":\"ColumnDataSource\"}},\"id\":\"16319\",\"type\":\"CDSView\"},{\"attributes\":{\"active_drag\":\"auto\",\"active_inspect\":\"auto\",\"active_multi\":null,\"active_scroll\":\"auto\",\"active_tap\":\"auto\",\"tools\":[{\"id\":\"16300\",\"type\":\"PanTool\"},{\"id\":\"16301\",\"type\":\"WheelZoomTool\"},{\"id\":\"16302\",\"type\":\"BoxZoomTool\"},{\"id\":\"16303\",\"type\":\"SaveTool\"},{\"id\":\"16304\",\"type\":\"ResetTool\"},{\"id\":\"16305\",\"type\":\"HelpTool\"}]},\"id\":\"16306\",\"type\":\"Toolbar\"},{\"attributes\":{},\"id\":\"16300\",\"type\":\"PanTool\"},{\"attributes\":{},\"id\":\"16288\",\"type\":\"LinearScale\"},{\"attributes\":{},\"id\":\"16301\",\"type\":\"WheelZoomTool\"},{\"attributes\":{\"plot\":null,\"text\":\"\"},\"id\":\"16750\",\"type\":\"Title\"},{\"attributes\":{\"overlay\":{\"id\":\"16308\",\"type\":\"BoxAnnotation\"}},\"id\":\"16302\",\"type\":\"BoxZoomTool\"},{\"attributes\":{\"callback\":null,\"data\":{\"x\":{\"__ndarray__\":\"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\",\"dtype\":\"float64\",\"shape\":[300]},\"y\":{\"__ndarray__\":\"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\",\"dtype\":\"float64\",\"shape\":[300]}},\"selected\":{\"id\":\"16756\",\"type\":\"Selection\"},\"selection_policy\":{\"id\":\"16757\",\"type\":\"UnionRenderers\"}},\"id\":\"16280\",\"type\":\"ColumnDataSource\"},{\"attributes\":{},\"id\":\"16303\",\"type\":\"SaveTool\"},{\"attributes\":{},\"id\":\"16304\",\"type\":\"ResetTool\"},{\"attributes\":{},\"id\":\"16291\",\"type\":\"BasicTicker\"},{\"attributes\":{\"fill_alpha\":{\"value\":0.1},\"fill_color\":{\"value\":\"#1f77b4\"},\"line_alpha\":{\"value\":0.1},\"line_color\":{\"value\":\"#1f77b4\"},\"x\":{\"field\":\"x\"},\"y\":{\"field\":\"y\"}},\"id\":\"16317\",\"type\":\"Circle\"},{\"attributes\":{},\"id\":\"16305\",\"type\":\"HelpTool\"},{\"attributes\":{\"data_source\":{\"id\":\"16280\",\"type\":\"ColumnDataSource\"},\"glyph\":{\"id\":\"16316\",\"type\":\"Circle\"},\"hover_glyph\":null,\"muted_glyph\":null,\"nonselection_glyph\":{\"id\":\"16317\",\"type\":\"Circle\"},\"selection_glyph\":null,\"view\":{\"id\":\"16319\",\"type\":\"CDSView\"}},\"id\":\"16318\",\"type\":\"GlyphRenderer\"},{\"attributes\":{\"callback\":null},\"id\":\"16282\",\"type\":\"DataRange1d\"},{\"attributes\":{},\"id\":\"16756\",\"type\":\"Selection\"},{\"attributes\":{\"bottom_units\":\"screen\",\"fill_alpha\":{\"value\":0.5},\"fill_color\":{\"value\":\"lightgrey\"},\"left_units\":\"screen\",\"level\":\"overlay\",\"line_alpha\":{\"value\":1.0},\"line_color\":{\"value\":\"black\"},\"line_dash\":[4,4],\"line_width\":{\"value\":2},\"plot\":null,\"render_mode\":\"css\",\"right_units\":\"screen\",\"top_units\":\"screen\"},\"id\":\"16308\",\"type\":\"BoxAnnotation\"},{\"attributes\":{\"plot\":{\"id\":\"16281\",\"subtype\":\"Figure\",\"type\":\"Plot\"},\"ticker\":{\"id\":\"16291\",\"type\":\"BasicTicker\"}},\"id\":\"16294\",\"type\":\"Grid\"},{\"attributes\":{\"fill_color\":{\"value\":\"#1f77b4\"},\"line_color\":{\"value\":\"#1f77b4\"},\"x\":{\"field\":\"x\"},\"y\":{\"field\":\"y\"}},\"id\":\"16316\",\"type\":\"Circle\"},{\"attributes\":{},\"id\":\"16286\",\"type\":\"LinearScale\"},{\"attributes\":{},\"id\":\"16753\",\"type\":\"BasicTickFormatter\"},{\"attributes\":{\"formatter\":{\"id\":\"16751\",\"type\":\"BasicTickFormatter\"},\"plot\":{\"id\":\"16281\",\"subtype\":\"Figure\",\"type\":\"Plot\"},\"ticker\":{\"id\":\"16291\",\"type\":\"BasicTicker\"}},\"id\":\"16290\",\"type\":\"LinearAxis\"},{\"attributes\":{\"callback\":null,\"icon\":null,\"label\":\"Update Data\"},\"id\":\"16322\",\"type\":\"Button\"},{\"attributes\":{\"formatter\":{\"id\":\"16753\",\"type\":\"BasicTickFormatter\"},\"plot\":{\"id\":\"16281\",\"subtype\":\"Figure\",\"type\":\"Plot\"},\"ticker\":{\"id\":\"16296\",\"type\":\"BasicTicker\"}},\"id\":\"16295\",\"type\":\"LinearAxis\"},{\"attributes\":{\"callback\":null},\"id\":\"16284\",\"type\":\"DataRange1d\"}],\"root_ids\":[\"16324\"]},\"title\":\"Bokeh Application\",\"version\":\"1.0.2\"}};\n",
       "  var render_items = [{\"docid\":\"a821b6da-e690-4f75-ba8b-da71734967bb\",\"roots\":{\"16324\":\"e3679a53-cb84-45f3-a7e9-706563c44f7d\"}}];\n",
       "  root.Bokeh.embed.embed_items_notebook(docs_json, render_items);\n",
       "\n",
       "  }\n",
       "  if (root.Bokeh !== undefined) {\n",
       "    embed_document(root);\n",
       "  } else {\n",
       "    var attempts = 0;\n",
       "    var timer = setInterval(function(root) {\n",
       "      if (root.Bokeh !== undefined) {\n",
       "        embed_document(root);\n",
       "        clearInterval(timer);\n",
       "      }\n",
       "      attempts++;\n",
       "      if (attempts > 100) {\n",
       "        console.log(\"Bokeh: ERROR: Unable to run BokehJS code because BokehJS library is missing\");\n",
       "        clearInterval(timer);\n",
       "      }\n",
       "    }, 10, root)\n",
       "  }\n",
       "})(window);"
      ],
      "application/vnd.bokehjs_exec.v0+json": ""
     },
     "metadata": {
      "application/vnd.bokehjs_exec.v0+json": {
       "id": "16324"
      }
     },
     "output_type": "display_data"
    }
   ],
   "source": [
    "# Create a Button with label 'Update Data'\n",
    "button = Button(label='Update Data')\n",
    "\n",
    "# Define an update callback with no arguments: update\n",
    "def update():\n",
    "\n",
    "    # Compute new y values: y\n",
    "    y = np.sin(x) + np.random.random(N)\n",
    "\n",
    "    # Update the ColumnDataSource data dictionary\n",
    "    source.data = {\n",
    "            'x' : x,\n",
    "            'y' : y\n",
    "        }\n",
    "\n",
    "# Add the update callback to the button\n",
    "button.on_click(update)\n",
    "\n",
    "# Create layout and add to current document\n",
    "layout = column(widgetbox(button), plot)\n",
    "curdoc().add_root(layout)\n",
    "\n",
    "show(layout) # aditional line of code to show the result in the notebook"
   ]
  },
  {
   "cell_type": "markdown",
   "metadata": {},
   "source": [
    "### Button styles\n",
    "You can also get really creative with your Button widgets.\n",
    "\n",
    "In this exercise, you'll practice using `CheckboxGroup`, `RadioGroup`, and `Toggle` to add multiple Button widgets with different styles.\n",
    "\n",
    "`curdoc` and `widgetbox` have already been imported for you."
   ]
  },
  {
   "cell_type": "code",
   "execution_count": 134,
   "metadata": {},
   "outputs": [
    {
     "data": {
      "text/html": [
       "\n",
       "\n",
       "\n",
       "\n",
       "\n",
       "\n",
       "  <div class=\"bk-root\" id=\"25e3d316-c260-4269-9ac5-26e7e147763b\"></div>\n"
      ]
     },
     "metadata": {},
     "output_type": "display_data"
    },
    {
     "data": {
      "application/javascript": [
       "(function(root) {\n",
       "  function embed_document(root) {\n",
       "    \n",
       "  var docs_json = {\"75af2769-8699-43c1-b45d-228b39dba27f\":{\"roots\":{\"references\":[{\"attributes\":{\"children\":[{\"id\":\"17303\",\"type\":\"Toggle\"},{\"id\":\"17304\",\"type\":\"CheckboxGroup\"},{\"id\":\"17305\",\"type\":\"RadioGroup\"}]},\"id\":\"17740\",\"type\":\"WidgetBox\"},{\"attributes\":{\"callback\":null,\"labels\":[\"Option 1\",\"Option 2\",\"Option 3\"]},\"id\":\"17305\",\"type\":\"RadioGroup\"},{\"attributes\":{\"callback\":null,\"labels\":[\"Option 1\",\"Option 2\",\"Option 3\"]},\"id\":\"17304\",\"type\":\"CheckboxGroup\"},{\"attributes\":{\"button_type\":\"success\",\"callback\":null,\"icon\":null,\"label\":\"Toggle button\"},\"id\":\"17303\",\"type\":\"Toggle\"}],\"root_ids\":[\"17740\"]},\"title\":\"Bokeh Application\",\"version\":\"1.0.2\"}};\n",
       "  var render_items = [{\"docid\":\"75af2769-8699-43c1-b45d-228b39dba27f\",\"roots\":{\"17740\":\"25e3d316-c260-4269-9ac5-26e7e147763b\"}}];\n",
       "  root.Bokeh.embed.embed_items_notebook(docs_json, render_items);\n",
       "\n",
       "  }\n",
       "  if (root.Bokeh !== undefined) {\n",
       "    embed_document(root);\n",
       "  } else {\n",
       "    var attempts = 0;\n",
       "    var timer = setInterval(function(root) {\n",
       "      if (root.Bokeh !== undefined) {\n",
       "        embed_document(root);\n",
       "        clearInterval(timer);\n",
       "      }\n",
       "      attempts++;\n",
       "      if (attempts > 100) {\n",
       "        console.log(\"Bokeh: ERROR: Unable to run BokehJS code because BokehJS library is missing\");\n",
       "        clearInterval(timer);\n",
       "      }\n",
       "    }, 10, root)\n",
       "  }\n",
       "})(window);"
      ],
      "application/vnd.bokehjs_exec.v0+json": ""
     },
     "metadata": {
      "application/vnd.bokehjs_exec.v0+json": {
       "id": "17740"
      }
     },
     "output_type": "display_data"
    }
   ],
   "source": [
    "# Add a Toggle: toggle\n",
    "toggle = Toggle(button_type='success', label='Toggle button')\n",
    "\n",
    "# Add a CheckboxGroup: checkbox\n",
    "checkbox = CheckboxGroup(labels=['Option 1','Option 2','Option 3'])\n",
    "\n",
    "# Add a RadioGroup: radio\n",
    "radio = RadioGroup(labels=['Option 1','Option 2','Option 3'])\n",
    "\n",
    "# Add widgetbox(toggle, checkbox, radio) to the current document\n",
    "curdoc().add_root(widgetbox(toggle,checkbox,radio))\n",
    "\n",
    "show(widgetbox(toggle,checkbox,radio)) # aditional line of code to show the result in the notebook"
   ]
  },
  {
   "cell_type": "markdown",
   "metadata": {},
   "source": [
    "### Hosting applications for wider audiences"
   ]
  },
  {
   "cell_type": "code",
   "execution_count": 135,
   "metadata": {},
   "outputs": [
    {
     "data": {
      "text/html": [
       "<video style=\"display:block; margin: 0 auto;\" controls>\n",
       "      <source src=\"_Docs/05-Hosting_applications_for_wider_audiences.mp4\" type=\"video/mp4\">\n",
       "</video>\n"
      ],
      "text/plain": [
       "<IPython.core.display.HTML object>"
      ]
     },
     "metadata": {},
     "output_type": "display_data"
    }
   ],
   "source": [
    "%%HTML\n",
    "<video style=\"display:block; margin: 0 auto;\" controls>\n",
    "      <source src=\"_Docs/05-Hosting_applications_for_wider_audiences.mp4\" type=\"video/mp4\">\n",
    "</video>"
   ]
  }
 ],
 "metadata": {
  "kernelspec": {
   "display_name": "Python 3",
   "language": "python",
   "name": "python3"
  },
  "language_info": {
   "codemirror_mode": {
    "name": "ipython",
    "version": 3
   },
   "file_extension": ".py",
   "mimetype": "text/x-python",
   "name": "python",
   "nbconvert_exporter": "python",
   "pygments_lexer": "ipython3",
   "version": "3.7.1"
  }
 },
 "nbformat": 4,
 "nbformat_minor": 2
}

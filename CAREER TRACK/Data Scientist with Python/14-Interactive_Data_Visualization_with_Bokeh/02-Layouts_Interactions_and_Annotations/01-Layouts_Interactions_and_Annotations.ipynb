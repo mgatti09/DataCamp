{
 "cells": [
  {
   "cell_type": "markdown",
   "metadata": {},
   "source": [
    "# Layouts, Interactions, and Annotations\n",
    "\n",
    "Learn how to combine mutiple Bokeh plots into different kinds of layouts on a page, how to easily link\n",
    "different plots together in various ways, and how to add annotations such as legends and hover\n",
    "tooltips."
   ]
  },
  {
   "cell_type": "code",
   "execution_count": 1,
   "metadata": {},
   "outputs": [],
   "source": [
    "from IPython.display import HTML, Image\n",
    "import pandas as pd\n",
    "import numpy as np\n",
    "import datetime\n",
    "\n",
    "# Import figure from bokeh.plotting\n",
    "from bokeh.plotting import figure, ColumnDataSource\n",
    "\n",
    "# Import output_file and show from bokeh.io\n",
    "from bokeh.io import output_file, show, output_notebook\n",
    "\n",
    "# import the HoverTool\n",
    "from bokeh.models import HoverTool, CategoricalColorMapper, CDSView, GroupFilter\n",
    "\n",
    "from bokeh.layouts import row, column, gridplot\n",
    "\n",
    "from bokeh.models.widgets import Tabs, Panel"
   ]
  },
  {
   "cell_type": "code",
   "execution_count": 2,
   "metadata": {},
   "outputs": [
    {
     "data": {
      "text/html": [
       "\n",
       "    <div class=\"bk-root\">\n",
       "        <a href=\"https://bokeh.pydata.org\" target=\"_blank\" class=\"bk-logo bk-logo-small bk-logo-notebook\"></a>\n",
       "        <span id=\"1001\">Loading BokehJS ...</span>\n",
       "    </div>"
      ]
     },
     "metadata": {},
     "output_type": "display_data"
    },
    {
     "data": {
      "application/javascript": [
       "\n",
       "(function(root) {\n",
       "  function now() {\n",
       "    return new Date();\n",
       "  }\n",
       "\n",
       "  var force = true;\n",
       "\n",
       "  if (typeof (root._bokeh_onload_callbacks) === \"undefined\" || force === true) {\n",
       "    root._bokeh_onload_callbacks = [];\n",
       "    root._bokeh_is_loading = undefined;\n",
       "  }\n",
       "\n",
       "  var JS_MIME_TYPE = 'application/javascript';\n",
       "  var HTML_MIME_TYPE = 'text/html';\n",
       "  var EXEC_MIME_TYPE = 'application/vnd.bokehjs_exec.v0+json';\n",
       "  var CLASS_NAME = 'output_bokeh rendered_html';\n",
       "\n",
       "  /**\n",
       "   * Render data to the DOM node\n",
       "   */\n",
       "  function render(props, node) {\n",
       "    var script = document.createElement(\"script\");\n",
       "    node.appendChild(script);\n",
       "  }\n",
       "\n",
       "  /**\n",
       "   * Handle when an output is cleared or removed\n",
       "   */\n",
       "  function handleClearOutput(event, handle) {\n",
       "    var cell = handle.cell;\n",
       "\n",
       "    var id = cell.output_area._bokeh_element_id;\n",
       "    var server_id = cell.output_area._bokeh_server_id;\n",
       "    // Clean up Bokeh references\n",
       "    if (id != null && id in Bokeh.index) {\n",
       "      Bokeh.index[id].model.document.clear();\n",
       "      delete Bokeh.index[id];\n",
       "    }\n",
       "\n",
       "    if (server_id !== undefined) {\n",
       "      // Clean up Bokeh references\n",
       "      var cmd = \"from bokeh.io.state import curstate; print(curstate().uuid_to_server['\" + server_id + \"'].get_sessions()[0].document.roots[0]._id)\";\n",
       "      cell.notebook.kernel.execute(cmd, {\n",
       "        iopub: {\n",
       "          output: function(msg) {\n",
       "            var id = msg.content.text.trim();\n",
       "            if (id in Bokeh.index) {\n",
       "              Bokeh.index[id].model.document.clear();\n",
       "              delete Bokeh.index[id];\n",
       "            }\n",
       "          }\n",
       "        }\n",
       "      });\n",
       "      // Destroy server and session\n",
       "      var cmd = \"import bokeh.io.notebook as ion; ion.destroy_server('\" + server_id + \"')\";\n",
       "      cell.notebook.kernel.execute(cmd);\n",
       "    }\n",
       "  }\n",
       "\n",
       "  /**\n",
       "   * Handle when a new output is added\n",
       "   */\n",
       "  function handleAddOutput(event, handle) {\n",
       "    var output_area = handle.output_area;\n",
       "    var output = handle.output;\n",
       "\n",
       "    // limit handleAddOutput to display_data with EXEC_MIME_TYPE content only\n",
       "    if ((output.output_type != \"display_data\") || (!output.data.hasOwnProperty(EXEC_MIME_TYPE))) {\n",
       "      return\n",
       "    }\n",
       "\n",
       "    var toinsert = output_area.element.find(\".\" + CLASS_NAME.split(' ')[0]);\n",
       "\n",
       "    if (output.metadata[EXEC_MIME_TYPE][\"id\"] !== undefined) {\n",
       "      toinsert[toinsert.length - 1].firstChild.textContent = output.data[JS_MIME_TYPE];\n",
       "      // store reference to embed id on output_area\n",
       "      output_area._bokeh_element_id = output.metadata[EXEC_MIME_TYPE][\"id\"];\n",
       "    }\n",
       "    if (output.metadata[EXEC_MIME_TYPE][\"server_id\"] !== undefined) {\n",
       "      var bk_div = document.createElement(\"div\");\n",
       "      bk_div.innerHTML = output.data[HTML_MIME_TYPE];\n",
       "      var script_attrs = bk_div.children[0].attributes;\n",
       "      for (var i = 0; i < script_attrs.length; i++) {\n",
       "        toinsert[toinsert.length - 1].firstChild.setAttribute(script_attrs[i].name, script_attrs[i].value);\n",
       "      }\n",
       "      // store reference to server id on output_area\n",
       "      output_area._bokeh_server_id = output.metadata[EXEC_MIME_TYPE][\"server_id\"];\n",
       "    }\n",
       "  }\n",
       "\n",
       "  function register_renderer(events, OutputArea) {\n",
       "\n",
       "    function append_mime(data, metadata, element) {\n",
       "      // create a DOM node to render to\n",
       "      var toinsert = this.create_output_subarea(\n",
       "        metadata,\n",
       "        CLASS_NAME,\n",
       "        EXEC_MIME_TYPE\n",
       "      );\n",
       "      this.keyboard_manager.register_events(toinsert);\n",
       "      // Render to node\n",
       "      var props = {data: data, metadata: metadata[EXEC_MIME_TYPE]};\n",
       "      render(props, toinsert[toinsert.length - 1]);\n",
       "      element.append(toinsert);\n",
       "      return toinsert\n",
       "    }\n",
       "\n",
       "    /* Handle when an output is cleared or removed */\n",
       "    events.on('clear_output.CodeCell', handleClearOutput);\n",
       "    events.on('delete.Cell', handleClearOutput);\n",
       "\n",
       "    /* Handle when a new output is added */\n",
       "    events.on('output_added.OutputArea', handleAddOutput);\n",
       "\n",
       "    /**\n",
       "     * Register the mime type and append_mime function with output_area\n",
       "     */\n",
       "    OutputArea.prototype.register_mime_type(EXEC_MIME_TYPE, append_mime, {\n",
       "      /* Is output safe? */\n",
       "      safe: true,\n",
       "      /* Index of renderer in `output_area.display_order` */\n",
       "      index: 0\n",
       "    });\n",
       "  }\n",
       "\n",
       "  // register the mime type if in Jupyter Notebook environment and previously unregistered\n",
       "  if (root.Jupyter !== undefined) {\n",
       "    var events = require('base/js/events');\n",
       "    var OutputArea = require('notebook/js/outputarea').OutputArea;\n",
       "\n",
       "    if (OutputArea.prototype.mime_types().indexOf(EXEC_MIME_TYPE) == -1) {\n",
       "      register_renderer(events, OutputArea);\n",
       "    }\n",
       "  }\n",
       "\n",
       "  \n",
       "  if (typeof (root._bokeh_timeout) === \"undefined\" || force === true) {\n",
       "    root._bokeh_timeout = Date.now() + 5000;\n",
       "    root._bokeh_failed_load = false;\n",
       "  }\n",
       "\n",
       "  var NB_LOAD_WARNING = {'data': {'text/html':\n",
       "     \"<div style='background-color: #fdd'>\\n\"+\n",
       "     \"<p>\\n\"+\n",
       "     \"BokehJS does not appear to have successfully loaded. If loading BokehJS from CDN, this \\n\"+\n",
       "     \"may be due to a slow or bad network connection. Possible fixes:\\n\"+\n",
       "     \"</p>\\n\"+\n",
       "     \"<ul>\\n\"+\n",
       "     \"<li>re-rerun `output_notebook()` to attempt to load from CDN again, or</li>\\n\"+\n",
       "     \"<li>use INLINE resources instead, as so:</li>\\n\"+\n",
       "     \"</ul>\\n\"+\n",
       "     \"<code>\\n\"+\n",
       "     \"from bokeh.resources import INLINE\\n\"+\n",
       "     \"output_notebook(resources=INLINE)\\n\"+\n",
       "     \"</code>\\n\"+\n",
       "     \"</div>\"}};\n",
       "\n",
       "  function display_loaded() {\n",
       "    var el = document.getElementById(\"1001\");\n",
       "    if (el != null) {\n",
       "      el.textContent = \"BokehJS is loading...\";\n",
       "    }\n",
       "    if (root.Bokeh !== undefined) {\n",
       "      if (el != null) {\n",
       "        el.textContent = \"BokehJS \" + root.Bokeh.version + \" successfully loaded.\";\n",
       "      }\n",
       "    } else if (Date.now() < root._bokeh_timeout) {\n",
       "      setTimeout(display_loaded, 100)\n",
       "    }\n",
       "  }\n",
       "\n",
       "\n",
       "  function run_callbacks() {\n",
       "    try {\n",
       "      root._bokeh_onload_callbacks.forEach(function(callback) { callback() });\n",
       "    }\n",
       "    finally {\n",
       "      delete root._bokeh_onload_callbacks\n",
       "    }\n",
       "    console.info(\"Bokeh: all callbacks have finished\");\n",
       "  }\n",
       "\n",
       "  function load_libs(js_urls, callback) {\n",
       "    root._bokeh_onload_callbacks.push(callback);\n",
       "    if (root._bokeh_is_loading > 0) {\n",
       "      console.log(\"Bokeh: BokehJS is being loaded, scheduling callback at\", now());\n",
       "      return null;\n",
       "    }\n",
       "    if (js_urls == null || js_urls.length === 0) {\n",
       "      run_callbacks();\n",
       "      return null;\n",
       "    }\n",
       "    console.log(\"Bokeh: BokehJS not loaded, scheduling load and callback at\", now());\n",
       "    root._bokeh_is_loading = js_urls.length;\n",
       "    for (var i = 0; i < js_urls.length; i++) {\n",
       "      var url = js_urls[i];\n",
       "      var s = document.createElement('script');\n",
       "      s.src = url;\n",
       "      s.async = false;\n",
       "      s.onreadystatechange = s.onload = function() {\n",
       "        root._bokeh_is_loading--;\n",
       "        if (root._bokeh_is_loading === 0) {\n",
       "          console.log(\"Bokeh: all BokehJS libraries loaded\");\n",
       "          run_callbacks()\n",
       "        }\n",
       "      };\n",
       "      s.onerror = function() {\n",
       "        console.warn(\"failed to load library \" + url);\n",
       "      };\n",
       "      console.log(\"Bokeh: injecting script tag for BokehJS library: \", url);\n",
       "      document.getElementsByTagName(\"head\")[0].appendChild(s);\n",
       "    }\n",
       "  };var element = document.getElementById(\"1001\");\n",
       "  if (element == null) {\n",
       "    console.log(\"Bokeh: ERROR: autoload.js configured with elementid '1001' but no matching script tag was found. \")\n",
       "    return false;\n",
       "  }\n",
       "\n",
       "  var js_urls = [\"https://cdn.pydata.org/bokeh/release/bokeh-1.0.2.min.js\", \"https://cdn.pydata.org/bokeh/release/bokeh-widgets-1.0.2.min.js\", \"https://cdn.pydata.org/bokeh/release/bokeh-tables-1.0.2.min.js\", \"https://cdn.pydata.org/bokeh/release/bokeh-gl-1.0.2.min.js\"];\n",
       "\n",
       "  var inline_js = [\n",
       "    function(Bokeh) {\n",
       "      Bokeh.set_log_level(\"info\");\n",
       "    },\n",
       "    \n",
       "    function(Bokeh) {\n",
       "      \n",
       "    },\n",
       "    function(Bokeh) {\n",
       "      console.log(\"Bokeh: injecting CSS: https://cdn.pydata.org/bokeh/release/bokeh-1.0.2.min.css\");\n",
       "      Bokeh.embed.inject_css(\"https://cdn.pydata.org/bokeh/release/bokeh-1.0.2.min.css\");\n",
       "      console.log(\"Bokeh: injecting CSS: https://cdn.pydata.org/bokeh/release/bokeh-widgets-1.0.2.min.css\");\n",
       "      Bokeh.embed.inject_css(\"https://cdn.pydata.org/bokeh/release/bokeh-widgets-1.0.2.min.css\");\n",
       "      console.log(\"Bokeh: injecting CSS: https://cdn.pydata.org/bokeh/release/bokeh-tables-1.0.2.min.css\");\n",
       "      Bokeh.embed.inject_css(\"https://cdn.pydata.org/bokeh/release/bokeh-tables-1.0.2.min.css\");\n",
       "    }\n",
       "  ];\n",
       "\n",
       "  function run_inline_js() {\n",
       "    \n",
       "    if ((root.Bokeh !== undefined) || (force === true)) {\n",
       "      for (var i = 0; i < inline_js.length; i++) {\n",
       "        inline_js[i].call(root, root.Bokeh);\n",
       "      }if (force === true) {\n",
       "        display_loaded();\n",
       "      }} else if (Date.now() < root._bokeh_timeout) {\n",
       "      setTimeout(run_inline_js, 100);\n",
       "    } else if (!root._bokeh_failed_load) {\n",
       "      console.log(\"Bokeh: BokehJS failed to load within specified timeout.\");\n",
       "      root._bokeh_failed_load = true;\n",
       "    } else if (force !== true) {\n",
       "      var cell = $(document.getElementById(\"1001\")).parents('.cell').data().cell;\n",
       "      cell.output_area.append_execute_result(NB_LOAD_WARNING)\n",
       "    }\n",
       "\n",
       "  }\n",
       "\n",
       "  if (root._bokeh_is_loading === 0) {\n",
       "    console.log(\"Bokeh: BokehJS loaded, going straight to plotting\");\n",
       "    run_inline_js();\n",
       "  } else {\n",
       "    load_libs(js_urls, function() {\n",
       "      console.log(\"Bokeh: BokehJS plotting callback run at\", now());\n",
       "      run_inline_js();\n",
       "    });\n",
       "  }\n",
       "}(window));"
      ],
      "application/vnd.bokehjs_load.v0+json": "\n(function(root) {\n  function now() {\n    return new Date();\n  }\n\n  var force = true;\n\n  if (typeof (root._bokeh_onload_callbacks) === \"undefined\" || force === true) {\n    root._bokeh_onload_callbacks = [];\n    root._bokeh_is_loading = undefined;\n  }\n\n  \n\n  \n  if (typeof (root._bokeh_timeout) === \"undefined\" || force === true) {\n    root._bokeh_timeout = Date.now() + 5000;\n    root._bokeh_failed_load = false;\n  }\n\n  var NB_LOAD_WARNING = {'data': {'text/html':\n     \"<div style='background-color: #fdd'>\\n\"+\n     \"<p>\\n\"+\n     \"BokehJS does not appear to have successfully loaded. If loading BokehJS from CDN, this \\n\"+\n     \"may be due to a slow or bad network connection. Possible fixes:\\n\"+\n     \"</p>\\n\"+\n     \"<ul>\\n\"+\n     \"<li>re-rerun `output_notebook()` to attempt to load from CDN again, or</li>\\n\"+\n     \"<li>use INLINE resources instead, as so:</li>\\n\"+\n     \"</ul>\\n\"+\n     \"<code>\\n\"+\n     \"from bokeh.resources import INLINE\\n\"+\n     \"output_notebook(resources=INLINE)\\n\"+\n     \"</code>\\n\"+\n     \"</div>\"}};\n\n  function display_loaded() {\n    var el = document.getElementById(\"1001\");\n    if (el != null) {\n      el.textContent = \"BokehJS is loading...\";\n    }\n    if (root.Bokeh !== undefined) {\n      if (el != null) {\n        el.textContent = \"BokehJS \" + root.Bokeh.version + \" successfully loaded.\";\n      }\n    } else if (Date.now() < root._bokeh_timeout) {\n      setTimeout(display_loaded, 100)\n    }\n  }\n\n\n  function run_callbacks() {\n    try {\n      root._bokeh_onload_callbacks.forEach(function(callback) { callback() });\n    }\n    finally {\n      delete root._bokeh_onload_callbacks\n    }\n    console.info(\"Bokeh: all callbacks have finished\");\n  }\n\n  function load_libs(js_urls, callback) {\n    root._bokeh_onload_callbacks.push(callback);\n    if (root._bokeh_is_loading > 0) {\n      console.log(\"Bokeh: BokehJS is being loaded, scheduling callback at\", now());\n      return null;\n    }\n    if (js_urls == null || js_urls.length === 0) {\n      run_callbacks();\n      return null;\n    }\n    console.log(\"Bokeh: BokehJS not loaded, scheduling load and callback at\", now());\n    root._bokeh_is_loading = js_urls.length;\n    for (var i = 0; i < js_urls.length; i++) {\n      var url = js_urls[i];\n      var s = document.createElement('script');\n      s.src = url;\n      s.async = false;\n      s.onreadystatechange = s.onload = function() {\n        root._bokeh_is_loading--;\n        if (root._bokeh_is_loading === 0) {\n          console.log(\"Bokeh: all BokehJS libraries loaded\");\n          run_callbacks()\n        }\n      };\n      s.onerror = function() {\n        console.warn(\"failed to load library \" + url);\n      };\n      console.log(\"Bokeh: injecting script tag for BokehJS library: \", url);\n      document.getElementsByTagName(\"head\")[0].appendChild(s);\n    }\n  };var element = document.getElementById(\"1001\");\n  if (element == null) {\n    console.log(\"Bokeh: ERROR: autoload.js configured with elementid '1001' but no matching script tag was found. \")\n    return false;\n  }\n\n  var js_urls = [\"https://cdn.pydata.org/bokeh/release/bokeh-1.0.2.min.js\", \"https://cdn.pydata.org/bokeh/release/bokeh-widgets-1.0.2.min.js\", \"https://cdn.pydata.org/bokeh/release/bokeh-tables-1.0.2.min.js\", \"https://cdn.pydata.org/bokeh/release/bokeh-gl-1.0.2.min.js\"];\n\n  var inline_js = [\n    function(Bokeh) {\n      Bokeh.set_log_level(\"info\");\n    },\n    \n    function(Bokeh) {\n      \n    },\n    function(Bokeh) {\n      console.log(\"Bokeh: injecting CSS: https://cdn.pydata.org/bokeh/release/bokeh-1.0.2.min.css\");\n      Bokeh.embed.inject_css(\"https://cdn.pydata.org/bokeh/release/bokeh-1.0.2.min.css\");\n      console.log(\"Bokeh: injecting CSS: https://cdn.pydata.org/bokeh/release/bokeh-widgets-1.0.2.min.css\");\n      Bokeh.embed.inject_css(\"https://cdn.pydata.org/bokeh/release/bokeh-widgets-1.0.2.min.css\");\n      console.log(\"Bokeh: injecting CSS: https://cdn.pydata.org/bokeh/release/bokeh-tables-1.0.2.min.css\");\n      Bokeh.embed.inject_css(\"https://cdn.pydata.org/bokeh/release/bokeh-tables-1.0.2.min.css\");\n    }\n  ];\n\n  function run_inline_js() {\n    \n    if ((root.Bokeh !== undefined) || (force === true)) {\n      for (var i = 0; i < inline_js.length; i++) {\n        inline_js[i].call(root, root.Bokeh);\n      }if (force === true) {\n        display_loaded();\n      }} else if (Date.now() < root._bokeh_timeout) {\n      setTimeout(run_inline_js, 100);\n    } else if (!root._bokeh_failed_load) {\n      console.log(\"Bokeh: BokehJS failed to load within specified timeout.\");\n      root._bokeh_failed_load = true;\n    } else if (force !== true) {\n      var cell = $(document.getElementById(\"1001\")).parents('.cell').data().cell;\n      cell.output_area.append_execute_result(NB_LOAD_WARNING)\n    }\n\n  }\n\n  if (root._bokeh_is_loading === 0) {\n    console.log(\"Bokeh: BokehJS loaded, going straight to plotting\");\n    run_inline_js();\n  } else {\n    load_libs(js_urls, function() {\n      console.log(\"Bokeh: BokehJS plotting callback run at\", now());\n      run_inline_js();\n    });\n  }\n}(window));"
     },
     "metadata": {},
     "output_type": "display_data"
    }
   ],
   "source": [
    "output_notebook()"
   ]
  },
  {
   "cell_type": "markdown",
   "metadata": {},
   "source": [
    "## Introduction to layouts"
   ]
  },
  {
   "cell_type": "code",
   "execution_count": 3,
   "metadata": {},
   "outputs": [
    {
     "data": {
      "text/html": [
       "<video style=\"display:block; margin: 0 auto;\" controls>\n",
       "      <source src=\"_Docs/01-Introduction_to_layouts.mp4\" type=\"video/mp4\">\n",
       "</video>\n"
      ],
      "text/plain": [
       "<IPython.core.display.HTML object>"
      ]
     },
     "metadata": {},
     "output_type": "display_data"
    }
   ],
   "source": [
    "%%HTML\n",
    "<video style=\"display:block; margin: 0 auto;\" controls>\n",
    "      <source src=\"_Docs/01-Introduction_to_layouts.mp4\" type=\"video/mp4\">\n",
    "</video>"
   ]
  },
  {
   "cell_type": "markdown",
   "metadata": {},
   "source": [
    "### Creating rows of plots\n",
    "Layouts are collections of Bokeh figure objects.\n",
    "\n",
    "In this exercise, you're going to create two plots from the Literacy and Birth Rate data set to plot fertility vs female literacy and population vs female literacy.\n",
    "\n",
    "By using the `row()` method, you'll create a single layout of the two figures.\n",
    "\n",
    "Remember, as in the previous chapter, once you have created your figures, you can interact with them in various ways.\n",
    "\n",
    "In this exercise, you may have to scroll sideways to view both figures in the row layout. Alternatively, you can view the figures in a new window by clicking on the expand icon to the right of the \"Bokeh plot\" tab."
   ]
  },
  {
   "cell_type": "code",
   "execution_count": 4,
   "metadata": {},
   "outputs": [
    {
     "data": {
      "text/html": [
       "<div>\n",
       "<style scoped>\n",
       "    .dataframe tbody tr th:only-of-type {\n",
       "        vertical-align: middle;\n",
       "    }\n",
       "\n",
       "    .dataframe tbody tr th {\n",
       "        vertical-align: top;\n",
       "    }\n",
       "\n",
       "    .dataframe thead th {\n",
       "        text-align: right;\n",
       "    }\n",
       "</style>\n",
       "<table border=\"1\" class=\"dataframe\">\n",
       "  <thead>\n",
       "    <tr style=\"text-align: right;\">\n",
       "      <th></th>\n",
       "      <th>Country</th>\n",
       "      <th>Continent</th>\n",
       "      <th>female_literacy</th>\n",
       "      <th>fertility</th>\n",
       "      <th>population</th>\n",
       "    </tr>\n",
       "  </thead>\n",
       "  <tbody>\n",
       "    <tr>\n",
       "      <th>162</th>\n",
       "      <td>Antigua-et-Barbuda</td>\n",
       "      <td>NaN</td>\n",
       "      <td>99.4</td>\n",
       "      <td>2.878673</td>\n",
       "      <td>4.068708e+07</td>\n",
       "    </tr>\n",
       "    <tr>\n",
       "      <th>163</th>\n",
       "      <td>Antilles néerlandaises</td>\n",
       "      <td>NaN</td>\n",
       "      <td>96.3</td>\n",
       "      <td>2.878673</td>\n",
       "      <td>4.068708e+07</td>\n",
       "    </tr>\n",
       "    <tr>\n",
       "      <th>164</th>\n",
       "      <td>Iles Caïmanes</td>\n",
       "      <td>NaN</td>\n",
       "      <td>99.0</td>\n",
       "      <td>2.878673</td>\n",
       "      <td>4.068708e+07</td>\n",
       "    </tr>\n",
       "    <tr>\n",
       "      <th>165</th>\n",
       "      <td>Seychelles</td>\n",
       "      <td>NaN</td>\n",
       "      <td>92.3</td>\n",
       "      <td>2.878673</td>\n",
       "      <td>4.068708e+07</td>\n",
       "    </tr>\n",
       "    <tr>\n",
       "      <th>166</th>\n",
       "      <td>Territoires autonomes palestiniens</td>\n",
       "      <td>NaN</td>\n",
       "      <td>90.9</td>\n",
       "      <td>2.878673</td>\n",
       "      <td>4.068708e+07</td>\n",
       "    </tr>\n",
       "  </tbody>\n",
       "</table>\n",
       "</div>"
      ],
      "text/plain": [
       "                               Country  Continent  female_literacy  fertility  \\\n",
       "162                  Antigua-et-Barbuda       NaN             99.4   2.878673   \n",
       "163              Antilles néerlandaises       NaN             96.3   2.878673   \n",
       "164                       Iles Caïmanes       NaN             99.0   2.878673   \n",
       "165                          Seychelles       NaN             92.3   2.878673   \n",
       "166  Territoires autonomes palestiniens       NaN             90.9   2.878673   \n",
       "\n",
       "       population  \n",
       "162  4.068708e+07  \n",
       "163  4.068708e+07  \n",
       "164  4.068708e+07  \n",
       "165  4.068708e+07  \n",
       "166  4.068708e+07  "
      ]
     },
     "execution_count": 4,
     "metadata": {},
     "output_type": "execute_result"
    }
   ],
   "source": [
    "df = pd.read_csv('../_datasets/literacy_birth_rate.csv')\n",
    "df = df.fillna(df.mean())\n",
    "df.columns = ['Country ', 'Continent', 'female_literacy', 'fertility', 'population']\n",
    "df.tail()"
   ]
  },
  {
   "cell_type": "code",
   "execution_count": 5,
   "metadata": {},
   "outputs": [
    {
     "data": {
      "text/html": [
       "\n",
       "\n",
       "\n",
       "\n",
       "\n",
       "\n",
       "  <div class=\"bk-root\" id=\"a50163da-61be-4ec9-84b4-b7f899ca08af\"></div>\n"
      ]
     },
     "metadata": {},
     "output_type": "display_data"
    },
    {
     "data": {
      "application/javascript": [
       "(function(root) {\n",
       "  function embed_document(root) {\n",
       "    \n",
       "  var docs_json = {\"aaf89632-7f50-4dd1-a8dd-8cf54b790c78\":{\"roots\":{\"references\":[{\"attributes\":{\"children\":[{\"id\":\"1003\",\"subtype\":\"Figure\",\"type\":\"Plot\"},{\"id\":\"1042\",\"subtype\":\"Figure\",\"type\":\"Plot\"}]},\"id\":\"1081\",\"type\":\"Row\"},{\"attributes\":{\"data_source\":{\"id\":\"1002\",\"type\":\"ColumnDataSource\"},\"glyph\":{\"id\":\"1077\",\"type\":\"Circle\"},\"hover_glyph\":null,\"muted_glyph\":null,\"nonselection_glyph\":{\"id\":\"1078\",\"type\":\"Circle\"},\"selection_glyph\":null,\"view\":{\"id\":\"1080\",\"type\":\"CDSView\"}},\"id\":\"1079\",\"type\":\"GlyphRenderer\"},{\"attributes\":{\"fill_color\":{\"value\":\"#1f77b4\"},\"line_color\":{\"value\":\"#1f77b4\"},\"x\":{\"field\":\"fertility\"},\"y\":{\"field\":\"female_literacy\"}},\"id\":\"1038\",\"type\":\"Circle\"},{\"attributes\":{\"dimension\":1,\"plot\":{\"id\":\"1042\",\"subtype\":\"Figure\",\"type\":\"Plot\"},\"ticker\":{\"id\":\"1057\",\"type\":\"BasicTicker\"}},\"id\":\"1060\",\"type\":\"Grid\"},{\"attributes\":{\"axis_label\":\"fertility (children per woman)\",\"formatter\":{\"id\":\"1087\",\"type\":\"BasicTickFormatter\"},\"plot\":{\"id\":\"1003\",\"subtype\":\"Figure\",\"type\":\"Plot\"},\"ticker\":{\"id\":\"1013\",\"type\":\"BasicTicker\"}},\"id\":\"1012\",\"type\":\"LinearAxis\"},{\"attributes\":{},\"id\":\"1057\",\"type\":\"BasicTicker\"},{\"attributes\":{},\"id\":\"1013\",\"type\":\"BasicTicker\"},{\"attributes\":{\"axis_label\":\"female_literacy (% population)\",\"formatter\":{\"id\":\"1089\",\"type\":\"BasicTickFormatter\"},\"plot\":{\"id\":\"1003\",\"subtype\":\"Figure\",\"type\":\"Plot\"},\"ticker\":{\"id\":\"1018\",\"type\":\"BasicTicker\"}},\"id\":\"1017\",\"type\":\"LinearAxis\"},{\"attributes\":{\"active_drag\":\"auto\",\"active_inspect\":\"auto\",\"active_multi\":null,\"active_scroll\":\"auto\",\"active_tap\":\"auto\",\"tools\":[{\"id\":\"1061\",\"type\":\"PanTool\"},{\"id\":\"1062\",\"type\":\"WheelZoomTool\"},{\"id\":\"1063\",\"type\":\"BoxZoomTool\"},{\"id\":\"1064\",\"type\":\"SaveTool\"},{\"id\":\"1065\",\"type\":\"ResetTool\"},{\"id\":\"1066\",\"type\":\"HelpTool\"}]},\"id\":\"1067\",\"type\":\"Toolbar\"},{\"attributes\":{\"plot\":{\"id\":\"1003\",\"subtype\":\"Figure\",\"type\":\"Plot\"},\"ticker\":{\"id\":\"1013\",\"type\":\"BasicTicker\"}},\"id\":\"1016\",\"type\":\"Grid\"},{\"attributes\":{},\"id\":\"1061\",\"type\":\"PanTool\"},{\"attributes\":{},\"id\":\"1008\",\"type\":\"LinearScale\"},{\"attributes\":{\"below\":[{\"id\":\"1051\",\"type\":\"LinearAxis\"}],\"left\":[{\"id\":\"1056\",\"type\":\"LinearAxis\"}],\"renderers\":[{\"id\":\"1051\",\"type\":\"LinearAxis\"},{\"id\":\"1055\",\"type\":\"Grid\"},{\"id\":\"1056\",\"type\":\"LinearAxis\"},{\"id\":\"1060\",\"type\":\"Grid\"},{\"id\":\"1069\",\"type\":\"BoxAnnotation\"},{\"id\":\"1079\",\"type\":\"GlyphRenderer\"}],\"title\":{\"id\":\"1084\",\"type\":\"Title\"},\"toolbar\":{\"id\":\"1067\",\"type\":\"Toolbar\"},\"x_range\":{\"id\":\"1043\",\"type\":\"DataRange1d\"},\"x_scale\":{\"id\":\"1047\",\"type\":\"LinearScale\"},\"y_range\":{\"id\":\"1045\",\"type\":\"DataRange1d\"},\"y_scale\":{\"id\":\"1049\",\"type\":\"LinearScale\"}},\"id\":\"1042\",\"subtype\":\"Figure\",\"type\":\"Plot\"},{\"attributes\":{},\"id\":\"1062\",\"type\":\"WheelZoomTool\"},{\"attributes\":{\"data_source\":{\"id\":\"1002\",\"type\":\"ColumnDataSource\"},\"glyph\":{\"id\":\"1038\",\"type\":\"Circle\"},\"hover_glyph\":null,\"muted_glyph\":null,\"nonselection_glyph\":{\"id\":\"1039\",\"type\":\"Circle\"},\"selection_glyph\":null,\"view\":{\"id\":\"1041\",\"type\":\"CDSView\"}},\"id\":\"1040\",\"type\":\"GlyphRenderer\"},{\"attributes\":{\"dimension\":1,\"plot\":{\"id\":\"1003\",\"subtype\":\"Figure\",\"type\":\"Plot\"},\"ticker\":{\"id\":\"1018\",\"type\":\"BasicTicker\"}},\"id\":\"1021\",\"type\":\"Grid\"},{\"attributes\":{\"overlay\":{\"id\":\"1069\",\"type\":\"BoxAnnotation\"}},\"id\":\"1063\",\"type\":\"BoxZoomTool\"},{\"attributes\":{},\"id\":\"1018\",\"type\":\"BasicTicker\"},{\"attributes\":{},\"id\":\"1064\",\"type\":\"SaveTool\"},{\"attributes\":{},\"id\":\"1091\",\"type\":\"BasicTickFormatter\"},{\"attributes\":{\"active_drag\":\"auto\",\"active_inspect\":\"auto\",\"active_multi\":null,\"active_scroll\":\"auto\",\"active_tap\":\"auto\",\"tools\":[{\"id\":\"1022\",\"type\":\"PanTool\"},{\"id\":\"1023\",\"type\":\"WheelZoomTool\"},{\"id\":\"1024\",\"type\":\"BoxZoomTool\"},{\"id\":\"1025\",\"type\":\"SaveTool\"},{\"id\":\"1026\",\"type\":\"ResetTool\"},{\"id\":\"1027\",\"type\":\"HelpTool\"}]},\"id\":\"1028\",\"type\":\"Toolbar\"},{\"attributes\":{},\"id\":\"1065\",\"type\":\"ResetTool\"},{\"attributes\":{},\"id\":\"1010\",\"type\":\"LinearScale\"},{\"attributes\":{},\"id\":\"1022\",\"type\":\"PanTool\"},{\"attributes\":{},\"id\":\"1066\",\"type\":\"HelpTool\"},{\"attributes\":{\"callback\":null},\"id\":\"1004\",\"type\":\"DataRange1d\"},{\"attributes\":{},\"id\":\"1023\",\"type\":\"WheelZoomTool\"},{\"attributes\":{\"fill_alpha\":{\"value\":0.1},\"fill_color\":{\"value\":\"#1f77b4\"},\"line_alpha\":{\"value\":0.1},\"line_color\":{\"value\":\"#1f77b4\"},\"x\":{\"field\":\"population\"},\"y\":{\"field\":\"female_literacy\"}},\"id\":\"1078\",\"type\":\"Circle\"},{\"attributes\":{\"overlay\":{\"id\":\"1030\",\"type\":\"BoxAnnotation\"}},\"id\":\"1024\",\"type\":\"BoxZoomTool\"},{\"attributes\":{},\"id\":\"1025\",\"type\":\"SaveTool\"},{\"attributes\":{},\"id\":\"1096\",\"type\":\"Selection\"},{\"attributes\":{},\"id\":\"1026\",\"type\":\"ResetTool\"},{\"attributes\":{\"source\":{\"id\":\"1002\",\"type\":\"ColumnDataSource\"}},\"id\":\"1080\",\"type\":\"CDSView\"},{\"attributes\":{},\"id\":\"1027\",\"type\":\"HelpTool\"},{\"attributes\":{\"fill_alpha\":{\"value\":0.1},\"fill_color\":{\"value\":\"#1f77b4\"},\"line_alpha\":{\"value\":0.1},\"line_color\":{\"value\":\"#1f77b4\"},\"x\":{\"field\":\"fertility\"},\"y\":{\"field\":\"female_literacy\"}},\"id\":\"1039\",\"type\":\"Circle\"},{\"attributes\":{\"callback\":null},\"id\":\"1045\",\"type\":\"DataRange1d\"},{\"attributes\":{\"plot\":null,\"text\":\"\"},\"id\":\"1082\",\"type\":\"Title\"},{\"attributes\":{\"source\":{\"id\":\"1002\",\"type\":\"ColumnDataSource\"}},\"id\":\"1041\",\"type\":\"CDSView\"},{\"attributes\":{\"plot\":null,\"text\":\"\"},\"id\":\"1084\",\"type\":\"Title\"},{\"attributes\":{},\"id\":\"1087\",\"type\":\"BasicTickFormatter\"},{\"attributes\":{\"callback\":null},\"id\":\"1043\",\"type\":\"DataRange1d\"},{\"attributes\":{\"fill_color\":{\"value\":\"#1f77b4\"},\"line_color\":{\"value\":\"#1f77b4\"},\"x\":{\"field\":\"population\"},\"y\":{\"field\":\"female_literacy\"}},\"id\":\"1077\",\"type\":\"Circle\"},{\"attributes\":{\"callback\":null,\"data\":{\"Continent\":[\"ASI\",\"ASI\",\"NAM\",\"ASI\",\"LAT\",\"ASI\",\"ASI\",\"AF\",\"EUR\",\"ASI\",\"LAT\",\"ASI\",\"ASI\",\"EUR\",\"AF\",\"AF\",\"ASI\",\"ASI\",\"ASI\",\"AF\",\"EUR\",\"EUR\",\"EUR\",\"ASI\",\"AF\",\"ASI\",\"EUR\",\"EUR\",\"LAT\",\"AF\",\"AF\",\"LAT\",\"AF\",\"EUR\",\"AF\",\"NAM\",\"AF\",\"AF\",\"ASI\",\"ASI\",\"LAT\",\"ASI\",\"LAT\",\"ASI\",\"ASI\",\"ASI\",\"ASI\",\"AF\",\"ASI\",\"AF\",\"EUR\",\"AF\",\"ASI\",\"ASI\",\"AF\",\"AF\",\"AF\",\"LAT\",\"EUR\",\"ASI\",\"AF\",\"AF\",\"AF\",\"ASI\",\"LAT\",\"LAT\",\"AF\",\"AF\",\"AF\",\"AF\",\"EUR\",\"LAT\",\"AF\",\"EUR\",\"EUR\",\"EUR\",\"AF\",\"EUR\",\"LAT\",\"AF\",\"AF\",\"LAT\",\"EUR\",\"EUR\",\"ASI\",\"AF\",\"AF\",\"EUR\",\"EUR\",\"EUR\",\"LAT\",\"ASI\",\"ASI\",\"OCE\",\"AF\",\"AF\",\"LAT\",\"ASI\",\"LAT\",\"ASI\",\"LAT\",\"AF\",\"EUR\",\"EUR\",\"ASI\",\"ASI\",\"AF\",\"ASI\",\"EUR\",\"LAT\",\"ASI\",\"EUR\",\"EUR\",\"AF\",\"ASI\",\"OCE\",\"ASI\",\"AF\",\"EUR\",\"EUR\",\"LAT\",\"EUR\",\"LAT\",\"AF\",\"EUR\",\"ASI\",\"ASI\",\"ASI\",\"LAT\",\"ASI\",\"EUR\",\"AF\",\"AF\",\"EUR\",\"EUR\",\"AF\",\"AF\",\"AF\",\"AF\",\"EUR\",\"LAT\",\"ASI\",\"AF\",\"AF\",\"EUR\",\"ASI\",\"ASI\",\"AF\",\"AF\",\"ASI\",\"LAT\",\"AF\",\"EUR\",\"ASI\",\"LAT\",\"EUR\",\"ASI\",\"OCE\",\"OCE\",\"AF\",\"LAT\",\"ASI\",\"NaN\",\"NaN\",\"NaN\",\"NaN\",\"NaN\"],\"Country \":[\"Chine\",\"Inde\",\"USA\",\"Indon\\u00e9sie\",\"Br\\u00e9sil\",\"Pakistan\",\"Bangladesh\",\"Nig\\u00e9ria\",\"F\\u00e9d\\u00e9ration de Russie\",\"Japan\",\"Mexique\",\"Philippines\",\"Viet Nam\",\"Germany\",\"Egypte\",\"Ethiopie\",\"Turquie\",\"Iran, R\\u00e9publique islamique d'\",\"Tha\\u00eflande\",\"R\\u00e9p. D\\u00e9mocratique du Congo\",\"France\",\"UK\",\"Italie\",\"Myanmar\",\"Afrique du Sud\",\"South Korea\",\"Ukraine\",\"Espagne\",\"Colombie\",\"R\\u00e9publique-Unie de Tanzanie\",\"Soudan\",\"Argentine\",\"Kenya\",\"Pologne\",\"Alg\\u00e9rie\",\"Canada\",\"Ouganda\",\"Maroc\",\"Iraq\",\"Afghanistan\",\"P\\u00e9rou\",\"N\\u00e9pal\",\"Venezuela\",\"Ouzb\\u00e9kistan\",\"Malaisie\",\"Arabie saoudite\",\"R\\u00e9p. populaire d\\u00e9mocratique de Cor\\u00e9e\",\"Ghana\",\"Y\\u00e9men\",\"Mozambique\",\"Roumanie\",\"C\\u00f4te d'Ivoire\",\"R\\u00e9publique arabe syrienne\",\"Sri Lanka\",\"Madagascar\",\"Cameroun\",\"Angola\",\"Chili\",\"Netherlands\",\"Kazakhstan\",\"Burkina Faso\",\"Malawi\",\"Niger\",\"Cambodge\",\"Guatemala\",\"Equateur\",\"Mali\",\"Zambie\",\"Zimbabwe\",\"S\\u00e9n\\u00e9gal\",\"Gr\\u00e8ce\",\"Cuba\",\"Tchad\",\"Belgium\",\"Portugal\",\"Czech rep\",\"Tunisie\",\"Hongrie\",\"R\\u00e9publique dominicaine\",\"Guin\\u00e9e\",\"Rwanda\",\"Bolivie\",\"B\\u00e9larus\",\"Sweden\",\"Azerba\\u00efdjan\",\"B\\u00e9nin\",\"Burundi\",\"Switzerland\",\"Bulgarie\",\"Serbie\",\"Honduras\",\"Israel\",\"Tadjikistan\",\"Papouasie-Nouvelle-Guin\\u00e9e\",\"Togo\",\"Jamahiriya arabe libyenne\",\"Paraguay\",\"R\\u00e9p. d\\u00e9mocratique populaire lao\",\"El Salvador\",\"Jordanie\",\"Nicaragua\",\"Sierra Leone\",\"Denmark\",\"Finland\",\"Kirghizistan\",\"Turkm\\u00e9nistan\",\"Erythr\\u00e9e\",\"Singapour\",\"Norway\",\"Costa Rica\",\"Emirats arabes unis\",\"Croatie\",\"Ireland\",\"R\\u00e9publique centrafricaine\",\"G\\u00e9orgie\",\"New Zealand\",\"Liban\",\"Lib\\u00e9ria\",\"Bosnie-Herz\\u00e9govine\",\"R\\u00e9publique de Moldova\",\"Panama\",\"Lituanie\",\"Uruguay\",\"Mauritanie\",\"Albanie\",\"Arm\\u00e9nie\",\"Oman\",\"Kowe\\u00eft\",\"Jama\\u00efque\",\"Mongolie\",\"Lettonie\",\"Namibie\",\"Lesotho\",\"L'ex-R\\u00e9p. yougoslave de Mac\\u00e9doine\",\"Slov\\u00e9nie\",\"Botswana\",\"Gambie\",\"Guin\\u00e9e-Bissau\",\"Gabon\",\"Estonie\",\"Trinit\\u00e9-et-Tobago\",\"Qatar\",\"Maurice\",\"Swaziland\",\"Chypre\",\"Bahre\\u00efn\",\"Bhoutan\",\"Guin\\u00e9e \\u00e9quatoriale\",\"Comores\",\"Macao, Chine\",\"Suriname\",\"Cap-Vert\",\"Malte\",\"Brun\\u00e9i Darussalam\",\"Bahamas\",\"Iceland\",\"Maldives\",\"Vanuatu\",\"Samoa\",\"Sao Tom\\u00e9-et-Principe\",\"Aruba\",\"Tonga\",\"Antigua-et-Barbuda\",\"Antilles n\\u00e9erlandaises\",\"Iles Ca\\u00efmanes\",\"Seychelles\",\"Territoires autonomes palestiniens\"],\"female_literacy\":{\"__ndarray__\":\"AAAAAACgVkBmZmZmZmZJQAAAAAAAwFhAMzMzMzMzVkDNzMzMzIxWQAAAAAAAAERAZmZmZmbmSEBmZmZmZmZIQJqZmZmZ2VhAAAAAAADAWEAAAAAAAOBWQJqZmZmZeVdAzczMzMyMVkAAAAAAAMBYQGZmZmZm5kxAzczMzMzMNkAzMzMzM1NUQM3MzMzMTFNAAAAAAADgVkDNzMzMzAxMQAAAAAAAwFhAAAAAAADAWEAAAAAAAKBYQM3MzMzMTFZAZmZmZmYGVkBmZmZmZiZYQGZmZmZm5lhAmpmZmZk5WECamZmZmVlXQDMzMzMzk1BAzczMzMzMTUDNzMzMzGxYQDMzMzMzs1RAMzMzMzPTWEAzMzMzM/NPQAAAAAAAwFhAMzMzMzOzUEDNzMzMzAxGQM3MzMzMTFFAMzMzMzMzKUBmZmZmZiZVQDMzMzMzs0ZAmpmZmZm5V0CamZmZmblYQDMzMzMzc1ZAzczMzMwMVEAAAAAAAABZQGZmZmZmpk1AZmZmZmZmRUDNzMzMzAxEQJqZmZmZOVhAZmZmZmYmRkDNzMzMzExTQGZmZmZmRlZAMzMzMzNTUEAzMzMzM/NQQAAAAAAAgExAzczMzMysWEAAAAAAAMBYQAAAAAAA4FhAmpmZmZmZNUAzMzMzM3NQQDMzMzMzMy5AmpmZmZm5UUDNzMzMzCxRQM3MzMzMbFRAMzMzMzMzMkAAAAAAAIBOQDMzMzMzM1ZAAAAAAACAQECamZmZmflXQDMzMzMz81hAZmZmZmbmNUAAAAAAAMBYQJqZmZmZOVdAAAAAAADAWEAAAAAAAMBRQJqZmZmZuVhAMzMzMzMTVkBmZmZmZmY6QGZmZmZmhlBAAAAAAACAVUDNzMzMzOxYQAAAAAAAwFhAzczMzMzMWECamZmZmRk8QDMzMzMz801AAAAAAADAWECamZmZmXlYQM3MzMzMDFhAAAAAAADgVECamZmZmflXQAAAAAAA4FhAzczMzMzMS0CamZmZmdlKQDMzMzMzU1RAAAAAAABgV0CamZmZmZlPQJqZmZmZWVRAmpmZmZk5VkCamZmZmXlTQGZmZmZm5jxAAAAAAADAWEAAAAAAAABZQGZmZmZmxlhAMzMzMzPTWEAAAAAAAEBLQGZmZmZm5lZAAAAAAAAAWUDNzMzMzAxYQAAAAAAA4FZAAAAAAACAWEAAAAAAAMBYQM3MzMzMjERAzczMzMzsWEAAAAAAAMBYQAAAAAAAgFVAAAAAAACASkCamZmZmflXQDMzMzMzc1hAMzMzMzMzV0DNzMzMzOxYQAAAAAAAoFhAAAAAAADASEDNzMzMzKxYQJqZmZmZ2VhAmpmZmZk5VEBmZmZmZkZXQDMzMzMzs1ZAMzMzMzNzWEAzMzMzM/NYQM3MzMzM7FVAZmZmZmbGV0CamZmZmdlXQM3MzMzM7FhAAAAAAADgVEBmZmZmZiZBQAAAAAAAQEJAzczMzMzMVEAzMzMzM/NYQM3MzMzMjFhAmpmZmZmZVkAzMzMzMzNVQGZmZmZmZlVAzczMzMwsWECamZmZmVlWQJqZmZmZWUNAZmZmZmZGVkAzMzMzM/NQQM3MzMzMrFZAmpmZmZkZVkAzMzMzM9NTQAAAAAAAYFdAMzMzMzNTV0AAAAAAACBYQAAAAAAAwFhAmpmZmZmZWEAAAAAAAOBTQAAAAAAAoFhAMzMzMzPTVEAAAAAAAIBYQGZmZmZmxlhAmpmZmZnZWEAzMzMzMxNYQAAAAAAAwFhAMzMzMzMTV0CamZmZmblWQA==\",\"dtype\":\"float64\",\"shape\":[167]},\"fertility\":{\"__ndarray__\":\"6Pup8dJN/D/b+X5qvHQFQARWDi2ynQBAdJMYBFYOAUAIrBxaZDv9P2Dl0CLb+Q5A6Pup8dJNAkD91HjpJrEUQH0/NV66SfY//tR46SYx9D9zaJHtfD8BQGmR7Xw/NQhA3SQGgZVDAEDJdr6fGi/1P7tJDAIrhwZA8tJNYhDYFEDNzMzMzMwAQOXQItv5fvw/8/3UeOkm/T9uEoPAyqEXQH9qvHSTGP4/bhKDwMqh/T89CtejcD32P3Noke18PwJACtejcD0KBEAv3SQGgZXzPy2yne+nxvU/sXJoke189z8IrBxaZDsDQBSuR+F6FBZACKwcWmQ7EEBjEFg5tMgBQFYOLbKdbxNAE4PAyqFF9D8j2/l+arwCQN0kBoGVQ/k/arx0kxgEGUB56SYxCKwCQOSlm8QgsA9AhetRuB4FGkA9CtejcD0EQC/dJAaBlQZAlkOLbOf7A0CWQ4ts5/sBQKrx0k1iEARAUrgehetRCEBEi2zn+6n9P+F6FK5H4RBAZmZmZmZmFECR7Xw/Nd4TQDMzMzMzM/U/dJMYBFYOEkD8qfHSTWIJQBFYObTIdgJAexSuR+F6EkBEi2zn+ykSQEA1XrpJjBZAN4lBYOXQ/j/AyqFFtvP7PycxCKwcWgJAd76fGi9dF0BSuB6F69EVQC2yne+nRhxArBxaZDvfBkDfT42XbhIQQLTIdr6fGgRAH4XrUbieFUCmm8QgsPIWQIGVQ4ts5wpAj8L1KFyPE0ApXI/C9Sj2PxSuR+F6FPg/bef7qfFSGEAlBoGVQ4v8P0A1XrpJDPY/MzMzMzMz9z/b+X5qvHT9P+xRuB6F6/U/TDeJQWDlBEA3iUFg5VAVQFK4HoXrURVALIcW2c73CkDl0CLb+X70P1YOLbKd7/0/001iEFg5AUBPjZduEoMVQM3MzMzMzBFAXI/C9Shc9z9g5dAi2/n2P5duEoPAyvk/hetRuB6FCUBqvHSTGAQGQM3MzMzMzApACtejcD0KEEBEi2zn+6kQQIlBYOXQIgVAN4lBYOXQB0BSuB6F61ELQFyPwvUoXAJA8/3UeOkmCEARWDm0yHYFQClcj8L1qBRAL90kBoGV/T/GSzeJQWD9P7+fGi/dJARAcT0K16NwA0DqJjEIrBwSQGiR7Xw/NfQ/KVyPwvUo/j9KDAIrhxb/P/yp8dJNYv4/30+Nl24S9z9zaJHtfD//P30/NV66yRJAHFpkO99P+T8zMzMzMzMAQNv5fmq8dP0/JQaBlUMLFEAxCKwcWmTzP9R46SYxCPg/VOOlm8QgBECsHFpkO9/1P4PAyqFFtgBAWmQ730+NEUBEi2zn+6n9PyyHFtnO9/s/bef7qfHSB0Cd76fGSzcBQEw3iUFg5QJAAyuHFtnO/z83iUFg5dD2P1K4HoXrUQpA6SYxCKwcCkBg5dAi2/n2P30/NV66SfY/+n5qvHSTBkDGSzeJQeATQIlBYOXQohZA7FG4HoXrCUBKDAIrhxb7PyYxCKwcWvo/4XoUrkfhAkB46SYxCKz8P5qZmZmZmQtAqMZLN4lB+D93vp8aL90BQBsv3SQGgQRAbhKDwMohFUAUrkfhehQPQLbz/dR46e4/lkOLbOf7AkDo+6nx0k0FQGq8dJMYBPQ/0SLb+X5qAEAshxbZzvcKQFg5tMh2vgBAAAAAAAAAAECq8dJNYhAPQDeJQWDl0A5AWDm0yHa+DUCDwMqhRbb7PwaBlUOLbA9A738soIUHB0DvfyyghQcHQO9/LKCFBwdA738soIUHB0DvfyyghQcHQA==\",\"dtype\":\"float64\",\"shape\":[167]},\"index\":[0,1,2,3,4,5,6,7,8,9,10,11,12,13,14,15,16,17,18,19,20,21,22,23,24,25,26,27,28,29,30,31,32,33,34,35,36,37,38,39,40,41,42,43,44,45,46,47,48,49,50,51,52,53,54,55,56,57,58,59,60,61,62,63,64,65,66,67,68,69,70,71,72,73,74,75,76,77,78,79,80,81,82,83,84,85,86,87,88,89,90,91,92,93,94,95,96,97,98,99,100,101,102,103,104,105,106,107,108,109,110,111,112,113,114,115,116,117,118,119,120,121,122,123,124,125,126,127,128,129,130,131,132,133,134,135,136,137,138,139,140,141,142,143,144,145,146,147,148,149,150,151,152,153,154,155,156,157,158,159,160,161,162,163,164,165,166],\"population\":{\"__ndarray__\":\"AAAAZii900GQFOkAn/zQQQAAAGCWH7JBAAAAdAUaq0EAAABkgeKmQe+OPP5RzaNBAAAAANESo0EAAAC8oQaiQQAAAGD466BBAAAAAG9ynkH67buGHVuZQQAAAFRuipVBAAAAdOONlEEAAABEmpOTQQAAABAGcJNBAAAAaFs+k0EAAABQXp+RQToXwIbdJ5FBAAAAPPAQkEEAAADY06OOQQAAAMA5so1BAAAAcNVIjUEAAACYu4eMQQAAAFgsoodBAAAAwDw3h0EAAADAeC2HQQAAAMDADoZBAAAAIAC5hUEAAAAApHaFQQAAAJgGQoRBAAAAWFS3g0EAAAAghwSDQQAAAAAYfIJBAAAA+AUugkEAAACQ+WOAQQAAAICqxH9BAAAAELowfkEAAAAANyR+QRITrwTXSX1BsGr1rzqte0EAAADANYB7QQAAAGCTeXtBAAAAgBGkekEAAABAYgx6QQAAABBMw3lB9wa/XgOBd0EAAAAQILd2QQAAAPDoRHZBAAAA0BbbdUEAAABQfFh1QQAAAGBZhHRBAAAAYCyjc0EolOqduqBzQSDBaMXyOHNBAAAA0ME5ckEAAAAQQDRyQQAAAMCTL3FBAAAAAIcGcEEAAAAgE15vQQAAACC65W1BAAAAgGsObUEAAADAHFFsQQAAAMDXC2xBAAAAAFvGa0EAAAAArhpqQQAAAAC6tmlBAAAAAPk7aEEAAABgNxJoQQAAAOBjxWdBAAAAoH1KZ0EAAADA3G5lQQAAAOAPX2VBAAAAYPDQZEEAAAAgumxkQQAAAKC5QmRBAAAAAALiY0EAAAAA37JjQQAAAIB1JWNBAAAA4Lj7YkEAAADgS8FiQQAAAMBuimJBAAAAIHR9YkEAAABA+nZiQQAAAKDGlWFBAAAAgFSOYEEAAADAiIVgQQAAAIADzV5BAAAAwG4sXUEAAADAuBRdQQAAAEDzCVxBAAAAQEHrW0EAAAAAgOFbQQAAAMDcE1pBAAAAgK0WWUEAAABAO6NYQQAAAECpAlhBAAAAwKfLV0EAAABA56tXQQAAAIAlZldBXanGt56HVkEAAABAf55VQQAAAECLNVVBAAAAQN30VEEAAADA3URUQQAAAAAzIlRBAAAAgGg9U0EAAABAZ8tSQQAAAAD6dVJBAAAAAHUwUkEAAACANT1RQQAAAMDRG1FBAAAAABTqUEEAAADA8uFQQQAAAMCPjVBBAAAAwBBuUEEAAAAA2UhQQQAAAADv/k9BAAAAAPzwTEEAAAAAVslMQQAAAIBsuEtBAAAAgFPuSUEAAACA0Z5JQQAAAADSb0lBAAAAgGGHSEEAAACAPftHQQAAAIDveUdBAAAAgChARUGBGHRrNNBEQQAAAABwgERBAAAAAKAmREEAAAAA90lBQQAAAADfP0BBAAAAAJVFP0EAAAAA/iU/QQAAAADE1z5BAAAAAGJQPUEAAAAAKFU5QQAAAAAWCjhBAAAAAN8YNkEAAAAAA3U0QQAAAACMWDRBAAAAAF6LM0EAAAAAdlwzQQAAAADa0TFBAAAAAMRRKkEAAAAAQqsnQQAAAACK9SRBAAAAAPodJEGoYCyg5qMjQQAAAADEDiBBAAAAANBwH0EAAAAAwG8eQQAAAAC4JBlBAAAAAGDxF0EAAAAAEJwUQQAAAACYXxNBAAAAAAyeEkEAAAAAUIwMQQAAAACo1QVBAAAAAHCNA0EAAAAA8L75QAAAAADgSPlAOzR8P69mg0E7NHw/r2aDQTs0fD+vZoNBOzR8P69mg0E7NHw/r2aDQQ==\",\"dtype\":\"float64\",\"shape\":[167]}},\"selected\":{\"id\":\"1096\",\"type\":\"Selection\"},\"selection_policy\":{\"id\":\"1095\",\"type\":\"UnionRenderers\"}},\"id\":\"1002\",\"type\":\"ColumnDataSource\"},{\"attributes\":{},\"id\":\"1093\",\"type\":\"BasicTickFormatter\"},{\"attributes\":{},\"id\":\"1089\",\"type\":\"BasicTickFormatter\"},{\"attributes\":{},\"id\":\"1047\",\"type\":\"LinearScale\"},{\"attributes\":{\"bottom_units\":\"screen\",\"fill_alpha\":{\"value\":0.5},\"fill_color\":{\"value\":\"lightgrey\"},\"left_units\":\"screen\",\"level\":\"overlay\",\"line_alpha\":{\"value\":1.0},\"line_color\":{\"value\":\"black\"},\"line_dash\":[4,4],\"line_width\":{\"value\":2},\"plot\":null,\"render_mode\":\"css\",\"right_units\":\"screen\",\"top_units\":\"screen\"},\"id\":\"1069\",\"type\":\"BoxAnnotation\"},{\"attributes\":{},\"id\":\"1095\",\"type\":\"UnionRenderers\"},{\"attributes\":{\"below\":[{\"id\":\"1012\",\"type\":\"LinearAxis\"}],\"left\":[{\"id\":\"1017\",\"type\":\"LinearAxis\"}],\"renderers\":[{\"id\":\"1012\",\"type\":\"LinearAxis\"},{\"id\":\"1016\",\"type\":\"Grid\"},{\"id\":\"1017\",\"type\":\"LinearAxis\"},{\"id\":\"1021\",\"type\":\"Grid\"},{\"id\":\"1030\",\"type\":\"BoxAnnotation\"},{\"id\":\"1040\",\"type\":\"GlyphRenderer\"}],\"title\":{\"id\":\"1082\",\"type\":\"Title\"},\"toolbar\":{\"id\":\"1028\",\"type\":\"Toolbar\"},\"x_range\":{\"id\":\"1004\",\"type\":\"DataRange1d\"},\"x_scale\":{\"id\":\"1008\",\"type\":\"LinearScale\"},\"y_range\":{\"id\":\"1006\",\"type\":\"DataRange1d\"},\"y_scale\":{\"id\":\"1010\",\"type\":\"LinearScale\"}},\"id\":\"1003\",\"subtype\":\"Figure\",\"type\":\"Plot\"},{\"attributes\":{\"callback\":null},\"id\":\"1006\",\"type\":\"DataRange1d\"},{\"attributes\":{},\"id\":\"1049\",\"type\":\"LinearScale\"},{\"attributes\":{\"axis_label\":\"population\",\"formatter\":{\"id\":\"1091\",\"type\":\"BasicTickFormatter\"},\"plot\":{\"id\":\"1042\",\"subtype\":\"Figure\",\"type\":\"Plot\"},\"ticker\":{\"id\":\"1052\",\"type\":\"BasicTicker\"}},\"id\":\"1051\",\"type\":\"LinearAxis\"},{\"attributes\":{},\"id\":\"1052\",\"type\":\"BasicTicker\"},{\"attributes\":{\"plot\":{\"id\":\"1042\",\"subtype\":\"Figure\",\"type\":\"Plot\"},\"ticker\":{\"id\":\"1052\",\"type\":\"BasicTicker\"}},\"id\":\"1055\",\"type\":\"Grid\"},{\"attributes\":{\"axis_label\":\"female_literacy (% population)\",\"formatter\":{\"id\":\"1093\",\"type\":\"BasicTickFormatter\"},\"plot\":{\"id\":\"1042\",\"subtype\":\"Figure\",\"type\":\"Plot\"},\"ticker\":{\"id\":\"1057\",\"type\":\"BasicTicker\"}},\"id\":\"1056\",\"type\":\"LinearAxis\"},{\"attributes\":{\"bottom_units\":\"screen\",\"fill_alpha\":{\"value\":0.5},\"fill_color\":{\"value\":\"lightgrey\"},\"left_units\":\"screen\",\"level\":\"overlay\",\"line_alpha\":{\"value\":1.0},\"line_color\":{\"value\":\"black\"},\"line_dash\":[4,4],\"line_width\":{\"value\":2},\"plot\":null,\"render_mode\":\"css\",\"right_units\":\"screen\",\"top_units\":\"screen\"},\"id\":\"1030\",\"type\":\"BoxAnnotation\"}],\"root_ids\":[\"1081\"]},\"title\":\"Bokeh Application\",\"version\":\"1.0.2\"}};\n",
       "  var render_items = [{\"docid\":\"aaf89632-7f50-4dd1-a8dd-8cf54b790c78\",\"roots\":{\"1081\":\"a50163da-61be-4ec9-84b4-b7f899ca08af\"}}];\n",
       "  root.Bokeh.embed.embed_items_notebook(docs_json, render_items);\n",
       "\n",
       "  }\n",
       "  if (root.Bokeh !== undefined) {\n",
       "    embed_document(root);\n",
       "  } else {\n",
       "    var attempts = 0;\n",
       "    var timer = setInterval(function(root) {\n",
       "      if (root.Bokeh !== undefined) {\n",
       "        embed_document(root);\n",
       "        clearInterval(timer);\n",
       "      }\n",
       "      attempts++;\n",
       "      if (attempts > 100) {\n",
       "        console.log(\"Bokeh: ERROR: Unable to run BokehJS code because BokehJS library is missing\");\n",
       "        clearInterval(timer);\n",
       "      }\n",
       "    }, 10, root)\n",
       "  }\n",
       "})(window);"
      ],
      "application/vnd.bokehjs_exec.v0+json": ""
     },
     "metadata": {
      "application/vnd.bokehjs_exec.v0+json": {
       "id": "1081"
      }
     },
     "output_type": "display_data"
    }
   ],
   "source": [
    "source = ColumnDataSource(df)\n",
    "\n",
    "# Create the first figure: p1\n",
    "p1 = figure(x_axis_label='fertility (children per woman)', y_axis_label='female_literacy (% population)')\n",
    "\n",
    "# Add a circle glyph to p1\n",
    "p1.circle('fertility', 'female_literacy', source=source)\n",
    "\n",
    "# Create the second figure: p2\n",
    "p2 = figure(x_axis_label='population', y_axis_label='female_literacy (% population)')\n",
    "\n",
    "# Add a circle glyph to p2\n",
    "p2.circle('population','female_literacy',source=source)\n",
    "\n",
    "# Put p1 and p2 into a horizontal row: layout\n",
    "layout = row(p1,p2)\n",
    "\n",
    "# Specify the name of the output_file and show the result\n",
    "output_file('fert_row.html')\n",
    "show(layout)"
   ]
  },
  {
   "cell_type": "markdown",
   "metadata": {},
   "source": [
    "### Creating columns of plots\n",
    "In this exercise, you're going to use the `column()` function to create a single column layout of the two plots you created in the previous exercise."
   ]
  },
  {
   "cell_type": "code",
   "execution_count": 6,
   "metadata": {},
   "outputs": [
    {
     "data": {
      "text/html": [
       "\n",
       "\n",
       "\n",
       "\n",
       "\n",
       "\n",
       "  <div class=\"bk-root\" id=\"c0348fab-a1f5-4793-93a6-256818b8d307\"></div>\n"
      ]
     },
     "metadata": {},
     "output_type": "display_data"
    },
    {
     "data": {
      "application/javascript": [
       "(function(root) {\n",
       "  function embed_document(root) {\n",
       "    \n",
       "  var docs_json = {\"80e11198-08a2-40d6-879e-20e85bd51fe0\":{\"roots\":{\"references\":[{\"attributes\":{\"children\":[{\"id\":\"1312\",\"subtype\":\"Figure\",\"type\":\"Plot\"},{\"id\":\"1351\",\"subtype\":\"Figure\",\"type\":\"Plot\"}]},\"id\":\"1390\",\"type\":\"Column\"},{\"attributes\":{\"callback\":null},\"id\":\"1315\",\"type\":\"DataRange1d\"},{\"attributes\":{\"plot\":null,\"text\":\"\"},\"id\":\"1409\",\"type\":\"Title\"},{\"attributes\":{},\"id\":\"1371\",\"type\":\"WheelZoomTool\"},{\"attributes\":{\"plot\":null,\"text\":\"\"},\"id\":\"1407\",\"type\":\"Title\"},{\"attributes\":{\"callback\":null,\"data\":{\"Continent\":[\"ASI\",\"ASI\",\"NAM\",\"ASI\",\"LAT\",\"ASI\",\"ASI\",\"AF\",\"EUR\",\"ASI\",\"LAT\",\"ASI\",\"ASI\",\"EUR\",\"AF\",\"AF\",\"ASI\",\"ASI\",\"ASI\",\"AF\",\"EUR\",\"EUR\",\"EUR\",\"ASI\",\"AF\",\"ASI\",\"EUR\",\"EUR\",\"LAT\",\"AF\",\"AF\",\"LAT\",\"AF\",\"EUR\",\"AF\",\"NAM\",\"AF\",\"AF\",\"ASI\",\"ASI\",\"LAT\",\"ASI\",\"LAT\",\"ASI\",\"ASI\",\"ASI\",\"ASI\",\"AF\",\"ASI\",\"AF\",\"EUR\",\"AF\",\"ASI\",\"ASI\",\"AF\",\"AF\",\"AF\",\"LAT\",\"EUR\",\"ASI\",\"AF\",\"AF\",\"AF\",\"ASI\",\"LAT\",\"LAT\",\"AF\",\"AF\",\"AF\",\"AF\",\"EUR\",\"LAT\",\"AF\",\"EUR\",\"EUR\",\"EUR\",\"AF\",\"EUR\",\"LAT\",\"AF\",\"AF\",\"LAT\",\"EUR\",\"EUR\",\"ASI\",\"AF\",\"AF\",\"EUR\",\"EUR\",\"EUR\",\"LAT\",\"ASI\",\"ASI\",\"OCE\",\"AF\",\"AF\",\"LAT\",\"ASI\",\"LAT\",\"ASI\",\"LAT\",\"AF\",\"EUR\",\"EUR\",\"ASI\",\"ASI\",\"AF\",\"ASI\",\"EUR\",\"LAT\",\"ASI\",\"EUR\",\"EUR\",\"AF\",\"ASI\",\"OCE\",\"ASI\",\"AF\",\"EUR\",\"EUR\",\"LAT\",\"EUR\",\"LAT\",\"AF\",\"EUR\",\"ASI\",\"ASI\",\"ASI\",\"LAT\",\"ASI\",\"EUR\",\"AF\",\"AF\",\"EUR\",\"EUR\",\"AF\",\"AF\",\"AF\",\"AF\",\"EUR\",\"LAT\",\"ASI\",\"AF\",\"AF\",\"EUR\",\"ASI\",\"ASI\",\"AF\",\"AF\",\"ASI\",\"LAT\",\"AF\",\"EUR\",\"ASI\",\"LAT\",\"EUR\",\"ASI\",\"OCE\",\"OCE\",\"AF\",\"LAT\",\"ASI\",\"NaN\",\"NaN\",\"NaN\",\"NaN\",\"NaN\"],\"Country \":[\"Chine\",\"Inde\",\"USA\",\"Indon\\u00e9sie\",\"Br\\u00e9sil\",\"Pakistan\",\"Bangladesh\",\"Nig\\u00e9ria\",\"F\\u00e9d\\u00e9ration de Russie\",\"Japan\",\"Mexique\",\"Philippines\",\"Viet Nam\",\"Germany\",\"Egypte\",\"Ethiopie\",\"Turquie\",\"Iran, R\\u00e9publique islamique d'\",\"Tha\\u00eflande\",\"R\\u00e9p. D\\u00e9mocratique du Congo\",\"France\",\"UK\",\"Italie\",\"Myanmar\",\"Afrique du Sud\",\"South Korea\",\"Ukraine\",\"Espagne\",\"Colombie\",\"R\\u00e9publique-Unie de Tanzanie\",\"Soudan\",\"Argentine\",\"Kenya\",\"Pologne\",\"Alg\\u00e9rie\",\"Canada\",\"Ouganda\",\"Maroc\",\"Iraq\",\"Afghanistan\",\"P\\u00e9rou\",\"N\\u00e9pal\",\"Venezuela\",\"Ouzb\\u00e9kistan\",\"Malaisie\",\"Arabie saoudite\",\"R\\u00e9p. populaire d\\u00e9mocratique de Cor\\u00e9e\",\"Ghana\",\"Y\\u00e9men\",\"Mozambique\",\"Roumanie\",\"C\\u00f4te d'Ivoire\",\"R\\u00e9publique arabe syrienne\",\"Sri Lanka\",\"Madagascar\",\"Cameroun\",\"Angola\",\"Chili\",\"Netherlands\",\"Kazakhstan\",\"Burkina Faso\",\"Malawi\",\"Niger\",\"Cambodge\",\"Guatemala\",\"Equateur\",\"Mali\",\"Zambie\",\"Zimbabwe\",\"S\\u00e9n\\u00e9gal\",\"Gr\\u00e8ce\",\"Cuba\",\"Tchad\",\"Belgium\",\"Portugal\",\"Czech rep\",\"Tunisie\",\"Hongrie\",\"R\\u00e9publique dominicaine\",\"Guin\\u00e9e\",\"Rwanda\",\"Bolivie\",\"B\\u00e9larus\",\"Sweden\",\"Azerba\\u00efdjan\",\"B\\u00e9nin\",\"Burundi\",\"Switzerland\",\"Bulgarie\",\"Serbie\",\"Honduras\",\"Israel\",\"Tadjikistan\",\"Papouasie-Nouvelle-Guin\\u00e9e\",\"Togo\",\"Jamahiriya arabe libyenne\",\"Paraguay\",\"R\\u00e9p. d\\u00e9mocratique populaire lao\",\"El Salvador\",\"Jordanie\",\"Nicaragua\",\"Sierra Leone\",\"Denmark\",\"Finland\",\"Kirghizistan\",\"Turkm\\u00e9nistan\",\"Erythr\\u00e9e\",\"Singapour\",\"Norway\",\"Costa Rica\",\"Emirats arabes unis\",\"Croatie\",\"Ireland\",\"R\\u00e9publique centrafricaine\",\"G\\u00e9orgie\",\"New Zealand\",\"Liban\",\"Lib\\u00e9ria\",\"Bosnie-Herz\\u00e9govine\",\"R\\u00e9publique de Moldova\",\"Panama\",\"Lituanie\",\"Uruguay\",\"Mauritanie\",\"Albanie\",\"Arm\\u00e9nie\",\"Oman\",\"Kowe\\u00eft\",\"Jama\\u00efque\",\"Mongolie\",\"Lettonie\",\"Namibie\",\"Lesotho\",\"L'ex-R\\u00e9p. yougoslave de Mac\\u00e9doine\",\"Slov\\u00e9nie\",\"Botswana\",\"Gambie\",\"Guin\\u00e9e-Bissau\",\"Gabon\",\"Estonie\",\"Trinit\\u00e9-et-Tobago\",\"Qatar\",\"Maurice\",\"Swaziland\",\"Chypre\",\"Bahre\\u00efn\",\"Bhoutan\",\"Guin\\u00e9e \\u00e9quatoriale\",\"Comores\",\"Macao, Chine\",\"Suriname\",\"Cap-Vert\",\"Malte\",\"Brun\\u00e9i Darussalam\",\"Bahamas\",\"Iceland\",\"Maldives\",\"Vanuatu\",\"Samoa\",\"Sao Tom\\u00e9-et-Principe\",\"Aruba\",\"Tonga\",\"Antigua-et-Barbuda\",\"Antilles n\\u00e9erlandaises\",\"Iles Ca\\u00efmanes\",\"Seychelles\",\"Territoires autonomes palestiniens\"],\"female_literacy\":{\"__ndarray__\":\"AAAAAACgVkBmZmZmZmZJQAAAAAAAwFhAMzMzMzMzVkDNzMzMzIxWQAAAAAAAAERAZmZmZmbmSEBmZmZmZmZIQJqZmZmZ2VhAAAAAAADAWEAAAAAAAOBWQJqZmZmZeVdAzczMzMyMVkAAAAAAAMBYQGZmZmZm5kxAzczMzMzMNkAzMzMzM1NUQM3MzMzMTFNAAAAAAADgVkDNzMzMzAxMQAAAAAAAwFhAAAAAAADAWEAAAAAAAKBYQM3MzMzMTFZAZmZmZmYGVkBmZmZmZiZYQGZmZmZm5lhAmpmZmZk5WECamZmZmVlXQDMzMzMzk1BAzczMzMzMTUDNzMzMzGxYQDMzMzMzs1RAMzMzMzPTWEAzMzMzM/NPQAAAAAAAwFhAMzMzMzOzUEDNzMzMzAxGQM3MzMzMTFFAMzMzMzMzKUBmZmZmZiZVQDMzMzMzs0ZAmpmZmZm5V0CamZmZmblYQDMzMzMzc1ZAzczMzMwMVEAAAAAAAABZQGZmZmZmpk1AZmZmZmZmRUDNzMzMzAxEQJqZmZmZOVhAZmZmZmYmRkDNzMzMzExTQGZmZmZmRlZAMzMzMzNTUEAzMzMzM/NQQAAAAAAAgExAzczMzMysWEAAAAAAAMBYQAAAAAAA4FhAmpmZmZmZNUAzMzMzM3NQQDMzMzMzMy5AmpmZmZm5UUDNzMzMzCxRQM3MzMzMbFRAMzMzMzMzMkAAAAAAAIBOQDMzMzMzM1ZAAAAAAACAQECamZmZmflXQDMzMzMz81hAZmZmZmbmNUAAAAAAAMBYQJqZmZmZOVdAAAAAAADAWEAAAAAAAMBRQJqZmZmZuVhAMzMzMzMTVkBmZmZmZmY6QGZmZmZmhlBAAAAAAACAVUDNzMzMzOxYQAAAAAAAwFhAzczMzMzMWECamZmZmRk8QDMzMzMz801AAAAAAADAWECamZmZmXlYQM3MzMzMDFhAAAAAAADgVECamZmZmflXQAAAAAAA4FhAzczMzMzMS0CamZmZmdlKQDMzMzMzU1RAAAAAAABgV0CamZmZmZlPQJqZmZmZWVRAmpmZmZk5VkCamZmZmXlTQGZmZmZm5jxAAAAAAADAWEAAAAAAAABZQGZmZmZmxlhAMzMzMzPTWEAAAAAAAEBLQGZmZmZm5lZAAAAAAAAAWUDNzMzMzAxYQAAAAAAA4FZAAAAAAACAWEAAAAAAAMBYQM3MzMzMjERAzczMzMzsWEAAAAAAAMBYQAAAAAAAgFVAAAAAAACASkCamZmZmflXQDMzMzMzc1hAMzMzMzMzV0DNzMzMzOxYQAAAAAAAoFhAAAAAAADASEDNzMzMzKxYQJqZmZmZ2VhAmpmZmZk5VEBmZmZmZkZXQDMzMzMzs1ZAMzMzMzNzWEAzMzMzM/NYQM3MzMzM7FVAZmZmZmbGV0CamZmZmdlXQM3MzMzM7FhAAAAAAADgVEBmZmZmZiZBQAAAAAAAQEJAzczMzMzMVEAzMzMzM/NYQM3MzMzMjFhAmpmZmZmZVkAzMzMzMzNVQGZmZmZmZlVAzczMzMwsWECamZmZmVlWQJqZmZmZWUNAZmZmZmZGVkAzMzMzM/NQQM3MzMzMrFZAmpmZmZkZVkAzMzMzM9NTQAAAAAAAYFdAMzMzMzNTV0AAAAAAACBYQAAAAAAAwFhAmpmZmZmZWEAAAAAAAOBTQAAAAAAAoFhAMzMzMzPTVEAAAAAAAIBYQGZmZmZmxlhAmpmZmZnZWEAzMzMzMxNYQAAAAAAAwFhAMzMzMzMTV0CamZmZmblWQA==\",\"dtype\":\"float64\",\"shape\":[167]},\"fertility\":{\"__ndarray__\":\"6Pup8dJN/D/b+X5qvHQFQARWDi2ynQBAdJMYBFYOAUAIrBxaZDv9P2Dl0CLb+Q5A6Pup8dJNAkD91HjpJrEUQH0/NV66SfY//tR46SYx9D9zaJHtfD8BQGmR7Xw/NQhA3SQGgZVDAEDJdr6fGi/1P7tJDAIrhwZA8tJNYhDYFEDNzMzMzMwAQOXQItv5fvw/8/3UeOkm/T9uEoPAyqEXQH9qvHSTGP4/bhKDwMqh/T89CtejcD32P3Noke18PwJACtejcD0KBEAv3SQGgZXzPy2yne+nxvU/sXJoke189z8IrBxaZDsDQBSuR+F6FBZACKwcWmQ7EEBjEFg5tMgBQFYOLbKdbxNAE4PAyqFF9D8j2/l+arwCQN0kBoGVQ/k/arx0kxgEGUB56SYxCKwCQOSlm8QgsA9AhetRuB4FGkA9CtejcD0EQC/dJAaBlQZAlkOLbOf7A0CWQ4ts5/sBQKrx0k1iEARAUrgehetRCEBEi2zn+6n9P+F6FK5H4RBAZmZmZmZmFECR7Xw/Nd4TQDMzMzMzM/U/dJMYBFYOEkD8qfHSTWIJQBFYObTIdgJAexSuR+F6EkBEi2zn+ykSQEA1XrpJjBZAN4lBYOXQ/j/AyqFFtvP7PycxCKwcWgJAd76fGi9dF0BSuB6F69EVQC2yne+nRhxArBxaZDvfBkDfT42XbhIQQLTIdr6fGgRAH4XrUbieFUCmm8QgsPIWQIGVQ4ts5wpAj8L1KFyPE0ApXI/C9Sj2PxSuR+F6FPg/bef7qfFSGEAlBoGVQ4v8P0A1XrpJDPY/MzMzMzMz9z/b+X5qvHT9P+xRuB6F6/U/TDeJQWDlBEA3iUFg5VAVQFK4HoXrURVALIcW2c73CkDl0CLb+X70P1YOLbKd7/0/001iEFg5AUBPjZduEoMVQM3MzMzMzBFAXI/C9Shc9z9g5dAi2/n2P5duEoPAyvk/hetRuB6FCUBqvHSTGAQGQM3MzMzMzApACtejcD0KEEBEi2zn+6kQQIlBYOXQIgVAN4lBYOXQB0BSuB6F61ELQFyPwvUoXAJA8/3UeOkmCEARWDm0yHYFQClcj8L1qBRAL90kBoGV/T/GSzeJQWD9P7+fGi/dJARAcT0K16NwA0DqJjEIrBwSQGiR7Xw/NfQ/KVyPwvUo/j9KDAIrhxb/P/yp8dJNYv4/30+Nl24S9z9zaJHtfD//P30/NV66yRJAHFpkO99P+T8zMzMzMzMAQNv5fmq8dP0/JQaBlUMLFEAxCKwcWmTzP9R46SYxCPg/VOOlm8QgBECsHFpkO9/1P4PAyqFFtgBAWmQ730+NEUBEi2zn+6n9PyyHFtnO9/s/bef7qfHSB0Cd76fGSzcBQEw3iUFg5QJAAyuHFtnO/z83iUFg5dD2P1K4HoXrUQpA6SYxCKwcCkBg5dAi2/n2P30/NV66SfY/+n5qvHSTBkDGSzeJQeATQIlBYOXQohZA7FG4HoXrCUBKDAIrhxb7PyYxCKwcWvo/4XoUrkfhAkB46SYxCKz8P5qZmZmZmQtAqMZLN4lB+D93vp8aL90BQBsv3SQGgQRAbhKDwMohFUAUrkfhehQPQLbz/dR46e4/lkOLbOf7AkDo+6nx0k0FQGq8dJMYBPQ/0SLb+X5qAEAshxbZzvcKQFg5tMh2vgBAAAAAAAAAAECq8dJNYhAPQDeJQWDl0A5AWDm0yHa+DUCDwMqhRbb7PwaBlUOLbA9A738soIUHB0DvfyyghQcHQO9/LKCFBwdA738soIUHB0DvfyyghQcHQA==\",\"dtype\":\"float64\",\"shape\":[167]},\"index\":[0,1,2,3,4,5,6,7,8,9,10,11,12,13,14,15,16,17,18,19,20,21,22,23,24,25,26,27,28,29,30,31,32,33,34,35,36,37,38,39,40,41,42,43,44,45,46,47,48,49,50,51,52,53,54,55,56,57,58,59,60,61,62,63,64,65,66,67,68,69,70,71,72,73,74,75,76,77,78,79,80,81,82,83,84,85,86,87,88,89,90,91,92,93,94,95,96,97,98,99,100,101,102,103,104,105,106,107,108,109,110,111,112,113,114,115,116,117,118,119,120,121,122,123,124,125,126,127,128,129,130,131,132,133,134,135,136,137,138,139,140,141,142,143,144,145,146,147,148,149,150,151,152,153,154,155,156,157,158,159,160,161,162,163,164,165,166],\"population\":{\"__ndarray__\":\"AAAAZii900GQFOkAn/zQQQAAAGCWH7JBAAAAdAUaq0EAAABkgeKmQe+OPP5RzaNBAAAAANESo0EAAAC8oQaiQQAAAGD466BBAAAAAG9ynkH67buGHVuZQQAAAFRuipVBAAAAdOONlEEAAABEmpOTQQAAABAGcJNBAAAAaFs+k0EAAABQXp+RQToXwIbdJ5FBAAAAPPAQkEEAAADY06OOQQAAAMA5so1BAAAAcNVIjUEAAACYu4eMQQAAAFgsoodBAAAAwDw3h0EAAADAeC2HQQAAAMDADoZBAAAAIAC5hUEAAAAApHaFQQAAAJgGQoRBAAAAWFS3g0EAAAAghwSDQQAAAAAYfIJBAAAA+AUugkEAAACQ+WOAQQAAAICqxH9BAAAAELowfkEAAAAANyR+QRITrwTXSX1BsGr1rzqte0EAAADANYB7QQAAAGCTeXtBAAAAgBGkekEAAABAYgx6QQAAABBMw3lB9wa/XgOBd0EAAAAQILd2QQAAAPDoRHZBAAAA0BbbdUEAAABQfFh1QQAAAGBZhHRBAAAAYCyjc0EolOqduqBzQSDBaMXyOHNBAAAA0ME5ckEAAAAQQDRyQQAAAMCTL3FBAAAAAIcGcEEAAAAgE15vQQAAACC65W1BAAAAgGsObUEAAADAHFFsQQAAAMDXC2xBAAAAAFvGa0EAAAAArhpqQQAAAAC6tmlBAAAAAPk7aEEAAABgNxJoQQAAAOBjxWdBAAAAoH1KZ0EAAADA3G5lQQAAAOAPX2VBAAAAYPDQZEEAAAAgumxkQQAAAKC5QmRBAAAAAALiY0EAAAAA37JjQQAAAIB1JWNBAAAA4Lj7YkEAAADgS8FiQQAAAMBuimJBAAAAIHR9YkEAAABA+nZiQQAAAKDGlWFBAAAAgFSOYEEAAADAiIVgQQAAAIADzV5BAAAAwG4sXUEAAADAuBRdQQAAAEDzCVxBAAAAQEHrW0EAAAAAgOFbQQAAAMDcE1pBAAAAgK0WWUEAAABAO6NYQQAAAECpAlhBAAAAwKfLV0EAAABA56tXQQAAAIAlZldBXanGt56HVkEAAABAf55VQQAAAECLNVVBAAAAQN30VEEAAADA3URUQQAAAAAzIlRBAAAAgGg9U0EAAABAZ8tSQQAAAAD6dVJBAAAAAHUwUkEAAACANT1RQQAAAMDRG1FBAAAAABTqUEEAAADA8uFQQQAAAMCPjVBBAAAAwBBuUEEAAAAA2UhQQQAAAADv/k9BAAAAAPzwTEEAAAAAVslMQQAAAIBsuEtBAAAAgFPuSUEAAACA0Z5JQQAAAADSb0lBAAAAgGGHSEEAAACAPftHQQAAAIDveUdBAAAAgChARUGBGHRrNNBEQQAAAABwgERBAAAAAKAmREEAAAAA90lBQQAAAADfP0BBAAAAAJVFP0EAAAAA/iU/QQAAAADE1z5BAAAAAGJQPUEAAAAAKFU5QQAAAAAWCjhBAAAAAN8YNkEAAAAAA3U0QQAAAACMWDRBAAAAAF6LM0EAAAAAdlwzQQAAAADa0TFBAAAAAMRRKkEAAAAAQqsnQQAAAACK9SRBAAAAAPodJEGoYCyg5qMjQQAAAADEDiBBAAAAANBwH0EAAAAAwG8eQQAAAAC4JBlBAAAAAGDxF0EAAAAAEJwUQQAAAACYXxNBAAAAAAyeEkEAAAAAUIwMQQAAAACo1QVBAAAAAHCNA0EAAAAA8L75QAAAAADgSPlAOzR8P69mg0E7NHw/r2aDQTs0fD+vZoNBOzR8P69mg0E7NHw/r2aDQQ==\",\"dtype\":\"float64\",\"shape\":[167]}},\"selected\":{\"id\":\"1421\",\"type\":\"Selection\"},\"selection_policy\":{\"id\":\"1420\",\"type\":\"UnionRenderers\"}},\"id\":\"1311\",\"type\":\"ColumnDataSource\"},{\"attributes\":{\"fill_alpha\":{\"value\":0.1},\"fill_color\":{\"value\":\"#1f77b4\"},\"line_alpha\":{\"value\":0.1},\"line_color\":{\"value\":\"#1f77b4\"},\"x\":{\"field\":\"population\"},\"y\":{\"field\":\"female_literacy\"}},\"id\":\"1387\",\"type\":\"Circle\"},{\"attributes\":{\"dimension\":1,\"plot\":{\"id\":\"1351\",\"subtype\":\"Figure\",\"type\":\"Plot\"},\"ticker\":{\"id\":\"1366\",\"type\":\"BasicTicker\"}},\"id\":\"1369\",\"type\":\"Grid\"},{\"attributes\":{},\"id\":\"1418\",\"type\":\"BasicTickFormatter\"},{\"attributes\":{\"fill_color\":{\"value\":\"#1f77b4\"},\"line_color\":{\"value\":\"#1f77b4\"},\"x\":{\"field\":\"fertility\"},\"y\":{\"field\":\"female_literacy\"}},\"id\":\"1347\",\"type\":\"Circle\"},{\"attributes\":{\"data_source\":{\"id\":\"1311\",\"type\":\"ColumnDataSource\"},\"glyph\":{\"id\":\"1386\",\"type\":\"Circle\"},\"hover_glyph\":null,\"muted_glyph\":null,\"nonselection_glyph\":{\"id\":\"1387\",\"type\":\"Circle\"},\"selection_glyph\":null,\"view\":{\"id\":\"1389\",\"type\":\"CDSView\"}},\"id\":\"1388\",\"type\":\"GlyphRenderer\"},{\"attributes\":{},\"id\":\"1416\",\"type\":\"BasicTickFormatter\"},{\"attributes\":{},\"id\":\"1336\",\"type\":\"HelpTool\"},{\"attributes\":{},\"id\":\"1334\",\"type\":\"SaveTool\"},{\"attributes\":{\"overlay\":{\"id\":\"1378\",\"type\":\"BoxAnnotation\"}},\"id\":\"1372\",\"type\":\"BoxZoomTool\"},{\"attributes\":{\"active_drag\":\"auto\",\"active_inspect\":\"auto\",\"active_multi\":null,\"active_scroll\":\"auto\",\"active_tap\":\"auto\",\"tools\":[{\"id\":\"1331\",\"type\":\"PanTool\"},{\"id\":\"1332\",\"type\":\"WheelZoomTool\"},{\"id\":\"1333\",\"type\":\"BoxZoomTool\"},{\"id\":\"1334\",\"type\":\"SaveTool\"},{\"id\":\"1335\",\"type\":\"ResetTool\"},{\"id\":\"1336\",\"type\":\"HelpTool\"}]},\"id\":\"1337\",\"type\":\"Toolbar\"},{\"attributes\":{\"bottom_units\":\"screen\",\"fill_alpha\":{\"value\":0.5},\"fill_color\":{\"value\":\"lightgrey\"},\"left_units\":\"screen\",\"level\":\"overlay\",\"line_alpha\":{\"value\":1.0},\"line_color\":{\"value\":\"black\"},\"line_dash\":[4,4],\"line_width\":{\"value\":2},\"plot\":null,\"render_mode\":\"css\",\"right_units\":\"screen\",\"top_units\":\"screen\"},\"id\":\"1378\",\"type\":\"BoxAnnotation\"},{\"attributes\":{},\"id\":\"1335\",\"type\":\"ResetTool\"},{\"attributes\":{},\"id\":\"1331\",\"type\":\"PanTool\"},{\"attributes\":{},\"id\":\"1332\",\"type\":\"WheelZoomTool\"},{\"attributes\":{\"overlay\":{\"id\":\"1339\",\"type\":\"BoxAnnotation\"}},\"id\":\"1333\",\"type\":\"BoxZoomTool\"},{\"attributes\":{},\"id\":\"1420\",\"type\":\"UnionRenderers\"},{\"attributes\":{},\"id\":\"1327\",\"type\":\"BasicTicker\"},{\"attributes\":{\"below\":[{\"id\":\"1360\",\"type\":\"LinearAxis\"}],\"left\":[{\"id\":\"1365\",\"type\":\"LinearAxis\"}],\"renderers\":[{\"id\":\"1360\",\"type\":\"LinearAxis\"},{\"id\":\"1364\",\"type\":\"Grid\"},{\"id\":\"1365\",\"type\":\"LinearAxis\"},{\"id\":\"1369\",\"type\":\"Grid\"},{\"id\":\"1378\",\"type\":\"BoxAnnotation\"},{\"id\":\"1388\",\"type\":\"GlyphRenderer\"}],\"title\":{\"id\":\"1409\",\"type\":\"Title\"},\"toolbar\":{\"id\":\"1376\",\"type\":\"Toolbar\"},\"x_range\":{\"id\":\"1352\",\"type\":\"DataRange1d\"},\"x_scale\":{\"id\":\"1356\",\"type\":\"LinearScale\"},\"y_range\":{\"id\":\"1354\",\"type\":\"DataRange1d\"},\"y_scale\":{\"id\":\"1358\",\"type\":\"LinearScale\"}},\"id\":\"1351\",\"subtype\":\"Figure\",\"type\":\"Plot\"},{\"attributes\":{\"active_drag\":\"auto\",\"active_inspect\":\"auto\",\"active_multi\":null,\"active_scroll\":\"auto\",\"active_tap\":\"auto\",\"tools\":[{\"id\":\"1370\",\"type\":\"PanTool\"},{\"id\":\"1371\",\"type\":\"WheelZoomTool\"},{\"id\":\"1372\",\"type\":\"BoxZoomTool\"},{\"id\":\"1373\",\"type\":\"SaveTool\"},{\"id\":\"1374\",\"type\":\"ResetTool\"},{\"id\":\"1375\",\"type\":\"HelpTool\"}]},\"id\":\"1376\",\"type\":\"Toolbar\"},{\"attributes\":{\"plot\":{\"id\":\"1312\",\"subtype\":\"Figure\",\"type\":\"Plot\"},\"ticker\":{\"id\":\"1322\",\"type\":\"BasicTicker\"}},\"id\":\"1325\",\"type\":\"Grid\"},{\"attributes\":{\"dimension\":1,\"plot\":{\"id\":\"1312\",\"subtype\":\"Figure\",\"type\":\"Plot\"},\"ticker\":{\"id\":\"1327\",\"type\":\"BasicTicker\"}},\"id\":\"1330\",\"type\":\"Grid\"},{\"attributes\":{},\"id\":\"1412\",\"type\":\"BasicTickFormatter\"},{\"attributes\":{\"data_source\":{\"id\":\"1311\",\"type\":\"ColumnDataSource\"},\"glyph\":{\"id\":\"1347\",\"type\":\"Circle\"},\"hover_glyph\":null,\"muted_glyph\":null,\"nonselection_glyph\":{\"id\":\"1348\",\"type\":\"Circle\"},\"selection_glyph\":null,\"view\":{\"id\":\"1350\",\"type\":\"CDSView\"}},\"id\":\"1349\",\"type\":\"GlyphRenderer\"},{\"attributes\":{},\"id\":\"1414\",\"type\":\"BasicTickFormatter\"},{\"attributes\":{\"axis_label\":\"female_literacy (% population)\",\"formatter\":{\"id\":\"1414\",\"type\":\"BasicTickFormatter\"},\"plot\":{\"id\":\"1312\",\"subtype\":\"Figure\",\"type\":\"Plot\"},\"ticker\":{\"id\":\"1327\",\"type\":\"BasicTicker\"}},\"id\":\"1326\",\"type\":\"LinearAxis\"},{\"attributes\":{\"axis_label\":\"fertility (children per woman)\",\"formatter\":{\"id\":\"1412\",\"type\":\"BasicTickFormatter\"},\"plot\":{\"id\":\"1312\",\"subtype\":\"Figure\",\"type\":\"Plot\"},\"ticker\":{\"id\":\"1322\",\"type\":\"BasicTicker\"}},\"id\":\"1321\",\"type\":\"LinearAxis\"},{\"attributes\":{\"axis_label\":\"female_literacy (% population)\",\"formatter\":{\"id\":\"1418\",\"type\":\"BasicTickFormatter\"},\"plot\":{\"id\":\"1351\",\"subtype\":\"Figure\",\"type\":\"Plot\"},\"ticker\":{\"id\":\"1366\",\"type\":\"BasicTicker\"}},\"id\":\"1365\",\"type\":\"LinearAxis\"},{\"attributes\":{},\"id\":\"1322\",\"type\":\"BasicTicker\"},{\"attributes\":{},\"id\":\"1366\",\"type\":\"BasicTicker\"},{\"attributes\":{},\"id\":\"1319\",\"type\":\"LinearScale\"},{\"attributes\":{\"callback\":null},\"id\":\"1354\",\"type\":\"DataRange1d\"},{\"attributes\":{\"source\":{\"id\":\"1311\",\"type\":\"ColumnDataSource\"}},\"id\":\"1350\",\"type\":\"CDSView\"},{\"attributes\":{},\"id\":\"1373\",\"type\":\"SaveTool\"},{\"attributes\":{\"bottom_units\":\"screen\",\"fill_alpha\":{\"value\":0.5},\"fill_color\":{\"value\":\"lightgrey\"},\"left_units\":\"screen\",\"level\":\"overlay\",\"line_alpha\":{\"value\":1.0},\"line_color\":{\"value\":\"black\"},\"line_dash\":[4,4],\"line_width\":{\"value\":2},\"plot\":null,\"render_mode\":\"css\",\"right_units\":\"screen\",\"top_units\":\"screen\"},\"id\":\"1339\",\"type\":\"BoxAnnotation\"},{\"attributes\":{\"below\":[{\"id\":\"1321\",\"type\":\"LinearAxis\"}],\"left\":[{\"id\":\"1326\",\"type\":\"LinearAxis\"}],\"renderers\":[{\"id\":\"1321\",\"type\":\"LinearAxis\"},{\"id\":\"1325\",\"type\":\"Grid\"},{\"id\":\"1326\",\"type\":\"LinearAxis\"},{\"id\":\"1330\",\"type\":\"Grid\"},{\"id\":\"1339\",\"type\":\"BoxAnnotation\"},{\"id\":\"1349\",\"type\":\"GlyphRenderer\"}],\"title\":{\"id\":\"1407\",\"type\":\"Title\"},\"toolbar\":{\"id\":\"1337\",\"type\":\"Toolbar\"},\"x_range\":{\"id\":\"1313\",\"type\":\"DataRange1d\"},\"x_scale\":{\"id\":\"1317\",\"type\":\"LinearScale\"},\"y_range\":{\"id\":\"1315\",\"type\":\"DataRange1d\"},\"y_scale\":{\"id\":\"1319\",\"type\":\"LinearScale\"}},\"id\":\"1312\",\"subtype\":\"Figure\",\"type\":\"Plot\"},{\"attributes\":{},\"id\":\"1375\",\"type\":\"HelpTool\"},{\"attributes\":{\"fill_alpha\":{\"value\":0.1},\"fill_color\":{\"value\":\"#1f77b4\"},\"line_alpha\":{\"value\":0.1},\"line_color\":{\"value\":\"#1f77b4\"},\"x\":{\"field\":\"fertility\"},\"y\":{\"field\":\"female_literacy\"}},\"id\":\"1348\",\"type\":\"Circle\"},{\"attributes\":{},\"id\":\"1421\",\"type\":\"Selection\"},{\"attributes\":{},\"id\":\"1370\",\"type\":\"PanTool\"},{\"attributes\":{},\"id\":\"1374\",\"type\":\"ResetTool\"},{\"attributes\":{\"fill_color\":{\"value\":\"#1f77b4\"},\"line_color\":{\"value\":\"#1f77b4\"},\"x\":{\"field\":\"population\"},\"y\":{\"field\":\"female_literacy\"}},\"id\":\"1386\",\"type\":\"Circle\"},{\"attributes\":{\"callback\":null},\"id\":\"1352\",\"type\":\"DataRange1d\"},{\"attributes\":{\"source\":{\"id\":\"1311\",\"type\":\"ColumnDataSource\"}},\"id\":\"1389\",\"type\":\"CDSView\"},{\"attributes\":{},\"id\":\"1358\",\"type\":\"LinearScale\"},{\"attributes\":{},\"id\":\"1361\",\"type\":\"BasicTicker\"},{\"attributes\":{\"callback\":null},\"id\":\"1313\",\"type\":\"DataRange1d\"},{\"attributes\":{\"plot\":{\"id\":\"1351\",\"subtype\":\"Figure\",\"type\":\"Plot\"},\"ticker\":{\"id\":\"1361\",\"type\":\"BasicTicker\"}},\"id\":\"1364\",\"type\":\"Grid\"},{\"attributes\":{\"axis_label\":\"population\",\"formatter\":{\"id\":\"1416\",\"type\":\"BasicTickFormatter\"},\"plot\":{\"id\":\"1351\",\"subtype\":\"Figure\",\"type\":\"Plot\"},\"ticker\":{\"id\":\"1361\",\"type\":\"BasicTicker\"}},\"id\":\"1360\",\"type\":\"LinearAxis\"},{\"attributes\":{},\"id\":\"1356\",\"type\":\"LinearScale\"},{\"attributes\":{},\"id\":\"1317\",\"type\":\"LinearScale\"}],\"root_ids\":[\"1390\"]},\"title\":\"Bokeh Application\",\"version\":\"1.0.2\"}};\n",
       "  var render_items = [{\"docid\":\"80e11198-08a2-40d6-879e-20e85bd51fe0\",\"roots\":{\"1390\":\"c0348fab-a1f5-4793-93a6-256818b8d307\"}}];\n",
       "  root.Bokeh.embed.embed_items_notebook(docs_json, render_items);\n",
       "\n",
       "  }\n",
       "  if (root.Bokeh !== undefined) {\n",
       "    embed_document(root);\n",
       "  } else {\n",
       "    var attempts = 0;\n",
       "    var timer = setInterval(function(root) {\n",
       "      if (root.Bokeh !== undefined) {\n",
       "        embed_document(root);\n",
       "        clearInterval(timer);\n",
       "      }\n",
       "      attempts++;\n",
       "      if (attempts > 100) {\n",
       "        console.log(\"Bokeh: ERROR: Unable to run BokehJS code because BokehJS library is missing\");\n",
       "        clearInterval(timer);\n",
       "      }\n",
       "    }, 10, root)\n",
       "  }\n",
       "})(window);"
      ],
      "application/vnd.bokehjs_exec.v0+json": ""
     },
     "metadata": {
      "application/vnd.bokehjs_exec.v0+json": {
       "id": "1390"
      }
     },
     "output_type": "display_data"
    }
   ],
   "source": [
    "source = ColumnDataSource(df)\n",
    "\n",
    "# Create a blank figure: p1\n",
    "p1 = figure(x_axis_label='fertility (children per woman)', y_axis_label='female_literacy (% population)')\n",
    "\n",
    "# Add circle scatter to the figure p1\n",
    "p1.circle('fertility', 'female_literacy', source=source)\n",
    "\n",
    "# Create a new blank figure: p2\n",
    "p2 = figure(x_axis_label='population', y_axis_label='female_literacy (% population)')\n",
    "\n",
    "# Add circle scatter to the figure p2\n",
    "p2.circle('population', 'female_literacy', source=source)\n",
    "\n",
    "# Put plots p1 and p2 in a column: layout\n",
    "layout = column(p1,p2)\n",
    "\n",
    "# Specify the name of the output_file and show the result\n",
    "output_file('fert_column.html')\n",
    "show(layout)"
   ]
  },
  {
   "cell_type": "markdown",
   "metadata": {},
   "source": [
    "### Nesting rows and columns of plots\n",
    "You can create nested layouts of plots by combining row and column layouts.\n",
    "\n",
    "In this exercise, you'll make a 3-plot layout in two rows using the `auto-mpg` data set.\n",
    "\n",
    "Three plots have been created for you of average `mpg vs year`, `mpg vs hp`, and `mpg vs weight`.\n",
    "\n",
    "Your job is to use the `column()` and `row()` functions to make a two-row layout where the first row will have only the average `mpg vs year` plot and the second row will have `mpg vs hp` and `mpg vs weight` plots as columns.\n",
    "\n",
    "By using the `sizing_mode` argument, you can scale the widths to fill the whole figure."
   ]
  },
  {
   "cell_type": "code",
   "execution_count": 7,
   "metadata": {},
   "outputs": [
    {
     "data": {
      "text/html": [
       "<div>\n",
       "<style scoped>\n",
       "    .dataframe tbody tr th:only-of-type {\n",
       "        vertical-align: middle;\n",
       "    }\n",
       "\n",
       "    .dataframe tbody tr th {\n",
       "        vertical-align: top;\n",
       "    }\n",
       "\n",
       "    .dataframe thead th {\n",
       "        text-align: right;\n",
       "    }\n",
       "</style>\n",
       "<table border=\"1\" class=\"dataframe\">\n",
       "  <thead>\n",
       "    <tr style=\"text-align: right;\">\n",
       "      <th></th>\n",
       "      <th>mpg</th>\n",
       "      <th>cyl</th>\n",
       "      <th>displ</th>\n",
       "      <th>hp</th>\n",
       "      <th>weight</th>\n",
       "      <th>accel</th>\n",
       "      <th>yr</th>\n",
       "      <th>origin</th>\n",
       "      <th>name</th>\n",
       "      <th>color</th>\n",
       "      <th>size</th>\n",
       "    </tr>\n",
       "  </thead>\n",
       "  <tbody>\n",
       "    <tr>\n",
       "      <th>387</th>\n",
       "      <td>18.0</td>\n",
       "      <td>6</td>\n",
       "      <td>250.0</td>\n",
       "      <td>88</td>\n",
       "      <td>3021</td>\n",
       "      <td>16.5</td>\n",
       "      <td>73</td>\n",
       "      <td>US</td>\n",
       "      <td>ford maverick</td>\n",
       "      <td>blue</td>\n",
       "      <td>15.0</td>\n",
       "    </tr>\n",
       "    <tr>\n",
       "      <th>388</th>\n",
       "      <td>27.0</td>\n",
       "      <td>4</td>\n",
       "      <td>151.0</td>\n",
       "      <td>90</td>\n",
       "      <td>2950</td>\n",
       "      <td>17.3</td>\n",
       "      <td>82</td>\n",
       "      <td>US</td>\n",
       "      <td>chevrolet camaro</td>\n",
       "      <td>blue</td>\n",
       "      <td>10.0</td>\n",
       "    </tr>\n",
       "    <tr>\n",
       "      <th>389</th>\n",
       "      <td>29.5</td>\n",
       "      <td>4</td>\n",
       "      <td>98.0</td>\n",
       "      <td>68</td>\n",
       "      <td>2135</td>\n",
       "      <td>16.6</td>\n",
       "      <td>78</td>\n",
       "      <td>Asia</td>\n",
       "      <td>honda accord lx</td>\n",
       "      <td>red</td>\n",
       "      <td>10.0</td>\n",
       "    </tr>\n",
       "    <tr>\n",
       "      <th>390</th>\n",
       "      <td>17.5</td>\n",
       "      <td>6</td>\n",
       "      <td>250.0</td>\n",
       "      <td>110</td>\n",
       "      <td>3520</td>\n",
       "      <td>16.4</td>\n",
       "      <td>77</td>\n",
       "      <td>US</td>\n",
       "      <td>chevrolet concours</td>\n",
       "      <td>blue</td>\n",
       "      <td>15.0</td>\n",
       "    </tr>\n",
       "    <tr>\n",
       "      <th>391</th>\n",
       "      <td>25.1</td>\n",
       "      <td>4</td>\n",
       "      <td>140.0</td>\n",
       "      <td>88</td>\n",
       "      <td>2720</td>\n",
       "      <td>15.4</td>\n",
       "      <td>78</td>\n",
       "      <td>US</td>\n",
       "      <td>ford fairmont (man)</td>\n",
       "      <td>blue</td>\n",
       "      <td>10.0</td>\n",
       "    </tr>\n",
       "  </tbody>\n",
       "</table>\n",
       "</div>"
      ],
      "text/plain": [
       "      mpg  cyl  displ   hp  weight  accel  yr origin                 name  \\\n",
       "387  18.0    6  250.0   88    3021   16.5  73     US        ford maverick   \n",
       "388  27.0    4  151.0   90    2950   17.3  82     US     chevrolet camaro   \n",
       "389  29.5    4   98.0   68    2135   16.6  78   Asia      honda accord lx   \n",
       "390  17.5    6  250.0  110    3520   16.4  77     US   chevrolet concours   \n",
       "391  25.1    4  140.0   88    2720   15.4  78     US  ford fairmont (man)   \n",
       "\n",
       "    color  size  \n",
       "387  blue  15.0  \n",
       "388  blue  10.0  \n",
       "389   red  10.0  \n",
       "390  blue  15.0  \n",
       "391  blue  10.0  "
      ]
     },
     "execution_count": 7,
     "metadata": {},
     "output_type": "execute_result"
    }
   ],
   "source": [
    "df = pd.read_csv('../_datasets/auto-mpg.csv')\n",
    "df.tail()"
   ]
  },
  {
   "cell_type": "code",
   "execution_count": 8,
   "metadata": {},
   "outputs": [
    {
     "data": {
      "text/html": [
       "\n",
       "\n",
       "\n",
       "\n",
       "\n",
       "\n",
       "  <div class=\"bk-root\" id=\"32fb0eba-dfc6-4b5e-ab60-96b9adb9c009\"></div>\n"
      ]
     },
     "metadata": {},
     "output_type": "display_data"
    },
    {
     "data": {
      "application/javascript": [
       "(function(root) {\n",
       "  function embed_document(root) {\n",
       "    \n",
       "  var docs_json = {\"b5189823-fd74-4896-bc17-d4549321c5d0\":{\"roots\":{\"references\":[{\"attributes\":{\"children\":[{\"id\":\"1748\",\"subtype\":\"Figure\",\"type\":\"Plot\"},{\"id\":\"1787\",\"type\":\"Column\"}],\"sizing_mode\":\"scale_width\"},\"id\":\"1788\",\"type\":\"Row\"},{\"attributes\":{\"axis_label\":\"year\",\"formatter\":{\"id\":\"1824\",\"type\":\"BasicTickFormatter\"},\"plot\":{\"id\":\"1748\",\"subtype\":\"Figure\",\"type\":\"Plot\"},\"ticker\":{\"id\":\"1758\",\"type\":\"BasicTicker\"}},\"id\":\"1757\",\"type\":\"LinearAxis\"},{\"attributes\":{\"callback\":null},\"id\":\"1672\",\"type\":\"DataRange1d\"},{\"attributes\":{},\"id\":\"1758\",\"type\":\"BasicTicker\"},{\"attributes\":{},\"id\":\"1755\",\"type\":\"LinearScale\"},{\"attributes\":{\"line_color\":\"#1f77b4\",\"x\":{\"field\":\"yr\"},\"y\":{\"field\":\"mpg\"}},\"id\":\"1783\",\"type\":\"Line\"},{\"attributes\":{\"source\":{\"id\":\"1668\",\"type\":\"ColumnDataSource\"}},\"id\":\"1746\",\"type\":\"CDSView\"},{\"attributes\":{\"children\":[{\"id\":\"1669\",\"subtype\":\"Figure\",\"type\":\"Plot\"},{\"id\":\"1708\",\"subtype\":\"Figure\",\"type\":\"Plot\"}],\"sizing_mode\":\"scale_width\"},\"id\":\"1787\",\"type\":\"Column\"},{\"attributes\":{},\"id\":\"1676\",\"type\":\"LinearScale\"},{\"attributes\":{\"plot\":{\"id\":\"1748\",\"subtype\":\"Figure\",\"type\":\"Plot\"},\"ticker\":{\"id\":\"1758\",\"type\":\"BasicTicker\"}},\"id\":\"1761\",\"type\":\"Grid\"},{\"attributes\":{\"axis_label\":\"mean mpg\",\"formatter\":{\"id\":\"1826\",\"type\":\"BasicTickFormatter\"},\"plot\":{\"id\":\"1748\",\"subtype\":\"Figure\",\"type\":\"Plot\"},\"ticker\":{\"id\":\"1763\",\"type\":\"BasicTicker\"}},\"id\":\"1762\",\"type\":\"LinearAxis\"},{\"attributes\":{},\"id\":\"1679\",\"type\":\"BasicTicker\"},{\"attributes\":{\"bottom_units\":\"screen\",\"fill_alpha\":{\"value\":0.5},\"fill_color\":{\"value\":\"lightgrey\"},\"left_units\":\"screen\",\"level\":\"overlay\",\"line_alpha\":{\"value\":1.0},\"line_color\":{\"value\":\"black\"},\"line_dash\":[4,4],\"line_width\":{\"value\":2},\"plot\":null,\"render_mode\":\"css\",\"right_units\":\"screen\",\"top_units\":\"screen\"},\"id\":\"1735\",\"type\":\"BoxAnnotation\"},{\"attributes\":{},\"id\":\"1727\",\"type\":\"PanTool\"},{\"attributes\":{\"below\":[{\"id\":\"1757\",\"type\":\"LinearAxis\"}],\"left\":[{\"id\":\"1762\",\"type\":\"LinearAxis\"}],\"renderers\":[{\"id\":\"1757\",\"type\":\"LinearAxis\"},{\"id\":\"1761\",\"type\":\"Grid\"},{\"id\":\"1762\",\"type\":\"LinearAxis\"},{\"id\":\"1766\",\"type\":\"Grid\"},{\"id\":\"1775\",\"type\":\"BoxAnnotation\"},{\"id\":\"1785\",\"type\":\"GlyphRenderer\"}],\"sizing_mode\":\"scale_width\",\"title\":{\"id\":\"1821\",\"type\":\"Title\"},\"toolbar\":{\"id\":\"1773\",\"type\":\"Toolbar\"},\"x_range\":{\"id\":\"1749\",\"type\":\"DataRange1d\"},\"x_scale\":{\"id\":\"1753\",\"type\":\"LinearScale\"},\"y_range\":{\"id\":\"1751\",\"type\":\"DataRange1d\"},\"y_scale\":{\"id\":\"1755\",\"type\":\"LinearScale\"}},\"id\":\"1748\",\"subtype\":\"Figure\",\"type\":\"Plot\"},{\"attributes\":{\"dimension\":1,\"plot\":{\"id\":\"1748\",\"subtype\":\"Figure\",\"type\":\"Plot\"},\"ticker\":{\"id\":\"1763\",\"type\":\"BasicTicker\"}},\"id\":\"1766\",\"type\":\"Grid\"},{\"attributes\":{\"callback\":null,\"data\":{\"accel\":{\"__ndarray__\":\"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\",\"dtype\":\"float64\",\"shape\":[392]},\"color\":[\"blue\",\"blue\",\"red\",\"blue\",\"green\",\"red\",\"red\",\"green\",\"blue\",\"blue\",\"green\",\"blue\",\"blue\",\"blue\",\"blue\",\"blue\",\"green\",\"blue\",\"red\",\"red\",\"blue\",\"blue\",\"blue\",\"blue\",\"blue\",\"green\",\"red\",\"red\",\"blue\",\"red\",\"red\",\"blue\",\"blue\",\"blue\",\"green\",\"green\",\"blue\",\"blue\",\"blue\",\"blue\",\"red\",\"blue\",\"blue\",\"blue\",\"blue\",\"red\",\"red\",\"blue\",\"blue\",\"blue\",\"blue\",\"blue\",\"red\",\"blue\",\"green\",\"blue\",\"blue\",\"blue\",\"blue\",\"red\",\"red\",\"blue\",\"blue\",\"blue\",\"blue\",\"blue\",\"blue\",\"blue\",\"blue\",\"blue\",\"blue\",\"green\",\"blue\",\"blue\",\"red\",\"blue\",\"blue\",\"blue\",\"blue\",\"green\",\"green\",\"green\",\"green\",\"blue\",\"blue\",\"green\",\"blue\",\"blue\",\"red\",\"blue\",\"blue\",\"blue\",\"blue\",\"red\",\"red\",\"blue\",\"red\",\"blue\",\"blue\",\"blue\",\"green\",\"green\",\"blue\",\"blue\",\"green\",\"green\",\"blue\",\"blue\",\"red\",\"green\",\"green\",\"blue\",\"blue\",\"blue\",\"green\",\"blue\",\"red\",\"blue\",\"blue\",\"blue\",\"green\",\"red\",\"blue\",\"green\",\"blue\",\"green\",\"green\",\"blue\",\"blue\",\"blue\",\"blue\",\"blue\",\"green\",\"blue\",\"blue\",\"red\",\"blue\",\"green\",\"blue\",\"blue\",\"green\",\"blue\",\"blue\",\"blue\",\"blue\",\"red\",\"green\",\"blue\",\"blue\",\"green\",\"blue\",\"blue\",\"green\",\"red\",\"blue\",\"blue\",\"blue\",\"red\",\"red\",\"blue\",\"red\",\"blue\",\"blue\",\"green\",\"green\",\"green\",\"blue\",\"red\",\"blue\",\"red\",\"blue\",\"red\",\"blue\",\"blue\",\"blue\",\"blue\",\"blue\",\"green\",\"blue\",\"blue\",\"blue\",\"green\",\"blue\",\"green\",\"blue\",\"blue\",\"green\",\"blue\",\"red\",\"green\",\"blue\",\"green\",\"blue\",\"blue\",\"blue\",\"blue\",\"blue\",\"blue\",\"red\",\"blue\",\"blue\",\"green\",\"blue\",\"red\",\"red\",\"red\",\"blue\",\"blue\",\"blue\",\"blue\",\"red\",\"red\",\"red\",\"blue\",\"blue\",\"red\",\"red\",\"red\",\"blue\",\"blue\",\"blue\",\"blue\",\"blue\",\"red\",\"blue\",\"blue\",\"blue\",\"red\",\"blue\",\"blue\",\"blue\",\"blue\",\"green\",\"blue\",\"blue\",\"blue\",\"blue\",\"blue\",\"red\",\"green\",\"green\",\"red\",\"blue\",\"red\",\"blue\",\"blue\",\"blue\",\"red\",\"red\",\"blue\",\"blue\",\"red\",\"blue\",\"red\",\"blue\",\"red\",\"blue\",\"green\",\"red\",\"blue\",\"blue\",\"blue\",\"green\",\"blue\",\"blue\",\"green\",\"blue\",\"blue\",\"blue\",\"blue\",\"blue\",\"blue\",\"blue\",\"green\",\"blue\",\"red\",\"blue\",\"red\",\"green\",\"blue\",\"blue\",\"red\",\"red\",\"blue\",\"blue\",\"red\",\"green\",\"green\",\"blue\",\"blue\",\"red\",\"blue\",\"blue\",\"blue\",\"blue\",\"red\",\"blue\",\"green\",\"red\",\"red\",\"green\",\"blue\",\"blue\",\"green\",\"blue\",\"green\",\"blue\",\"blue\",\"green\",\"blue\",\"blue\",\"green\",\"blue\",\"blue\",\"blue\",\"blue\",\"blue\",\"blue\",\"green\",\"blue\",\"blue\",\"red\",\"blue\",\"red\",\"blue\",\"blue\",\"blue\",\"red\",\"blue\",\"red\",\"green\",\"blue\",\"blue\",\"blue\",\"blue\",\"red\",\"blue\",\"blue\",\"blue\",\"blue\",\"blue\",\"blue\",\"blue\",\"blue\",\"blue\",\"blue\",\"blue\",\"blue\",\"blue\",\"blue\",\"blue\",\"blue\",\"green\",\"green\",\"red\",\"green\",\"red\",\"blue\",\"red\",\"blue\",\"blue\",\"green\",\"green\",\"blue\",\"green\",\"blue\",\"red\",\"blue\",\"blue\",\"red\",\"red\",\"blue\",\"blue\",\"blue\",\"blue\",\"blue\",\"green\",\"green\",\"blue\",\"blue\",\"blue\",\"green\",\"blue\",\"red\",\"red\",\"red\",\"red\",\"blue\",\"blue\",\"red\",\"blue\",\"blue\"],\"cyl\":[6,8,4,6,4,4,4,4,8,8,4,4,4,8,8,8,4,4,4,3,6,6,8,8,4,4,4,4,6,4,6,8,4,6,4,4,8,8,4,4,4,4,8,8,4,4,4,8,4,6,8,8,4,4,4,4,6,6,6,4,4,6,6,4,6,4,8,8,8,4,8,4,8,8,6,4,6,6,6,4,6,4,4,6,4,4,8,8,4,8,4,8,6,4,4,8,4,6,6,4,4,4,4,4,4,4,6,8,4,5,4,8,4,8,4,8,4,8,8,8,4,4,8,5,4,4,4,6,4,6,8,4,4,8,8,4,6,4,6,4,4,6,6,4,6,4,4,8,4,4,8,8,4,4,6,6,4,4,4,8,4,4,4,4,4,4,8,6,8,4,6,4,8,8,4,8,4,4,8,4,6,4,6,4,4,4,6,6,4,4,8,4,8,6,8,8,6,4,4,4,6,4,6,4,4,4,6,8,4,6,4,4,4,6,6,4,4,4,8,6,8,4,8,4,4,8,6,4,6,6,6,6,4,6,8,4,4,8,4,4,5,4,8,4,8,6,8,4,4,8,6,4,8,3,8,4,8,4,4,6,8,8,4,8,6,4,8,8,8,6,8,8,8,4,6,4,4,4,4,8,4,3,4,4,4,4,4,4,8,6,4,8,4,6,6,4,6,6,4,4,4,8,6,4,4,4,8,4,4,4,6,4,6,8,8,8,6,8,4,8,4,4,4,4,6,8,8,4,8,4,4,8,8,8,4,4,4,8,4,4,8,4,4,4,4,8,8,4,8,4,8,6,6,4,4,4,3,8,6,4,6,4,4,4,4,8,6,6,8,4,4,4,8,8,4,6,4,4,6,8,6,4,6,4,4,6,4,6,4,4,6,4],\"displ\":{\"__ndarray__\":\"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\",\"dtype\":\"float64\",\"shape\":[392]},\"hp\":[88,193,60,98,78,100,75,76,130,140,52,88,84,148,150,130,58,82,65,110,95,110,140,170,78,90,96,95,110,75,132,150,83,85,86,75,140,139,70,52,60,84,138,180,65,67,97,150,70,100,180,129,95,90,83,75,100,85,112,67,65,88,100,75,100,70,145,110,210,80,145,69,150,198,120,92,90,115,95,75,76,67,71,115,84,91,150,215,67,175,60,175,110,95,68,150,67,95,110,105,102,110,89,66,88,75,78,105,70,103,60,150,72,170,90,110,58,152,145,139,83,69,150,67,80,71,46,105,90,110,175,80,74,150,150,65,100,48,105,90,48,105,105,88,100,75,113,190,92,80,165,180,71,97,72,105,90,75,88,155,68,90,84,87,112,87,125,108,142,97,105,75,137,150,88,145,63,95,140,88,85,70,85,115,86,79,120,120,65,110,220,115,170,100,90,225,85,65,97,90,90,49,110,70,92,53,100,190,63,90,67,65,75,100,110,60,93,88,150,100,150,88,225,68,70,208,105,74,90,110,72,97,88,88,129,85,86,150,70,48,77,65,175,90,150,110,130,53,65,158,95,61,215,100,145,68,150,88,67,105,175,160,74,135,100,67,198,180,215,100,225,155,170,81,85,95,80,92,70,149,84,97,52,72,85,52,95,71,140,100,96,150,75,107,110,75,97,133,70,67,112,145,115,98,70,78,230,63,76,105,95,62,165,165,160,190,95,180,78,120,80,75,68,67,95,140,110,72,150,95,54,153,130,170,86,97,90,145,86,79,165,83,64,92,72,140,150,96,150,80,130,100,125,90,94,76,90,150,97,85,81,78,46,84,70,153,116,100,167,88,88,88,200,125,92,110,69,67,90,150,90,71,105,62,88,122,65,88,90,68,110,88],\"index\":[0,1,2,3,4,5,6,7,8,9,10,11,12,13,14,15,16,17,18,19,20,21,22,23,24,25,26,27,28,29,30,31,32,33,34,35,36,37,38,39,40,41,42,43,44,45,46,47,48,49,50,51,52,53,54,55,56,57,58,59,60,61,62,63,64,65,66,67,68,69,70,71,72,73,74,75,76,77,78,79,80,81,82,83,84,85,86,87,88,89,90,91,92,93,94,95,96,97,98,99,100,101,102,103,104,105,106,107,108,109,110,111,112,113,114,115,116,117,118,119,120,121,122,123,124,125,126,127,128,129,130,131,132,133,134,135,136,137,138,139,140,141,142,143,144,145,146,147,148,149,150,151,152,153,154,155,156,157,158,159,160,161,162,163,164,165,166,167,168,169,170,171,172,173,174,175,176,177,178,179,180,181,182,183,184,185,186,187,188,189,190,191,192,193,194,195,196,197,198,199,200,201,202,203,204,205,206,207,208,209,210,211,212,213,214,215,216,217,218,219,220,221,222,223,224,225,226,227,228,229,230,231,232,233,234,235,236,237,238,239,240,241,242,243,244,245,246,247,248,249,250,251,252,253,254,255,256,257,258,259,260,261,262,263,264,265,266,267,268,269,270,271,272,273,274,275,276,277,278,279,280,281,282,283,284,285,286,287,288,289,290,291,292,293,294,295,296,297,298,299,300,301,302,303,304,305,306,307,308,309,310,311,312,313,314,315,316,317,318,319,320,321,322,323,324,325,326,327,328,329,330,331,332,333,334,335,336,337,338,339,340,341,342,343,344,345,346,347,348,349,350,351,352,353,354,355,356,357,358,359,360,361,362,363,364,365,366,367,368,369,370,371,372,373,374,375,376,377,378,379,380,381,382,383,384,385,386,387,388,389,390,391],\"mpg\":{\"__ndarray__\":\"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\",\"dtype\":\"float64\",\"shape\":[392]},\"name\":[\"ford mustang\",\"hi 1200d\",\"honda civic cvcc\",\"ford granada\",\"audi 4000\",\"datsun 200sx\",\"toyota corolla\",\"volkswagen 411 (sw)\",\"mercury cougar brougham\",\"ford torino\",\"vw pickup\",\"pontiac sunbird coupe\",\"dodge rampage\",\"ford ltd\",\"chevrolet monte carlo\",\"chevrolet chevelle concours (sw)\",\"renault 5 gtl\",\"chevy s-10\",\"toyota corolla 1200\",\"mazda rx-4\",\"plymouth valiant custom\",\"buick century\",\"ford gran torino\",\"dodge challenger se\",\"pontiac astro\",\"fiat 124 sport coupe\",\"toyota celica gt\",\"toyota corona mark ii\",\"buick skyhawk\",\"mazda 626\",\"datsun 280-zx\",\"amc matador (sw)\",\"ford pinto\",\"chrysler lebaron salon\",\"fiat 131\",\"opel manta\",\"ford gran torino (sw)\",\"ford futura\",\"mercury lynx l\",\"chevrolet chevette\",\"honda civic 1300\",\"dodge charger 2.2\",\"mercury grand marquis\",\"pontiac grand prix lj\",\"ford escort 2h\",\"datsun b210\",\"datsun 510\",\"dodge coronet custom (sw)\",\"chevrolet chevette\",\"chevrolet nova\",\"dodge monaco (sw)\",\"ford ltd landau\",\"toyota corona\",\"buick skylark limited\",\"audi fox\",\"dodge omni\",\"amc gremlin\",\"mercury zephyr\",\"ford granada l\",\"honda civic\",\"toyota corolla 1200\",\"ford torino 500\",\"chevrolet chevelle malibu classic\",\"chevrolet vega\",\"plymouth valiant\",\"plymouth cricket\",\"chevy c10\",\"oldsmobile cutlass salon brougham\",\"dodge d200\",\"dodge colt (sw)\",\"dodge monaco brougham\",\"renault 12 (sw)\",\"plymouth fury gran sedan\",\"mercury marquis brougham\",\"datsun 810 maxima\",\"capri ii\",\"amc hornet\",\"oldsmobile omega brougham\",\"plymouth duster\",\"fiat 124 tc\",\"volvo diesel\",\"fiat x1.9\",\"peugeot 504\",\"pontiac lemans v6\",\"dodge aries se\",\"audi 100ls\",\"buick century luxus (sw)\",\"plymouth fury iii\",\"datsun 310 gx\",\"pontiac safari (sw)\",\"chevrolet woody\",\"buick century 350\",\"buick century limited\",\"toyota corona hardtop\",\"mazda glc 4\",\"chevrolet caprice classic\",\"honda civic 1500 gl\",\"chevrolet malibu\",\"amc hornet sportabout (sw)\",\"plymouth sapporo\",\"volvo 245\",\"saab 99le\",\"ford mustang ii 2+2\",\"ford fiesta\",\"peugeot 504\",\"fiat 128\",\"ford granada ghia\",\"oldsmobile cutlass ls\",\"datsun b-210\",\"audi 5000\",\"volkswagen model 111\",\"amc ambassador sst\",\"chevrolet vega\",\"ford country squire (sw)\",\"audi 100 ls\",\"oldsmobile cutlass supreme\",\"toyota starlet\",\"ford gran torino\",\"chevrolet malibu\",\"mercury monarch ghia\",\"renault 12tl\",\"datsun 1200\",\"dodge coronet custom\",\"audi 5000s (diesel)\",\"buick opel isuzu deluxe\",\"vw rabbit custom\",\"volkswagen 1131 deluxe sedan\",\"plymouth satellite custom\",\"chevrolet vega\",\"dodge aspen\",\"pontiac catalina brougham\",\"dodge colt hardtop\",\"volkswagen jetta\",\"plymouth fury iii\",\"chrysler lebaron town @ country (sw)\",\"datsun 310\",\"amc matador\",\"vw rabbit c (diesel)\",\"chevrolet nova\",\"chevrolet vega 2300\",\"vw dasher (diesel)\",\"buick century special\",\"pontiac phoenix lj\",\"ford fairmont\",\"amc hornet\",\"toyota corolla\",\"bmw 2002\",\"chrysler newport royal\",\"dodge aries wagon (sw)\",\"peugeot 505s turbo diesel\",\"chevrolet impala\",\"cadillac seville\",\"volkswagen scirocco\",\"honda civic\",\"ford maverick\",\"plymouth satellite sebring\",\"pontiac phoenix\",\"toyota corolla\",\"datsun pl510\",\"buick lesabre custom\",\"mazda glc custom\",\"chevrolet citation\",\"plymouth reliant\",\"peugeot 504 (sw)\",\"volvo 144ea\",\"peugeot 504\",\"cadillac eldorado\",\"toyota mark ii\",\"ford country squire (sw)\",\"datsun 200-sx\",\"chevrolet nova\",\"toyota corolla\",\"ford gran torino\",\"dodge dart custom\",\"chevrolet cavalier wagon\",\"chevrolet bel air\",\"chevrolet chevette\",\"saab 99e\",\"chevrolet chevelle malibu classic\",\"chevrolet cavalier 2-door\",\"oldsmobile cutlass ciera (diesel)\",\"peugeot 304\",\"mercury zephyr 6\",\"saab 99le\",\"ford pinto runabout\",\"dodge colt\",\"mercedes-benz 280s\",\"amc concord d/l\",\"mazda glc\",\"bmw 320i\",\"chevrolet impala\",\"saab 99gle\",\"chevrolet monte carlo landau\",\"plymouth volare\",\"oldsmobile cutlass salon brougham\",\"buick electra 225 custom\",\"ford fairmont (auto)\",\"ford escort 4w\",\"toyouta corona mark ii (sw)\",\"amc concord\",\"amc pacer\",\"fiat 128\",\"chevrolet citation\",\"toyota corolla\",\"datsun 510 hatchback\",\"honda civic cvcc\",\"amc gremlin\",\"amc ambassador dpl\",\"plymouth horizon 4\",\"amc concord\",\"honda civic (auto)\",\"maxda glc deluxe\",\"honda prelude\",\"dodge aspen se\",\"amc matador\",\"toyota corolla tercel\",\"subaru\",\"toyota corolla 1600 (sw)\",\"plymouth grand fury\",\"chevrolet chevelle malibu\",\"plymouth volare premier v8\",\"chevrolet cavalier\",\"buick estate wagon (sw)\",\"honda accord cvcc\",\"plymouth horizon tc3\",\"mercury marquis\",\"chevroelt chevelle malibu\",\"mazda 626\",\"dodge aspen\",\"pontiac ventura sj\",\"mercury monarch\",\"amc hornet\",\"triumph tr7 coupe\",\"ford granada gl\",\"ford mustang ii\",\"pontiac j2000 se hatchback\",\"ford pinto (sw)\",\"chevrolet impala\",\"datsun f-10 hatchback\",\"volkswagen rabbit custom diesel\",\"mercedes benz 300d\",\"datsun 210\",\"pontiac catalina\",\"toyota corona liftback\",\"dodge coronet brougham\",\"dodge aspen 6\",\"chevrolet chevelle malibu\",\"honda civic\",\"datsun 210\",\"ford ltd\",\"plymouth duster\",\"datsun 710\",\"chrysler new yorker brougham\",\"mazda rx-7 gs\",\"chevrolet monte carlo landau\",\"mazda glc custom l\",\"plymouth satellite\",\"peugeot 504\",\"subaru\",\"plymouth valiant\",\"amc ambassador brougham\",\"oldsmobile delta 88 royale\",\"volkswagen rabbit l\",\"dodge st. regis\",\"amc gremlin\",\"mercedes-benz 240d\",\"ford galaxie 500\",\"oldsmobile omega\",\"ford f250\",\"chevrolet nova custom\",\"pontiac catalina\",\"buick estate wagon (sw)\",\"plymouth custom suburb\",\"opel 1900\",\"ford maverick\",\"toyota celica gt liftback\",\"ford pinto\",\"datsun 510 (sw)\",\"volkswagen rabbit\",\"ford thunderbird\",\"buick skylark\",\"mazda rx2 coupe\",\"mazda glc deluxe\",\"chevrolet vega (sw)\",\"ford pinto\",\"toyota corona\",\"audi 100ls\",\"volkswagen rabbit\",\"dodge magnum xe\",\"pontiac firebird\",\"toyota corona\",\"amc matador (sw)\",\"dodge colt\",\"mercury capri v6\",\"buick century\",\"honda accord\",\"ford pinto\",\"peugeot 604sl\",\"datsun b210 gx\",\"subaru dl\",\"volvo 145e (sw)\",\"chevrolet caprice classic\",\"chevrolet citation\",\"volvo 244dl\",\"plymouth horizon\",\"volkswagen dasher\",\"pontiac grand prix\",\"plymouth horizon miser\",\"vw rabbit\",\"dodge colt\",\"plymouth duster\",\"vokswagen rabbit\",\"buick regal sport coupe (turbo)\",\"buick skylark 320\",\"plymouth 'cuda 340\",\"chrysler cordoba\",\"amc pacer d/l\",\"oldsmobile vista cruiser\",\"volkswagen rabbit custom\",\"amc matador\",\"dodge colt hatchback custom\",\"toyota corolla liftback\",\"chevrolet chevette\",\"subaru dl\",\"plymouth fury\",\"ford gran torino (sw)\",\"chevrolet monza 2+2\",\"honda accord\",\"amc rebel sst\",\"toyota corona\",\"volkswagen type 3\",\"ford galaxie 500\",\"chevrolet caprice classic\",\"pontiac catalina\",\"mercury capri 2000\",\"datsun 710\",\"pontiac phoenix\",\"chevrolet monte carlo s\",\"ford mustang gl\",\"ford ranger\",\"chevrolet impala\",\"dodge colt m/m\",\"plymouth champ\",\"ford fairmont futura\",\"ford pinto\",\"dodge diplomat\",\"plymouth fury iii\",\"plymouth arrow gs\",\"amc matador\",\"amc spirit dl\",\"ford f108\",\"plymouth volare custom\",\"volvo 264gl\",\"opel 1900\",\"datsun 610\",\"fiat 124b\",\"maxda rx3\",\"plymouth satellite custom (sw)\",\"datsun 810\",\"oldsmobile starfire sx\",\"ford maverick\",\"opel manta\",\"volkswagen super beetle\",\"plymouth reliant\",\"vw rabbit\",\"ford galaxie 500\",\"toyota cressida\",\"amc hornet\",\"ford country\",\"toyota carina\",\"datsun pl510\",\"ford fairmont 4\",\"chevy c20\",\"chevrolet malibu classic (sw)\",\"chrysler lebaron medallion\",\"amc matador\",\"fiat strada custom\",\"volkswagen dasher\",\"amc concord dl 6\",\"dodge d100\",\"amc gremlin\",\"volkswagen dasher\",\"buick skylark\",\"toyota tercel\",\"nissan stanza xe\",\"toyota mark ii\",\"datsun 210 mpg\",\"ford maverick\",\"chevrolet camaro\",\"honda accord lx\",\"chevrolet concours\",\"ford fairmont (man)\"],\"origin\":[\"US\",\"US\",\"Asia\",\"US\",\"Europe\",\"Asia\",\"Asia\",\"Europe\",\"US\",\"US\",\"Europe\",\"US\",\"US\",\"US\",\"US\",\"US\",\"Europe\",\"US\",\"Asia\",\"Asia\",\"US\",\"US\",\"US\",\"US\",\"US\",\"Europe\",\"Asia\",\"Asia\",\"US\",\"Asia\",\"Asia\",\"US\",\"US\",\"US\",\"Europe\",\"Europe\",\"US\",\"US\",\"US\",\"US\",\"Asia\",\"US\",\"US\",\"US\",\"US\",\"Asia\",\"Asia\",\"US\",\"US\",\"US\",\"US\",\"US\",\"Asia\",\"US\",\"Europe\",\"US\",\"US\",\"US\",\"US\",\"Asia\",\"Asia\",\"US\",\"US\",\"US\",\"US\",\"US\",\"US\",\"US\",\"US\",\"US\",\"US\",\"Europe\",\"US\",\"US\",\"Asia\",\"US\",\"US\",\"US\",\"US\",\"Europe\",\"Europe\",\"Europe\",\"Europe\",\"US\",\"US\",\"Europe\",\"US\",\"US\",\"Asia\",\"US\",\"US\",\"US\",\"US\",\"Asia\",\"Asia\",\"US\",\"Asia\",\"US\",\"US\",\"US\",\"Europe\",\"Europe\",\"US\",\"US\",\"Europe\",\"Europe\",\"US\",\"US\",\"Asia\",\"Europe\",\"Europe\",\"US\",\"US\",\"US\",\"Europe\",\"US\",\"Asia\",\"US\",\"US\",\"US\",\"Europe\",\"Asia\",\"US\",\"Europe\",\"US\",\"Europe\",\"Europe\",\"US\",\"US\",\"US\",\"US\",\"US\",\"Europe\",\"US\",\"US\",\"Asia\",\"US\",\"Europe\",\"US\",\"US\",\"Europe\",\"US\",\"US\",\"US\",\"US\",\"Asia\",\"Europe\",\"US\",\"US\",\"Europe\",\"US\",\"US\",\"Europe\",\"Asia\",\"US\",\"US\",\"US\",\"Asia\",\"Asia\",\"US\",\"Asia\",\"US\",\"US\",\"Europe\",\"Europe\",\"Europe\",\"US\",\"Asia\",\"US\",\"Asia\",\"US\",\"Asia\",\"US\",\"US\",\"US\",\"US\",\"US\",\"Europe\",\"US\",\"US\",\"US\",\"Europe\",\"US\",\"Europe\",\"US\",\"US\",\"Europe\",\"US\",\"Asia\",\"Europe\",\"US\",\"Europe\",\"US\",\"US\",\"US\",\"US\",\"US\",\"US\",\"Asia\",\"US\",\"US\",\"Europe\",\"US\",\"Asia\",\"Asia\",\"Asia\",\"US\",\"US\",\"US\",\"US\",\"Asia\",\"Asia\",\"Asia\",\"US\",\"US\",\"Asia\",\"Asia\",\"Asia\",\"US\",\"US\",\"US\",\"US\",\"US\",\"Asia\",\"US\",\"US\",\"US\",\"Asia\",\"US\",\"US\",\"US\",\"US\",\"Europe\",\"US\",\"US\",\"US\",\"US\",\"US\",\"Asia\",\"Europe\",\"Europe\",\"Asia\",\"US\",\"Asia\",\"US\",\"US\",\"US\",\"Asia\",\"Asia\",\"US\",\"US\",\"Asia\",\"US\",\"Asia\",\"US\",\"Asia\",\"US\",\"Europe\",\"Asia\",\"US\",\"US\",\"US\",\"Europe\",\"US\",\"US\",\"Europe\",\"US\",\"US\",\"US\",\"US\",\"US\",\"US\",\"US\",\"Europe\",\"US\",\"Asia\",\"US\",\"Asia\",\"Europe\",\"US\",\"US\",\"Asia\",\"Asia\",\"US\",\"US\",\"Asia\",\"Europe\",\"Europe\",\"US\",\"US\",\"Asia\",\"US\",\"US\",\"US\",\"US\",\"Asia\",\"US\",\"Europe\",\"Asia\",\"Asia\",\"Europe\",\"US\",\"US\",\"Europe\",\"US\",\"Europe\",\"US\",\"US\",\"Europe\",\"US\",\"US\",\"Europe\",\"US\",\"US\",\"US\",\"US\",\"US\",\"US\",\"Europe\",\"US\",\"US\",\"Asia\",\"US\",\"Asia\",\"US\",\"US\",\"US\",\"Asia\",\"US\",\"Asia\",\"Europe\",\"US\",\"US\",\"US\",\"US\",\"Asia\",\"US\",\"US\",\"US\",\"US\",\"US\",\"US\",\"US\",\"US\",\"US\",\"US\",\"US\",\"US\",\"US\",\"US\",\"US\",\"US\",\"Europe\",\"Europe\",\"Asia\",\"Europe\",\"Asia\",\"US\",\"Asia\",\"US\",\"US\",\"Europe\",\"Europe\",\"US\",\"Europe\",\"US\",\"Asia\",\"US\",\"US\",\"Asia\",\"Asia\",\"US\",\"US\",\"US\",\"US\",\"US\",\"Europe\",\"Europe\",\"US\",\"US\",\"US\",\"Europe\",\"US\",\"Asia\",\"Asia\",\"Asia\",\"Asia\",\"US\",\"US\",\"Asia\",\"US\",\"US\"],\"size\":{\"__ndarray__\":\"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\",\"dtype\":\"float64\",\"shape\":[392]},\"weight\":[3139,4732,1800,3525,2188,2615,2265,2511,4295,3449,2130,2740,2295,4657,3761,4098,1825,2720,1836,2720,3264,3907,4141,3563,2592,2265,2665,2372,3039,2542,2910,3892,2639,3465,2464,2158,4638,3205,2125,2035,1760,2370,3955,4220,2380,1950,2300,4457,2120,3336,4955,3725,2228,2670,2219,2230,2914,3070,2835,1965,1773,3302,3781,2542,3233,1955,4055,3365,4382,2164,4140,2189,4237,4952,2930,2572,3085,2700,2904,2246,3160,2000,3190,3245,2525,2582,4699,4312,1995,5140,2164,4100,2945,2278,1985,4464,1850,3155,2962,2745,3150,2660,2755,1800,2957,2108,3574,3725,1990,2830,1834,3672,2401,4746,2430,4060,1755,4215,3988,3570,2202,1613,3777,2950,2155,1925,1835,3439,2408,3620,4464,2126,2190,4096,3940,2019,3288,2085,3459,2264,2335,3380,3535,2870,2945,2155,2234,4422,2620,3230,4274,4380,1990,2489,3158,3613,2556,2350,2130,4502,1970,2678,2490,2979,2868,2672,3900,2930,4054,2405,3353,2171,4042,3399,2640,4440,2051,2375,4215,2395,3015,2074,2990,2671,2226,2255,3820,3410,2110,2600,4354,2795,4165,3430,3420,4951,2965,2045,2506,3003,3211,1867,2725,2245,2434,1795,2789,3850,2215,3210,1965,1975,2210,3651,3730,1968,2391,2100,4498,3329,3940,2605,3086,2045,2150,4633,3897,2635,3381,3645,3432,2774,2500,3060,3169,2575,2395,4997,1945,1985,3530,2110,4385,2711,4190,3360,3504,1795,2020,4363,3102,2003,4735,2420,3425,2025,3436,3270,2065,3121,3821,4456,1980,3830,2634,3250,4341,3664,4615,3278,4425,4360,4654,2220,2587,2515,2451,2288,1937,4335,2635,2330,1985,2408,2310,1649,2694,1825,4080,3282,2702,4257,2125,2472,3415,2205,2984,3410,2070,1985,2933,3880,2595,2945,2200,2190,4278,2125,2144,2800,2833,1845,3445,3693,3609,4325,3193,4499,1940,3962,1915,2265,2155,2145,3785,4294,3221,2290,3433,2560,2254,4129,3840,4668,2220,2545,2735,4082,2790,2625,4209,2075,1875,2865,2565,3735,4135,2300,3672,2670,3870,3630,3140,2123,2379,2065,2124,4077,2815,2855,3012,2300,1950,2385,1937,4154,2900,2901,4906,2279,2130,2890,4376,3605,2585,3632,2130,1963,3265,3755,2648,2223,3425,2050,2160,2807,1975,3021,2950,2135,3520,2720],\"yr\":[71,70,78,77,80,81,80,72,77,70,82,77,82,75,70,72,77,82,74,77,75,75,74,70,75,73,82,70,75,80,80,72,75,81,76,73,74,78,82,76,81,82,79,77,81,74,78,74,80,74,71,79,71,79,74,78,75,78,82,82,71,71,74,74,76,71,76,78,70,72,77,72,73,73,81,76,76,79,73,74,81,74,79,79,82,73,74,70,82,71,76,73,82,72,81,73,80,78,71,78,76,73,77,78,75,74,76,81,76,78,71,72,73,71,70,77,81,76,73,78,76,71,73,80,77,79,70,71,72,78,71,72,81,71,79,80,71,80,75,71,80,78,78,80,73,76,70,72,81,81,72,76,78,74,75,74,79,81,70,72,82,80,81,72,73,70,79,76,79,78,76,75,73,73,82,75,77,70,76,82,82,71,79,75,72,76,76,78,80,77,70,78,77,78,79,73,78,81,72,80,75,73,81,82,80,75,73,70,81,78,82,79,81,76,75,80,74,72,75,71,76,82,70,77,79,72,75,81,80,76,75,70,80,81,75,82,72,73,77,78,79,80,72,80,76,79,70,76,79,73,74,74,73,80,78,82,70,76,81,73,73,72,82,79,71,80,70,73,70,73,70,79,73,76,70,78,74,72,75,77,81,72,78,71,73,74,75,76,78,71,75,74,74,73,81,82,75,78,78,77,72,77,79,75,79,77,73,82,80,80,70,80,78,70,70,77,76,73,77,76,79,77,78,80,75,72,75,80,70,78,72,72,79,75,71,75,82,73,82,82,71,77,81,82,76,78,72,77,73,79,76,77,78,71,73,71,73,72,77,78,76,74,73,81,76,71,81,74,73,73,71,79,70,79,82,74,79,74,79,76,70,75,77,81,82,73,81,73,82,78,77,78]},\"selected\":{\"id\":\"1844\",\"type\":\"Selection\"},\"selection_policy\":{\"id\":\"1843\",\"type\":\"UnionRenderers\"}},\"id\":\"1668\",\"type\":\"ColumnDataSource\"},{\"attributes\":{},\"id\":\"1841\",\"type\":\"BasicTickFormatter\"},{\"attributes\":{},\"id\":\"1835\",\"type\":\"BasicTickFormatter\"},{\"attributes\":{},\"id\":\"1763\",\"type\":\"BasicTicker\"},{\"attributes\":{\"active_drag\":\"auto\",\"active_inspect\":\"auto\",\"active_multi\":null,\"active_scroll\":\"auto\",\"active_tap\":\"auto\",\"tools\":[{\"id\":\"1767\",\"type\":\"PanTool\"},{\"id\":\"1768\",\"type\":\"WheelZoomTool\"},{\"id\":\"1769\",\"type\":\"BoxZoomTool\"},{\"id\":\"1770\",\"type\":\"SaveTool\"},{\"id\":\"1771\",\"type\":\"ResetTool\"},{\"id\":\"1772\",\"type\":\"HelpTool\"}]},\"id\":\"1773\",\"type\":\"Toolbar\"},{\"attributes\":{},\"id\":\"1768\",\"type\":\"WheelZoomTool\"},{\"attributes\":{},\"id\":\"1767\",\"type\":\"PanTool\"},{\"attributes\":{\"overlay\":{\"id\":\"1775\",\"type\":\"BoxAnnotation\"}},\"id\":\"1769\",\"type\":\"BoxZoomTool\"},{\"attributes\":{},\"id\":\"1772\",\"type\":\"HelpTool\"},{\"attributes\":{\"source\":{\"id\":\"1747\",\"type\":\"ColumnDataSource\"}},\"id\":\"1786\",\"type\":\"CDSView\"},{\"attributes\":{\"plot\":{\"id\":\"1669\",\"subtype\":\"Figure\",\"type\":\"Plot\"},\"ticker\":{\"id\":\"1679\",\"type\":\"BasicTicker\"}},\"id\":\"1682\",\"type\":\"Grid\"},{\"attributes\":{},\"id\":\"1771\",\"type\":\"ResetTool\"},{\"attributes\":{\"fill_color\":{\"value\":\"#1f77b4\"},\"line_color\":{\"value\":\"#1f77b4\"},\"x\":{\"field\":\"hp\"},\"y\":{\"field\":\"mpg\"}},\"id\":\"1704\",\"type\":\"Circle\"},{\"attributes\":{},\"id\":\"1770\",\"type\":\"SaveTool\"},{\"attributes\":{},\"id\":\"1674\",\"type\":\"LinearScale\"},{\"attributes\":{\"below\":[{\"id\":\"1717\",\"type\":\"LinearAxis\"}],\"left\":[{\"id\":\"1722\",\"type\":\"LinearAxis\"}],\"renderers\":[{\"id\":\"1717\",\"type\":\"LinearAxis\"},{\"id\":\"1721\",\"type\":\"Grid\"},{\"id\":\"1722\",\"type\":\"LinearAxis\"},{\"id\":\"1726\",\"type\":\"Grid\"},{\"id\":\"1735\",\"type\":\"BoxAnnotation\"},{\"id\":\"1745\",\"type\":\"GlyphRenderer\"}],\"sizing_mode\":\"scale_width\",\"title\":{\"id\":\"1829\",\"type\":\"Title\"},\"toolbar\":{\"id\":\"1733\",\"type\":\"Toolbar\"},\"x_range\":{\"id\":\"1709\",\"type\":\"DataRange1d\"},\"x_scale\":{\"id\":\"1713\",\"type\":\"LinearScale\"},\"y_range\":{\"id\":\"1711\",\"type\":\"DataRange1d\"},\"y_scale\":{\"id\":\"1715\",\"type\":\"LinearScale\"}},\"id\":\"1708\",\"subtype\":\"Figure\",\"type\":\"Plot\"},{\"attributes\":{},\"id\":\"1837\",\"type\":\"BasicTickFormatter\"},{\"attributes\":{\"callback\":null},\"id\":\"1670\",\"type\":\"DataRange1d\"},{\"attributes\":{},\"id\":\"1832\",\"type\":\"UnionRenderers\"},{\"attributes\":{\"line_alpha\":0.1,\"line_color\":\"#1f77b4\",\"x\":{\"field\":\"yr\"},\"y\":{\"field\":\"mpg\"}},\"id\":\"1784\",\"type\":\"Line\"},{\"attributes\":{},\"id\":\"1728\",\"type\":\"WheelZoomTool\"},{\"attributes\":{\"bottom_units\":\"screen\",\"fill_alpha\":{\"value\":0.5},\"fill_color\":{\"value\":\"lightgrey\"},\"left_units\":\"screen\",\"level\":\"overlay\",\"line_alpha\":{\"value\":1.0},\"line_color\":{\"value\":\"black\"},\"line_dash\":[4,4],\"line_width\":{\"value\":2},\"plot\":null,\"render_mode\":\"css\",\"right_units\":\"screen\",\"top_units\":\"screen\"},\"id\":\"1775\",\"type\":\"BoxAnnotation\"},{\"attributes\":{},\"id\":\"1833\",\"type\":\"Selection\"},{\"attributes\":{\"callback\":null},\"id\":\"1751\",\"type\":\"DataRange1d\"},{\"attributes\":{},\"id\":\"1753\",\"type\":\"LinearScale\"},{\"attributes\":{\"data_source\":{\"id\":\"1668\",\"type\":\"ColumnDataSource\"},\"glyph\":{\"id\":\"1704\",\"type\":\"Circle\"},\"hover_glyph\":null,\"muted_glyph\":null,\"nonselection_glyph\":{\"id\":\"1705\",\"type\":\"Circle\"},\"selection_glyph\":null,\"view\":{\"id\":\"1707\",\"type\":\"CDSView\"}},\"id\":\"1706\",\"type\":\"GlyphRenderer\"},{\"attributes\":{\"axis_label\":\"mpg\",\"formatter\":{\"id\":\"1837\",\"type\":\"BasicTickFormatter\"},\"plot\":{\"id\":\"1669\",\"subtype\":\"Figure\",\"type\":\"Plot\"},\"ticker\":{\"id\":\"1684\",\"type\":\"BasicTicker\"}},\"id\":\"1683\",\"type\":\"LinearAxis\"},{\"attributes\":{\"active_drag\":\"auto\",\"active_inspect\":\"auto\",\"active_multi\":null,\"active_scroll\":\"auto\",\"active_tap\":\"auto\",\"tools\":[{\"id\":\"1688\",\"type\":\"PanTool\"},{\"id\":\"1689\",\"type\":\"WheelZoomTool\"},{\"id\":\"1690\",\"type\":\"BoxZoomTool\"},{\"id\":\"1691\",\"type\":\"SaveTool\"},{\"id\":\"1692\",\"type\":\"ResetTool\"},{\"id\":\"1693\",\"type\":\"HelpTool\"}]},\"id\":\"1694\",\"type\":\"Toolbar\"},{\"attributes\":{\"fill_color\":{\"value\":\"#1f77b4\"},\"line_color\":{\"value\":\"#1f77b4\"},\"x\":{\"field\":\"weight\"},\"y\":{\"field\":\"mpg\"}},\"id\":\"1743\",\"type\":\"Circle\"},{\"attributes\":{\"active_drag\":\"auto\",\"active_inspect\":\"auto\",\"active_multi\":null,\"active_scroll\":\"auto\",\"active_tap\":\"auto\",\"tools\":[{\"id\":\"1727\",\"type\":\"PanTool\"},{\"id\":\"1728\",\"type\":\"WheelZoomTool\"},{\"id\":\"1729\",\"type\":\"BoxZoomTool\"},{\"id\":\"1730\",\"type\":\"SaveTool\"},{\"id\":\"1731\",\"type\":\"ResetTool\"},{\"id\":\"1732\",\"type\":\"HelpTool\"}]},\"id\":\"1733\",\"type\":\"Toolbar\"},{\"attributes\":{\"callback\":null},\"id\":\"1749\",\"type\":\"DataRange1d\"},{\"attributes\":{\"plot\":null,\"text\":\"\"},\"id\":\"1827\",\"type\":\"Title\"},{\"attributes\":{\"axis_label\":\"hp\",\"formatter\":{\"id\":\"1835\",\"type\":\"BasicTickFormatter\"},\"plot\":{\"id\":\"1669\",\"subtype\":\"Figure\",\"type\":\"Plot\"},\"ticker\":{\"id\":\"1679\",\"type\":\"BasicTicker\"}},\"id\":\"1678\",\"type\":\"LinearAxis\"},{\"attributes\":{\"data_source\":{\"id\":\"1747\",\"type\":\"ColumnDataSource\"},\"glyph\":{\"id\":\"1783\",\"type\":\"Line\"},\"hover_glyph\":null,\"muted_glyph\":null,\"nonselection_glyph\":{\"id\":\"1784\",\"type\":\"Line\"},\"selection_glyph\":null,\"view\":{\"id\":\"1786\",\"type\":\"CDSView\"}},\"id\":\"1785\",\"type\":\"GlyphRenderer\"},{\"attributes\":{\"below\":[{\"id\":\"1678\",\"type\":\"LinearAxis\"}],\"left\":[{\"id\":\"1683\",\"type\":\"LinearAxis\"}],\"renderers\":[{\"id\":\"1678\",\"type\":\"LinearAxis\"},{\"id\":\"1682\",\"type\":\"Grid\"},{\"id\":\"1683\",\"type\":\"LinearAxis\"},{\"id\":\"1687\",\"type\":\"Grid\"},{\"id\":\"1696\",\"type\":\"BoxAnnotation\"},{\"id\":\"1706\",\"type\":\"GlyphRenderer\"}],\"sizing_mode\":\"scale_width\",\"title\":{\"id\":\"1827\",\"type\":\"Title\"},\"toolbar\":{\"id\":\"1694\",\"type\":\"Toolbar\"},\"x_range\":{\"id\":\"1670\",\"type\":\"DataRange1d\"},\"x_scale\":{\"id\":\"1674\",\"type\":\"LinearScale\"},\"y_range\":{\"id\":\"1672\",\"type\":\"DataRange1d\"},\"y_scale\":{\"id\":\"1676\",\"type\":\"LinearScale\"}},\"id\":\"1669\",\"subtype\":\"Figure\",\"type\":\"Plot\"},{\"attributes\":{\"plot\":null,\"text\":\"\"},\"id\":\"1821\",\"type\":\"Title\"},{\"attributes\":{},\"id\":\"1684\",\"type\":\"BasicTicker\"},{\"attributes\":{\"plot\":null,\"text\":\"\"},\"id\":\"1829\",\"type\":\"Title\"},{\"attributes\":{},\"id\":\"1826\",\"type\":\"BasicTickFormatter\"},{\"attributes\":{},\"id\":\"1689\",\"type\":\"WheelZoomTool\"},{\"attributes\":{},\"id\":\"1824\",\"type\":\"BasicTickFormatter\"},{\"attributes\":{},\"id\":\"1844\",\"type\":\"Selection\"},{\"attributes\":{\"callback\":null,\"data\":{\"index\":[0,1,2,3,4,5,6,7,8,9,10,11,12],\"mpg\":{\"__ndarray__\":\"1AjLPY2wMUDHcRzHcRw1QG7btm3btjJAmpmZmZkZMUBP7MRO7MQ2QERERERERDRA09LS0tKSNUAAAAAAAGA3QPukT/qkDzhAWn2poNUXOUBtilHD3+ZAQPmKr/iKLz5AAAAAAAAAQEA=\",\"dtype\":\"float64\",\"shape\":[13]},\"yr\":[70,71,72,73,74,75,76,77,78,79,80,81,82]},\"selected\":{\"id\":\"1833\",\"type\":\"Selection\"},\"selection_policy\":{\"id\":\"1832\",\"type\":\"UnionRenderers\"}},\"id\":\"1747\",\"type\":\"ColumnDataSource\"},{\"attributes\":{\"dimension\":1,\"plot\":{\"id\":\"1669\",\"subtype\":\"Figure\",\"type\":\"Plot\"},\"ticker\":{\"id\":\"1684\",\"type\":\"BasicTicker\"}},\"id\":\"1687\",\"type\":\"Grid\"},{\"attributes\":{\"overlay\":{\"id\":\"1696\",\"type\":\"BoxAnnotation\"}},\"id\":\"1690\",\"type\":\"BoxZoomTool\"},{\"attributes\":{},\"id\":\"1839\",\"type\":\"BasicTickFormatter\"},{\"attributes\":{},\"id\":\"1692\",\"type\":\"ResetTool\"},{\"attributes\":{},\"id\":\"1688\",\"type\":\"PanTool\"},{\"attributes\":{},\"id\":\"1843\",\"type\":\"UnionRenderers\"},{\"attributes\":{},\"id\":\"1691\",\"type\":\"SaveTool\"},{\"attributes\":{\"fill_alpha\":{\"value\":0.1},\"fill_color\":{\"value\":\"#1f77b4\"},\"line_alpha\":{\"value\":0.1},\"line_color\":{\"value\":\"#1f77b4\"},\"x\":{\"field\":\"hp\"},\"y\":{\"field\":\"mpg\"}},\"id\":\"1705\",\"type\":\"Circle\"},{\"attributes\":{},\"id\":\"1693\",\"type\":\"HelpTool\"},{\"attributes\":{\"source\":{\"id\":\"1668\",\"type\":\"ColumnDataSource\"}},\"id\":\"1707\",\"type\":\"CDSView\"},{\"attributes\":{\"bottom_units\":\"screen\",\"fill_alpha\":{\"value\":0.5},\"fill_color\":{\"value\":\"lightgrey\"},\"left_units\":\"screen\",\"level\":\"overlay\",\"line_alpha\":{\"value\":1.0},\"line_color\":{\"value\":\"black\"},\"line_dash\":[4,4],\"line_width\":{\"value\":2},\"plot\":null,\"render_mode\":\"css\",\"right_units\":\"screen\",\"top_units\":\"screen\"},\"id\":\"1696\",\"type\":\"BoxAnnotation\"},{\"attributes\":{\"callback\":null},\"id\":\"1709\",\"type\":\"DataRange1d\"},{\"attributes\":{},\"id\":\"1715\",\"type\":\"LinearScale\"},{\"attributes\":{\"callback\":null},\"id\":\"1711\",\"type\":\"DataRange1d\"},{\"attributes\":{},\"id\":\"1713\",\"type\":\"LinearScale\"},{\"attributes\":{},\"id\":\"1718\",\"type\":\"BasicTicker\"},{\"attributes\":{\"axis_label\":\"weight\",\"formatter\":{\"id\":\"1839\",\"type\":\"BasicTickFormatter\"},\"plot\":{\"id\":\"1708\",\"subtype\":\"Figure\",\"type\":\"Plot\"},\"ticker\":{\"id\":\"1718\",\"type\":\"BasicTicker\"}},\"id\":\"1717\",\"type\":\"LinearAxis\"},{\"attributes\":{\"plot\":{\"id\":\"1708\",\"subtype\":\"Figure\",\"type\":\"Plot\"},\"ticker\":{\"id\":\"1718\",\"type\":\"BasicTicker\"}},\"id\":\"1721\",\"type\":\"Grid\"},{\"attributes\":{\"axis_label\":\"mpg\",\"formatter\":{\"id\":\"1841\",\"type\":\"BasicTickFormatter\"},\"plot\":{\"id\":\"1708\",\"subtype\":\"Figure\",\"type\":\"Plot\"},\"ticker\":{\"id\":\"1723\",\"type\":\"BasicTicker\"}},\"id\":\"1722\",\"type\":\"LinearAxis\"},{\"attributes\":{\"overlay\":{\"id\":\"1735\",\"type\":\"BoxAnnotation\"}},\"id\":\"1729\",\"type\":\"BoxZoomTool\"},{\"attributes\":{\"dimension\":1,\"plot\":{\"id\":\"1708\",\"subtype\":\"Figure\",\"type\":\"Plot\"},\"ticker\":{\"id\":\"1723\",\"type\":\"BasicTicker\"}},\"id\":\"1726\",\"type\":\"Grid\"},{\"attributes\":{},\"id\":\"1730\",\"type\":\"SaveTool\"},{\"attributes\":{\"data_source\":{\"id\":\"1668\",\"type\":\"ColumnDataSource\"},\"glyph\":{\"id\":\"1743\",\"type\":\"Circle\"},\"hover_glyph\":null,\"muted_glyph\":null,\"nonselection_glyph\":{\"id\":\"1744\",\"type\":\"Circle\"},\"selection_glyph\":null,\"view\":{\"id\":\"1746\",\"type\":\"CDSView\"}},\"id\":\"1745\",\"type\":\"GlyphRenderer\"},{\"attributes\":{},\"id\":\"1732\",\"type\":\"HelpTool\"},{\"attributes\":{},\"id\":\"1723\",\"type\":\"BasicTicker\"},{\"attributes\":{},\"id\":\"1731\",\"type\":\"ResetTool\"},{\"attributes\":{\"fill_alpha\":{\"value\":0.1},\"fill_color\":{\"value\":\"#1f77b4\"},\"line_alpha\":{\"value\":0.1},\"line_color\":{\"value\":\"#1f77b4\"},\"x\":{\"field\":\"weight\"},\"y\":{\"field\":\"mpg\"}},\"id\":\"1744\",\"type\":\"Circle\"}],\"root_ids\":[\"1788\"]},\"title\":\"Bokeh Application\",\"version\":\"1.0.2\"}};\n",
       "  var render_items = [{\"docid\":\"b5189823-fd74-4896-bc17-d4549321c5d0\",\"roots\":{\"1788\":\"32fb0eba-dfc6-4b5e-ab60-96b9adb9c009\"}}];\n",
       "  root.Bokeh.embed.embed_items_notebook(docs_json, render_items);\n",
       "\n",
       "  }\n",
       "  if (root.Bokeh !== undefined) {\n",
       "    embed_document(root);\n",
       "  } else {\n",
       "    var attempts = 0;\n",
       "    var timer = setInterval(function(root) {\n",
       "      if (root.Bokeh !== undefined) {\n",
       "        embed_document(root);\n",
       "        clearInterval(timer);\n",
       "      }\n",
       "      attempts++;\n",
       "      if (attempts > 100) {\n",
       "        console.log(\"Bokeh: ERROR: Unable to run BokehJS code because BokehJS library is missing\");\n",
       "        clearInterval(timer);\n",
       "      }\n",
       "    }, 10, root)\n",
       "  }\n",
       "})(window);"
      ],
      "application/vnd.bokehjs_exec.v0+json": ""
     },
     "metadata": {
      "application/vnd.bokehjs_exec.v0+json": {
       "id": "1788"
      }
     },
     "output_type": "display_data"
    }
   ],
   "source": [
    "source = ColumnDataSource(df)\n",
    "\n",
    "mpg_hp = figure(x_axis_label='hp', y_axis_label='mpg')\n",
    "mpg_hp.circle('hp', 'mpg', source=source)\n",
    "\n",
    "mpg_weight = figure(x_axis_label='weight', y_axis_label='mpg')\n",
    "mpg_weight.circle('weight', 'mpg', source=source)\n",
    "\n",
    "source2 = ColumnDataSource(df.groupby('yr', as_index=False)['mpg'].mean())                                      \n",
    "\n",
    "avg_mpg = figure(x_axis_label='year', y_axis_label='mean mpg')\n",
    "avg_mpg.line('yr', 'mpg', source=source2)\n",
    "\n",
    "# Make a column layout that will be used as the second row: row2\n",
    "row2 = column([mpg_hp, mpg_weight], sizing_mode='scale_width')\n",
    "\n",
    "# Make a row layout that includes the above column layout: layout\n",
    "layout = row([avg_mpg, row2], sizing_mode='scale_width')\n",
    "\n",
    "# Specify the name of the output_file and show the result\n",
    "output_file('layout_custom.html')\n",
    "show(layout)"
   ]
  },
  {
   "cell_type": "markdown",
   "metadata": {},
   "source": [
    "## Advanced layouts\n",
    "\n",
    "### Gridplots\n",
    "- Give a “list of rows” for layout\n",
    "- can use None as a placeholder\n",
    "- Accepts toolbar_location"
   ]
  },
  {
   "cell_type": "code",
   "execution_count": 9,
   "metadata": {},
   "outputs": [
    {
     "data": {
      "text/html": [
       "<video style=\"display:block; margin: 0 auto;\" controls>\n",
       "      <source src=\"_Docs/02-Advanced_layouts.mp4\" type=\"video/mp4\">\n",
       "</video>\n"
      ],
      "text/plain": [
       "<IPython.core.display.HTML object>"
      ]
     },
     "metadata": {},
     "output_type": "display_data"
    }
   ],
   "source": [
    "%%HTML\n",
    "<video style=\"display:block; margin: 0 auto;\" controls>\n",
    "      <source src=\"_Docs/02-Advanced_layouts.mp4\" type=\"video/mp4\">\n",
    "</video>"
   ]
  },
  {
   "cell_type": "markdown",
   "metadata": {},
   "source": [
    "### Creating gridded layouts\n",
    "Regular grids of Bokeh plots can be generated with `gridplot`.\n",
    "\n",
    "In this example, you're going to display four plots of `fertility` vs `female literacy` for four regions: `Latin America`, `Africa`, `Asia` and `Europe`.\n",
    "\n",
    "Your job is to create a list-of-lists for the four Bokeh plots that have been provided to you as `p1`, `p2`, `p3` and `p4`. The list-of-lists defines the row and column placement of each plot."
   ]
  },
  {
   "cell_type": "code",
   "execution_count": 10,
   "metadata": {},
   "outputs": [
    {
     "data": {
      "text/html": [
       "<div>\n",
       "<style scoped>\n",
       "    .dataframe tbody tr th:only-of-type {\n",
       "        vertical-align: middle;\n",
       "    }\n",
       "\n",
       "    .dataframe tbody tr th {\n",
       "        vertical-align: top;\n",
       "    }\n",
       "\n",
       "    .dataframe thead th {\n",
       "        text-align: right;\n",
       "    }\n",
       "</style>\n",
       "<table border=\"1\" class=\"dataframe\">\n",
       "  <thead>\n",
       "    <tr style=\"text-align: right;\">\n",
       "      <th></th>\n",
       "      <th>Country</th>\n",
       "      <th>Continent</th>\n",
       "      <th>female_literacy</th>\n",
       "      <th>fertility</th>\n",
       "      <th>population</th>\n",
       "    </tr>\n",
       "  </thead>\n",
       "  <tbody>\n",
       "    <tr>\n",
       "      <th>0</th>\n",
       "      <td>Chine</td>\n",
       "      <td>ASI</td>\n",
       "      <td>90.5</td>\n",
       "      <td>1.769</td>\n",
       "      <td>1.324655e+09</td>\n",
       "    </tr>\n",
       "    <tr>\n",
       "      <th>1</th>\n",
       "      <td>Inde</td>\n",
       "      <td>ASI</td>\n",
       "      <td>50.8</td>\n",
       "      <td>2.682</td>\n",
       "      <td>1.139965e+09</td>\n",
       "    </tr>\n",
       "    <tr>\n",
       "      <th>2</th>\n",
       "      <td>USA</td>\n",
       "      <td>NAM</td>\n",
       "      <td>99.0</td>\n",
       "      <td>2.077</td>\n",
       "      <td>3.040600e+08</td>\n",
       "    </tr>\n",
       "  </tbody>\n",
       "</table>\n",
       "</div>"
      ],
      "text/plain": [
       "  Country Continent  female_literacy  fertility    population\n",
       "0   Chine       ASI             90.5      1.769  1.324655e+09\n",
       "1    Inde       ASI             50.8      2.682  1.139965e+09\n",
       "2     USA       NAM             99.0      2.077  3.040600e+08"
      ]
     },
     "execution_count": 10,
     "metadata": {},
     "output_type": "execute_result"
    }
   ],
   "source": [
    "df = pd.read_csv('../_datasets/literacy_birth_rate.csv')\n",
    "df = df.fillna(df.mean())\n",
    "df.columns = ['Country', 'Continent', 'female_literacy', 'fertility', 'population']\n",
    "df.head(3)"
   ]
  },
  {
   "cell_type": "code",
   "execution_count": 11,
   "metadata": {},
   "outputs": [
    {
     "data": {
      "text/html": [
       "<div style=\"display: table;\"><div style=\"display: table-row;\"><div style=\"display: table-cell;\"><b title=\"bokeh.models.renderers.GlyphRenderer\">GlyphRenderer</b>(</div><div style=\"display: table-cell;\">id&nbsp;=&nbsp;'2392', <span id=\"2395\" style=\"cursor: pointer;\">&hellip;)</span></div></div><div class=\"2394\" style=\"display: none;\"><div style=\"display: table-cell;\"></div><div style=\"display: table-cell;\">data_source&nbsp;=&nbsp;ColumnDataSource(id='2229', ...),</div></div><div class=\"2394\" style=\"display: none;\"><div style=\"display: table-cell;\"></div><div style=\"display: table-cell;\">glyph&nbsp;=&nbsp;Circle(id='2390', ...),</div></div><div class=\"2394\" style=\"display: none;\"><div style=\"display: table-cell;\"></div><div style=\"display: table-cell;\">hover_glyph&nbsp;=&nbsp;None,</div></div><div class=\"2394\" style=\"display: none;\"><div style=\"display: table-cell;\"></div><div style=\"display: table-cell;\">js_event_callbacks&nbsp;=&nbsp;{},</div></div><div class=\"2394\" style=\"display: none;\"><div style=\"display: table-cell;\"></div><div style=\"display: table-cell;\">js_property_callbacks&nbsp;=&nbsp;{},</div></div><div class=\"2394\" style=\"display: none;\"><div style=\"display: table-cell;\"></div><div style=\"display: table-cell;\">level&nbsp;=&nbsp;'glyph',</div></div><div class=\"2394\" style=\"display: none;\"><div style=\"display: table-cell;\"></div><div style=\"display: table-cell;\">muted&nbsp;=&nbsp;False,</div></div><div class=\"2394\" style=\"display: none;\"><div style=\"display: table-cell;\"></div><div style=\"display: table-cell;\">muted_glyph&nbsp;=&nbsp;None,</div></div><div class=\"2394\" style=\"display: none;\"><div style=\"display: table-cell;\"></div><div style=\"display: table-cell;\">name&nbsp;=&nbsp;None,</div></div><div class=\"2394\" style=\"display: none;\"><div style=\"display: table-cell;\"></div><div style=\"display: table-cell;\">nonselection_glyph&nbsp;=&nbsp;Circle(id='2391', ...),</div></div><div class=\"2394\" style=\"display: none;\"><div style=\"display: table-cell;\"></div><div style=\"display: table-cell;\">selection_glyph&nbsp;=&nbsp;None,</div></div><div class=\"2394\" style=\"display: none;\"><div style=\"display: table-cell;\"></div><div style=\"display: table-cell;\">subscribed_events&nbsp;=&nbsp;[],</div></div><div class=\"2394\" style=\"display: none;\"><div style=\"display: table-cell;\"></div><div style=\"display: table-cell;\">tags&nbsp;=&nbsp;[],</div></div><div class=\"2394\" style=\"display: none;\"><div style=\"display: table-cell;\"></div><div style=\"display: table-cell;\">view&nbsp;=&nbsp;CDSView(id='2393', ...),</div></div><div class=\"2394\" style=\"display: none;\"><div style=\"display: table-cell;\"></div><div style=\"display: table-cell;\">visible&nbsp;=&nbsp;True,</div></div><div class=\"2394\" style=\"display: none;\"><div style=\"display: table-cell;\"></div><div style=\"display: table-cell;\">x_range_name&nbsp;=&nbsp;'default',</div></div><div class=\"2394\" style=\"display: none;\"><div style=\"display: table-cell;\"></div><div style=\"display: table-cell;\">y_range_name&nbsp;=&nbsp;'default')</div></div></div>\n",
       "<script>\n",
       "(function() {\n",
       "  var expanded = false;\n",
       "  var ellipsis = document.getElementById(\"2395\");\n",
       "  ellipsis.addEventListener(\"click\", function() {\n",
       "    var rows = document.getElementsByClassName(\"2394\");\n",
       "    for (var i = 0; i < rows.length; i++) {\n",
       "      var el = rows[i];\n",
       "      el.style.display = expanded ? \"none\" : \"table-row\";\n",
       "    }\n",
       "    ellipsis.innerHTML = expanded ? \"&hellip;)\" : \"&lsaquo;&lsaquo;&lsaquo;\";\n",
       "    expanded = !expanded;\n",
       "  });\n",
       "})();\n",
       "</script>\n"
      ],
      "text/plain": [
       "GlyphRenderer(id='2392', ...)"
      ]
     },
     "execution_count": 11,
     "metadata": {},
     "output_type": "execute_result"
    }
   ],
   "source": [
    "source1 = ColumnDataSource(df[df.Continent=='LAT'])\n",
    "source2 = ColumnDataSource(df[df.Continent=='AF'])\n",
    "source3 = ColumnDataSource(df[df.Continent=='ASI'])\n",
    "source4 = ColumnDataSource(df[df.Continent=='EUR'])\n",
    "\n",
    "p1 = figure(x_axis_label='fertility (children per woman)', y_axis_label='female_literacy (% population)', title=\"Latin America\")\n",
    "p2 = figure(x_axis_label='fertility (children per woman)', y_axis_label='female_literacy (% population)', title=\"Africa\")\n",
    "p3 = figure(x_axis_label='fertility (children per woman)', y_axis_label='female_literacy (% population)', title=\"Asia\")\n",
    "p4 = figure(x_axis_label='fertility (children per woman)', y_axis_label='female_literacy (% population)', title=\"Europe\")\n",
    "\n",
    "p1.circle('fertility', 'female_literacy', source=source1)\n",
    "p2.circle('fertility', 'female_literacy', source=source2)\n",
    "p3.circle('fertility', 'female_literacy', source=source3)\n",
    "p4.circle('fertility', 'female_literacy', source=source4)"
   ]
  },
  {
   "cell_type": "code",
   "execution_count": 12,
   "metadata": {},
   "outputs": [
    {
     "data": {
      "text/html": [
       "\n",
       "\n",
       "\n",
       "\n",
       "\n",
       "\n",
       "  <div class=\"bk-root\" id=\"7b2ef892-d505-4e92-b52f-55e1e52ecd96\"></div>\n"
      ]
     },
     "metadata": {},
     "output_type": "display_data"
    },
    {
     "data": {
      "application/javascript": [
       "(function(root) {\n",
       "  function embed_document(root) {\n",
       "    \n",
       "  var docs_json = {\"3a8b2396-a3ce-485d-81c7-13f1b647331f\":{\"roots\":{\"references\":[{\"attributes\":{\"children\":[{\"id\":\"2436\",\"type\":\"ToolbarBox\"},{\"id\":\"2434\",\"type\":\"Column\"}]},\"id\":\"2437\",\"type\":\"Column\"},{\"attributes\":{},\"id\":\"2251\",\"type\":\"PanTool\"},{\"attributes\":{\"source\":{\"id\":\"2226\",\"type\":\"ColumnDataSource\"}},\"id\":\"2378\",\"type\":\"CDSView\"},{\"attributes\":{\"fill_color\":{\"value\":\"#1f77b4\"},\"line_color\":{\"value\":\"#1f77b4\"},\"x\":{\"field\":\"fertility\"},\"y\":{\"field\":\"female_literacy\"}},\"id\":\"2385\",\"type\":\"Circle\"},{\"attributes\":{},\"id\":\"2247\",\"type\":\"BasicTicker\"},{\"attributes\":{\"fill_alpha\":{\"value\":0.1},\"fill_color\":{\"value\":\"#1f77b4\"},\"line_alpha\":{\"value\":0.1},\"line_color\":{\"value\":\"#1f77b4\"},\"x\":{\"field\":\"fertility\"},\"y\":{\"field\":\"female_literacy\"}},\"id\":\"2381\",\"type\":\"Circle\"},{\"attributes\":{\"data_source\":{\"id\":\"2227\",\"type\":\"ColumnDataSource\"},\"glyph\":{\"id\":\"2380\",\"type\":\"Circle\"},\"hover_glyph\":null,\"muted_glyph\":null,\"nonselection_glyph\":{\"id\":\"2381\",\"type\":\"Circle\"},\"selection_glyph\":null,\"view\":{\"id\":\"2383\",\"type\":\"CDSView\"}},\"id\":\"2382\",\"type\":\"GlyphRenderer\"},{\"attributes\":{\"source\":{\"id\":\"2227\",\"type\":\"ColumnDataSource\"}},\"id\":\"2383\",\"type\":\"CDSView\"},{\"attributes\":{},\"id\":\"2400\",\"type\":\"BasicTickFormatter\"},{\"attributes\":{\"fill_color\":{\"value\":\"#1f77b4\"},\"line_color\":{\"value\":\"#1f77b4\"},\"x\":{\"field\":\"fertility\"},\"y\":{\"field\":\"female_literacy\"}},\"id\":\"2390\",\"type\":\"Circle\"},{\"attributes\":{},\"id\":\"2402\",\"type\":\"UnionRenderers\"},{\"attributes\":{\"children\":[{\"id\":\"2231\",\"subtype\":\"Figure\",\"type\":\"Plot\"},{\"id\":\"2267\",\"subtype\":\"Figure\",\"type\":\"Plot\"}]},\"id\":\"2414\",\"type\":\"Row\"},{\"attributes\":{\"fill_alpha\":{\"value\":0.1},\"fill_color\":{\"value\":\"#1f77b4\"},\"line_alpha\":{\"value\":0.1},\"line_color\":{\"value\":\"#1f77b4\"},\"x\":{\"field\":\"fertility\"},\"y\":{\"field\":\"female_literacy\"}},\"id\":\"2386\",\"type\":\"Circle\"},{\"attributes\":{\"data_source\":{\"id\":\"2228\",\"type\":\"ColumnDataSource\"},\"glyph\":{\"id\":\"2385\",\"type\":\"Circle\"},\"hover_glyph\":null,\"muted_glyph\":null,\"nonselection_glyph\":{\"id\":\"2386\",\"type\":\"Circle\"},\"selection_glyph\":null,\"view\":{\"id\":\"2388\",\"type\":\"CDSView\"}},\"id\":\"2387\",\"type\":\"GlyphRenderer\"},{\"attributes\":{\"source\":{\"id\":\"2228\",\"type\":\"ColumnDataSource\"}},\"id\":\"2388\",\"type\":\"CDSView\"},{\"attributes\":{},\"id\":\"2398\",\"type\":\"BasicTickFormatter\"},{\"attributes\":{\"children\":[{\"id\":\"2414\",\"type\":\"Row\"},{\"id\":\"2433\",\"type\":\"Row\"}]},\"id\":\"2434\",\"type\":\"Column\"},{\"attributes\":{},\"id\":\"2421\",\"type\":\"UnionRenderers\"},{\"attributes\":{},\"id\":\"2407\",\"type\":\"BasicTickFormatter\"},{\"attributes\":{\"fill_alpha\":{\"value\":0.1},\"fill_color\":{\"value\":\"#1f77b4\"},\"line_alpha\":{\"value\":0.1},\"line_color\":{\"value\":\"#1f77b4\"},\"x\":{\"field\":\"fertility\"},\"y\":{\"field\":\"female_literacy\"}},\"id\":\"2391\",\"type\":\"Circle\"},{\"attributes\":{\"data_source\":{\"id\":\"2229\",\"type\":\"ColumnDataSource\"},\"glyph\":{\"id\":\"2390\",\"type\":\"Circle\"},\"hover_glyph\":null,\"muted_glyph\":null,\"nonselection_glyph\":{\"id\":\"2391\",\"type\":\"Circle\"},\"selection_glyph\":null,\"view\":{\"id\":\"2393\",\"type\":\"CDSView\"}},\"id\":\"2392\",\"type\":\"GlyphRenderer\"},{\"attributes\":{},\"id\":\"2411\",\"type\":\"UnionRenderers\"},{\"attributes\":{},\"id\":\"2409\",\"type\":\"BasicTickFormatter\"},{\"attributes\":{\"source\":{\"id\":\"2229\",\"type\":\"ColumnDataSource\"}},\"id\":\"2393\",\"type\":\"CDSView\"},{\"attributes\":{},\"id\":\"2403\",\"type\":\"Selection\"},{\"attributes\":{},\"id\":\"2417\",\"type\":\"BasicTickFormatter\"},{\"attributes\":{\"toolbar\":{\"id\":\"2435\",\"type\":\"ProxyToolbar\"},\"toolbar_location\":\"above\"},\"id\":\"2436\",\"type\":\"ToolbarBox\"},{\"attributes\":{},\"id\":\"2412\",\"type\":\"Selection\"},{\"attributes\":{},\"id\":\"2419\",\"type\":\"BasicTickFormatter\"},{\"attributes\":{},\"id\":\"2428\",\"type\":\"BasicTickFormatter\"},{\"attributes\":{},\"id\":\"2430\",\"type\":\"UnionRenderers\"},{\"attributes\":{},\"id\":\"2422\",\"type\":\"Selection\"},{\"attributes\":{\"tools\":[{\"id\":\"2251\",\"type\":\"PanTool\"},{\"id\":\"2252\",\"type\":\"WheelZoomTool\"},{\"id\":\"2253\",\"type\":\"BoxZoomTool\"},{\"id\":\"2254\",\"type\":\"SaveTool\"},{\"id\":\"2255\",\"type\":\"ResetTool\"},{\"id\":\"2256\",\"type\":\"HelpTool\"},{\"id\":\"2287\",\"type\":\"PanTool\"},{\"id\":\"2288\",\"type\":\"WheelZoomTool\"},{\"id\":\"2289\",\"type\":\"BoxZoomTool\"},{\"id\":\"2290\",\"type\":\"SaveTool\"},{\"id\":\"2291\",\"type\":\"ResetTool\"},{\"id\":\"2292\",\"type\":\"HelpTool\"},{\"id\":\"2323\",\"type\":\"PanTool\"},{\"id\":\"2324\",\"type\":\"WheelZoomTool\"},{\"id\":\"2325\",\"type\":\"BoxZoomTool\"},{\"id\":\"2326\",\"type\":\"SaveTool\"},{\"id\":\"2327\",\"type\":\"ResetTool\"},{\"id\":\"2328\",\"type\":\"HelpTool\"},{\"id\":\"2359\",\"type\":\"PanTool\"},{\"id\":\"2360\",\"type\":\"WheelZoomTool\"},{\"id\":\"2361\",\"type\":\"BoxZoomTool\"},{\"id\":\"2362\",\"type\":\"SaveTool\"},{\"id\":\"2363\",\"type\":\"ResetTool\"},{\"id\":\"2364\",\"type\":\"HelpTool\"}]},\"id\":\"2435\",\"type\":\"ProxyToolbar\"},{\"attributes\":{},\"id\":\"2426\",\"type\":\"BasicTickFormatter\"},{\"attributes\":{},\"id\":\"2431\",\"type\":\"Selection\"},{\"attributes\":{\"callback\":null,\"data\":{\"Continent\":[\"AF\",\"AF\",\"AF\",\"AF\",\"AF\",\"AF\",\"AF\",\"AF\",\"AF\",\"AF\",\"AF\",\"AF\",\"AF\",\"AF\",\"AF\",\"AF\",\"AF\",\"AF\",\"AF\",\"AF\",\"AF\",\"AF\",\"AF\",\"AF\",\"AF\",\"AF\",\"AF\",\"AF\",\"AF\",\"AF\",\"AF\",\"AF\",\"AF\",\"AF\",\"AF\",\"AF\",\"AF\",\"AF\",\"AF\",\"AF\",\"AF\",\"AF\",\"AF\",\"AF\",\"AF\",\"AF\",\"AF\",\"AF\",\"AF\"],\"Country\":[\"Nig\\u00e9ria\",\"Egypte\",\"Ethiopie\",\"R\\u00e9p. D\\u00e9mocratique du Congo\",\"Afrique du Sud\",\"R\\u00e9publique-Unie de Tanzanie\",\"Soudan\",\"Kenya\",\"Alg\\u00e9rie\",\"Ouganda\",\"Maroc\",\"Ghana\",\"Mozambique\",\"C\\u00f4te d'Ivoire\",\"Madagascar\",\"Cameroun\",\"Angola\",\"Burkina Faso\",\"Malawi\",\"Niger\",\"Mali\",\"Zambie\",\"Zimbabwe\",\"S\\u00e9n\\u00e9gal\",\"Tchad\",\"Tunisie\",\"Guin\\u00e9e\",\"Rwanda\",\"B\\u00e9nin\",\"Burundi\",\"Togo\",\"Jamahiriya arabe libyenne\",\"Sierra Leone\",\"Erythr\\u00e9e\",\"R\\u00e9publique centrafricaine\",\"Lib\\u00e9ria\",\"Mauritanie\",\"Namibie\",\"Lesotho\",\"Botswana\",\"Gambie\",\"Guin\\u00e9e-Bissau\",\"Gabon\",\"Maurice\",\"Swaziland\",\"Guin\\u00e9e \\u00e9quatoriale\",\"Comores\",\"Cap-Vert\",\"Sao Tom\\u00e9-et-Principe\"],\"female_literacy\":{\"__ndarray__\":\"ZmZmZmZmSEBmZmZmZuZMQM3MzMzMzDZAzczMzMwMTEBmZmZmZgZWQDMzMzMzk1BAzczMzMzMTUAzMzMzM7NUQDMzMzMz809AMzMzMzOzUEDNzMzMzAxGQGZmZmZmpk1AzczMzMwMREBmZmZmZiZGQDMzMzMzU1BAMzMzMzPzUEAAAAAAAIBMQJqZmZmZmTVAMzMzMzNzUEAzMzMzMzMuQDMzMzMzMzJAAAAAAACATkAzMzMzMzNWQAAAAAAAgEBAZmZmZmbmNUAAAAAAAMBRQGZmZmZmZjpAZmZmZmaGUECamZmZmRk8QDMzMzMz801AmpmZmZnZSkAzMzMzM1NUQGZmZmZm5jxAAAAAAABAS0DNzMzMzIxEQAAAAAAAgEpAAAAAAADASEDNzMzMzOxVQGZmZmZmxldAAAAAAADgVEBmZmZmZiZBQAAAAAAAQEJAzczMzMzMVEAzMzMzMzNVQGZmZmZmZlVAZmZmZmZGVkAzMzMzM/NQQDMzMzMz01NAMzMzMzPTVEA=\",\"dtype\":\"float64\",\"shape\":[49]},\"fertility\":{\"__ndarray__\":\"/dR46SaxFEC7SQwCK4cGQPLSTWIQ2BRAbhKDwMqhF0AK16NwPQoEQBSuR+F6FBZACKwcWmQ7EEBWDi2ynW8TQCPb+X5qvAJAarx0kxgEGUB56SYxCKwCQOF6FK5H4RBAke18PzXeE0B0kxgEVg4SQHsUrkfhehJARIts5/spEkBANV66SYwWQHe+nxovXRdAUrgehevRFUAtsp3vp0YcQB+F61G4nhVAppvEILDyFkCBlUOLbOcKQI/C9ShcjxNAbef7qfFSGEDb+X5qvHT9PzeJQWDlUBVAUrgehetRFUBPjZduEoMVQM3MzMzMzBFARIts5/upEECJQWDl0CIFQClcj8L1qBRA6iYxCKwcEkB9PzVeuskSQCUGgZVDCxRAWmQ730+NEUBSuB6F61EKQOkmMQisHApA+n5qvHSTBkDGSzeJQeATQIlBYOXQohZA7FG4HoXrCUB46SYxCKz8P5qZmZmZmQtAbhKDwMohFUAUrkfhehQPQOj7qfHSTQVAWDm0yHa+DUA=\",\"dtype\":\"float64\",\"shape\":[49]},\"index\":[7,14,15,19,24,29,30,32,34,36,37,47,49,51,54,55,56,60,61,62,66,67,68,69,72,76,79,80,85,86,94,95,101,106,113,117,123,131,132,135,136,137,138,142,143,147,148,151,159],\"population\":{\"__ndarray__\":\"AAAAvKEGokEAAAAQBnCTQQAAAGhbPpNBAAAA2NOjjkEAAADAPDeHQQAAAJgGQoRBAAAAWFS3g0EAAAAAGHyCQQAAAJD5Y4BBAAAAELowfkEAAAAANyR+QQAAAPDoRHZBAAAAUHxYdUEAAABgLKNzQQAAANDBOXJBAAAAEEA0ckEAAADAky9xQQAAAIBrDm1BAAAAwBxRbEEAAADA1wtsQQAAAAD5O2hBAAAAYDcSaEEAAADgY8VnQQAAAKB9SmdBAAAAYPDQZEEAAAAA37JjQQAAAOBLwWJBAAAAwG6KYkEAAADAiIVgQQAAAIADzV5BAAAAQDujWEEAAABAqQJYQQAAAECLNVVBAAAAQGfLUkEAAADAj41QQQAAAAD88ExBAAAAgGGHSEEAAAAA3z9AQQAAAACVRT9BAAAAAGJQPUEAAAAAKFU5QQAAAAAWCjhBAAAAAN8YNkEAAAAAdlwzQQAAAADa0TFBAAAAAPodJEGoYCyg5qMjQQAAAADAbx5BAAAAAHCNA0E=\",\"dtype\":\"float64\",\"shape\":[49]}},\"selected\":{\"id\":\"2412\",\"type\":\"Selection\"},\"selection_policy\":{\"id\":\"2411\",\"type\":\"UnionRenderers\"}},\"id\":\"2227\",\"type\":\"ColumnDataSource\"},{\"attributes\":{\"callback\":null,\"data\":{\"Continent\":[\"LAT\",\"LAT\",\"LAT\",\"LAT\",\"LAT\",\"LAT\",\"LAT\",\"LAT\",\"LAT\",\"LAT\",\"LAT\",\"LAT\",\"LAT\",\"LAT\",\"LAT\",\"LAT\",\"LAT\",\"LAT\",\"LAT\",\"LAT\",\"LAT\",\"LAT\",\"LAT\",\"LAT\"],\"Country\":[\"Br\\u00e9sil\",\"Mexique\",\"Colombie\",\"Argentine\",\"P\\u00e9rou\",\"Venezuela\",\"Chili\",\"Guatemala\",\"Equateur\",\"Cuba\",\"R\\u00e9publique dominicaine\",\"Bolivie\",\"Honduras\",\"Paraguay\",\"El Salvador\",\"Nicaragua\",\"Costa Rica\",\"Panama\",\"Uruguay\",\"Jama\\u00efque\",\"Trinit\\u00e9-et-Tobago\",\"Suriname\",\"Bahamas\",\"Aruba\"],\"female_literacy\":{\"__ndarray__\":\"zczMzMyMVkAAAAAAAOBWQJqZmZmZWVdAzczMzMxsWEBmZmZmZiZVQJqZmZmZuVdAzczMzMysWEDNzMzMzCxRQM3MzMzMbFRAMzMzMzPzWEAzMzMzMxNWQAAAAAAAgFVAAAAAAADgVEAAAAAAAGBXQJqZmZmZWVRAmpmZmZl5U0DNzMzMzAxYQDMzMzMzM1dAAAAAAACgWEAzMzMzM7NWQM3MzMzMjFhAmpmZmZkZVkAAAAAAACBYQAAAAAAAgFhA\",\"dtype\":\"float64\",\"shape\":[24]},\"fertility\":{\"__ndarray__\":\"CKwcWmQ7/T9zaJHtfD8BQAisHFpkOwNAYxBYObTIAUA9CtejcD0EQJZDi2zn+wNAN4lBYOXQ/j/fT42XbhIQQLTIdr6fGgRAFK5H4XoU+D9MN4lBYOUEQCyHFtnO9wpAhetRuB6FCUA3iUFg5dAHQFyPwvUoXAJAEVg5tMh2BUBKDAIrhxb/P1TjpZvEIARAg8DKoUW2AEBMN4lBYOUCQCYxCKwcWvo/lkOLbOf7AkAshxbZzvcKQIPAyqFFtvs/\",\"dtype\":\"float64\",\"shape\":[24]},\"index\":[4,10,28,31,40,42,57,64,65,71,78,81,90,96,98,100,109,120,122,128,140,150,154,160],\"population\":{\"__ndarray__\":\"AAAAZIHipkH67buGHVuZQQAAAACkdoVBAAAAIIcEg0EAAADANYB7QQAAAIARpHpBAAAAAIcGcEEAAAAArhpqQQAAAAC6tmlBAAAA4A9fZUEAAADguPtiQQAAACB0fWJBAAAAQEHrW0EAAADAp8tXQQAAAIAlZldBAAAAQH+eVUEAAACANT1RQQAAAIBT7klBAAAAANJvSUEAAAAAcIBEQQAAAACMWDRBAAAAANBwH0EAAAAAEJwUQQAAAADwvvlA\",\"dtype\":\"float64\",\"shape\":[24]}},\"selected\":{\"id\":\"2403\",\"type\":\"Selection\"},\"selection_policy\":{\"id\":\"2402\",\"type\":\"UnionRenderers\"}},\"id\":\"2226\",\"type\":\"ColumnDataSource\"},{\"attributes\":{\"callback\":null},\"id\":\"2271\",\"type\":\"DataRange1d\"},{\"attributes\":{},\"id\":\"2256\",\"type\":\"HelpTool\"},{\"attributes\":{\"callback\":null,\"data\":{\"Continent\":[\"ASI\",\"ASI\",\"ASI\",\"ASI\",\"ASI\",\"ASI\",\"ASI\",\"ASI\",\"ASI\",\"ASI\",\"ASI\",\"ASI\",\"ASI\",\"ASI\",\"ASI\",\"ASI\",\"ASI\",\"ASI\",\"ASI\",\"ASI\",\"ASI\",\"ASI\",\"ASI\",\"ASI\",\"ASI\",\"ASI\",\"ASI\",\"ASI\",\"ASI\",\"ASI\",\"ASI\",\"ASI\",\"ASI\",\"ASI\",\"ASI\",\"ASI\",\"ASI\",\"ASI\",\"ASI\",\"ASI\",\"ASI\",\"ASI\",\"ASI\",\"ASI\",\"ASI\",\"ASI\",\"ASI\"],\"Country\":[\"Chine\",\"Inde\",\"Indon\\u00e9sie\",\"Pakistan\",\"Bangladesh\",\"Japan\",\"Philippines\",\"Viet Nam\",\"Turquie\",\"Iran, R\\u00e9publique islamique d'\",\"Tha\\u00eflande\",\"Myanmar\",\"South Korea\",\"Iraq\",\"Afghanistan\",\"N\\u00e9pal\",\"Ouzb\\u00e9kistan\",\"Malaisie\",\"Arabie saoudite\",\"R\\u00e9p. populaire d\\u00e9mocratique de Cor\\u00e9e\",\"Y\\u00e9men\",\"R\\u00e9publique arabe syrienne\",\"Sri Lanka\",\"Kazakhstan\",\"Cambodge\",\"Azerba\\u00efdjan\",\"Israel\",\"Tadjikistan\",\"R\\u00e9p. d\\u00e9mocratique populaire lao\",\"Jordanie\",\"Kirghizistan\",\"Turkm\\u00e9nistan\",\"Singapour\",\"Emirats arabes unis\",\"G\\u00e9orgie\",\"Liban\",\"Arm\\u00e9nie\",\"Oman\",\"Kowe\\u00eft\",\"Mongolie\",\"Qatar\",\"Bahre\\u00efn\",\"Bhoutan\",\"Macao, Chine\",\"Brun\\u00e9i Darussalam\",\"Maldives\",\"Tonga\"],\"female_literacy\":{\"__ndarray__\":\"AAAAAACgVkBmZmZmZmZJQDMzMzMzM1ZAAAAAAAAAREBmZmZmZuZIQAAAAAAAwFhAmpmZmZl5V0DNzMzMzIxWQDMzMzMzU1RAzczMzMxMU0AAAAAAAOBWQM3MzMzMTFZAZmZmZmYmWEDNzMzMzExRQDMzMzMzMylAMzMzMzOzRkCamZmZmblYQDMzMzMzc1ZAzczMzMwMVEAAAAAAAABZQGZmZmZmZkVAzczMzMxMU0BmZmZmZkZWQAAAAAAA4FhAmpmZmZm5UUDNzMzMzMxYQJqZmZmZ+VdAAAAAAADgWECamZmZmZlPQJqZmZmZOVZAZmZmZmbGWEAzMzMzM9NYQGZmZmZm5lZAAAAAAADgVkDNzMzMzOxYQAAAAAAAgFVAmpmZmZnZWECamZmZmTlUQGZmZmZmRldAMzMzMzNzWECamZmZmZlWQJqZmZmZWVZAmpmZmZlZQ0DNzMzMzKxWQDMzMzMzU1dAmpmZmZmZWEBmZmZmZsZYQA==\",\"dtype\":\"float64\",\"shape\":[47]},\"fertility\":{\"__ndarray__\":\"6Pup8dJN/D/b+X5qvHQFQHSTGARWDgFAYOXQItv5DkDo+6nx0k0CQP7UeOkmMfQ/aZHtfD81CEDdJAaBlUMAQM3MzMzMzABA5dAi2/l+/D/z/dR46Sb9P3Noke18PwJAL90kBoGV8z/kpZvEILAPQIXrUbgeBRpAL90kBoGVBkCWQ4ts5/sBQKrx0k1iEARAUrgehetRCEBEi2zn+6n9P2ZmZmZmZhRA/Knx0k1iCUARWDm0yHYCQCcxCKwcWgJArBxaZDvfBkDTTWIQWDkBQGq8dJMYBAZAzczMzMzMCkBSuB6F61ELQPP91HjpJghAv58aL90kBEBxPQrXo3ADQGiR7Xw/NfQ//Knx0k1i/j8cWmQ730/5P9v5fmq8dP0/LIcW2c73+z9t5/up8dIHQJ3vp8ZLNwFAAyuHFtnO/z/hehSuR+ECQHe+nxov3QFAGy/dJAaBBEC28/3UeOnuP9Ei2/l+agBAAAAAAAAAAEAGgZVDi2wPQA==\",\"dtype\":\"float64\",\"shape\":[47]},\"index\":[0,1,3,5,6,9,11,12,16,17,18,23,25,38,39,41,43,44,45,46,48,52,53,59,63,84,91,92,97,99,104,105,107,110,114,116,125,126,127,129,141,145,146,149,153,156,161],\"population\":{\"__ndarray__\":\"AAAAZii900GQFOkAn/zQQQAAAHQFGqtB7448/lHNo0EAAAAA0RKjQQAAAABvcp5BAAAAVG6KlUEAAAB0442UQQAAAFBen5FBOhfAht0nkUEAAAA88BCQQQAAAFgsoodBAAAAwHgth0ESE68E10l9QbBq9a86rXtBAAAAYJN5e0EAAABAYgx6QQAAABBMw3lB9wa/XgOBd0EAAAAQILd2QQAAANAW23VBKJTqnbqgc0EgwWjF8jhzQQAAACC65W1BAAAAAFvGa0EAAACAVI5gQQAAAACA4VtBAAAAwNwTWkEAAABA56tXQV2pxreeh1ZBAAAAADMiVEEAAACAaD1TQQAAAAD6dVJBAAAAwNEbUUEAAADAEG5QQQAAAADv/k9BAAAAgO95R0EAAACAKEBFQYEYdGs00ERBAAAAAKAmREEAAAAAXoszQQAAAABCqydBAAAAAIr1JEEAAAAAxA4gQQAAAABg8RdBAAAAAAyeEkEAAAAA4Ej5QA==\",\"dtype\":\"float64\",\"shape\":[47]}},\"selected\":{\"id\":\"2422\",\"type\":\"Selection\"},\"selection_policy\":{\"id\":\"2421\",\"type\":\"UnionRenderers\"}},\"id\":\"2228\",\"type\":\"ColumnDataSource\"},{\"attributes\":{\"bottom_units\":\"screen\",\"fill_alpha\":{\"value\":0.5},\"fill_color\":{\"value\":\"lightgrey\"},\"left_units\":\"screen\",\"level\":\"overlay\",\"line_alpha\":{\"value\":1.0},\"line_color\":{\"value\":\"black\"},\"line_dash\":[4,4],\"line_width\":{\"value\":2},\"plot\":null,\"render_mode\":\"css\",\"right_units\":\"screen\",\"top_units\":\"screen\"},\"id\":\"2259\",\"type\":\"BoxAnnotation\"},{\"attributes\":{},\"id\":\"2255\",\"type\":\"ResetTool\"},{\"attributes\":{\"callback\":null,\"data\":{\"Continent\":[\"EUR\",\"EUR\",\"EUR\",\"EUR\",\"EUR\",\"EUR\",\"EUR\",\"EUR\",\"EUR\",\"EUR\",\"EUR\",\"EUR\",\"EUR\",\"EUR\",\"EUR\",\"EUR\",\"EUR\",\"EUR\",\"EUR\",\"EUR\",\"EUR\",\"EUR\",\"EUR\",\"EUR\",\"EUR\",\"EUR\",\"EUR\",\"EUR\",\"EUR\",\"EUR\",\"EUR\",\"EUR\",\"EUR\",\"EUR\",\"EUR\",\"EUR\"],\"Country\":[\"F\\u00e9d\\u00e9ration de Russie\",\"Germany\",\"France\",\"UK\",\"Italie\",\"Ukraine\",\"Espagne\",\"Pologne\",\"Roumanie\",\"Netherlands\",\"Gr\\u00e8ce\",\"Belgium\",\"Portugal\",\"Czech rep\",\"Hongrie\",\"B\\u00e9larus\",\"Sweden\",\"Switzerland\",\"Bulgarie\",\"Serbie\",\"Denmark\",\"Finland\",\"Norway\",\"Croatie\",\"Ireland\",\"Bosnie-Herz\\u00e9govine\",\"R\\u00e9publique de Moldova\",\"Lituanie\",\"Albanie\",\"Lettonie\",\"L'ex-R\\u00e9p. yougoslave de Mac\\u00e9doine\",\"Slov\\u00e9nie\",\"Estonie\",\"Chypre\",\"Malte\",\"Iceland\"],\"female_literacy\":{\"__ndarray__\":\"mpmZmZnZWEAAAAAAAMBYQAAAAAAAwFhAAAAAAADAWEAAAAAAAKBYQGZmZmZm5lhAmpmZmZk5WEAzMzMzM9NYQJqZmZmZOVhAAAAAAADAWECamZmZmflXQAAAAAAAwFhAmpmZmZk5V0AAAAAAAMBYQJqZmZmZuVhAzczMzMzsWEAAAAAAAMBYQAAAAAAAwFhAmpmZmZl5WEDNzMzMzAxYQAAAAAAAwFhAAAAAAAAAWUAAAAAAAABZQAAAAAAAgFhAAAAAAADAWECamZmZmflXQDMzMzMzc1hAzczMzMzsWEDNzMzMzKxYQDMzMzMz81hAmpmZmZnZV0DNzMzMzOxYQDMzMzMz81hAzczMzMwsWEAAAAAAAGBXQAAAAAAAwFhA\",\"dtype\":\"float64\",\"shape\":[36]},\"fertility\":{\"__ndarray__\":\"fT81XrpJ9j/Jdr6fGi/1P39qvHSTGP4/bhKDwMqh/T89CtejcD32Py2yne+nxvU/sXJoke189z8Tg8DKoUX0PzMzMzMzM/U/wMqhRbbz+z8pXI/C9Sj2PyUGgZVDi/w/QDVeukkM9j8zMzMzMzP3P+xRuB6F6/U/5dAi2/l+9D9WDi2yne/9P1yPwvUoXPc/YOXQItv59j+XbhKDwMr5Py/dJAaBlf0/xks3iUFg/T8pXI/C9Sj+P99PjZduEvc/c2iR7Xw//z8xCKwcWmTzP9R46SYxCPg/rBxaZDvf9T9Ei2zn+6n9PzeJQWDl0PY/YOXQItv59j99PzVeukn2P0oMAiuHFvs/qMZLN4lB+D9qvHSTGAT0P1g5tMh2vgBA\",\"dtype\":\"float64\",\"shape\":[36]},\"index\":[8,13,20,21,22,26,27,33,50,58,70,73,74,75,77,82,83,87,88,89,102,103,108,111,112,118,119,121,124,130,133,134,139,144,152,155],\"population\":{\"__ndarray__\":\"AAAAYPjroEEAAABEmpOTQQAAAMA5so1BAAAAcNVIjUEAAACYu4eMQQAAAMDADoZBAAAAIAC5hUEAAAD4BS6CQQAAAGBZhHRBAAAAIBNeb0EAAADA3G5lQQAAACC6bGRBAAAAoLlCZEEAAAAAAuJjQQAAAIB1JWNBAAAAQPp2YkEAAACgxpVhQQAAAMBuLF1BAAAAwLgUXUEAAABA8wlcQQAAAEDd9FRBAAAAwN1EVEEAAAAAdTBSQQAAAAAU6lBBAAAAwPLhUEEAAAAAVslMQQAAAIBsuEtBAAAAgNGeSUEAAACAPftHQQAAAAD3SUFBAAAAAP4lP0EAAAAAxNc+QQAAAAADdTRBAAAAAMRRKkEAAAAAuCQZQQAAAACYXxNB\",\"dtype\":\"float64\",\"shape\":[36]}},\"selected\":{\"id\":\"2431\",\"type\":\"Selection\"},\"selection_policy\":{\"id\":\"2430\",\"type\":\"UnionRenderers\"}},\"id\":\"2229\",\"type\":\"ColumnDataSource\"},{\"attributes\":{\"callback\":null},\"id\":\"2269\",\"type\":\"DataRange1d\"},{\"attributes\":{\"below\":[{\"id\":\"2241\",\"type\":\"LinearAxis\"}],\"left\":[{\"id\":\"2246\",\"type\":\"LinearAxis\"}],\"renderers\":[{\"id\":\"2241\",\"type\":\"LinearAxis\"},{\"id\":\"2245\",\"type\":\"Grid\"},{\"id\":\"2246\",\"type\":\"LinearAxis\"},{\"id\":\"2250\",\"type\":\"Grid\"},{\"id\":\"2259\",\"type\":\"BoxAnnotation\"},{\"id\":\"2377\",\"type\":\"GlyphRenderer\"}],\"title\":{\"id\":\"2230\",\"type\":\"Title\"},\"toolbar\":{\"id\":\"2257\",\"type\":\"Toolbar\"},\"toolbar_location\":null,\"x_range\":{\"id\":\"2233\",\"type\":\"DataRange1d\"},\"x_scale\":{\"id\":\"2237\",\"type\":\"LinearScale\"},\"y_range\":{\"id\":\"2235\",\"type\":\"DataRange1d\"},\"y_scale\":{\"id\":\"2239\",\"type\":\"LinearScale\"}},\"id\":\"2231\",\"subtype\":\"Figure\",\"type\":\"Plot\"},{\"attributes\":{\"below\":[{\"id\":\"2313\",\"type\":\"LinearAxis\"}],\"left\":[{\"id\":\"2318\",\"type\":\"LinearAxis\"}],\"renderers\":[{\"id\":\"2313\",\"type\":\"LinearAxis\"},{\"id\":\"2317\",\"type\":\"Grid\"},{\"id\":\"2318\",\"type\":\"LinearAxis\"},{\"id\":\"2322\",\"type\":\"Grid\"},{\"id\":\"2331\",\"type\":\"BoxAnnotation\"},{\"id\":\"2387\",\"type\":\"GlyphRenderer\"}],\"title\":{\"id\":\"2302\",\"type\":\"Title\"},\"toolbar\":{\"id\":\"2329\",\"type\":\"Toolbar\"},\"toolbar_location\":null,\"x_range\":{\"id\":\"2305\",\"type\":\"DataRange1d\"},\"x_scale\":{\"id\":\"2309\",\"type\":\"LinearScale\"},\"y_range\":{\"id\":\"2307\",\"type\":\"DataRange1d\"},\"y_scale\":{\"id\":\"2311\",\"type\":\"LinearScale\"}},\"id\":\"2303\",\"subtype\":\"Figure\",\"type\":\"Plot\"},{\"attributes\":{\"overlay\":{\"id\":\"2259\",\"type\":\"BoxAnnotation\"}},\"id\":\"2253\",\"type\":\"BoxZoomTool\"},{\"attributes\":{\"plot\":null,\"text\":\"Africa\"},\"id\":\"2266\",\"type\":\"Title\"},{\"attributes\":{\"callback\":null},\"id\":\"2235\",\"type\":\"DataRange1d\"},{\"attributes\":{},\"id\":\"2254\",\"type\":\"SaveTool\"},{\"attributes\":{},\"id\":\"2237\",\"type\":\"LinearScale\"},{\"attributes\":{\"below\":[{\"id\":\"2277\",\"type\":\"LinearAxis\"}],\"left\":[{\"id\":\"2282\",\"type\":\"LinearAxis\"}],\"renderers\":[{\"id\":\"2277\",\"type\":\"LinearAxis\"},{\"id\":\"2281\",\"type\":\"Grid\"},{\"id\":\"2282\",\"type\":\"LinearAxis\"},{\"id\":\"2286\",\"type\":\"Grid\"},{\"id\":\"2295\",\"type\":\"BoxAnnotation\"},{\"id\":\"2382\",\"type\":\"GlyphRenderer\"}],\"title\":{\"id\":\"2266\",\"type\":\"Title\"},\"toolbar\":{\"id\":\"2293\",\"type\":\"Toolbar\"},\"toolbar_location\":null,\"x_range\":{\"id\":\"2269\",\"type\":\"DataRange1d\"},\"x_scale\":{\"id\":\"2273\",\"type\":\"LinearScale\"},\"y_range\":{\"id\":\"2271\",\"type\":\"DataRange1d\"},\"y_scale\":{\"id\":\"2275\",\"type\":\"LinearScale\"}},\"id\":\"2267\",\"subtype\":\"Figure\",\"type\":\"Plot\"},{\"attributes\":{\"axis_label\":\"fertility (children per woman)\",\"formatter\":{\"id\":\"2398\",\"type\":\"BasicTickFormatter\"},\"plot\":{\"id\":\"2231\",\"subtype\":\"Figure\",\"type\":\"Plot\"},\"ticker\":{\"id\":\"2242\",\"type\":\"BasicTicker\"}},\"id\":\"2241\",\"type\":\"LinearAxis\"},{\"attributes\":{\"below\":[{\"id\":\"2349\",\"type\":\"LinearAxis\"}],\"left\":[{\"id\":\"2354\",\"type\":\"LinearAxis\"}],\"renderers\":[{\"id\":\"2349\",\"type\":\"LinearAxis\"},{\"id\":\"2353\",\"type\":\"Grid\"},{\"id\":\"2354\",\"type\":\"LinearAxis\"},{\"id\":\"2358\",\"type\":\"Grid\"},{\"id\":\"2367\",\"type\":\"BoxAnnotation\"},{\"id\":\"2392\",\"type\":\"GlyphRenderer\"}],\"title\":{\"id\":\"2338\",\"type\":\"Title\"},\"toolbar\":{\"id\":\"2365\",\"type\":\"Toolbar\"},\"toolbar_location\":null,\"x_range\":{\"id\":\"2341\",\"type\":\"DataRange1d\"},\"x_scale\":{\"id\":\"2345\",\"type\":\"LinearScale\"},\"y_range\":{\"id\":\"2343\",\"type\":\"DataRange1d\"},\"y_scale\":{\"id\":\"2347\",\"type\":\"LinearScale\"}},\"id\":\"2339\",\"subtype\":\"Figure\",\"type\":\"Plot\"},{\"attributes\":{\"callback\":null},\"id\":\"2233\",\"type\":\"DataRange1d\"},{\"attributes\":{\"plot\":null,\"text\":\"Latin America\"},\"id\":\"2230\",\"type\":\"Title\"},{\"attributes\":{},\"id\":\"2239\",\"type\":\"LinearScale\"},{\"attributes\":{},\"id\":\"2242\",\"type\":\"BasicTicker\"},{\"attributes\":{\"plot\":{\"id\":\"2231\",\"subtype\":\"Figure\",\"type\":\"Plot\"},\"ticker\":{\"id\":\"2242\",\"type\":\"BasicTicker\"}},\"id\":\"2245\",\"type\":\"Grid\"},{\"attributes\":{\"axis_label\":\"female_literacy (% population)\",\"formatter\":{\"id\":\"2400\",\"type\":\"BasicTickFormatter\"},\"plot\":{\"id\":\"2231\",\"subtype\":\"Figure\",\"type\":\"Plot\"},\"ticker\":{\"id\":\"2247\",\"type\":\"BasicTicker\"}},\"id\":\"2246\",\"type\":\"LinearAxis\"},{\"attributes\":{\"active_drag\":\"auto\",\"active_inspect\":\"auto\",\"active_multi\":null,\"active_scroll\":\"auto\",\"active_tap\":\"auto\",\"tools\":[{\"id\":\"2251\",\"type\":\"PanTool\"},{\"id\":\"2252\",\"type\":\"WheelZoomTool\"},{\"id\":\"2253\",\"type\":\"BoxZoomTool\"},{\"id\":\"2254\",\"type\":\"SaveTool\"},{\"id\":\"2255\",\"type\":\"ResetTool\"},{\"id\":\"2256\",\"type\":\"HelpTool\"}]},\"id\":\"2257\",\"type\":\"Toolbar\"},{\"attributes\":{},\"id\":\"2252\",\"type\":\"WheelZoomTool\"},{\"attributes\":{},\"id\":\"2273\",\"type\":\"LinearScale\"},{\"attributes\":{},\"id\":\"2275\",\"type\":\"LinearScale\"},{\"attributes\":{},\"id\":\"2278\",\"type\":\"BasicTicker\"},{\"attributes\":{\"axis_label\":\"fertility (children per woman)\",\"formatter\":{\"id\":\"2407\",\"type\":\"BasicTickFormatter\"},\"plot\":{\"id\":\"2267\",\"subtype\":\"Figure\",\"type\":\"Plot\"},\"ticker\":{\"id\":\"2278\",\"type\":\"BasicTicker\"}},\"id\":\"2277\",\"type\":\"LinearAxis\"},{\"attributes\":{\"plot\":{\"id\":\"2267\",\"subtype\":\"Figure\",\"type\":\"Plot\"},\"ticker\":{\"id\":\"2278\",\"type\":\"BasicTicker\"}},\"id\":\"2281\",\"type\":\"Grid\"},{\"attributes\":{\"axis_label\":\"female_literacy (% population)\",\"formatter\":{\"id\":\"2409\",\"type\":\"BasicTickFormatter\"},\"plot\":{\"id\":\"2267\",\"subtype\":\"Figure\",\"type\":\"Plot\"},\"ticker\":{\"id\":\"2283\",\"type\":\"BasicTicker\"}},\"id\":\"2282\",\"type\":\"LinearAxis\"},{\"attributes\":{\"callback\":null},\"id\":\"2305\",\"type\":\"DataRange1d\"},{\"attributes\":{\"dimension\":1,\"plot\":{\"id\":\"2231\",\"subtype\":\"Figure\",\"type\":\"Plot\"},\"ticker\":{\"id\":\"2247\",\"type\":\"BasicTicker\"}},\"id\":\"2250\",\"type\":\"Grid\"},{\"attributes\":{\"dimension\":1,\"plot\":{\"id\":\"2267\",\"subtype\":\"Figure\",\"type\":\"Plot\"},\"ticker\":{\"id\":\"2283\",\"type\":\"BasicTicker\"}},\"id\":\"2286\",\"type\":\"Grid\"},{\"attributes\":{},\"id\":\"2283\",\"type\":\"BasicTicker\"},{\"attributes\":{\"plot\":null,\"text\":\"Asia\"},\"id\":\"2302\",\"type\":\"Title\"},{\"attributes\":{\"active_drag\":\"auto\",\"active_inspect\":\"auto\",\"active_multi\":null,\"active_scroll\":\"auto\",\"active_tap\":\"auto\",\"tools\":[{\"id\":\"2287\",\"type\":\"PanTool\"},{\"id\":\"2288\",\"type\":\"WheelZoomTool\"},{\"id\":\"2289\",\"type\":\"BoxZoomTool\"},{\"id\":\"2290\",\"type\":\"SaveTool\"},{\"id\":\"2291\",\"type\":\"ResetTool\"},{\"id\":\"2292\",\"type\":\"HelpTool\"}]},\"id\":\"2293\",\"type\":\"Toolbar\"},{\"attributes\":{},\"id\":\"2287\",\"type\":\"PanTool\"},{\"attributes\":{},\"id\":\"2288\",\"type\":\"WheelZoomTool\"},{\"attributes\":{\"overlay\":{\"id\":\"2295\",\"type\":\"BoxAnnotation\"}},\"id\":\"2289\",\"type\":\"BoxZoomTool\"},{\"attributes\":{},\"id\":\"2290\",\"type\":\"SaveTool\"},{\"attributes\":{},\"id\":\"2291\",\"type\":\"ResetTool\"},{\"attributes\":{},\"id\":\"2292\",\"type\":\"HelpTool\"},{\"attributes\":{},\"id\":\"2309\",\"type\":\"LinearScale\"},{\"attributes\":{\"bottom_units\":\"screen\",\"fill_alpha\":{\"value\":0.5},\"fill_color\":{\"value\":\"lightgrey\"},\"left_units\":\"screen\",\"level\":\"overlay\",\"line_alpha\":{\"value\":1.0},\"line_color\":{\"value\":\"black\"},\"line_dash\":[4,4],\"line_width\":{\"value\":2},\"plot\":null,\"render_mode\":\"css\",\"right_units\":\"screen\",\"top_units\":\"screen\"},\"id\":\"2295\",\"type\":\"BoxAnnotation\"},{\"attributes\":{\"callback\":null},\"id\":\"2307\",\"type\":\"DataRange1d\"},{\"attributes\":{},\"id\":\"2311\",\"type\":\"LinearScale\"},{\"attributes\":{},\"id\":\"2314\",\"type\":\"BasicTicker\"},{\"attributes\":{\"axis_label\":\"fertility (children per woman)\",\"formatter\":{\"id\":\"2417\",\"type\":\"BasicTickFormatter\"},\"plot\":{\"id\":\"2303\",\"subtype\":\"Figure\",\"type\":\"Plot\"},\"ticker\":{\"id\":\"2314\",\"type\":\"BasicTicker\"}},\"id\":\"2313\",\"type\":\"LinearAxis\"},{\"attributes\":{\"plot\":{\"id\":\"2303\",\"subtype\":\"Figure\",\"type\":\"Plot\"},\"ticker\":{\"id\":\"2314\",\"type\":\"BasicTicker\"}},\"id\":\"2317\",\"type\":\"Grid\"},{\"attributes\":{\"axis_label\":\"female_literacy (% population)\",\"formatter\":{\"id\":\"2419\",\"type\":\"BasicTickFormatter\"},\"plot\":{\"id\":\"2303\",\"subtype\":\"Figure\",\"type\":\"Plot\"},\"ticker\":{\"id\":\"2319\",\"type\":\"BasicTicker\"}},\"id\":\"2318\",\"type\":\"LinearAxis\"},{\"attributes\":{\"callback\":null},\"id\":\"2341\",\"type\":\"DataRange1d\"},{\"attributes\":{\"dimension\":1,\"plot\":{\"id\":\"2303\",\"subtype\":\"Figure\",\"type\":\"Plot\"},\"ticker\":{\"id\":\"2319\",\"type\":\"BasicTicker\"}},\"id\":\"2322\",\"type\":\"Grid\"},{\"attributes\":{},\"id\":\"2319\",\"type\":\"BasicTicker\"},{\"attributes\":{\"plot\":null,\"text\":\"Europe\"},\"id\":\"2338\",\"type\":\"Title\"},{\"attributes\":{\"fill_color\":{\"value\":\"#1f77b4\"},\"line_color\":{\"value\":\"#1f77b4\"},\"x\":{\"field\":\"fertility\"},\"y\":{\"field\":\"female_literacy\"}},\"id\":\"2375\",\"type\":\"Circle\"},{\"attributes\":{\"active_drag\":\"auto\",\"active_inspect\":\"auto\",\"active_multi\":null,\"active_scroll\":\"auto\",\"active_tap\":\"auto\",\"tools\":[{\"id\":\"2323\",\"type\":\"PanTool\"},{\"id\":\"2324\",\"type\":\"WheelZoomTool\"},{\"id\":\"2325\",\"type\":\"BoxZoomTool\"},{\"id\":\"2326\",\"type\":\"SaveTool\"},{\"id\":\"2327\",\"type\":\"ResetTool\"},{\"id\":\"2328\",\"type\":\"HelpTool\"}]},\"id\":\"2329\",\"type\":\"Toolbar\"},{\"attributes\":{},\"id\":\"2323\",\"type\":\"PanTool\"},{\"attributes\":{},\"id\":\"2324\",\"type\":\"WheelZoomTool\"},{\"attributes\":{\"overlay\":{\"id\":\"2331\",\"type\":\"BoxAnnotation\"}},\"id\":\"2325\",\"type\":\"BoxZoomTool\"},{\"attributes\":{},\"id\":\"2326\",\"type\":\"SaveTool\"},{\"attributes\":{},\"id\":\"2327\",\"type\":\"ResetTool\"},{\"attributes\":{},\"id\":\"2328\",\"type\":\"HelpTool\"},{\"attributes\":{},\"id\":\"2345\",\"type\":\"LinearScale\"},{\"attributes\":{\"bottom_units\":\"screen\",\"fill_alpha\":{\"value\":0.5},\"fill_color\":{\"value\":\"lightgrey\"},\"left_units\":\"screen\",\"level\":\"overlay\",\"line_alpha\":{\"value\":1.0},\"line_color\":{\"value\":\"black\"},\"line_dash\":[4,4],\"line_width\":{\"value\":2},\"plot\":null,\"render_mode\":\"css\",\"right_units\":\"screen\",\"top_units\":\"screen\"},\"id\":\"2331\",\"type\":\"BoxAnnotation\"},{\"attributes\":{\"callback\":null},\"id\":\"2343\",\"type\":\"DataRange1d\"},{\"attributes\":{},\"id\":\"2347\",\"type\":\"LinearScale\"},{\"attributes\":{},\"id\":\"2350\",\"type\":\"BasicTicker\"},{\"attributes\":{\"axis_label\":\"fertility (children per woman)\",\"formatter\":{\"id\":\"2426\",\"type\":\"BasicTickFormatter\"},\"plot\":{\"id\":\"2339\",\"subtype\":\"Figure\",\"type\":\"Plot\"},\"ticker\":{\"id\":\"2350\",\"type\":\"BasicTicker\"}},\"id\":\"2349\",\"type\":\"LinearAxis\"},{\"attributes\":{\"plot\":{\"id\":\"2339\",\"subtype\":\"Figure\",\"type\":\"Plot\"},\"ticker\":{\"id\":\"2350\",\"type\":\"BasicTicker\"}},\"id\":\"2353\",\"type\":\"Grid\"},{\"attributes\":{\"axis_label\":\"female_literacy (% population)\",\"formatter\":{\"id\":\"2428\",\"type\":\"BasicTickFormatter\"},\"plot\":{\"id\":\"2339\",\"subtype\":\"Figure\",\"type\":\"Plot\"},\"ticker\":{\"id\":\"2355\",\"type\":\"BasicTicker\"}},\"id\":\"2354\",\"type\":\"LinearAxis\"},{\"attributes\":{\"data_source\":{\"id\":\"2226\",\"type\":\"ColumnDataSource\"},\"glyph\":{\"id\":\"2375\",\"type\":\"Circle\"},\"hover_glyph\":null,\"muted_glyph\":null,\"nonselection_glyph\":{\"id\":\"2376\",\"type\":\"Circle\"},\"selection_glyph\":null,\"view\":{\"id\":\"2378\",\"type\":\"CDSView\"}},\"id\":\"2377\",\"type\":\"GlyphRenderer\"},{\"attributes\":{\"dimension\":1,\"plot\":{\"id\":\"2339\",\"subtype\":\"Figure\",\"type\":\"Plot\"},\"ticker\":{\"id\":\"2355\",\"type\":\"BasicTicker\"}},\"id\":\"2358\",\"type\":\"Grid\"},{\"attributes\":{},\"id\":\"2355\",\"type\":\"BasicTicker\"},{\"attributes\":{\"children\":[{\"id\":\"2303\",\"subtype\":\"Figure\",\"type\":\"Plot\"},{\"id\":\"2339\",\"subtype\":\"Figure\",\"type\":\"Plot\"}]},\"id\":\"2433\",\"type\":\"Row\"},{\"attributes\":{\"fill_color\":{\"value\":\"#1f77b4\"},\"line_color\":{\"value\":\"#1f77b4\"},\"x\":{\"field\":\"fertility\"},\"y\":{\"field\":\"female_literacy\"}},\"id\":\"2380\",\"type\":\"Circle\"},{\"attributes\":{\"active_drag\":\"auto\",\"active_inspect\":\"auto\",\"active_multi\":null,\"active_scroll\":\"auto\",\"active_tap\":\"auto\",\"tools\":[{\"id\":\"2359\",\"type\":\"PanTool\"},{\"id\":\"2360\",\"type\":\"WheelZoomTool\"},{\"id\":\"2361\",\"type\":\"BoxZoomTool\"},{\"id\":\"2362\",\"type\":\"SaveTool\"},{\"id\":\"2363\",\"type\":\"ResetTool\"},{\"id\":\"2364\",\"type\":\"HelpTool\"}]},\"id\":\"2365\",\"type\":\"Toolbar\"},{\"attributes\":{},\"id\":\"2359\",\"type\":\"PanTool\"},{\"attributes\":{},\"id\":\"2360\",\"type\":\"WheelZoomTool\"},{\"attributes\":{\"overlay\":{\"id\":\"2367\",\"type\":\"BoxAnnotation\"}},\"id\":\"2361\",\"type\":\"BoxZoomTool\"},{\"attributes\":{},\"id\":\"2362\",\"type\":\"SaveTool\"},{\"attributes\":{},\"id\":\"2363\",\"type\":\"ResetTool\"},{\"attributes\":{},\"id\":\"2364\",\"type\":\"HelpTool\"},{\"attributes\":{\"fill_alpha\":{\"value\":0.1},\"fill_color\":{\"value\":\"#1f77b4\"},\"line_alpha\":{\"value\":0.1},\"line_color\":{\"value\":\"#1f77b4\"},\"x\":{\"field\":\"fertility\"},\"y\":{\"field\":\"female_literacy\"}},\"id\":\"2376\",\"type\":\"Circle\"},{\"attributes\":{\"bottom_units\":\"screen\",\"fill_alpha\":{\"value\":0.5},\"fill_color\":{\"value\":\"lightgrey\"},\"left_units\":\"screen\",\"level\":\"overlay\",\"line_alpha\":{\"value\":1.0},\"line_color\":{\"value\":\"black\"},\"line_dash\":[4,4],\"line_width\":{\"value\":2},\"plot\":null,\"render_mode\":\"css\",\"right_units\":\"screen\",\"top_units\":\"screen\"},\"id\":\"2367\",\"type\":\"BoxAnnotation\"}],\"root_ids\":[\"2437\"]},\"title\":\"Bokeh Application\",\"version\":\"1.0.2\"}};\n",
       "  var render_items = [{\"docid\":\"3a8b2396-a3ce-485d-81c7-13f1b647331f\",\"roots\":{\"2437\":\"7b2ef892-d505-4e92-b52f-55e1e52ecd96\"}}];\n",
       "  root.Bokeh.embed.embed_items_notebook(docs_json, render_items);\n",
       "\n",
       "  }\n",
       "  if (root.Bokeh !== undefined) {\n",
       "    embed_document(root);\n",
       "  } else {\n",
       "    var attempts = 0;\n",
       "    var timer = setInterval(function(root) {\n",
       "      if (root.Bokeh !== undefined) {\n",
       "        embed_document(root);\n",
       "        clearInterval(timer);\n",
       "      }\n",
       "      attempts++;\n",
       "      if (attempts > 100) {\n",
       "        console.log(\"Bokeh: ERROR: Unable to run BokehJS code because BokehJS library is missing\");\n",
       "        clearInterval(timer);\n",
       "      }\n",
       "    }, 10, root)\n",
       "  }\n",
       "})(window);"
      ],
      "application/vnd.bokehjs_exec.v0+json": ""
     },
     "metadata": {
      "application/vnd.bokehjs_exec.v0+json": {
       "id": "2437"
      }
     },
     "output_type": "display_data"
    }
   ],
   "source": [
    "# Create a list containing plots p1 and p2: row1\n",
    "row1=[p1,p2]\n",
    "\n",
    "# Create a list containing plots p3 and p4: row2\n",
    "row2=[p3,p4]\n",
    "\n",
    "# Create a gridplot using row1 and row2: layout\n",
    "layout = gridplot([row1,row2])\n",
    "\n",
    "# Specify the name of the output_file and show the result\n",
    "output_file('grid.html')\n",
    "show(layout)"
   ]
  },
  {
   "cell_type": "markdown",
   "metadata": {},
   "source": [
    "### Starting tabbed layouts\n",
    "Tabbed layouts can be created in Bokeh by placing plots or layouts in Panels.\n",
    "\n",
    "In this exercise, you'll take the four fertility vs female literacy plots from the last exercise and make a `Panel()` for each.\n",
    "\n",
    "### Displaying tabbed layouts\n",
    "Tabbed layouts are collections of Panel objects. Using the figures and Panels from the previous two exercises, you'll create a tabbed layout to change the region in the fertility vs female literacy plots.\n",
    "\n",
    "Your job is to create the layout using `Tabs()` and assign the tabs keyword argument to your list of `Panels`. The Panels have been created for you as `tab1`, `tab2`, `tab3` and `tab4`.\n",
    "\n",
    "After you've displayed the figure, explore the tabs you just added! The \"Pan\", \"Box Zoom\" and \"Wheel Zoom\" tools are also all available as before."
   ]
  },
  {
   "cell_type": "code",
   "execution_count": 13,
   "metadata": {},
   "outputs": [
    {
     "data": {
      "text/html": [
       "<div style=\"display: table;\"><div style=\"display: table-row;\"><div style=\"display: table-cell;\"><b title=\"bokeh.models.renderers.GlyphRenderer\">GlyphRenderer</b>(</div><div style=\"display: table-cell;\">id&nbsp;=&nbsp;'3174', <span id=\"3177\" style=\"cursor: pointer;\">&hellip;)</span></div></div><div class=\"3176\" style=\"display: none;\"><div style=\"display: table-cell;\"></div><div style=\"display: table-cell;\">data_source&nbsp;=&nbsp;ColumnDataSource(id='3011', ...),</div></div><div class=\"3176\" style=\"display: none;\"><div style=\"display: table-cell;\"></div><div style=\"display: table-cell;\">glyph&nbsp;=&nbsp;Circle(id='3172', ...),</div></div><div class=\"3176\" style=\"display: none;\"><div style=\"display: table-cell;\"></div><div style=\"display: table-cell;\">hover_glyph&nbsp;=&nbsp;None,</div></div><div class=\"3176\" style=\"display: none;\"><div style=\"display: table-cell;\"></div><div style=\"display: table-cell;\">js_event_callbacks&nbsp;=&nbsp;{},</div></div><div class=\"3176\" style=\"display: none;\"><div style=\"display: table-cell;\"></div><div style=\"display: table-cell;\">js_property_callbacks&nbsp;=&nbsp;{},</div></div><div class=\"3176\" style=\"display: none;\"><div style=\"display: table-cell;\"></div><div style=\"display: table-cell;\">level&nbsp;=&nbsp;'glyph',</div></div><div class=\"3176\" style=\"display: none;\"><div style=\"display: table-cell;\"></div><div style=\"display: table-cell;\">muted&nbsp;=&nbsp;False,</div></div><div class=\"3176\" style=\"display: none;\"><div style=\"display: table-cell;\"></div><div style=\"display: table-cell;\">muted_glyph&nbsp;=&nbsp;None,</div></div><div class=\"3176\" style=\"display: none;\"><div style=\"display: table-cell;\"></div><div style=\"display: table-cell;\">name&nbsp;=&nbsp;None,</div></div><div class=\"3176\" style=\"display: none;\"><div style=\"display: table-cell;\"></div><div style=\"display: table-cell;\">nonselection_glyph&nbsp;=&nbsp;Circle(id='3173', ...),</div></div><div class=\"3176\" style=\"display: none;\"><div style=\"display: table-cell;\"></div><div style=\"display: table-cell;\">selection_glyph&nbsp;=&nbsp;None,</div></div><div class=\"3176\" style=\"display: none;\"><div style=\"display: table-cell;\"></div><div style=\"display: table-cell;\">subscribed_events&nbsp;=&nbsp;[],</div></div><div class=\"3176\" style=\"display: none;\"><div style=\"display: table-cell;\"></div><div style=\"display: table-cell;\">tags&nbsp;=&nbsp;[],</div></div><div class=\"3176\" style=\"display: none;\"><div style=\"display: table-cell;\"></div><div style=\"display: table-cell;\">view&nbsp;=&nbsp;CDSView(id='3175', ...),</div></div><div class=\"3176\" style=\"display: none;\"><div style=\"display: table-cell;\"></div><div style=\"display: table-cell;\">visible&nbsp;=&nbsp;True,</div></div><div class=\"3176\" style=\"display: none;\"><div style=\"display: table-cell;\"></div><div style=\"display: table-cell;\">x_range_name&nbsp;=&nbsp;'default',</div></div><div class=\"3176\" style=\"display: none;\"><div style=\"display: table-cell;\"></div><div style=\"display: table-cell;\">y_range_name&nbsp;=&nbsp;'default')</div></div></div>\n",
       "<script>\n",
       "(function() {\n",
       "  var expanded = false;\n",
       "  var ellipsis = document.getElementById(\"3177\");\n",
       "  ellipsis.addEventListener(\"click\", function() {\n",
       "    var rows = document.getElementsByClassName(\"3176\");\n",
       "    for (var i = 0; i < rows.length; i++) {\n",
       "      var el = rows[i];\n",
       "      el.style.display = expanded ? \"none\" : \"table-row\";\n",
       "    }\n",
       "    ellipsis.innerHTML = expanded ? \"&hellip;)\" : \"&lsaquo;&lsaquo;&lsaquo;\";\n",
       "    expanded = !expanded;\n",
       "  });\n",
       "})();\n",
       "</script>\n"
      ],
      "text/plain": [
       "GlyphRenderer(id='3174', ...)"
      ]
     },
     "execution_count": 13,
     "metadata": {},
     "output_type": "execute_result"
    }
   ],
   "source": [
    "source1 = ColumnDataSource(df[df.Continent=='LAT'])\n",
    "source2 = ColumnDataSource(df[df.Continent=='AF'])\n",
    "source3 = ColumnDataSource(df[df.Continent=='ASI'])\n",
    "source4 = ColumnDataSource(df[df.Continent=='EUR'])\n",
    "\n",
    "p1 = figure(x_axis_label='fertility (children per woman)', y_axis_label='female_literacy (% population)', title=\"Latin America\")\n",
    "p2 = figure(x_axis_label='fertility (children per woman)', y_axis_label='female_literacy (% population)', title=\"Africa\")\n",
    "p3 = figure(x_axis_label='fertility (children per woman)', y_axis_label='female_literacy (% population)', title=\"Asia\")\n",
    "p4 = figure(x_axis_label='fertility (children per woman)', y_axis_label='female_literacy (% population)', title=\"Europe\")\n",
    "\n",
    "p1.circle('fertility', 'female_literacy', source=source1)\n",
    "p2.circle('fertility', 'female_literacy', source=source2)\n",
    "p3.circle('fertility', 'female_literacy', source=source3)\n",
    "p4.circle('fertility', 'female_literacy', source=source4)"
   ]
  },
  {
   "cell_type": "code",
   "execution_count": 15,
   "metadata": {},
   "outputs": [
    {
     "data": {
      "text/html": [
       "\n",
       "\n",
       "\n",
       "\n",
       "\n",
       "\n",
       "  <div class=\"bk-root\" id=\"07d1c5a3-057d-43af-98d3-2cd6b6c8a415\"></div>\n"
      ]
     },
     "metadata": {},
     "output_type": "display_data"
    },
    {
     "data": {
      "application/javascript": [
       "(function(root) {\n",
       "  function embed_document(root) {\n",
       "    \n",
       "  var docs_json = {\"6fd7ac62-6bfd-4e9f-b211-3a63506d2fce\":{\"roots\":{\"references\":[{\"attributes\":{\"callback\":null,\"tabs\":[{\"id\":\"3785\",\"type\":\"Panel\"},{\"id\":\"3786\",\"type\":\"Panel\"},{\"id\":\"3787\",\"type\":\"Panel\"},{\"id\":\"3788\",\"type\":\"Panel\"}]},\"id\":\"3789\",\"type\":\"Tabs\"},{\"attributes\":{\"axis_label\":\"female_literacy (% population)\",\"formatter\":{\"id\":\"3291\",\"type\":\"BasicTickFormatter\"},\"plot\":{\"id\":\"3121\",\"subtype\":\"Figure\",\"type\":\"Plot\"},\"ticker\":{\"id\":\"3137\",\"type\":\"BasicTicker\"}},\"id\":\"3136\",\"type\":\"LinearAxis\"},{\"attributes\":{\"data_source\":{\"id\":\"3008\",\"type\":\"ColumnDataSource\"},\"glyph\":{\"id\":\"3157\",\"type\":\"Circle\"},\"hover_glyph\":null,\"muted_glyph\":null,\"nonselection_glyph\":{\"id\":\"3158\",\"type\":\"Circle\"},\"selection_glyph\":null,\"view\":{\"id\":\"3160\",\"type\":\"CDSView\"}},\"id\":\"3159\",\"type\":\"GlyphRenderer\"},{\"attributes\":{\"dimension\":1,\"plot\":{\"id\":\"3121\",\"subtype\":\"Figure\",\"type\":\"Plot\"},\"ticker\":{\"id\":\"3137\",\"type\":\"BasicTicker\"}},\"id\":\"3140\",\"type\":\"Grid\"},{\"attributes\":{},\"id\":\"3137\",\"type\":\"BasicTicker\"},{\"attributes\":{\"active_drag\":\"auto\",\"active_inspect\":\"auto\",\"active_multi\":null,\"active_scroll\":\"auto\",\"active_tap\":\"auto\",\"tools\":[{\"id\":\"3141\",\"type\":\"PanTool\"},{\"id\":\"3142\",\"type\":\"WheelZoomTool\"},{\"id\":\"3143\",\"type\":\"BoxZoomTool\"},{\"id\":\"3144\",\"type\":\"SaveTool\"},{\"id\":\"3145\",\"type\":\"ResetTool\"},{\"id\":\"3146\",\"type\":\"HelpTool\"}]},\"id\":\"3147\",\"type\":\"Toolbar\"},{\"attributes\":{},\"id\":\"3141\",\"type\":\"PanTool\"},{\"attributes\":{},\"id\":\"3142\",\"type\":\"WheelZoomTool\"},{\"attributes\":{\"overlay\":{\"id\":\"3149\",\"type\":\"BoxAnnotation\"}},\"id\":\"3143\",\"type\":\"BoxZoomTool\"},{\"attributes\":{},\"id\":\"3302\",\"type\":\"UnionRenderers\"},{\"attributes\":{},\"id\":\"3144\",\"type\":\"SaveTool\"},{\"attributes\":{},\"id\":\"3145\",\"type\":\"ResetTool\"},{\"attributes\":{},\"id\":\"3146\",\"type\":\"HelpTool\"},{\"attributes\":{\"fill_alpha\":{\"value\":0.1},\"fill_color\":{\"value\":\"#1f77b4\"},\"line_alpha\":{\"value\":0.1},\"line_color\":{\"value\":\"#1f77b4\"},\"x\":{\"field\":\"fertility\"},\"y\":{\"field\":\"female_literacy\"}},\"id\":\"3158\",\"type\":\"Circle\"},{\"attributes\":{\"bottom_units\":\"screen\",\"fill_alpha\":{\"value\":0.5},\"fill_color\":{\"value\":\"lightgrey\"},\"left_units\":\"screen\",\"level\":\"overlay\",\"line_alpha\":{\"value\":1.0},\"line_color\":{\"value\":\"black\"},\"line_dash\":[4,4],\"line_width\":{\"value\":2},\"plot\":null,\"render_mode\":\"css\",\"right_units\":\"screen\",\"top_units\":\"screen\"},\"id\":\"3149\",\"type\":\"BoxAnnotation\"},{\"attributes\":{\"source\":{\"id\":\"3008\",\"type\":\"ColumnDataSource\"}},\"id\":\"3160\",\"type\":\"CDSView\"},{\"attributes\":{},\"id\":\"3297\",\"type\":\"Selection\"},{\"attributes\":{\"below\":[{\"id\":\"3131\",\"type\":\"LinearAxis\"}],\"left\":[{\"id\":\"3136\",\"type\":\"LinearAxis\"}],\"renderers\":[{\"id\":\"3131\",\"type\":\"LinearAxis\"},{\"id\":\"3135\",\"type\":\"Grid\"},{\"id\":\"3136\",\"type\":\"LinearAxis\"},{\"id\":\"3140\",\"type\":\"Grid\"},{\"id\":\"3149\",\"type\":\"BoxAnnotation\"},{\"id\":\"3174\",\"type\":\"GlyphRenderer\"}],\"title\":{\"id\":\"3120\",\"type\":\"Title\"},\"toolbar\":{\"id\":\"3147\",\"type\":\"Toolbar\"},\"x_range\":{\"id\":\"3123\",\"type\":\"DataRange1d\"},\"x_scale\":{\"id\":\"3127\",\"type\":\"LinearScale\"},\"y_range\":{\"id\":\"3125\",\"type\":\"DataRange1d\"},\"y_scale\":{\"id\":\"3129\",\"type\":\"LinearScale\"}},\"id\":\"3121\",\"subtype\":\"Figure\",\"type\":\"Plot\"},{\"attributes\":{\"fill_color\":{\"value\":\"#1f77b4\"},\"line_color\":{\"value\":\"#1f77b4\"},\"x\":{\"field\":\"fertility\"},\"y\":{\"field\":\"female_literacy\"}},\"id\":\"3167\",\"type\":\"Circle\"},{\"attributes\":{\"fill_alpha\":{\"value\":0.1},\"fill_color\":{\"value\":\"#1f77b4\"},\"line_alpha\":{\"value\":0.1},\"line_color\":{\"value\":\"#1f77b4\"},\"x\":{\"field\":\"fertility\"},\"y\":{\"field\":\"female_literacy\"}},\"id\":\"3163\",\"type\":\"Circle\"},{\"attributes\":{\"data_source\":{\"id\":\"3009\",\"type\":\"ColumnDataSource\"},\"glyph\":{\"id\":\"3162\",\"type\":\"Circle\"},\"hover_glyph\":null,\"muted_glyph\":null,\"nonselection_glyph\":{\"id\":\"3163\",\"type\":\"Circle\"},\"selection_glyph\":null,\"view\":{\"id\":\"3165\",\"type\":\"CDSView\"}},\"id\":\"3164\",\"type\":\"GlyphRenderer\"},{\"attributes\":{\"source\":{\"id\":\"3009\",\"type\":\"ColumnDataSource\"}},\"id\":\"3165\",\"type\":\"CDSView\"},{\"attributes\":{\"plot\":null,\"text\":\"Latin America\"},\"id\":\"3012\",\"type\":\"Title\"},{\"attributes\":{},\"id\":\"3300\",\"type\":\"Selection\"},{\"attributes\":{\"fill_color\":{\"value\":\"#1f77b4\"},\"line_color\":{\"value\":\"#1f77b4\"},\"x\":{\"field\":\"fertility\"},\"y\":{\"field\":\"female_literacy\"}},\"id\":\"3172\",\"type\":\"Circle\"},{\"attributes\":{\"fill_alpha\":{\"value\":0.1},\"fill_color\":{\"value\":\"#1f77b4\"},\"line_alpha\":{\"value\":0.1},\"line_color\":{\"value\":\"#1f77b4\"},\"x\":{\"field\":\"fertility\"},\"y\":{\"field\":\"female_literacy\"}},\"id\":\"3168\",\"type\":\"Circle\"},{\"attributes\":{\"data_source\":{\"id\":\"3010\",\"type\":\"ColumnDataSource\"},\"glyph\":{\"id\":\"3167\",\"type\":\"Circle\"},\"hover_glyph\":null,\"muted_glyph\":null,\"nonselection_glyph\":{\"id\":\"3168\",\"type\":\"Circle\"},\"selection_glyph\":null,\"view\":{\"id\":\"3170\",\"type\":\"CDSView\"}},\"id\":\"3169\",\"type\":\"GlyphRenderer\"},{\"attributes\":{},\"id\":\"3287\",\"type\":\"BasicTickFormatter\"},{\"attributes\":{\"source\":{\"id\":\"3010\",\"type\":\"ColumnDataSource\"}},\"id\":\"3170\",\"type\":\"CDSView\"},{\"attributes\":{},\"id\":\"3279\",\"type\":\"BasicTickFormatter\"},{\"attributes\":{},\"id\":\"3277\",\"type\":\"BasicTickFormatter\"},{\"attributes\":{},\"id\":\"3293\",\"type\":\"UnionRenderers\"},{\"attributes\":{\"fill_alpha\":{\"value\":0.1},\"fill_color\":{\"value\":\"#1f77b4\"},\"line_alpha\":{\"value\":0.1},\"line_color\":{\"value\":\"#1f77b4\"},\"x\":{\"field\":\"fertility\"},\"y\":{\"field\":\"female_literacy\"}},\"id\":\"3173\",\"type\":\"Circle\"},{\"attributes\":{},\"id\":\"3283\",\"type\":\"BasicTickFormatter\"},{\"attributes\":{\"data_source\":{\"id\":\"3011\",\"type\":\"ColumnDataSource\"},\"glyph\":{\"id\":\"3172\",\"type\":\"Circle\"},\"hover_glyph\":null,\"muted_glyph\":null,\"nonselection_glyph\":{\"id\":\"3173\",\"type\":\"Circle\"},\"selection_glyph\":null,\"view\":{\"id\":\"3175\",\"type\":\"CDSView\"}},\"id\":\"3174\",\"type\":\"GlyphRenderer\"},{\"attributes\":{},\"id\":\"3285\",\"type\":\"BasicTickFormatter\"},{\"attributes\":{\"source\":{\"id\":\"3011\",\"type\":\"ColumnDataSource\"}},\"id\":\"3175\",\"type\":\"CDSView\"},{\"attributes\":{},\"id\":\"3281\",\"type\":\"BasicTickFormatter\"},{\"attributes\":{},\"id\":\"3289\",\"type\":\"BasicTickFormatter\"},{\"attributes\":{},\"id\":\"3296\",\"type\":\"UnionRenderers\"},{\"attributes\":{},\"id\":\"3291\",\"type\":\"BasicTickFormatter\"},{\"attributes\":{},\"id\":\"3299\",\"type\":\"UnionRenderers\"},{\"attributes\":{},\"id\":\"3294\",\"type\":\"Selection\"},{\"attributes\":{\"child\":{\"id\":\"3013\",\"subtype\":\"Figure\",\"type\":\"Plot\"},\"title\":\"Latin America\"},\"id\":\"3785\",\"type\":\"Panel\"},{\"attributes\":{\"child\":{\"id\":\"3049\",\"subtype\":\"Figure\",\"type\":\"Plot\"},\"title\":\"Africa\"},\"id\":\"3786\",\"type\":\"Panel\"},{\"attributes\":{\"plot\":null,\"text\":\"Africa\"},\"id\":\"3048\",\"type\":\"Title\"},{\"attributes\":{\"callback\":null,\"data\":{\"Continent\":[\"LAT\",\"LAT\",\"LAT\",\"LAT\",\"LAT\",\"LAT\",\"LAT\",\"LAT\",\"LAT\",\"LAT\",\"LAT\",\"LAT\",\"LAT\",\"LAT\",\"LAT\",\"LAT\",\"LAT\",\"LAT\",\"LAT\",\"LAT\",\"LAT\",\"LAT\",\"LAT\",\"LAT\"],\"Country\":[\"Br\\u00e9sil\",\"Mexique\",\"Colombie\",\"Argentine\",\"P\\u00e9rou\",\"Venezuela\",\"Chili\",\"Guatemala\",\"Equateur\",\"Cuba\",\"R\\u00e9publique dominicaine\",\"Bolivie\",\"Honduras\",\"Paraguay\",\"El Salvador\",\"Nicaragua\",\"Costa Rica\",\"Panama\",\"Uruguay\",\"Jama\\u00efque\",\"Trinit\\u00e9-et-Tobago\",\"Suriname\",\"Bahamas\",\"Aruba\"],\"female_literacy\":{\"__ndarray__\":\"zczMzMyMVkAAAAAAAOBWQJqZmZmZWVdAzczMzMxsWEBmZmZmZiZVQJqZmZmZuVdAzczMzMysWEDNzMzMzCxRQM3MzMzMbFRAMzMzMzPzWEAzMzMzMxNWQAAAAAAAgFVAAAAAAADgVEAAAAAAAGBXQJqZmZmZWVRAmpmZmZl5U0DNzMzMzAxYQDMzMzMzM1dAAAAAAACgWEAzMzMzM7NWQM3MzMzMjFhAmpmZmZkZVkAAAAAAACBYQAAAAAAAgFhA\",\"dtype\":\"float64\",\"shape\":[24]},\"fertility\":{\"__ndarray__\":\"CKwcWmQ7/T9zaJHtfD8BQAisHFpkOwNAYxBYObTIAUA9CtejcD0EQJZDi2zn+wNAN4lBYOXQ/j/fT42XbhIQQLTIdr6fGgRAFK5H4XoU+D9MN4lBYOUEQCyHFtnO9wpAhetRuB6FCUA3iUFg5dAHQFyPwvUoXAJAEVg5tMh2BUBKDAIrhxb/P1TjpZvEIARAg8DKoUW2AEBMN4lBYOUCQCYxCKwcWvo/lkOLbOf7AkAshxbZzvcKQIPAyqFFtvs/\",\"dtype\":\"float64\",\"shape\":[24]},\"index\":[4,10,28,31,40,42,57,64,65,71,78,81,90,96,98,100,109,120,122,128,140,150,154,160],\"population\":{\"__ndarray__\":\"AAAAZIHipkH67buGHVuZQQAAAACkdoVBAAAAIIcEg0EAAADANYB7QQAAAIARpHpBAAAAAIcGcEEAAAAArhpqQQAAAAC6tmlBAAAA4A9fZUEAAADguPtiQQAAACB0fWJBAAAAQEHrW0EAAADAp8tXQQAAAIAlZldBAAAAQH+eVUEAAACANT1RQQAAAIBT7klBAAAAANJvSUEAAAAAcIBEQQAAAACMWDRBAAAAANBwH0EAAAAAEJwUQQAAAADwvvlA\",\"dtype\":\"float64\",\"shape\":[24]}},\"selected\":{\"id\":\"3294\",\"type\":\"Selection\"},\"selection_policy\":{\"id\":\"3293\",\"type\":\"UnionRenderers\"}},\"id\":\"3008\",\"type\":\"ColumnDataSource\"},{\"attributes\":{\"child\":{\"id\":\"3085\",\"subtype\":\"Figure\",\"type\":\"Plot\"},\"title\":\"Asia\"},\"id\":\"3787\",\"type\":\"Panel\"},{\"attributes\":{\"bottom_units\":\"screen\",\"fill_alpha\":{\"value\":0.5},\"fill_color\":{\"value\":\"lightgrey\"},\"left_units\":\"screen\",\"level\":\"overlay\",\"line_alpha\":{\"value\":1.0},\"line_color\":{\"value\":\"black\"},\"line_dash\":[4,4],\"line_width\":{\"value\":2},\"plot\":null,\"render_mode\":\"css\",\"right_units\":\"screen\",\"top_units\":\"screen\"},\"id\":\"3041\",\"type\":\"BoxAnnotation\"},{\"attributes\":{\"callback\":null,\"data\":{\"Continent\":[\"AF\",\"AF\",\"AF\",\"AF\",\"AF\",\"AF\",\"AF\",\"AF\",\"AF\",\"AF\",\"AF\",\"AF\",\"AF\",\"AF\",\"AF\",\"AF\",\"AF\",\"AF\",\"AF\",\"AF\",\"AF\",\"AF\",\"AF\",\"AF\",\"AF\",\"AF\",\"AF\",\"AF\",\"AF\",\"AF\",\"AF\",\"AF\",\"AF\",\"AF\",\"AF\",\"AF\",\"AF\",\"AF\",\"AF\",\"AF\",\"AF\",\"AF\",\"AF\",\"AF\",\"AF\",\"AF\",\"AF\",\"AF\",\"AF\"],\"Country\":[\"Nig\\u00e9ria\",\"Egypte\",\"Ethiopie\",\"R\\u00e9p. D\\u00e9mocratique du Congo\",\"Afrique du Sud\",\"R\\u00e9publique-Unie de Tanzanie\",\"Soudan\",\"Kenya\",\"Alg\\u00e9rie\",\"Ouganda\",\"Maroc\",\"Ghana\",\"Mozambique\",\"C\\u00f4te d'Ivoire\",\"Madagascar\",\"Cameroun\",\"Angola\",\"Burkina Faso\",\"Malawi\",\"Niger\",\"Mali\",\"Zambie\",\"Zimbabwe\",\"S\\u00e9n\\u00e9gal\",\"Tchad\",\"Tunisie\",\"Guin\\u00e9e\",\"Rwanda\",\"B\\u00e9nin\",\"Burundi\",\"Togo\",\"Jamahiriya arabe libyenne\",\"Sierra Leone\",\"Erythr\\u00e9e\",\"R\\u00e9publique centrafricaine\",\"Lib\\u00e9ria\",\"Mauritanie\",\"Namibie\",\"Lesotho\",\"Botswana\",\"Gambie\",\"Guin\\u00e9e-Bissau\",\"Gabon\",\"Maurice\",\"Swaziland\",\"Guin\\u00e9e \\u00e9quatoriale\",\"Comores\",\"Cap-Vert\",\"Sao Tom\\u00e9-et-Principe\"],\"female_literacy\":{\"__ndarray__\":\"ZmZmZmZmSEBmZmZmZuZMQM3MzMzMzDZAzczMzMwMTEBmZmZmZgZWQDMzMzMzk1BAzczMzMzMTUAzMzMzM7NUQDMzMzMz809AMzMzMzOzUEDNzMzMzAxGQGZmZmZmpk1AzczMzMwMREBmZmZmZiZGQDMzMzMzU1BAMzMzMzPzUEAAAAAAAIBMQJqZmZmZmTVAMzMzMzNzUEAzMzMzMzMuQDMzMzMzMzJAAAAAAACATkAzMzMzMzNWQAAAAAAAgEBAZmZmZmbmNUAAAAAAAMBRQGZmZmZmZjpAZmZmZmaGUECamZmZmRk8QDMzMzMz801AmpmZmZnZSkAzMzMzM1NUQGZmZmZm5jxAAAAAAABAS0DNzMzMzIxEQAAAAAAAgEpAAAAAAADASEDNzMzMzOxVQGZmZmZmxldAAAAAAADgVEBmZmZmZiZBQAAAAAAAQEJAzczMzMzMVEAzMzMzMzNVQGZmZmZmZlVAZmZmZmZGVkAzMzMzM/NQQDMzMzMz01NAMzMzMzPTVEA=\",\"dtype\":\"float64\",\"shape\":[49]},\"fertility\":{\"__ndarray__\":\"/dR46SaxFEC7SQwCK4cGQPLSTWIQ2BRAbhKDwMqhF0AK16NwPQoEQBSuR+F6FBZACKwcWmQ7EEBWDi2ynW8TQCPb+X5qvAJAarx0kxgEGUB56SYxCKwCQOF6FK5H4RBAke18PzXeE0B0kxgEVg4SQHsUrkfhehJARIts5/spEkBANV66SYwWQHe+nxovXRdAUrgehevRFUAtsp3vp0YcQB+F61G4nhVAppvEILDyFkCBlUOLbOcKQI/C9ShcjxNAbef7qfFSGEDb+X5qvHT9PzeJQWDlUBVAUrgehetRFUBPjZduEoMVQM3MzMzMzBFARIts5/upEECJQWDl0CIFQClcj8L1qBRA6iYxCKwcEkB9PzVeuskSQCUGgZVDCxRAWmQ730+NEUBSuB6F61EKQOkmMQisHApA+n5qvHSTBkDGSzeJQeATQIlBYOXQohZA7FG4HoXrCUB46SYxCKz8P5qZmZmZmQtAbhKDwMohFUAUrkfhehQPQOj7qfHSTQVAWDm0yHa+DUA=\",\"dtype\":\"float64\",\"shape\":[49]},\"index\":[7,14,15,19,24,29,30,32,34,36,37,47,49,51,54,55,56,60,61,62,66,67,68,69,72,76,79,80,85,86,94,95,101,106,113,117,123,131,132,135,136,137,138,142,143,147,148,151,159],\"population\":{\"__ndarray__\":\"AAAAvKEGokEAAAAQBnCTQQAAAGhbPpNBAAAA2NOjjkEAAADAPDeHQQAAAJgGQoRBAAAAWFS3g0EAAAAAGHyCQQAAAJD5Y4BBAAAAELowfkEAAAAANyR+QQAAAPDoRHZBAAAAUHxYdUEAAABgLKNzQQAAANDBOXJBAAAAEEA0ckEAAADAky9xQQAAAIBrDm1BAAAAwBxRbEEAAADA1wtsQQAAAAD5O2hBAAAAYDcSaEEAAADgY8VnQQAAAKB9SmdBAAAAYPDQZEEAAAAA37JjQQAAAOBLwWJBAAAAwG6KYkEAAADAiIVgQQAAAIADzV5BAAAAQDujWEEAAABAqQJYQQAAAECLNVVBAAAAQGfLUkEAAADAj41QQQAAAAD88ExBAAAAgGGHSEEAAAAA3z9AQQAAAACVRT9BAAAAAGJQPUEAAAAAKFU5QQAAAAAWCjhBAAAAAN8YNkEAAAAAdlwzQQAAAADa0TFBAAAAAPodJEGoYCyg5qMjQQAAAADAbx5BAAAAAHCNA0E=\",\"dtype\":\"float64\",\"shape\":[49]}},\"selected\":{\"id\":\"3297\",\"type\":\"Selection\"},\"selection_policy\":{\"id\":\"3296\",\"type\":\"UnionRenderers\"}},\"id\":\"3009\",\"type\":\"ColumnDataSource\"},{\"attributes\":{\"below\":[{\"id\":\"3095\",\"type\":\"LinearAxis\"}],\"left\":[{\"id\":\"3100\",\"type\":\"LinearAxis\"}],\"renderers\":[{\"id\":\"3095\",\"type\":\"LinearAxis\"},{\"id\":\"3099\",\"type\":\"Grid\"},{\"id\":\"3100\",\"type\":\"LinearAxis\"},{\"id\":\"3104\",\"type\":\"Grid\"},{\"id\":\"3113\",\"type\":\"BoxAnnotation\"},{\"id\":\"3169\",\"type\":\"GlyphRenderer\"}],\"title\":{\"id\":\"3084\",\"type\":\"Title\"},\"toolbar\":{\"id\":\"3111\",\"type\":\"Toolbar\"},\"x_range\":{\"id\":\"3087\",\"type\":\"DataRange1d\"},\"x_scale\":{\"id\":\"3091\",\"type\":\"LinearScale\"},\"y_range\":{\"id\":\"3089\",\"type\":\"DataRange1d\"},\"y_scale\":{\"id\":\"3093\",\"type\":\"LinearScale\"}},\"id\":\"3085\",\"subtype\":\"Figure\",\"type\":\"Plot\"},{\"attributes\":{\"callback\":null,\"data\":{\"Continent\":[\"ASI\",\"ASI\",\"ASI\",\"ASI\",\"ASI\",\"ASI\",\"ASI\",\"ASI\",\"ASI\",\"ASI\",\"ASI\",\"ASI\",\"ASI\",\"ASI\",\"ASI\",\"ASI\",\"ASI\",\"ASI\",\"ASI\",\"ASI\",\"ASI\",\"ASI\",\"ASI\",\"ASI\",\"ASI\",\"ASI\",\"ASI\",\"ASI\",\"ASI\",\"ASI\",\"ASI\",\"ASI\",\"ASI\",\"ASI\",\"ASI\",\"ASI\",\"ASI\",\"ASI\",\"ASI\",\"ASI\",\"ASI\",\"ASI\",\"ASI\",\"ASI\",\"ASI\",\"ASI\",\"ASI\"],\"Country\":[\"Chine\",\"Inde\",\"Indon\\u00e9sie\",\"Pakistan\",\"Bangladesh\",\"Japan\",\"Philippines\",\"Viet Nam\",\"Turquie\",\"Iran, R\\u00e9publique islamique d'\",\"Tha\\u00eflande\",\"Myanmar\",\"South Korea\",\"Iraq\",\"Afghanistan\",\"N\\u00e9pal\",\"Ouzb\\u00e9kistan\",\"Malaisie\",\"Arabie saoudite\",\"R\\u00e9p. populaire d\\u00e9mocratique de Cor\\u00e9e\",\"Y\\u00e9men\",\"R\\u00e9publique arabe syrienne\",\"Sri Lanka\",\"Kazakhstan\",\"Cambodge\",\"Azerba\\u00efdjan\",\"Israel\",\"Tadjikistan\",\"R\\u00e9p. d\\u00e9mocratique populaire lao\",\"Jordanie\",\"Kirghizistan\",\"Turkm\\u00e9nistan\",\"Singapour\",\"Emirats arabes unis\",\"G\\u00e9orgie\",\"Liban\",\"Arm\\u00e9nie\",\"Oman\",\"Kowe\\u00eft\",\"Mongolie\",\"Qatar\",\"Bahre\\u00efn\",\"Bhoutan\",\"Macao, Chine\",\"Brun\\u00e9i Darussalam\",\"Maldives\",\"Tonga\"],\"female_literacy\":{\"__ndarray__\":\"AAAAAACgVkBmZmZmZmZJQDMzMzMzM1ZAAAAAAAAAREBmZmZmZuZIQAAAAAAAwFhAmpmZmZl5V0DNzMzMzIxWQDMzMzMzU1RAzczMzMxMU0AAAAAAAOBWQM3MzMzMTFZAZmZmZmYmWEDNzMzMzExRQDMzMzMzMylAMzMzMzOzRkCamZmZmblYQDMzMzMzc1ZAzczMzMwMVEAAAAAAAABZQGZmZmZmZkVAzczMzMxMU0BmZmZmZkZWQAAAAAAA4FhAmpmZmZm5UUDNzMzMzMxYQJqZmZmZ+VdAAAAAAADgWECamZmZmZlPQJqZmZmZOVZAZmZmZmbGWEAzMzMzM9NYQGZmZmZm5lZAAAAAAADgVkDNzMzMzOxYQAAAAAAAgFVAmpmZmZnZWECamZmZmTlUQGZmZmZmRldAMzMzMzNzWECamZmZmZlWQJqZmZmZWVZAmpmZmZlZQ0DNzMzMzKxWQDMzMzMzU1dAmpmZmZmZWEBmZmZmZsZYQA==\",\"dtype\":\"float64\",\"shape\":[47]},\"fertility\":{\"__ndarray__\":\"6Pup8dJN/D/b+X5qvHQFQHSTGARWDgFAYOXQItv5DkDo+6nx0k0CQP7UeOkmMfQ/aZHtfD81CEDdJAaBlUMAQM3MzMzMzABA5dAi2/l+/D/z/dR46Sb9P3Noke18PwJAL90kBoGV8z/kpZvEILAPQIXrUbgeBRpAL90kBoGVBkCWQ4ts5/sBQKrx0k1iEARAUrgehetRCEBEi2zn+6n9P2ZmZmZmZhRA/Knx0k1iCUARWDm0yHYCQCcxCKwcWgJArBxaZDvfBkDTTWIQWDkBQGq8dJMYBAZAzczMzMzMCkBSuB6F61ELQPP91HjpJghAv58aL90kBEBxPQrXo3ADQGiR7Xw/NfQ//Knx0k1i/j8cWmQ730/5P9v5fmq8dP0/LIcW2c73+z9t5/up8dIHQJ3vp8ZLNwFAAyuHFtnO/z/hehSuR+ECQHe+nxov3QFAGy/dJAaBBEC28/3UeOnuP9Ei2/l+agBAAAAAAAAAAEAGgZVDi2wPQA==\",\"dtype\":\"float64\",\"shape\":[47]},\"index\":[0,1,3,5,6,9,11,12,16,17,18,23,25,38,39,41,43,44,45,46,48,52,53,59,63,84,91,92,97,99,104,105,107,110,114,116,125,126,127,129,141,145,146,149,153,156,161],\"population\":{\"__ndarray__\":\"AAAAZii900GQFOkAn/zQQQAAAHQFGqtB7448/lHNo0EAAAAA0RKjQQAAAABvcp5BAAAAVG6KlUEAAAB0442UQQAAAFBen5FBOhfAht0nkUEAAAA88BCQQQAAAFgsoodBAAAAwHgth0ESE68E10l9QbBq9a86rXtBAAAAYJN5e0EAAABAYgx6QQAAABBMw3lB9wa/XgOBd0EAAAAQILd2QQAAANAW23VBKJTqnbqgc0EgwWjF8jhzQQAAACC65W1BAAAAAFvGa0EAAACAVI5gQQAAAACA4VtBAAAAwNwTWkEAAABA56tXQV2pxreeh1ZBAAAAADMiVEEAAACAaD1TQQAAAAD6dVJBAAAAwNEbUUEAAADAEG5QQQAAAADv/k9BAAAAgO95R0EAAACAKEBFQYEYdGs00ERBAAAAAKAmREEAAAAAXoszQQAAAABCqydBAAAAAIr1JEEAAAAAxA4gQQAAAABg8RdBAAAAAAyeEkEAAAAA4Ej5QA==\",\"dtype\":\"float64\",\"shape\":[47]}},\"selected\":{\"id\":\"3300\",\"type\":\"Selection\"},\"selection_policy\":{\"id\":\"3299\",\"type\":\"UnionRenderers\"}},\"id\":\"3010\",\"type\":\"ColumnDataSource\"},{\"attributes\":{},\"id\":\"3036\",\"type\":\"SaveTool\"},{\"attributes\":{},\"id\":\"3038\",\"type\":\"HelpTool\"},{\"attributes\":{\"below\":[{\"id\":\"3023\",\"type\":\"LinearAxis\"}],\"left\":[{\"id\":\"3028\",\"type\":\"LinearAxis\"}],\"renderers\":[{\"id\":\"3023\",\"type\":\"LinearAxis\"},{\"id\":\"3027\",\"type\":\"Grid\"},{\"id\":\"3028\",\"type\":\"LinearAxis\"},{\"id\":\"3032\",\"type\":\"Grid\"},{\"id\":\"3041\",\"type\":\"BoxAnnotation\"},{\"id\":\"3159\",\"type\":\"GlyphRenderer\"}],\"title\":{\"id\":\"3012\",\"type\":\"Title\"},\"toolbar\":{\"id\":\"3039\",\"type\":\"Toolbar\"},\"x_range\":{\"id\":\"3015\",\"type\":\"DataRange1d\"},\"x_scale\":{\"id\":\"3019\",\"type\":\"LinearScale\"},\"y_range\":{\"id\":\"3017\",\"type\":\"DataRange1d\"},\"y_scale\":{\"id\":\"3021\",\"type\":\"LinearScale\"}},\"id\":\"3013\",\"subtype\":\"Figure\",\"type\":\"Plot\"},{\"attributes\":{},\"id\":\"3037\",\"type\":\"ResetTool\"},{\"attributes\":{\"callback\":null,\"data\":{\"Continent\":[\"EUR\",\"EUR\",\"EUR\",\"EUR\",\"EUR\",\"EUR\",\"EUR\",\"EUR\",\"EUR\",\"EUR\",\"EUR\",\"EUR\",\"EUR\",\"EUR\",\"EUR\",\"EUR\",\"EUR\",\"EUR\",\"EUR\",\"EUR\",\"EUR\",\"EUR\",\"EUR\",\"EUR\",\"EUR\",\"EUR\",\"EUR\",\"EUR\",\"EUR\",\"EUR\",\"EUR\",\"EUR\",\"EUR\",\"EUR\",\"EUR\",\"EUR\"],\"Country\":[\"F\\u00e9d\\u00e9ration de Russie\",\"Germany\",\"France\",\"UK\",\"Italie\",\"Ukraine\",\"Espagne\",\"Pologne\",\"Roumanie\",\"Netherlands\",\"Gr\\u00e8ce\",\"Belgium\",\"Portugal\",\"Czech rep\",\"Hongrie\",\"B\\u00e9larus\",\"Sweden\",\"Switzerland\",\"Bulgarie\",\"Serbie\",\"Denmark\",\"Finland\",\"Norway\",\"Croatie\",\"Ireland\",\"Bosnie-Herz\\u00e9govine\",\"R\\u00e9publique de Moldova\",\"Lituanie\",\"Albanie\",\"Lettonie\",\"L'ex-R\\u00e9p. yougoslave de Mac\\u00e9doine\",\"Slov\\u00e9nie\",\"Estonie\",\"Chypre\",\"Malte\",\"Iceland\"],\"female_literacy\":{\"__ndarray__\":\"mpmZmZnZWEAAAAAAAMBYQAAAAAAAwFhAAAAAAADAWEAAAAAAAKBYQGZmZmZm5lhAmpmZmZk5WEAzMzMzM9NYQJqZmZmZOVhAAAAAAADAWECamZmZmflXQAAAAAAAwFhAmpmZmZk5V0AAAAAAAMBYQJqZmZmZuVhAzczMzMzsWEAAAAAAAMBYQAAAAAAAwFhAmpmZmZl5WEDNzMzMzAxYQAAAAAAAwFhAAAAAAAAAWUAAAAAAAABZQAAAAAAAgFhAAAAAAADAWECamZmZmflXQDMzMzMzc1hAzczMzMzsWEDNzMzMzKxYQDMzMzMz81hAmpmZmZnZV0DNzMzMzOxYQDMzMzMz81hAzczMzMwsWEAAAAAAAGBXQAAAAAAAwFhA\",\"dtype\":\"float64\",\"shape\":[36]},\"fertility\":{\"__ndarray__\":\"fT81XrpJ9j/Jdr6fGi/1P39qvHSTGP4/bhKDwMqh/T89CtejcD32Py2yne+nxvU/sXJoke189z8Tg8DKoUX0PzMzMzMzM/U/wMqhRbbz+z8pXI/C9Sj2PyUGgZVDi/w/QDVeukkM9j8zMzMzMzP3P+xRuB6F6/U/5dAi2/l+9D9WDi2yne/9P1yPwvUoXPc/YOXQItv59j+XbhKDwMr5Py/dJAaBlf0/xks3iUFg/T8pXI/C9Sj+P99PjZduEvc/c2iR7Xw//z8xCKwcWmTzP9R46SYxCPg/rBxaZDvf9T9Ei2zn+6n9PzeJQWDl0PY/YOXQItv59j99PzVeukn2P0oMAiuHFvs/qMZLN4lB+D9qvHSTGAT0P1g5tMh2vgBA\",\"dtype\":\"float64\",\"shape\":[36]},\"index\":[8,13,20,21,22,26,27,33,50,58,70,73,74,75,77,82,83,87,88,89,102,103,108,111,112,118,119,121,124,130,133,134,139,144,152,155],\"population\":{\"__ndarray__\":\"AAAAYPjroEEAAABEmpOTQQAAAMA5so1BAAAAcNVIjUEAAACYu4eMQQAAAMDADoZBAAAAIAC5hUEAAAD4BS6CQQAAAGBZhHRBAAAAIBNeb0EAAADA3G5lQQAAACC6bGRBAAAAoLlCZEEAAAAAAuJjQQAAAIB1JWNBAAAAQPp2YkEAAACgxpVhQQAAAMBuLF1BAAAAwLgUXUEAAABA8wlcQQAAAEDd9FRBAAAAwN1EVEEAAAAAdTBSQQAAAAAU6lBBAAAAwPLhUEEAAAAAVslMQQAAAIBsuEtBAAAAgNGeSUEAAACAPftHQQAAAAD3SUFBAAAAAP4lP0EAAAAAxNc+QQAAAAADdTRBAAAAAMRRKkEAAAAAuCQZQQAAAACYXxNB\",\"dtype\":\"float64\",\"shape\":[36]}},\"selected\":{\"id\":\"3303\",\"type\":\"Selection\"},\"selection_policy\":{\"id\":\"3302\",\"type\":\"UnionRenderers\"}},\"id\":\"3011\",\"type\":\"ColumnDataSource\"},{\"attributes\":{\"child\":{\"id\":\"3121\",\"subtype\":\"Figure\",\"type\":\"Plot\"},\"title\":\"Europe\"},\"id\":\"3788\",\"type\":\"Panel\"},{\"attributes\":{\"active_drag\":\"auto\",\"active_inspect\":\"auto\",\"active_multi\":null,\"active_scroll\":\"auto\",\"active_tap\":\"auto\",\"tools\":[{\"id\":\"3033\",\"type\":\"PanTool\"},{\"id\":\"3034\",\"type\":\"WheelZoomTool\"},{\"id\":\"3035\",\"type\":\"BoxZoomTool\"},{\"id\":\"3036\",\"type\":\"SaveTool\"},{\"id\":\"3037\",\"type\":\"ResetTool\"},{\"id\":\"3038\",\"type\":\"HelpTool\"}]},\"id\":\"3039\",\"type\":\"Toolbar\"},{\"attributes\":{\"below\":[{\"id\":\"3059\",\"type\":\"LinearAxis\"}],\"left\":[{\"id\":\"3064\",\"type\":\"LinearAxis\"}],\"renderers\":[{\"id\":\"3059\",\"type\":\"LinearAxis\"},{\"id\":\"3063\",\"type\":\"Grid\"},{\"id\":\"3064\",\"type\":\"LinearAxis\"},{\"id\":\"3068\",\"type\":\"Grid\"},{\"id\":\"3077\",\"type\":\"BoxAnnotation\"},{\"id\":\"3164\",\"type\":\"GlyphRenderer\"}],\"title\":{\"id\":\"3048\",\"type\":\"Title\"},\"toolbar\":{\"id\":\"3075\",\"type\":\"Toolbar\"},\"x_range\":{\"id\":\"3051\",\"type\":\"DataRange1d\"},\"x_scale\":{\"id\":\"3055\",\"type\":\"LinearScale\"},\"y_range\":{\"id\":\"3053\",\"type\":\"DataRange1d\"},\"y_scale\":{\"id\":\"3057\",\"type\":\"LinearScale\"}},\"id\":\"3049\",\"subtype\":\"Figure\",\"type\":\"Plot\"},{\"attributes\":{\"callback\":null},\"id\":\"3051\",\"type\":\"DataRange1d\"},{\"attributes\":{\"callback\":null},\"id\":\"3015\",\"type\":\"DataRange1d\"},{\"attributes\":{\"plot\":{\"id\":\"3013\",\"subtype\":\"Figure\",\"type\":\"Plot\"},\"ticker\":{\"id\":\"3024\",\"type\":\"BasicTicker\"}},\"id\":\"3027\",\"type\":\"Grid\"},{\"attributes\":{},\"id\":\"3021\",\"type\":\"LinearScale\"},{\"attributes\":{},\"id\":\"3024\",\"type\":\"BasicTicker\"},{\"attributes\":{},\"id\":\"3019\",\"type\":\"LinearScale\"},{\"attributes\":{\"axis_label\":\"fertility (children per woman)\",\"formatter\":{\"id\":\"3277\",\"type\":\"BasicTickFormatter\"},\"plot\":{\"id\":\"3013\",\"subtype\":\"Figure\",\"type\":\"Plot\"},\"ticker\":{\"id\":\"3024\",\"type\":\"BasicTicker\"}},\"id\":\"3023\",\"type\":\"LinearAxis\"},{\"attributes\":{\"axis_label\":\"female_literacy (% population)\",\"formatter\":{\"id\":\"3279\",\"type\":\"BasicTickFormatter\"},\"plot\":{\"id\":\"3013\",\"subtype\":\"Figure\",\"type\":\"Plot\"},\"ticker\":{\"id\":\"3029\",\"type\":\"BasicTicker\"}},\"id\":\"3028\",\"type\":\"LinearAxis\"},{\"attributes\":{\"callback\":null},\"id\":\"3053\",\"type\":\"DataRange1d\"},{\"attributes\":{\"dimension\":1,\"plot\":{\"id\":\"3013\",\"subtype\":\"Figure\",\"type\":\"Plot\"},\"ticker\":{\"id\":\"3029\",\"type\":\"BasicTicker\"}},\"id\":\"3032\",\"type\":\"Grid\"},{\"attributes\":{},\"id\":\"3029\",\"type\":\"BasicTicker\"},{\"attributes\":{},\"id\":\"3034\",\"type\":\"WheelZoomTool\"},{\"attributes\":{},\"id\":\"3033\",\"type\":\"PanTool\"},{\"attributes\":{},\"id\":\"3057\",\"type\":\"LinearScale\"},{\"attributes\":{},\"id\":\"3055\",\"type\":\"LinearScale\"},{\"attributes\":{},\"id\":\"3303\",\"type\":\"Selection\"},{\"attributes\":{\"overlay\":{\"id\":\"3041\",\"type\":\"BoxAnnotation\"}},\"id\":\"3035\",\"type\":\"BoxZoomTool\"},{\"attributes\":{\"plot\":{\"id\":\"3049\",\"subtype\":\"Figure\",\"type\":\"Plot\"},\"ticker\":{\"id\":\"3060\",\"type\":\"BasicTicker\"}},\"id\":\"3063\",\"type\":\"Grid\"},{\"attributes\":{\"axis_label\":\"fertility (children per woman)\",\"formatter\":{\"id\":\"3281\",\"type\":\"BasicTickFormatter\"},\"plot\":{\"id\":\"3049\",\"subtype\":\"Figure\",\"type\":\"Plot\"},\"ticker\":{\"id\":\"3060\",\"type\":\"BasicTicker\"}},\"id\":\"3059\",\"type\":\"LinearAxis\"},{\"attributes\":{},\"id\":\"3060\",\"type\":\"BasicTicker\"},{\"attributes\":{\"callback\":null},\"id\":\"3087\",\"type\":\"DataRange1d\"},{\"attributes\":{\"axis_label\":\"female_literacy (% population)\",\"formatter\":{\"id\":\"3283\",\"type\":\"BasicTickFormatter\"},\"plot\":{\"id\":\"3049\",\"subtype\":\"Figure\",\"type\":\"Plot\"},\"ticker\":{\"id\":\"3065\",\"type\":\"BasicTicker\"}},\"id\":\"3064\",\"type\":\"LinearAxis\"},{\"attributes\":{\"active_drag\":\"auto\",\"active_inspect\":\"auto\",\"active_multi\":null,\"active_scroll\":\"auto\",\"active_tap\":\"auto\",\"tools\":[{\"id\":\"3069\",\"type\":\"PanTool\"},{\"id\":\"3070\",\"type\":\"WheelZoomTool\"},{\"id\":\"3071\",\"type\":\"BoxZoomTool\"},{\"id\":\"3072\",\"type\":\"SaveTool\"},{\"id\":\"3073\",\"type\":\"ResetTool\"},{\"id\":\"3074\",\"type\":\"HelpTool\"}]},\"id\":\"3075\",\"type\":\"Toolbar\"},{\"attributes\":{\"plot\":null,\"text\":\"Asia\"},\"id\":\"3084\",\"type\":\"Title\"},{\"attributes\":{},\"id\":\"3065\",\"type\":\"BasicTicker\"},{\"attributes\":{\"dimension\":1,\"plot\":{\"id\":\"3049\",\"subtype\":\"Figure\",\"type\":\"Plot\"},\"ticker\":{\"id\":\"3065\",\"type\":\"BasicTicker\"}},\"id\":\"3068\",\"type\":\"Grid\"},{\"attributes\":{},\"id\":\"3072\",\"type\":\"SaveTool\"},{\"attributes\":{\"overlay\":{\"id\":\"3077\",\"type\":\"BoxAnnotation\"}},\"id\":\"3071\",\"type\":\"BoxZoomTool\"},{\"attributes\":{},\"id\":\"3070\",\"type\":\"WheelZoomTool\"},{\"attributes\":{},\"id\":\"3069\",\"type\":\"PanTool\"},{\"attributes\":{},\"id\":\"3091\",\"type\":\"LinearScale\"},{\"attributes\":{},\"id\":\"3074\",\"type\":\"HelpTool\"},{\"attributes\":{},\"id\":\"3073\",\"type\":\"ResetTool\"},{\"attributes\":{\"callback\":null},\"id\":\"3089\",\"type\":\"DataRange1d\"},{\"attributes\":{\"bottom_units\":\"screen\",\"fill_alpha\":{\"value\":0.5},\"fill_color\":{\"value\":\"lightgrey\"},\"left_units\":\"screen\",\"level\":\"overlay\",\"line_alpha\":{\"value\":1.0},\"line_color\":{\"value\":\"black\"},\"line_dash\":[4,4],\"line_width\":{\"value\":2},\"plot\":null,\"render_mode\":\"css\",\"right_units\":\"screen\",\"top_units\":\"screen\"},\"id\":\"3077\",\"type\":\"BoxAnnotation\"},{\"attributes\":{},\"id\":\"3096\",\"type\":\"BasicTicker\"},{\"attributes\":{},\"id\":\"3093\",\"type\":\"LinearScale\"},{\"attributes\":{\"fill_color\":{\"value\":\"#1f77b4\"},\"line_color\":{\"value\":\"#1f77b4\"},\"x\":{\"field\":\"fertility\"},\"y\":{\"field\":\"female_literacy\"}},\"id\":\"3157\",\"type\":\"Circle\"},{\"attributes\":{\"fill_color\":{\"value\":\"#1f77b4\"},\"line_color\":{\"value\":\"#1f77b4\"},\"x\":{\"field\":\"fertility\"},\"y\":{\"field\":\"female_literacy\"}},\"id\":\"3162\",\"type\":\"Circle\"},{\"attributes\":{\"plot\":null,\"text\":\"Europe\"},\"id\":\"3120\",\"type\":\"Title\"},{\"attributes\":{},\"id\":\"3101\",\"type\":\"BasicTicker\"},{\"attributes\":{\"axis_label\":\"female_literacy (% population)\",\"formatter\":{\"id\":\"3287\",\"type\":\"BasicTickFormatter\"},\"plot\":{\"id\":\"3085\",\"subtype\":\"Figure\",\"type\":\"Plot\"},\"ticker\":{\"id\":\"3101\",\"type\":\"BasicTicker\"}},\"id\":\"3100\",\"type\":\"LinearAxis\"},{\"attributes\":{\"callback\":null},\"id\":\"3123\",\"type\":\"DataRange1d\"},{\"attributes\":{\"dimension\":1,\"plot\":{\"id\":\"3085\",\"subtype\":\"Figure\",\"type\":\"Plot\"},\"ticker\":{\"id\":\"3101\",\"type\":\"BasicTicker\"}},\"id\":\"3104\",\"type\":\"Grid\"},{\"attributes\":{\"plot\":{\"id\":\"3085\",\"subtype\":\"Figure\",\"type\":\"Plot\"},\"ticker\":{\"id\":\"3096\",\"type\":\"BasicTicker\"}},\"id\":\"3099\",\"type\":\"Grid\"},{\"attributes\":{\"axis_label\":\"fertility (children per woman)\",\"formatter\":{\"id\":\"3285\",\"type\":\"BasicTickFormatter\"},\"plot\":{\"id\":\"3085\",\"subtype\":\"Figure\",\"type\":\"Plot\"},\"ticker\":{\"id\":\"3096\",\"type\":\"BasicTicker\"}},\"id\":\"3095\",\"type\":\"LinearAxis\"},{\"attributes\":{},\"id\":\"3105\",\"type\":\"PanTool\"},{\"attributes\":{\"active_drag\":\"auto\",\"active_inspect\":\"auto\",\"active_multi\":null,\"active_scroll\":\"auto\",\"active_tap\":\"auto\",\"tools\":[{\"id\":\"3105\",\"type\":\"PanTool\"},{\"id\":\"3106\",\"type\":\"WheelZoomTool\"},{\"id\":\"3107\",\"type\":\"BoxZoomTool\"},{\"id\":\"3108\",\"type\":\"SaveTool\"},{\"id\":\"3109\",\"type\":\"ResetTool\"},{\"id\":\"3110\",\"type\":\"HelpTool\"}]},\"id\":\"3111\",\"type\":\"Toolbar\"},{\"attributes\":{},\"id\":\"3106\",\"type\":\"WheelZoomTool\"},{\"attributes\":{\"overlay\":{\"id\":\"3113\",\"type\":\"BoxAnnotation\"}},\"id\":\"3107\",\"type\":\"BoxZoomTool\"},{\"attributes\":{},\"id\":\"3108\",\"type\":\"SaveTool\"},{\"attributes\":{},\"id\":\"3109\",\"type\":\"ResetTool\"},{\"attributes\":{\"bottom_units\":\"screen\",\"fill_alpha\":{\"value\":0.5},\"fill_color\":{\"value\":\"lightgrey\"},\"left_units\":\"screen\",\"level\":\"overlay\",\"line_alpha\":{\"value\":1.0},\"line_color\":{\"value\":\"black\"},\"line_dash\":[4,4],\"line_width\":{\"value\":2},\"plot\":null,\"render_mode\":\"css\",\"right_units\":\"screen\",\"top_units\":\"screen\"},\"id\":\"3113\",\"type\":\"BoxAnnotation\"},{\"attributes\":{},\"id\":\"3127\",\"type\":\"LinearScale\"},{\"attributes\":{},\"id\":\"3110\",\"type\":\"HelpTool\"},{\"attributes\":{\"callback\":null},\"id\":\"3017\",\"type\":\"DataRange1d\"},{\"attributes\":{},\"id\":\"3132\",\"type\":\"BasicTicker\"},{\"attributes\":{},\"id\":\"3129\",\"type\":\"LinearScale\"},{\"attributes\":{\"plot\":{\"id\":\"3121\",\"subtype\":\"Figure\",\"type\":\"Plot\"},\"ticker\":{\"id\":\"3132\",\"type\":\"BasicTicker\"}},\"id\":\"3135\",\"type\":\"Grid\"},{\"attributes\":{\"callback\":null},\"id\":\"3125\",\"type\":\"DataRange1d\"},{\"attributes\":{\"axis_label\":\"fertility (children per woman)\",\"formatter\":{\"id\":\"3289\",\"type\":\"BasicTickFormatter\"},\"plot\":{\"id\":\"3121\",\"subtype\":\"Figure\",\"type\":\"Plot\"},\"ticker\":{\"id\":\"3132\",\"type\":\"BasicTicker\"}},\"id\":\"3131\",\"type\":\"LinearAxis\"}],\"root_ids\":[\"3789\"]},\"title\":\"Bokeh Application\",\"version\":\"1.0.2\"}};\n",
       "  var render_items = [{\"docid\":\"6fd7ac62-6bfd-4e9f-b211-3a63506d2fce\",\"roots\":{\"3789\":\"07d1c5a3-057d-43af-98d3-2cd6b6c8a415\"}}];\n",
       "  root.Bokeh.embed.embed_items_notebook(docs_json, render_items);\n",
       "\n",
       "  }\n",
       "  if (root.Bokeh !== undefined) {\n",
       "    embed_document(root);\n",
       "  } else {\n",
       "    var attempts = 0;\n",
       "    var timer = setInterval(function(root) {\n",
       "      if (root.Bokeh !== undefined) {\n",
       "        embed_document(root);\n",
       "        clearInterval(timer);\n",
       "      }\n",
       "      attempts++;\n",
       "      if (attempts > 100) {\n",
       "        console.log(\"Bokeh: ERROR: Unable to run BokehJS code because BokehJS library is missing\");\n",
       "        clearInterval(timer);\n",
       "      }\n",
       "    }, 10, root)\n",
       "  }\n",
       "})(window);"
      ],
      "application/vnd.bokehjs_exec.v0+json": ""
     },
     "metadata": {
      "application/vnd.bokehjs_exec.v0+json": {
       "id": "3789"
      }
     },
     "output_type": "display_data"
    }
   ],
   "source": [
    "# Create tab1 from plot p1: tab1\n",
    "tab1 = Panel(child=p1, title='Latin America')\n",
    "\n",
    "# Create tab2 from plot p2: tab2\n",
    "tab2 = Panel(child=p2, title='Africa')\n",
    "\n",
    "# Create tab3 from plot p3: tab3\n",
    "tab3 = Panel(child=p3, title='Asia')\n",
    "\n",
    "# Create tab4 from plot p4: tab4\n",
    "tab4 = Panel(child=p4, title='Europe')\n",
    "\n",
    "# Create a Tabs layout: layout\n",
    "layout = Tabs(tabs=[tab1, tab2, tab3, tab4])\n",
    "\n",
    "# Specify the name of the output_file and show the result\n",
    "output_file('tabs.html')\n",
    "show(layout)"
   ]
  },
  {
   "cell_type": "markdown",
   "metadata": {},
   "source": [
    "## Linking plots together"
   ]
  },
  {
   "cell_type": "code",
   "execution_count": 16,
   "metadata": {},
   "outputs": [
    {
     "data": {
      "text/html": [
       "<video style=\"display:block; margin: 0 auto;\" controls>\n",
       "      <source src=\"_Docs/03-Linking_plots_together.mp4\" type=\"video/mp4\">\n",
       "</video>\n"
      ],
      "text/plain": [
       "<IPython.core.display.HTML object>"
      ]
     },
     "metadata": {},
     "output_type": "display_data"
    }
   ],
   "source": [
    "%%HTML\n",
    "<video style=\"display:block; margin: 0 auto;\" controls>\n",
    "      <source src=\"_Docs/03-Linking_plots_together.mp4\" type=\"video/mp4\">\n",
    "</video>"
   ]
  },
  {
   "cell_type": "markdown",
   "metadata": {},
   "source": [
    "### Linked axes\n",
    "**Linking axes between plots is achieved by sharing range objects.**\n",
    "\n",
    "In this exercise, you'll link four plots of female literacy vs fertility so that when one plot is zoomed or dragged, one or more of the other plots will respond.\n",
    "\n",
    "The four plots `p1`, `p2`, `p3` and `p4` along with the layout that you created in the last section have been provided for you.\n",
    "\n",
    "Your job is link `p1` with the three other plots by assignment of the .`x_range` and .`y_range` attributes.\n",
    "\n",
    "After you have linked the axes, explore the plots by clicking and dragging along the `x` or `y` axes of any of the plots, and notice how the linked plots change together."
   ]
  },
  {
   "cell_type": "code",
   "execution_count": 17,
   "metadata": {},
   "outputs": [
    {
     "data": {
      "text/html": [
       "<div style=\"display: table;\"><div style=\"display: table-row;\"><div style=\"display: table-cell;\"><b title=\"bokeh.models.renderers.GlyphRenderer\">GlyphRenderer</b>(</div><div style=\"display: table-cell;\">id&nbsp;=&nbsp;'4590', <span id=\"4593\" style=\"cursor: pointer;\">&hellip;)</span></div></div><div class=\"4592\" style=\"display: none;\"><div style=\"display: table-cell;\"></div><div style=\"display: table-cell;\">data_source&nbsp;=&nbsp;ColumnDataSource(id='4427', ...),</div></div><div class=\"4592\" style=\"display: none;\"><div style=\"display: table-cell;\"></div><div style=\"display: table-cell;\">glyph&nbsp;=&nbsp;Circle(id='4588', ...),</div></div><div class=\"4592\" style=\"display: none;\"><div style=\"display: table-cell;\"></div><div style=\"display: table-cell;\">hover_glyph&nbsp;=&nbsp;None,</div></div><div class=\"4592\" style=\"display: none;\"><div style=\"display: table-cell;\"></div><div style=\"display: table-cell;\">js_event_callbacks&nbsp;=&nbsp;{},</div></div><div class=\"4592\" style=\"display: none;\"><div style=\"display: table-cell;\"></div><div style=\"display: table-cell;\">js_property_callbacks&nbsp;=&nbsp;{},</div></div><div class=\"4592\" style=\"display: none;\"><div style=\"display: table-cell;\"></div><div style=\"display: table-cell;\">level&nbsp;=&nbsp;'glyph',</div></div><div class=\"4592\" style=\"display: none;\"><div style=\"display: table-cell;\"></div><div style=\"display: table-cell;\">muted&nbsp;=&nbsp;False,</div></div><div class=\"4592\" style=\"display: none;\"><div style=\"display: table-cell;\"></div><div style=\"display: table-cell;\">muted_glyph&nbsp;=&nbsp;None,</div></div><div class=\"4592\" style=\"display: none;\"><div style=\"display: table-cell;\"></div><div style=\"display: table-cell;\">name&nbsp;=&nbsp;None,</div></div><div class=\"4592\" style=\"display: none;\"><div style=\"display: table-cell;\"></div><div style=\"display: table-cell;\">nonselection_glyph&nbsp;=&nbsp;Circle(id='4589', ...),</div></div><div class=\"4592\" style=\"display: none;\"><div style=\"display: table-cell;\"></div><div style=\"display: table-cell;\">selection_glyph&nbsp;=&nbsp;None,</div></div><div class=\"4592\" style=\"display: none;\"><div style=\"display: table-cell;\"></div><div style=\"display: table-cell;\">subscribed_events&nbsp;=&nbsp;[],</div></div><div class=\"4592\" style=\"display: none;\"><div style=\"display: table-cell;\"></div><div style=\"display: table-cell;\">tags&nbsp;=&nbsp;[],</div></div><div class=\"4592\" style=\"display: none;\"><div style=\"display: table-cell;\"></div><div style=\"display: table-cell;\">view&nbsp;=&nbsp;CDSView(id='4591', ...),</div></div><div class=\"4592\" style=\"display: none;\"><div style=\"display: table-cell;\"></div><div style=\"display: table-cell;\">visible&nbsp;=&nbsp;True,</div></div><div class=\"4592\" style=\"display: none;\"><div style=\"display: table-cell;\"></div><div style=\"display: table-cell;\">x_range_name&nbsp;=&nbsp;'default',</div></div><div class=\"4592\" style=\"display: none;\"><div style=\"display: table-cell;\"></div><div style=\"display: table-cell;\">y_range_name&nbsp;=&nbsp;'default')</div></div></div>\n",
       "<script>\n",
       "(function() {\n",
       "  var expanded = false;\n",
       "  var ellipsis = document.getElementById(\"4593\");\n",
       "  ellipsis.addEventListener(\"click\", function() {\n",
       "    var rows = document.getElementsByClassName(\"4592\");\n",
       "    for (var i = 0; i < rows.length; i++) {\n",
       "      var el = rows[i];\n",
       "      el.style.display = expanded ? \"none\" : \"table-row\";\n",
       "    }\n",
       "    ellipsis.innerHTML = expanded ? \"&hellip;)\" : \"&lsaquo;&lsaquo;&lsaquo;\";\n",
       "    expanded = !expanded;\n",
       "  });\n",
       "})();\n",
       "</script>\n"
      ],
      "text/plain": [
       "GlyphRenderer(id='4590', ...)"
      ]
     },
     "execution_count": 17,
     "metadata": {},
     "output_type": "execute_result"
    }
   ],
   "source": [
    "source1 = ColumnDataSource(df[df.Continent=='LAT'])\n",
    "source2 = ColumnDataSource(df[df.Continent=='AF'])\n",
    "source3 = ColumnDataSource(df[df.Continent=='ASI'])\n",
    "source4 = ColumnDataSource(df[df.Continent=='EUR'])\n",
    "\n",
    "p1 = figure(x_axis_label='fertility (children per woman)', y_axis_label='female_literacy (% population)', title=\"Latin America\")\n",
    "p2 = figure(x_axis_label='fertility (children per woman)', y_axis_label='female_literacy (% population)', title=\"Africa\")\n",
    "p3 = figure(x_axis_label='fertility (children per woman)', y_axis_label='female_literacy (% population)', title=\"Asia\")\n",
    "p4 = figure(x_axis_label='fertility (children per woman)', y_axis_label='female_literacy (% population)', title=\"Europe\")\n",
    "\n",
    "p1.circle('fertility', 'female_literacy', source=source1)\n",
    "p2.circle('fertility', 'female_literacy', source=source2)\n",
    "p3.circle('fertility', 'female_literacy', source=source3)\n",
    "p4.circle('fertility', 'female_literacy', source=source4)"
   ]
  },
  {
   "cell_type": "code",
   "execution_count": 18,
   "metadata": {},
   "outputs": [
    {
     "data": {
      "text/html": [
       "\n",
       "\n",
       "\n",
       "\n",
       "\n",
       "\n",
       "  <div class=\"bk-root\" id=\"2963c809-a5cf-474e-9161-c84520f89ccb\"></div>\n"
      ]
     },
     "metadata": {},
     "output_type": "display_data"
    },
    {
     "data": {
      "application/javascript": [
       "(function(root) {\n",
       "  function embed_document(root) {\n",
       "    \n",
       "  var docs_json = {\"788a8a3b-410c-412b-bb31-b4b9f939daf9\":{\"roots\":{\"references\":[{\"attributes\":{\"children\":[{\"id\":\"4634\",\"type\":\"ToolbarBox\"},{\"id\":\"4632\",\"type\":\"Column\"}]},\"id\":\"4635\",\"type\":\"Column\"},{\"attributes\":{},\"id\":\"4526\",\"type\":\"HelpTool\"},{\"attributes\":{},\"id\":\"4543\",\"type\":\"LinearScale\"},{\"attributes\":{},\"id\":\"4525\",\"type\":\"ResetTool\"},{\"attributes\":{\"callback\":null,\"data\":{\"Continent\":[\"ASI\",\"ASI\",\"ASI\",\"ASI\",\"ASI\",\"ASI\",\"ASI\",\"ASI\",\"ASI\",\"ASI\",\"ASI\",\"ASI\",\"ASI\",\"ASI\",\"ASI\",\"ASI\",\"ASI\",\"ASI\",\"ASI\",\"ASI\",\"ASI\",\"ASI\",\"ASI\",\"ASI\",\"ASI\",\"ASI\",\"ASI\",\"ASI\",\"ASI\",\"ASI\",\"ASI\",\"ASI\",\"ASI\",\"ASI\",\"ASI\",\"ASI\",\"ASI\",\"ASI\",\"ASI\",\"ASI\",\"ASI\",\"ASI\",\"ASI\",\"ASI\",\"ASI\",\"ASI\",\"ASI\"],\"Country\":[\"Chine\",\"Inde\",\"Indon\\u00e9sie\",\"Pakistan\",\"Bangladesh\",\"Japan\",\"Philippines\",\"Viet Nam\",\"Turquie\",\"Iran, R\\u00e9publique islamique d'\",\"Tha\\u00eflande\",\"Myanmar\",\"South Korea\",\"Iraq\",\"Afghanistan\",\"N\\u00e9pal\",\"Ouzb\\u00e9kistan\",\"Malaisie\",\"Arabie saoudite\",\"R\\u00e9p. populaire d\\u00e9mocratique de Cor\\u00e9e\",\"Y\\u00e9men\",\"R\\u00e9publique arabe syrienne\",\"Sri Lanka\",\"Kazakhstan\",\"Cambodge\",\"Azerba\\u00efdjan\",\"Israel\",\"Tadjikistan\",\"R\\u00e9p. d\\u00e9mocratique populaire lao\",\"Jordanie\",\"Kirghizistan\",\"Turkm\\u00e9nistan\",\"Singapour\",\"Emirats arabes unis\",\"G\\u00e9orgie\",\"Liban\",\"Arm\\u00e9nie\",\"Oman\",\"Kowe\\u00eft\",\"Mongolie\",\"Qatar\",\"Bahre\\u00efn\",\"Bhoutan\",\"Macao, Chine\",\"Brun\\u00e9i Darussalam\",\"Maldives\",\"Tonga\"],\"female_literacy\":{\"__ndarray__\":\"AAAAAACgVkBmZmZmZmZJQDMzMzMzM1ZAAAAAAAAAREBmZmZmZuZIQAAAAAAAwFhAmpmZmZl5V0DNzMzMzIxWQDMzMzMzU1RAzczMzMxMU0AAAAAAAOBWQM3MzMzMTFZAZmZmZmYmWEDNzMzMzExRQDMzMzMzMylAMzMzMzOzRkCamZmZmblYQDMzMzMzc1ZAzczMzMwMVEAAAAAAAABZQGZmZmZmZkVAzczMzMxMU0BmZmZmZkZWQAAAAAAA4FhAmpmZmZm5UUDNzMzMzMxYQJqZmZmZ+VdAAAAAAADgWECamZmZmZlPQJqZmZmZOVZAZmZmZmbGWEAzMzMzM9NYQGZmZmZm5lZAAAAAAADgVkDNzMzMzOxYQAAAAAAAgFVAmpmZmZnZWECamZmZmTlUQGZmZmZmRldAMzMzMzNzWECamZmZmZlWQJqZmZmZWVZAmpmZmZlZQ0DNzMzMzKxWQDMzMzMzU1dAmpmZmZmZWEBmZmZmZsZYQA==\",\"dtype\":\"float64\",\"shape\":[47]},\"fertility\":{\"__ndarray__\":\"6Pup8dJN/D/b+X5qvHQFQHSTGARWDgFAYOXQItv5DkDo+6nx0k0CQP7UeOkmMfQ/aZHtfD81CEDdJAaBlUMAQM3MzMzMzABA5dAi2/l+/D/z/dR46Sb9P3Noke18PwJAL90kBoGV8z/kpZvEILAPQIXrUbgeBRpAL90kBoGVBkCWQ4ts5/sBQKrx0k1iEARAUrgehetRCEBEi2zn+6n9P2ZmZmZmZhRA/Knx0k1iCUARWDm0yHYCQCcxCKwcWgJArBxaZDvfBkDTTWIQWDkBQGq8dJMYBAZAzczMzMzMCkBSuB6F61ELQPP91HjpJghAv58aL90kBEBxPQrXo3ADQGiR7Xw/NfQ//Knx0k1i/j8cWmQ730/5P9v5fmq8dP0/LIcW2c73+z9t5/up8dIHQJ3vp8ZLNwFAAyuHFtnO/z/hehSuR+ECQHe+nxov3QFAGy/dJAaBBEC28/3UeOnuP9Ei2/l+agBAAAAAAAAAAEAGgZVDi2wPQA==\",\"dtype\":\"float64\",\"shape\":[47]},\"index\":[0,1,3,5,6,9,11,12,16,17,18,23,25,38,39,41,43,44,45,46,48,52,53,59,63,84,91,92,97,99,104,105,107,110,114,116,125,126,127,129,141,145,146,149,153,156,161],\"population\":{\"__ndarray__\":\"AAAAZii900GQFOkAn/zQQQAAAHQFGqtB7448/lHNo0EAAAAA0RKjQQAAAABvcp5BAAAAVG6KlUEAAAB0442UQQAAAFBen5FBOhfAht0nkUEAAAA88BCQQQAAAFgsoodBAAAAwHgth0ESE68E10l9QbBq9a86rXtBAAAAYJN5e0EAAABAYgx6QQAAABBMw3lB9wa/XgOBd0EAAAAQILd2QQAAANAW23VBKJTqnbqgc0EgwWjF8jhzQQAAACC65W1BAAAAAFvGa0EAAACAVI5gQQAAAACA4VtBAAAAwNwTWkEAAABA56tXQV2pxreeh1ZBAAAAADMiVEEAAACAaD1TQQAAAAD6dVJBAAAAwNEbUUEAAADAEG5QQQAAAADv/k9BAAAAgO95R0EAAACAKEBFQYEYdGs00ERBAAAAAKAmREEAAAAAXoszQQAAAABCqydBAAAAAIr1JEEAAAAAxA4gQQAAAABg8RdBAAAAAAyeEkEAAAAA4Ej5QA==\",\"dtype\":\"float64\",\"shape\":[47]}},\"selected\":{\"id\":\"4620\",\"type\":\"Selection\"},\"selection_policy\":{\"id\":\"4619\",\"type\":\"UnionRenderers\"}},\"id\":\"4426\",\"type\":\"ColumnDataSource\"},{\"attributes\":{},\"id\":\"4524\",\"type\":\"SaveTool\"},{\"attributes\":{\"below\":[{\"id\":\"4439\",\"type\":\"LinearAxis\"}],\"left\":[{\"id\":\"4444\",\"type\":\"LinearAxis\"}],\"renderers\":[{\"id\":\"4439\",\"type\":\"LinearAxis\"},{\"id\":\"4443\",\"type\":\"Grid\"},{\"id\":\"4444\",\"type\":\"LinearAxis\"},{\"id\":\"4448\",\"type\":\"Grid\"},{\"id\":\"4457\",\"type\":\"BoxAnnotation\"},{\"id\":\"4575\",\"type\":\"GlyphRenderer\"}],\"title\":{\"id\":\"4428\",\"type\":\"Title\"},\"toolbar\":{\"id\":\"4455\",\"type\":\"Toolbar\"},\"toolbar_location\":null,\"x_range\":{\"id\":\"4431\",\"type\":\"DataRange1d\"},\"x_scale\":{\"id\":\"4435\",\"type\":\"LinearScale\"},\"y_range\":{\"id\":\"4433\",\"type\":\"DataRange1d\"},\"y_scale\":{\"id\":\"4437\",\"type\":\"LinearScale\"}},\"id\":\"4429\",\"subtype\":\"Figure\",\"type\":\"Plot\"},{\"attributes\":{\"active_drag\":\"auto\",\"active_inspect\":\"auto\",\"active_multi\":null,\"active_scroll\":\"auto\",\"active_tap\":\"auto\",\"tools\":[{\"id\":\"4521\",\"type\":\"PanTool\"},{\"id\":\"4522\",\"type\":\"WheelZoomTool\"},{\"id\":\"4523\",\"type\":\"BoxZoomTool\"},{\"id\":\"4524\",\"type\":\"SaveTool\"},{\"id\":\"4525\",\"type\":\"ResetTool\"},{\"id\":\"4526\",\"type\":\"HelpTool\"}]},\"id\":\"4527\",\"type\":\"Toolbar\"},{\"attributes\":{},\"id\":\"4452\",\"type\":\"SaveTool\"},{\"attributes\":{\"callback\":null,\"data\":{\"Continent\":[\"EUR\",\"EUR\",\"EUR\",\"EUR\",\"EUR\",\"EUR\",\"EUR\",\"EUR\",\"EUR\",\"EUR\",\"EUR\",\"EUR\",\"EUR\",\"EUR\",\"EUR\",\"EUR\",\"EUR\",\"EUR\",\"EUR\",\"EUR\",\"EUR\",\"EUR\",\"EUR\",\"EUR\",\"EUR\",\"EUR\",\"EUR\",\"EUR\",\"EUR\",\"EUR\",\"EUR\",\"EUR\",\"EUR\",\"EUR\",\"EUR\",\"EUR\"],\"Country\":[\"F\\u00e9d\\u00e9ration de Russie\",\"Germany\",\"France\",\"UK\",\"Italie\",\"Ukraine\",\"Espagne\",\"Pologne\",\"Roumanie\",\"Netherlands\",\"Gr\\u00e8ce\",\"Belgium\",\"Portugal\",\"Czech rep\",\"Hongrie\",\"B\\u00e9larus\",\"Sweden\",\"Switzerland\",\"Bulgarie\",\"Serbie\",\"Denmark\",\"Finland\",\"Norway\",\"Croatie\",\"Ireland\",\"Bosnie-Herz\\u00e9govine\",\"R\\u00e9publique de Moldova\",\"Lituanie\",\"Albanie\",\"Lettonie\",\"L'ex-R\\u00e9p. yougoslave de Mac\\u00e9doine\",\"Slov\\u00e9nie\",\"Estonie\",\"Chypre\",\"Malte\",\"Iceland\"],\"female_literacy\":{\"__ndarray__\":\"mpmZmZnZWEAAAAAAAMBYQAAAAAAAwFhAAAAAAADAWEAAAAAAAKBYQGZmZmZm5lhAmpmZmZk5WEAzMzMzM9NYQJqZmZmZOVhAAAAAAADAWECamZmZmflXQAAAAAAAwFhAmpmZmZk5V0AAAAAAAMBYQJqZmZmZuVhAzczMzMzsWEAAAAAAAMBYQAAAAAAAwFhAmpmZmZl5WEDNzMzMzAxYQAAAAAAAwFhAAAAAAAAAWUAAAAAAAABZQAAAAAAAgFhAAAAAAADAWECamZmZmflXQDMzMzMzc1hAzczMzMzsWEDNzMzMzKxYQDMzMzMz81hAmpmZmZnZV0DNzMzMzOxYQDMzMzMz81hAzczMzMwsWEAAAAAAAGBXQAAAAAAAwFhA\",\"dtype\":\"float64\",\"shape\":[36]},\"fertility\":{\"__ndarray__\":\"fT81XrpJ9j/Jdr6fGi/1P39qvHSTGP4/bhKDwMqh/T89CtejcD32Py2yne+nxvU/sXJoke189z8Tg8DKoUX0PzMzMzMzM/U/wMqhRbbz+z8pXI/C9Sj2PyUGgZVDi/w/QDVeukkM9j8zMzMzMzP3P+xRuB6F6/U/5dAi2/l+9D9WDi2yne/9P1yPwvUoXPc/YOXQItv59j+XbhKDwMr5Py/dJAaBlf0/xks3iUFg/T8pXI/C9Sj+P99PjZduEvc/c2iR7Xw//z8xCKwcWmTzP9R46SYxCPg/rBxaZDvf9T9Ei2zn+6n9PzeJQWDl0PY/YOXQItv59j99PzVeukn2P0oMAiuHFvs/qMZLN4lB+D9qvHSTGAT0P1g5tMh2vgBA\",\"dtype\":\"float64\",\"shape\":[36]},\"index\":[8,13,20,21,22,26,27,33,50,58,70,73,74,75,77,82,83,87,88,89,102,103,108,111,112,118,119,121,124,130,133,134,139,144,152,155],\"population\":{\"__ndarray__\":\"AAAAYPjroEEAAABEmpOTQQAAAMA5so1BAAAAcNVIjUEAAACYu4eMQQAAAMDADoZBAAAAIAC5hUEAAAD4BS6CQQAAAGBZhHRBAAAAIBNeb0EAAADA3G5lQQAAACC6bGRBAAAAoLlCZEEAAAAAAuJjQQAAAIB1JWNBAAAAQPp2YkEAAACgxpVhQQAAAMBuLF1BAAAAwLgUXUEAAABA8wlcQQAAAEDd9FRBAAAAwN1EVEEAAAAAdTBSQQAAAAAU6lBBAAAAwPLhUEEAAAAAVslMQQAAAIBsuEtBAAAAgNGeSUEAAACAPftHQQAAAAD3SUFBAAAAAP4lP0EAAAAAxNc+QQAAAAADdTRBAAAAAMRRKkEAAAAAuCQZQQAAAACYXxNB\",\"dtype\":\"float64\",\"shape\":[36]}},\"selected\":{\"id\":\"4629\",\"type\":\"Selection\"},\"selection_policy\":{\"id\":\"4628\",\"type\":\"UnionRenderers\"}},\"id\":\"4427\",\"type\":\"ColumnDataSource\"},{\"attributes\":{\"bottom_units\":\"screen\",\"fill_alpha\":{\"value\":0.5},\"fill_color\":{\"value\":\"lightgrey\"},\"left_units\":\"screen\",\"level\":\"overlay\",\"line_alpha\":{\"value\":1.0},\"line_color\":{\"value\":\"black\"},\"line_dash\":[4,4],\"line_width\":{\"value\":2},\"plot\":null,\"render_mode\":\"css\",\"right_units\":\"screen\",\"top_units\":\"screen\"},\"id\":\"4529\",\"type\":\"BoxAnnotation\"},{\"attributes\":{\"plot\":{\"id\":\"4537\",\"subtype\":\"Figure\",\"type\":\"Plot\"},\"ticker\":{\"id\":\"4548\",\"type\":\"BasicTicker\"}},\"id\":\"4551\",\"type\":\"Grid\"},{\"attributes\":{\"axis_label\":\"fertility (children per woman)\",\"formatter\":{\"id\":\"4624\",\"type\":\"BasicTickFormatter\"},\"plot\":{\"id\":\"4537\",\"subtype\":\"Figure\",\"type\":\"Plot\"},\"ticker\":{\"id\":\"4548\",\"type\":\"BasicTicker\"}},\"id\":\"4547\",\"type\":\"LinearAxis\"},{\"attributes\":{},\"id\":\"4548\",\"type\":\"BasicTicker\"},{\"attributes\":{},\"id\":\"4545\",\"type\":\"LinearScale\"},{\"attributes\":{\"overlay\":{\"id\":\"4529\",\"type\":\"BoxAnnotation\"}},\"id\":\"4523\",\"type\":\"BoxZoomTool\"},{\"attributes\":{},\"id\":\"4522\",\"type\":\"WheelZoomTool\"},{\"attributes\":{\"data_source\":{\"id\":\"4424\",\"type\":\"ColumnDataSource\"},\"glyph\":{\"id\":\"4573\",\"type\":\"Circle\"},\"hover_glyph\":null,\"muted_glyph\":null,\"nonselection_glyph\":{\"id\":\"4574\",\"type\":\"Circle\"},\"selection_glyph\":null,\"view\":{\"id\":\"4576\",\"type\":\"CDSView\"}},\"id\":\"4575\",\"type\":\"GlyphRenderer\"},{\"attributes\":{},\"id\":\"4553\",\"type\":\"BasicTicker\"},{\"attributes\":{},\"id\":\"4557\",\"type\":\"PanTool\"},{\"attributes\":{\"below\":[{\"id\":\"4475\",\"type\":\"LinearAxis\"}],\"left\":[{\"id\":\"4480\",\"type\":\"LinearAxis\"}],\"renderers\":[{\"id\":\"4475\",\"type\":\"LinearAxis\"},{\"id\":\"4479\",\"type\":\"Grid\"},{\"id\":\"4480\",\"type\":\"LinearAxis\"},{\"id\":\"4484\",\"type\":\"Grid\"},{\"id\":\"4493\",\"type\":\"BoxAnnotation\"},{\"id\":\"4580\",\"type\":\"GlyphRenderer\"}],\"title\":{\"id\":\"4464\",\"type\":\"Title\"},\"toolbar\":{\"id\":\"4491\",\"type\":\"Toolbar\"},\"toolbar_location\":null,\"x_range\":{\"id\":\"4431\",\"type\":\"DataRange1d\"},\"x_scale\":{\"id\":\"4471\",\"type\":\"LinearScale\"},\"y_range\":{\"id\":\"4433\",\"type\":\"DataRange1d\"},\"y_scale\":{\"id\":\"4473\",\"type\":\"LinearScale\"}},\"id\":\"4465\",\"subtype\":\"Figure\",\"type\":\"Plot\"},{\"attributes\":{\"active_drag\":\"auto\",\"active_inspect\":\"auto\",\"active_multi\":null,\"active_scroll\":\"auto\",\"active_tap\":\"auto\",\"tools\":[{\"id\":\"4557\",\"type\":\"PanTool\"},{\"id\":\"4558\",\"type\":\"WheelZoomTool\"},{\"id\":\"4559\",\"type\":\"BoxZoomTool\"},{\"id\":\"4560\",\"type\":\"SaveTool\"},{\"id\":\"4561\",\"type\":\"ResetTool\"},{\"id\":\"4562\",\"type\":\"HelpTool\"}]},\"id\":\"4563\",\"type\":\"Toolbar\"},{\"attributes\":{\"dimension\":1,\"plot\":{\"id\":\"4537\",\"subtype\":\"Figure\",\"type\":\"Plot\"},\"ticker\":{\"id\":\"4553\",\"type\":\"BasicTicker\"}},\"id\":\"4556\",\"type\":\"Grid\"},{\"attributes\":{\"axis_label\":\"female_literacy (% population)\",\"formatter\":{\"id\":\"4626\",\"type\":\"BasicTickFormatter\"},\"plot\":{\"id\":\"4537\",\"subtype\":\"Figure\",\"type\":\"Plot\"},\"ticker\":{\"id\":\"4553\",\"type\":\"BasicTicker\"}},\"id\":\"4552\",\"type\":\"LinearAxis\"},{\"attributes\":{},\"id\":\"4558\",\"type\":\"WheelZoomTool\"},{\"attributes\":{\"overlay\":{\"id\":\"4565\",\"type\":\"BoxAnnotation\"}},\"id\":\"4559\",\"type\":\"BoxZoomTool\"},{\"attributes\":{},\"id\":\"4607\",\"type\":\"BasicTickFormatter\"},{\"attributes\":{},\"id\":\"4560\",\"type\":\"SaveTool\"},{\"attributes\":{\"callback\":null,\"data\":{\"Continent\":[\"LAT\",\"LAT\",\"LAT\",\"LAT\",\"LAT\",\"LAT\",\"LAT\",\"LAT\",\"LAT\",\"LAT\",\"LAT\",\"LAT\",\"LAT\",\"LAT\",\"LAT\",\"LAT\",\"LAT\",\"LAT\",\"LAT\",\"LAT\",\"LAT\",\"LAT\",\"LAT\",\"LAT\"],\"Country\":[\"Br\\u00e9sil\",\"Mexique\",\"Colombie\",\"Argentine\",\"P\\u00e9rou\",\"Venezuela\",\"Chili\",\"Guatemala\",\"Equateur\",\"Cuba\",\"R\\u00e9publique dominicaine\",\"Bolivie\",\"Honduras\",\"Paraguay\",\"El Salvador\",\"Nicaragua\",\"Costa Rica\",\"Panama\",\"Uruguay\",\"Jama\\u00efque\",\"Trinit\\u00e9-et-Tobago\",\"Suriname\",\"Bahamas\",\"Aruba\"],\"female_literacy\":{\"__ndarray__\":\"zczMzMyMVkAAAAAAAOBWQJqZmZmZWVdAzczMzMxsWEBmZmZmZiZVQJqZmZmZuVdAzczMzMysWEDNzMzMzCxRQM3MzMzMbFRAMzMzMzPzWEAzMzMzMxNWQAAAAAAAgFVAAAAAAADgVEAAAAAAAGBXQJqZmZmZWVRAmpmZmZl5U0DNzMzMzAxYQDMzMzMzM1dAAAAAAACgWEAzMzMzM7NWQM3MzMzMjFhAmpmZmZkZVkAAAAAAACBYQAAAAAAAgFhA\",\"dtype\":\"float64\",\"shape\":[24]},\"fertility\":{\"__ndarray__\":\"CKwcWmQ7/T9zaJHtfD8BQAisHFpkOwNAYxBYObTIAUA9CtejcD0EQJZDi2zn+wNAN4lBYOXQ/j/fT42XbhIQQLTIdr6fGgRAFK5H4XoU+D9MN4lBYOUEQCyHFtnO9wpAhetRuB6FCUA3iUFg5dAHQFyPwvUoXAJAEVg5tMh2BUBKDAIrhxb/P1TjpZvEIARAg8DKoUW2AEBMN4lBYOUCQCYxCKwcWvo/lkOLbOf7AkAshxbZzvcKQIPAyqFFtvs/\",\"dtype\":\"float64\",\"shape\":[24]},\"index\":[4,10,28,31,40,42,57,64,65,71,78,81,90,96,98,100,109,120,122,128,140,150,154,160],\"population\":{\"__ndarray__\":\"AAAAZIHipkH67buGHVuZQQAAAACkdoVBAAAAIIcEg0EAAADANYB7QQAAAIARpHpBAAAAAIcGcEEAAAAArhpqQQAAAAC6tmlBAAAA4A9fZUEAAADguPtiQQAAACB0fWJBAAAAQEHrW0EAAADAp8tXQQAAAIAlZldBAAAAQH+eVUEAAACANT1RQQAAAIBT7klBAAAAANJvSUEAAAAAcIBEQQAAAACMWDRBAAAAANBwH0EAAAAAEJwUQQAAAADwvvlA\",\"dtype\":\"float64\",\"shape\":[24]}},\"selected\":{\"id\":\"4601\",\"type\":\"Selection\"},\"selection_policy\":{\"id\":\"4600\",\"type\":\"UnionRenderers\"}},\"id\":\"4424\",\"type\":\"ColumnDataSource\"},{\"attributes\":{},\"id\":\"4561\",\"type\":\"ResetTool\"},{\"attributes\":{},\"id\":\"4562\",\"type\":\"HelpTool\"},{\"attributes\":{\"fill_alpha\":{\"value\":0.1},\"fill_color\":{\"value\":\"#1f77b4\"},\"line_alpha\":{\"value\":0.1},\"line_color\":{\"value\":\"#1f77b4\"},\"x\":{\"field\":\"fertility\"},\"y\":{\"field\":\"female_literacy\"}},\"id\":\"4574\",\"type\":\"Circle\"},{\"attributes\":{},\"id\":\"4619\",\"type\":\"UnionRenderers\"},{\"attributes\":{\"fill_color\":{\"value\":\"#1f77b4\"},\"line_color\":{\"value\":\"#1f77b4\"},\"x\":{\"field\":\"fertility\"},\"y\":{\"field\":\"female_literacy\"}},\"id\":\"4583\",\"type\":\"Circle\"},{\"attributes\":{},\"id\":\"4600\",\"type\":\"UnionRenderers\"},{\"attributes\":{},\"id\":\"4610\",\"type\":\"Selection\"},{\"attributes\":{\"bottom_units\":\"screen\",\"fill_alpha\":{\"value\":0.5},\"fill_color\":{\"value\":\"lightgrey\"},\"left_units\":\"screen\",\"level\":\"overlay\",\"line_alpha\":{\"value\":1.0},\"line_color\":{\"value\":\"black\"},\"line_dash\":[4,4],\"line_width\":{\"value\":2},\"plot\":null,\"render_mode\":\"css\",\"right_units\":\"screen\",\"top_units\":\"screen\"},\"id\":\"4565\",\"type\":\"BoxAnnotation\"},{\"attributes\":{\"source\":{\"id\":\"4424\",\"type\":\"ColumnDataSource\"}},\"id\":\"4576\",\"type\":\"CDSView\"},{\"attributes\":{},\"id\":\"4598\",\"type\":\"BasicTickFormatter\"},{\"attributes\":{\"active_drag\":\"auto\",\"active_inspect\":\"auto\",\"active_multi\":null,\"active_scroll\":\"auto\",\"active_tap\":\"auto\",\"tools\":[{\"id\":\"4449\",\"type\":\"PanTool\"},{\"id\":\"4450\",\"type\":\"WheelZoomTool\"},{\"id\":\"4451\",\"type\":\"BoxZoomTool\"},{\"id\":\"4452\",\"type\":\"SaveTool\"},{\"id\":\"4453\",\"type\":\"ResetTool\"},{\"id\":\"4454\",\"type\":\"HelpTool\"}]},\"id\":\"4455\",\"type\":\"Toolbar\"},{\"attributes\":{\"fill_alpha\":{\"value\":0.1},\"fill_color\":{\"value\":\"#1f77b4\"},\"line_alpha\":{\"value\":0.1},\"line_color\":{\"value\":\"#1f77b4\"},\"x\":{\"field\":\"fertility\"},\"y\":{\"field\":\"female_literacy\"}},\"id\":\"4579\",\"type\":\"Circle\"},{\"attributes\":{\"data_source\":{\"id\":\"4425\",\"type\":\"ColumnDataSource\"},\"glyph\":{\"id\":\"4578\",\"type\":\"Circle\"},\"hover_glyph\":null,\"muted_glyph\":null,\"nonselection_glyph\":{\"id\":\"4579\",\"type\":\"Circle\"},\"selection_glyph\":null,\"view\":{\"id\":\"4581\",\"type\":\"CDSView\"}},\"id\":\"4580\",\"type\":\"GlyphRenderer\"},{\"attributes\":{\"source\":{\"id\":\"4425\",\"type\":\"ColumnDataSource\"}},\"id\":\"4581\",\"type\":\"CDSView\"},{\"attributes\":{\"below\":[{\"id\":\"4547\",\"type\":\"LinearAxis\"}],\"left\":[{\"id\":\"4552\",\"type\":\"LinearAxis\"}],\"renderers\":[{\"id\":\"4547\",\"type\":\"LinearAxis\"},{\"id\":\"4551\",\"type\":\"Grid\"},{\"id\":\"4552\",\"type\":\"LinearAxis\"},{\"id\":\"4556\",\"type\":\"Grid\"},{\"id\":\"4565\",\"type\":\"BoxAnnotation\"},{\"id\":\"4590\",\"type\":\"GlyphRenderer\"}],\"title\":{\"id\":\"4536\",\"type\":\"Title\"},\"toolbar\":{\"id\":\"4563\",\"type\":\"Toolbar\"},\"toolbar_location\":null,\"x_range\":{\"id\":\"4539\",\"type\":\"DataRange1d\"},\"x_scale\":{\"id\":\"4543\",\"type\":\"LinearScale\"},\"y_range\":{\"id\":\"4433\",\"type\":\"DataRange1d\"},\"y_scale\":{\"id\":\"4545\",\"type\":\"LinearScale\"}},\"id\":\"4537\",\"subtype\":\"Figure\",\"type\":\"Plot\"},{\"attributes\":{\"fill_alpha\":{\"value\":0.1},\"fill_color\":{\"value\":\"#1f77b4\"},\"line_alpha\":{\"value\":0.1},\"line_color\":{\"value\":\"#1f77b4\"},\"x\":{\"field\":\"fertility\"},\"y\":{\"field\":\"female_literacy\"}},\"id\":\"4584\",\"type\":\"Circle\"},{\"attributes\":{},\"id\":\"4609\",\"type\":\"UnionRenderers\"},{\"attributes\":{\"fill_color\":{\"value\":\"#1f77b4\"},\"line_color\":{\"value\":\"#1f77b4\"},\"x\":{\"field\":\"fertility\"},\"y\":{\"field\":\"female_literacy\"}},\"id\":\"4588\",\"type\":\"Circle\"},{\"attributes\":{\"data_source\":{\"id\":\"4426\",\"type\":\"ColumnDataSource\"},\"glyph\":{\"id\":\"4583\",\"type\":\"Circle\"},\"hover_glyph\":null,\"muted_glyph\":null,\"nonselection_glyph\":{\"id\":\"4584\",\"type\":\"Circle\"},\"selection_glyph\":null,\"view\":{\"id\":\"4586\",\"type\":\"CDSView\"}},\"id\":\"4585\",\"type\":\"GlyphRenderer\"},{\"attributes\":{\"source\":{\"id\":\"4426\",\"type\":\"ColumnDataSource\"}},\"id\":\"4586\",\"type\":\"CDSView\"},{\"attributes\":{},\"id\":\"4601\",\"type\":\"Selection\"},{\"attributes\":{\"fill_alpha\":{\"value\":0.1},\"fill_color\":{\"value\":\"#1f77b4\"},\"line_alpha\":{\"value\":0.1},\"line_color\":{\"value\":\"#1f77b4\"},\"x\":{\"field\":\"fertility\"},\"y\":{\"field\":\"female_literacy\"}},\"id\":\"4589\",\"type\":\"Circle\"},{\"attributes\":{\"data_source\":{\"id\":\"4427\",\"type\":\"ColumnDataSource\"},\"glyph\":{\"id\":\"4588\",\"type\":\"Circle\"},\"hover_glyph\":null,\"muted_glyph\":null,\"nonselection_glyph\":{\"id\":\"4589\",\"type\":\"Circle\"},\"selection_glyph\":null,\"view\":{\"id\":\"4591\",\"type\":\"CDSView\"}},\"id\":\"4590\",\"type\":\"GlyphRenderer\"},{\"attributes\":{},\"id\":\"4615\",\"type\":\"BasicTickFormatter\"},{\"attributes\":{\"source\":{\"id\":\"4427\",\"type\":\"ColumnDataSource\"}},\"id\":\"4591\",\"type\":\"CDSView\"},{\"attributes\":{},\"id\":\"4605\",\"type\":\"BasicTickFormatter\"},{\"attributes\":{\"callback\":null,\"data\":{\"Continent\":[\"AF\",\"AF\",\"AF\",\"AF\",\"AF\",\"AF\",\"AF\",\"AF\",\"AF\",\"AF\",\"AF\",\"AF\",\"AF\",\"AF\",\"AF\",\"AF\",\"AF\",\"AF\",\"AF\",\"AF\",\"AF\",\"AF\",\"AF\",\"AF\",\"AF\",\"AF\",\"AF\",\"AF\",\"AF\",\"AF\",\"AF\",\"AF\",\"AF\",\"AF\",\"AF\",\"AF\",\"AF\",\"AF\",\"AF\",\"AF\",\"AF\",\"AF\",\"AF\",\"AF\",\"AF\",\"AF\",\"AF\",\"AF\",\"AF\"],\"Country\":[\"Nig\\u00e9ria\",\"Egypte\",\"Ethiopie\",\"R\\u00e9p. D\\u00e9mocratique du Congo\",\"Afrique du Sud\",\"R\\u00e9publique-Unie de Tanzanie\",\"Soudan\",\"Kenya\",\"Alg\\u00e9rie\",\"Ouganda\",\"Maroc\",\"Ghana\",\"Mozambique\",\"C\\u00f4te d'Ivoire\",\"Madagascar\",\"Cameroun\",\"Angola\",\"Burkina Faso\",\"Malawi\",\"Niger\",\"Mali\",\"Zambie\",\"Zimbabwe\",\"S\\u00e9n\\u00e9gal\",\"Tchad\",\"Tunisie\",\"Guin\\u00e9e\",\"Rwanda\",\"B\\u00e9nin\",\"Burundi\",\"Togo\",\"Jamahiriya arabe libyenne\",\"Sierra Leone\",\"Erythr\\u00e9e\",\"R\\u00e9publique centrafricaine\",\"Lib\\u00e9ria\",\"Mauritanie\",\"Namibie\",\"Lesotho\",\"Botswana\",\"Gambie\",\"Guin\\u00e9e-Bissau\",\"Gabon\",\"Maurice\",\"Swaziland\",\"Guin\\u00e9e \\u00e9quatoriale\",\"Comores\",\"Cap-Vert\",\"Sao Tom\\u00e9-et-Principe\"],\"female_literacy\":{\"__ndarray__\":\"ZmZmZmZmSEBmZmZmZuZMQM3MzMzMzDZAzczMzMwMTEBmZmZmZgZWQDMzMzMzk1BAzczMzMzMTUAzMzMzM7NUQDMzMzMz809AMzMzMzOzUEDNzMzMzAxGQGZmZmZmpk1AzczMzMwMREBmZmZmZiZGQDMzMzMzU1BAMzMzMzPzUEAAAAAAAIBMQJqZmZmZmTVAMzMzMzNzUEAzMzMzMzMuQDMzMzMzMzJAAAAAAACATkAzMzMzMzNWQAAAAAAAgEBAZmZmZmbmNUAAAAAAAMBRQGZmZmZmZjpAZmZmZmaGUECamZmZmRk8QDMzMzMz801AmpmZmZnZSkAzMzMzM1NUQGZmZmZm5jxAAAAAAABAS0DNzMzMzIxEQAAAAAAAgEpAAAAAAADASEDNzMzMzOxVQGZmZmZmxldAAAAAAADgVEBmZmZmZiZBQAAAAAAAQEJAzczMzMzMVEAzMzMzMzNVQGZmZmZmZlVAZmZmZmZGVkAzMzMzM/NQQDMzMzMz01NAMzMzMzPTVEA=\",\"dtype\":\"float64\",\"shape\":[49]},\"fertility\":{\"__ndarray__\":\"/dR46SaxFEC7SQwCK4cGQPLSTWIQ2BRAbhKDwMqhF0AK16NwPQoEQBSuR+F6FBZACKwcWmQ7EEBWDi2ynW8TQCPb+X5qvAJAarx0kxgEGUB56SYxCKwCQOF6FK5H4RBAke18PzXeE0B0kxgEVg4SQHsUrkfhehJARIts5/spEkBANV66SYwWQHe+nxovXRdAUrgehevRFUAtsp3vp0YcQB+F61G4nhVAppvEILDyFkCBlUOLbOcKQI/C9ShcjxNAbef7qfFSGEDb+X5qvHT9PzeJQWDlUBVAUrgehetRFUBPjZduEoMVQM3MzMzMzBFARIts5/upEECJQWDl0CIFQClcj8L1qBRA6iYxCKwcEkB9PzVeuskSQCUGgZVDCxRAWmQ730+NEUBSuB6F61EKQOkmMQisHApA+n5qvHSTBkDGSzeJQeATQIlBYOXQohZA7FG4HoXrCUB46SYxCKz8P5qZmZmZmQtAbhKDwMohFUAUrkfhehQPQOj7qfHSTQVAWDm0yHa+DUA=\",\"dtype\":\"float64\",\"shape\":[49]},\"index\":[7,14,15,19,24,29,30,32,34,36,37,47,49,51,54,55,56,60,61,62,66,67,68,69,72,76,79,80,85,86,94,95,101,106,113,117,123,131,132,135,136,137,138,142,143,147,148,151,159],\"population\":{\"__ndarray__\":\"AAAAvKEGokEAAAAQBnCTQQAAAGhbPpNBAAAA2NOjjkEAAADAPDeHQQAAAJgGQoRBAAAAWFS3g0EAAAAAGHyCQQAAAJD5Y4BBAAAAELowfkEAAAAANyR+QQAAAPDoRHZBAAAAUHxYdUEAAABgLKNzQQAAANDBOXJBAAAAEEA0ckEAAADAky9xQQAAAIBrDm1BAAAAwBxRbEEAAADA1wtsQQAAAAD5O2hBAAAAYDcSaEEAAADgY8VnQQAAAKB9SmdBAAAAYPDQZEEAAAAA37JjQQAAAOBLwWJBAAAAwG6KYkEAAADAiIVgQQAAAIADzV5BAAAAQDujWEEAAABAqQJYQQAAAECLNVVBAAAAQGfLUkEAAADAj41QQQAAAAD88ExBAAAAgGGHSEEAAAAA3z9AQQAAAACVRT9BAAAAAGJQPUEAAAAAKFU5QQAAAAAWCjhBAAAAAN8YNkEAAAAAdlwzQQAAAADa0TFBAAAAAPodJEGoYCyg5qMjQQAAAADAbx5BAAAAAHCNA0E=\",\"dtype\":\"float64\",\"shape\":[49]}},\"selected\":{\"id\":\"4610\",\"type\":\"Selection\"},\"selection_policy\":{\"id\":\"4609\",\"type\":\"UnionRenderers\"}},\"id\":\"4425\",\"type\":\"ColumnDataSource\"},{\"attributes\":{\"tools\":[{\"id\":\"4449\",\"type\":\"PanTool\"},{\"id\":\"4450\",\"type\":\"WheelZoomTool\"},{\"id\":\"4451\",\"type\":\"BoxZoomTool\"},{\"id\":\"4452\",\"type\":\"SaveTool\"},{\"id\":\"4453\",\"type\":\"ResetTool\"},{\"id\":\"4454\",\"type\":\"HelpTool\"},{\"id\":\"4485\",\"type\":\"PanTool\"},{\"id\":\"4486\",\"type\":\"WheelZoomTool\"},{\"id\":\"4487\",\"type\":\"BoxZoomTool\"},{\"id\":\"4488\",\"type\":\"SaveTool\"},{\"id\":\"4489\",\"type\":\"ResetTool\"},{\"id\":\"4490\",\"type\":\"HelpTool\"},{\"id\":\"4521\",\"type\":\"PanTool\"},{\"id\":\"4522\",\"type\":\"WheelZoomTool\"},{\"id\":\"4523\",\"type\":\"BoxZoomTool\"},{\"id\":\"4524\",\"type\":\"SaveTool\"},{\"id\":\"4525\",\"type\":\"ResetTool\"},{\"id\":\"4526\",\"type\":\"HelpTool\"},{\"id\":\"4557\",\"type\":\"PanTool\"},{\"id\":\"4558\",\"type\":\"WheelZoomTool\"},{\"id\":\"4559\",\"type\":\"BoxZoomTool\"},{\"id\":\"4560\",\"type\":\"SaveTool\"},{\"id\":\"4561\",\"type\":\"ResetTool\"},{\"id\":\"4562\",\"type\":\"HelpTool\"}]},\"id\":\"4633\",\"type\":\"ProxyToolbar\"},{\"attributes\":{},\"id\":\"4629\",\"type\":\"Selection\"},{\"attributes\":{},\"id\":\"4620\",\"type\":\"Selection\"},{\"attributes\":{\"overlay\":{\"id\":\"4457\",\"type\":\"BoxAnnotation\"}},\"id\":\"4451\",\"type\":\"BoxZoomTool\"},{\"attributes\":{},\"id\":\"4617\",\"type\":\"BasicTickFormatter\"},{\"attributes\":{},\"id\":\"4624\",\"type\":\"BasicTickFormatter\"},{\"attributes\":{\"toolbar\":{\"id\":\"4633\",\"type\":\"ProxyToolbar\"},\"toolbar_location\":\"above\"},\"id\":\"4634\",\"type\":\"ToolbarBox\"},{\"attributes\":{},\"id\":\"4626\",\"type\":\"BasicTickFormatter\"},{\"attributes\":{},\"id\":\"4628\",\"type\":\"UnionRenderers\"},{\"attributes\":{},\"id\":\"4596\",\"type\":\"BasicTickFormatter\"},{\"attributes\":{},\"id\":\"4476\",\"type\":\"BasicTicker\"},{\"attributes\":{},\"id\":\"4517\",\"type\":\"BasicTicker\"},{\"attributes\":{},\"id\":\"4435\",\"type\":\"LinearScale\"},{\"attributes\":{},\"id\":\"4454\",\"type\":\"HelpTool\"},{\"attributes\":{},\"id\":\"4450\",\"type\":\"WheelZoomTool\"},{\"attributes\":{\"children\":[{\"id\":\"4429\",\"subtype\":\"Figure\",\"type\":\"Plot\"},{\"id\":\"4465\",\"subtype\":\"Figure\",\"type\":\"Plot\"}]},\"id\":\"4612\",\"type\":\"Row\"},{\"attributes\":{\"callback\":null},\"id\":\"4539\",\"type\":\"DataRange1d\"},{\"attributes\":{\"callback\":null},\"id\":\"4433\",\"type\":\"DataRange1d\"},{\"attributes\":{\"below\":[{\"id\":\"4511\",\"type\":\"LinearAxis\"}],\"left\":[{\"id\":\"4516\",\"type\":\"LinearAxis\"}],\"renderers\":[{\"id\":\"4511\",\"type\":\"LinearAxis\"},{\"id\":\"4515\",\"type\":\"Grid\"},{\"id\":\"4516\",\"type\":\"LinearAxis\"},{\"id\":\"4520\",\"type\":\"Grid\"},{\"id\":\"4529\",\"type\":\"BoxAnnotation\"},{\"id\":\"4585\",\"type\":\"GlyphRenderer\"}],\"title\":{\"id\":\"4500\",\"type\":\"Title\"},\"toolbar\":{\"id\":\"4527\",\"type\":\"Toolbar\"},\"toolbar_location\":null,\"x_range\":{\"id\":\"4431\",\"type\":\"DataRange1d\"},\"x_scale\":{\"id\":\"4507\",\"type\":\"LinearScale\"},\"y_range\":{\"id\":\"4505\",\"type\":\"DataRange1d\"},\"y_scale\":{\"id\":\"4509\",\"type\":\"LinearScale\"}},\"id\":\"4501\",\"subtype\":\"Figure\",\"type\":\"Plot\"},{\"attributes\":{\"plot\":null,\"text\":\"Africa\"},\"id\":\"4464\",\"type\":\"Title\"},{\"attributes\":{\"fill_color\":{\"value\":\"#1f77b4\"},\"line_color\":{\"value\":\"#1f77b4\"},\"x\":{\"field\":\"fertility\"},\"y\":{\"field\":\"female_literacy\"}},\"id\":\"4573\",\"type\":\"Circle\"},{\"attributes\":{\"bottom_units\":\"screen\",\"fill_alpha\":{\"value\":0.5},\"fill_color\":{\"value\":\"lightgrey\"},\"left_units\":\"screen\",\"level\":\"overlay\",\"line_alpha\":{\"value\":1.0},\"line_color\":{\"value\":\"black\"},\"line_dash\":[4,4],\"line_width\":{\"value\":2},\"plot\":null,\"render_mode\":\"css\",\"right_units\":\"screen\",\"top_units\":\"screen\"},\"id\":\"4457\",\"type\":\"BoxAnnotation\"},{\"attributes\":{\"plot\":{\"id\":\"4465\",\"subtype\":\"Figure\",\"type\":\"Plot\"},\"ticker\":{\"id\":\"4476\",\"type\":\"BasicTicker\"}},\"id\":\"4479\",\"type\":\"Grid\"},{\"attributes\":{\"plot\":{\"id\":\"4501\",\"subtype\":\"Figure\",\"type\":\"Plot\"},\"ticker\":{\"id\":\"4512\",\"type\":\"BasicTicker\"}},\"id\":\"4515\",\"type\":\"Grid\"},{\"attributes\":{\"callback\":null},\"id\":\"4431\",\"type\":\"DataRange1d\"},{\"attributes\":{\"plot\":null,\"text\":\"Europe\"},\"id\":\"4536\",\"type\":\"Title\"},{\"attributes\":{\"fill_color\":{\"value\":\"#1f77b4\"},\"line_color\":{\"value\":\"#1f77b4\"},\"x\":{\"field\":\"fertility\"},\"y\":{\"field\":\"female_literacy\"}},\"id\":\"4578\",\"type\":\"Circle\"},{\"attributes\":{\"axis_label\":\"fertility (children per woman)\",\"formatter\":{\"id\":\"4596\",\"type\":\"BasicTickFormatter\"},\"plot\":{\"id\":\"4429\",\"subtype\":\"Figure\",\"type\":\"Plot\"},\"ticker\":{\"id\":\"4440\",\"type\":\"BasicTicker\"}},\"id\":\"4439\",\"type\":\"LinearAxis\"},{\"attributes\":{},\"id\":\"4473\",\"type\":\"LinearScale\"},{\"attributes\":{},\"id\":\"4440\",\"type\":\"BasicTicker\"},{\"attributes\":{\"axis_label\":\"fertility (children per woman)\",\"formatter\":{\"id\":\"4605\",\"type\":\"BasicTickFormatter\"},\"plot\":{\"id\":\"4465\",\"subtype\":\"Figure\",\"type\":\"Plot\"},\"ticker\":{\"id\":\"4476\",\"type\":\"BasicTicker\"}},\"id\":\"4475\",\"type\":\"LinearAxis\"},{\"attributes\":{},\"id\":\"4437\",\"type\":\"LinearScale\"},{\"attributes\":{\"plot\":{\"id\":\"4429\",\"subtype\":\"Figure\",\"type\":\"Plot\"},\"ticker\":{\"id\":\"4440\",\"type\":\"BasicTicker\"}},\"id\":\"4443\",\"type\":\"Grid\"},{\"attributes\":{\"plot\":null,\"text\":\"Latin America\"},\"id\":\"4428\",\"type\":\"Title\"},{\"attributes\":{\"dimension\":1,\"plot\":{\"id\":\"4429\",\"subtype\":\"Figure\",\"type\":\"Plot\"},\"ticker\":{\"id\":\"4445\",\"type\":\"BasicTicker\"}},\"id\":\"4448\",\"type\":\"Grid\"},{\"attributes\":{\"overlay\":{\"id\":\"4493\",\"type\":\"BoxAnnotation\"}},\"id\":\"4487\",\"type\":\"BoxZoomTool\"},{\"attributes\":{},\"id\":\"4453\",\"type\":\"ResetTool\"},{\"attributes\":{},\"id\":\"4445\",\"type\":\"BasicTicker\"},{\"attributes\":{},\"id\":\"4488\",\"type\":\"SaveTool\"},{\"attributes\":{\"axis_label\":\"female_literacy (% population)\",\"formatter\":{\"id\":\"4598\",\"type\":\"BasicTickFormatter\"},\"plot\":{\"id\":\"4429\",\"subtype\":\"Figure\",\"type\":\"Plot\"},\"ticker\":{\"id\":\"4445\",\"type\":\"BasicTicker\"}},\"id\":\"4444\",\"type\":\"LinearAxis\"},{\"attributes\":{\"plot\":null,\"text\":\"Asia\"},\"id\":\"4500\",\"type\":\"Title\"},{\"attributes\":{},\"id\":\"4490\",\"type\":\"HelpTool\"},{\"attributes\":{},\"id\":\"4471\",\"type\":\"LinearScale\"},{\"attributes\":{},\"id\":\"4449\",\"type\":\"PanTool\"},{\"attributes\":{\"axis_label\":\"female_literacy (% population)\",\"formatter\":{\"id\":\"4617\",\"type\":\"BasicTickFormatter\"},\"plot\":{\"id\":\"4501\",\"subtype\":\"Figure\",\"type\":\"Plot\"},\"ticker\":{\"id\":\"4517\",\"type\":\"BasicTicker\"}},\"id\":\"4516\",\"type\":\"LinearAxis\"},{\"attributes\":{},\"id\":\"4481\",\"type\":\"BasicTicker\"},{\"attributes\":{\"dimension\":1,\"plot\":{\"id\":\"4465\",\"subtype\":\"Figure\",\"type\":\"Plot\"},\"ticker\":{\"id\":\"4481\",\"type\":\"BasicTicker\"}},\"id\":\"4484\",\"type\":\"Grid\"},{\"attributes\":{},\"id\":\"4489\",\"type\":\"ResetTool\"},{\"attributes\":{},\"id\":\"4485\",\"type\":\"PanTool\"},{\"attributes\":{\"bottom_units\":\"screen\",\"fill_alpha\":{\"value\":0.5},\"fill_color\":{\"value\":\"lightgrey\"},\"left_units\":\"screen\",\"level\":\"overlay\",\"line_alpha\":{\"value\":1.0},\"line_color\":{\"value\":\"black\"},\"line_dash\":[4,4],\"line_width\":{\"value\":2},\"plot\":null,\"render_mode\":\"css\",\"right_units\":\"screen\",\"top_units\":\"screen\"},\"id\":\"4493\",\"type\":\"BoxAnnotation\"},{\"attributes\":{},\"id\":\"4521\",\"type\":\"PanTool\"},{\"attributes\":{\"active_drag\":\"auto\",\"active_inspect\":\"auto\",\"active_multi\":null,\"active_scroll\":\"auto\",\"active_tap\":\"auto\",\"tools\":[{\"id\":\"4485\",\"type\":\"PanTool\"},{\"id\":\"4486\",\"type\":\"WheelZoomTool\"},{\"id\":\"4487\",\"type\":\"BoxZoomTool\"},{\"id\":\"4488\",\"type\":\"SaveTool\"},{\"id\":\"4489\",\"type\":\"ResetTool\"},{\"id\":\"4490\",\"type\":\"HelpTool\"}]},\"id\":\"4491\",\"type\":\"Toolbar\"},{\"attributes\":{},\"id\":\"4509\",\"type\":\"LinearScale\"},{\"attributes\":{\"children\":[{\"id\":\"4612\",\"type\":\"Row\"},{\"id\":\"4631\",\"type\":\"Row\"}]},\"id\":\"4632\",\"type\":\"Column\"},{\"attributes\":{},\"id\":\"4486\",\"type\":\"WheelZoomTool\"},{\"attributes\":{\"axis_label\":\"female_literacy (% population)\",\"formatter\":{\"id\":\"4607\",\"type\":\"BasicTickFormatter\"},\"plot\":{\"id\":\"4465\",\"subtype\":\"Figure\",\"type\":\"Plot\"},\"ticker\":{\"id\":\"4481\",\"type\":\"BasicTicker\"}},\"id\":\"4480\",\"type\":\"LinearAxis\"},{\"attributes\":{},\"id\":\"4512\",\"type\":\"BasicTicker\"},{\"attributes\":{},\"id\":\"4507\",\"type\":\"LinearScale\"},{\"attributes\":{\"axis_label\":\"fertility (children per woman)\",\"formatter\":{\"id\":\"4615\",\"type\":\"BasicTickFormatter\"},\"plot\":{\"id\":\"4501\",\"subtype\":\"Figure\",\"type\":\"Plot\"},\"ticker\":{\"id\":\"4512\",\"type\":\"BasicTicker\"}},\"id\":\"4511\",\"type\":\"LinearAxis\"},{\"attributes\":{\"callback\":null},\"id\":\"4505\",\"type\":\"DataRange1d\"},{\"attributes\":{\"children\":[{\"id\":\"4501\",\"subtype\":\"Figure\",\"type\":\"Plot\"},{\"id\":\"4537\",\"subtype\":\"Figure\",\"type\":\"Plot\"}]},\"id\":\"4631\",\"type\":\"Row\"},{\"attributes\":{\"dimension\":1,\"plot\":{\"id\":\"4501\",\"subtype\":\"Figure\",\"type\":\"Plot\"},\"ticker\":{\"id\":\"4517\",\"type\":\"BasicTicker\"}},\"id\":\"4520\",\"type\":\"Grid\"}],\"root_ids\":[\"4635\"]},\"title\":\"Bokeh Application\",\"version\":\"1.0.2\"}};\n",
       "  var render_items = [{\"docid\":\"788a8a3b-410c-412b-bb31-b4b9f939daf9\",\"roots\":{\"4635\":\"2963c809-a5cf-474e-9161-c84520f89ccb\"}}];\n",
       "  root.Bokeh.embed.embed_items_notebook(docs_json, render_items);\n",
       "\n",
       "  }\n",
       "  if (root.Bokeh !== undefined) {\n",
       "    embed_document(root);\n",
       "  } else {\n",
       "    var attempts = 0;\n",
       "    var timer = setInterval(function(root) {\n",
       "      if (root.Bokeh !== undefined) {\n",
       "        embed_document(root);\n",
       "        clearInterval(timer);\n",
       "      }\n",
       "      attempts++;\n",
       "      if (attempts > 100) {\n",
       "        console.log(\"Bokeh: ERROR: Unable to run BokehJS code because BokehJS library is missing\");\n",
       "        clearInterval(timer);\n",
       "      }\n",
       "    }, 10, root)\n",
       "  }\n",
       "})(window);"
      ],
      "application/vnd.bokehjs_exec.v0+json": ""
     },
     "metadata": {
      "application/vnd.bokehjs_exec.v0+json": {
       "id": "4635"
      }
     },
     "output_type": "display_data"
    }
   ],
   "source": [
    "# Link the x_range of p2 to p1: p2.x_range\n",
    "p2.x_range = p1.x_range\n",
    "\n",
    "# Link the y_range of p2 to p1: p2.y_range\n",
    "p2.y_range = p1.y_range\n",
    "\n",
    "# Link the x_range of p3 to p1: p3.x_range\n",
    "p3.x_range = p1.x_range\n",
    "\n",
    "# Link the y_range of p4 to p1: p4.y_range\n",
    "p4.y_range = p1.y_range\n",
    "\n",
    "\n",
    "row1=[p1,p2]\n",
    "row2=[p3,p4]\n",
    "layout = gridplot([row1,row2])\n",
    "\n",
    "# Specify the name of the output_file and show the result\n",
    "output_file('linked_range.html')\n",
    "show(layout)"
   ]
  },
  {
   "cell_type": "markdown",
   "metadata": {},
   "source": [
    "### Linked brushing\n",
    "**By sharing the same `ColumnDataSource` object between multiple plots, selection tools like `BoxSelect` and `LassoSelect` will highlight points in both plots that share a row in the `ColumnDataSource`.**\n",
    "\n",
    "In this exercise, you'll plot female literacy vs fertility and population vs fertility in two plots using the same `ColumnDataSource`.\n",
    "\n",
    "After you have built the figure, experiment with the `Lasso Select` and `Box Select` tools. Use your mouse to drag a box or lasso around points in one figure, and notice how points in the other figure that share a row in the `ColumnDataSource` also get highlighted.\n",
    "\n",
    "Before experimenting with the Lasso Select, however, click the Bokeh plot pop-out icon to pop out the figure so that you can definitely see everything that you're doing."
   ]
  },
  {
   "cell_type": "code",
   "execution_count": 19,
   "metadata": {},
   "outputs": [
    {
     "data": {
      "text/html": [
       "\n",
       "\n",
       "\n",
       "\n",
       "\n",
       "\n",
       "  <div class=\"bk-root\" id=\"27841fda-617d-49d2-a2b7-dd00c5be8e65\"></div>\n"
      ]
     },
     "metadata": {},
     "output_type": "display_data"
    },
    {
     "data": {
      "application/javascript": [
       "(function(root) {\n",
       "  function embed_document(root) {\n",
       "    \n",
       "  var docs_json = {\"958a99da-e6e9-46aa-a9d2-d965f580e469\":{\"roots\":{\"references\":[{\"attributes\":{\"children\":[{\"id\":\"5303\",\"subtype\":\"Figure\",\"type\":\"Plot\"},{\"id\":\"5336\",\"subtype\":\"Figure\",\"type\":\"Plot\"}]},\"id\":\"5369\",\"type\":\"Row\"},{\"attributes\":{\"bottom_units\":\"screen\",\"fill_alpha\":{\"value\":0.5},\"fill_color\":{\"value\":\"lightgrey\"},\"left_units\":\"screen\",\"level\":\"overlay\",\"line_alpha\":{\"value\":1.0},\"line_color\":{\"value\":\"black\"},\"line_dash\":[4,4],\"line_width\":{\"value\":2},\"plot\":null,\"render_mode\":\"css\",\"right_units\":\"screen\",\"top_units\":\"screen\"},\"id\":\"5357\",\"type\":\"BoxAnnotation\"},{\"attributes\":{\"plot\":null,\"text\":\"\"},\"id\":\"5555\",\"type\":\"Title\"},{\"attributes\":{\"axis_label\":\"population (millions)\",\"formatter\":{\"id\":\"5566\",\"type\":\"BasicTickFormatter\"},\"plot\":{\"id\":\"5336\",\"subtype\":\"Figure\",\"type\":\"Plot\"},\"ticker\":{\"id\":\"5351\",\"type\":\"BasicTicker\"}},\"id\":\"5350\",\"type\":\"LinearAxis\"},{\"attributes\":{},\"id\":\"5346\",\"type\":\"BasicTicker\"},{\"attributes\":{},\"id\":\"5343\",\"type\":\"LinearScale\"},{\"attributes\":{\"axis_label\":\"fertility (children per woman)\",\"formatter\":{\"id\":\"5564\",\"type\":\"BasicTickFormatter\"},\"plot\":{\"id\":\"5336\",\"subtype\":\"Figure\",\"type\":\"Plot\"},\"ticker\":{\"id\":\"5346\",\"type\":\"BasicTicker\"}},\"id\":\"5345\",\"type\":\"LinearAxis\"},{\"attributes\":{\"plot\":{\"id\":\"5336\",\"subtype\":\"Figure\",\"type\":\"Plot\"},\"ticker\":{\"id\":\"5346\",\"type\":\"BasicTicker\"}},\"id\":\"5349\",\"type\":\"Grid\"},{\"attributes\":{\"fill_color\":{\"value\":\"#1f77b4\"},\"line_color\":{\"value\":\"#1f77b4\"},\"x\":{\"field\":\"fertility\"},\"y\":{\"field\":\"population\"}},\"id\":\"5365\",\"type\":\"Circle\"},{\"attributes\":{\"dimension\":1,\"plot\":{\"id\":\"5336\",\"subtype\":\"Figure\",\"type\":\"Plot\"},\"ticker\":{\"id\":\"5351\",\"type\":\"BasicTicker\"}},\"id\":\"5354\",\"type\":\"Grid\"},{\"attributes\":{\"data_source\":{\"id\":\"5302\",\"type\":\"ColumnDataSource\"},\"glyph\":{\"id\":\"5332\",\"type\":\"Circle\"},\"hover_glyph\":null,\"muted_glyph\":null,\"nonselection_glyph\":{\"id\":\"5333\",\"type\":\"Circle\"},\"selection_glyph\":null,\"view\":{\"id\":\"5335\",\"type\":\"CDSView\"}},\"id\":\"5334\",\"type\":\"GlyphRenderer\"},{\"attributes\":{\"callback\":null,\"overlay\":{\"id\":\"5360\",\"type\":\"PolyAnnotation\"}},\"id\":\"5356\",\"type\":\"LassoSelectTool\"},{\"attributes\":{\"plot\":{\"id\":\"5303\",\"subtype\":\"Figure\",\"type\":\"Plot\"},\"ticker\":{\"id\":\"5313\",\"type\":\"BasicTicker\"}},\"id\":\"5316\",\"type\":\"Grid\"},{\"attributes\":{\"plot\":null,\"text\":\"\"},\"id\":\"5557\",\"type\":\"Title\"},{\"attributes\":{},\"id\":\"5351\",\"type\":\"BasicTicker\"},{\"attributes\":{\"callback\":null,\"overlay\":{\"id\":\"5357\",\"type\":\"BoxAnnotation\"}},\"id\":\"5355\",\"type\":\"BoxSelectTool\"},{\"attributes\":{},\"id\":\"5313\",\"type\":\"BasicTicker\"},{\"attributes\":{\"fill_alpha\":{\"value\":0.5},\"fill_color\":{\"value\":\"lightgrey\"},\"level\":\"overlay\",\"line_alpha\":{\"value\":1.0},\"line_color\":{\"value\":\"black\"},\"line_dash\":[4,4],\"line_width\":{\"value\":2},\"plot\":null,\"xs_units\":\"screen\",\"ys_units\":\"screen\"},\"id\":\"5360\",\"type\":\"PolyAnnotation\"},{\"attributes\":{\"active_drag\":\"auto\",\"active_inspect\":\"auto\",\"active_multi\":null,\"active_scroll\":\"auto\",\"active_tap\":\"auto\",\"tools\":[{\"id\":\"5355\",\"type\":\"BoxSelectTool\"},{\"id\":\"5356\",\"type\":\"LassoSelectTool\"}]},\"id\":\"5359\",\"type\":\"Toolbar\"},{\"attributes\":{},\"id\":\"5569\",\"type\":\"UnionRenderers\"},{\"attributes\":{\"below\":[{\"id\":\"5345\",\"type\":\"LinearAxis\"}],\"left\":[{\"id\":\"5350\",\"type\":\"LinearAxis\"}],\"renderers\":[{\"id\":\"5345\",\"type\":\"LinearAxis\"},{\"id\":\"5349\",\"type\":\"Grid\"},{\"id\":\"5350\",\"type\":\"LinearAxis\"},{\"id\":\"5354\",\"type\":\"Grid\"},{\"id\":\"5357\",\"type\":\"BoxAnnotation\"},{\"id\":\"5360\",\"type\":\"PolyAnnotation\"},{\"id\":\"5367\",\"type\":\"GlyphRenderer\"}],\"title\":{\"id\":\"5557\",\"type\":\"Title\"},\"toolbar\":{\"id\":\"5359\",\"type\":\"Toolbar\"},\"x_range\":{\"id\":\"5337\",\"type\":\"DataRange1d\"},\"x_scale\":{\"id\":\"5341\",\"type\":\"LinearScale\"},\"y_range\":{\"id\":\"5339\",\"type\":\"DataRange1d\"},\"y_scale\":{\"id\":\"5343\",\"type\":\"LinearScale\"}},\"id\":\"5336\",\"subtype\":\"Figure\",\"type\":\"Plot\"},{\"attributes\":{\"fill_alpha\":{\"value\":0.5},\"fill_color\":{\"value\":\"lightgrey\"},\"level\":\"overlay\",\"line_alpha\":{\"value\":1.0},\"line_color\":{\"value\":\"black\"},\"line_dash\":[4,4],\"line_width\":{\"value\":2},\"plot\":null,\"xs_units\":\"screen\",\"ys_units\":\"screen\"},\"id\":\"5327\",\"type\":\"PolyAnnotation\"},{\"attributes\":{\"callback\":null},\"id\":\"5337\",\"type\":\"DataRange1d\"},{\"attributes\":{\"axis_label\":\"fertility (children per woman)\",\"formatter\":{\"id\":\"5560\",\"type\":\"BasicTickFormatter\"},\"plot\":{\"id\":\"5303\",\"subtype\":\"Figure\",\"type\":\"Plot\"},\"ticker\":{\"id\":\"5313\",\"type\":\"BasicTicker\"}},\"id\":\"5312\",\"type\":\"LinearAxis\"},{\"attributes\":{\"active_drag\":\"auto\",\"active_inspect\":\"auto\",\"active_multi\":null,\"active_scroll\":\"auto\",\"active_tap\":\"auto\",\"tools\":[{\"id\":\"5322\",\"type\":\"BoxSelectTool\"},{\"id\":\"5323\",\"type\":\"LassoSelectTool\"}]},\"id\":\"5326\",\"type\":\"Toolbar\"},{\"attributes\":{\"fill_color\":{\"value\":\"#1f77b4\"},\"line_color\":{\"value\":\"#1f77b4\"},\"x\":{\"field\":\"fertility\"},\"y\":{\"field\":\"female_literacy\"}},\"id\":\"5332\",\"type\":\"Circle\"},{\"attributes\":{},\"id\":\"5564\",\"type\":\"BasicTickFormatter\"},{\"attributes\":{\"source\":{\"id\":\"5302\",\"type\":\"ColumnDataSource\"}},\"id\":\"5368\",\"type\":\"CDSView\"},{\"attributes\":{\"fill_alpha\":{\"value\":0.1},\"fill_color\":{\"value\":\"#1f77b4\"},\"line_alpha\":{\"value\":0.1},\"line_color\":{\"value\":\"#1f77b4\"},\"x\":{\"field\":\"fertility\"},\"y\":{\"field\":\"population\"}},\"id\":\"5366\",\"type\":\"Circle\"},{\"attributes\":{\"data_source\":{\"id\":\"5302\",\"type\":\"ColumnDataSource\"},\"glyph\":{\"id\":\"5365\",\"type\":\"Circle\"},\"hover_glyph\":null,\"muted_glyph\":null,\"nonselection_glyph\":{\"id\":\"5366\",\"type\":\"Circle\"},\"selection_glyph\":null,\"view\":{\"id\":\"5368\",\"type\":\"CDSView\"}},\"id\":\"5367\",\"type\":\"GlyphRenderer\"},{\"attributes\":{},\"id\":\"5308\",\"type\":\"LinearScale\"},{\"attributes\":{},\"id\":\"5566\",\"type\":\"BasicTickFormatter\"},{\"attributes\":{\"callback\":null,\"overlay\":{\"id\":\"5327\",\"type\":\"PolyAnnotation\"}},\"id\":\"5323\",\"type\":\"LassoSelectTool\"},{\"attributes\":{\"source\":{\"id\":\"5302\",\"type\":\"ColumnDataSource\"}},\"id\":\"5335\",\"type\":\"CDSView\"},{\"attributes\":{},\"id\":\"5560\",\"type\":\"BasicTickFormatter\"},{\"attributes\":{},\"id\":\"5570\",\"type\":\"Selection\"},{\"attributes\":{\"axis_label\":\"female literacy (% population)\",\"formatter\":{\"id\":\"5562\",\"type\":\"BasicTickFormatter\"},\"plot\":{\"id\":\"5303\",\"subtype\":\"Figure\",\"type\":\"Plot\"},\"ticker\":{\"id\":\"5318\",\"type\":\"BasicTicker\"}},\"id\":\"5317\",\"type\":\"LinearAxis\"},{\"attributes\":{\"callback\":null},\"id\":\"5306\",\"type\":\"DataRange1d\"},{\"attributes\":{\"callback\":null,\"data\":{\"Continent\":[\"ASI\",\"ASI\",\"NAM\",\"ASI\",\"LAT\",\"ASI\",\"ASI\",\"AF\",\"EUR\",\"ASI\",\"LAT\",\"ASI\",\"ASI\",\"EUR\",\"AF\",\"AF\",\"ASI\",\"ASI\",\"ASI\",\"AF\",\"EUR\",\"EUR\",\"EUR\",\"ASI\",\"AF\",\"ASI\",\"EUR\",\"EUR\",\"LAT\",\"AF\",\"AF\",\"LAT\",\"AF\",\"EUR\",\"AF\",\"NAM\",\"AF\",\"AF\",\"ASI\",\"ASI\",\"LAT\",\"ASI\",\"LAT\",\"ASI\",\"ASI\",\"ASI\",\"ASI\",\"AF\",\"ASI\",\"AF\",\"EUR\",\"AF\",\"ASI\",\"ASI\",\"AF\",\"AF\",\"AF\",\"LAT\",\"EUR\",\"ASI\",\"AF\",\"AF\",\"AF\",\"ASI\",\"LAT\",\"LAT\",\"AF\",\"AF\",\"AF\",\"AF\",\"EUR\",\"LAT\",\"AF\",\"EUR\",\"EUR\",\"EUR\",\"AF\",\"EUR\",\"LAT\",\"AF\",\"AF\",\"LAT\",\"EUR\",\"EUR\",\"ASI\",\"AF\",\"AF\",\"EUR\",\"EUR\",\"EUR\",\"LAT\",\"ASI\",\"ASI\",\"OCE\",\"AF\",\"AF\",\"LAT\",\"ASI\",\"LAT\",\"ASI\",\"LAT\",\"AF\",\"EUR\",\"EUR\",\"ASI\",\"ASI\",\"AF\",\"ASI\",\"EUR\",\"LAT\",\"ASI\",\"EUR\",\"EUR\",\"AF\",\"ASI\",\"OCE\",\"ASI\",\"AF\",\"EUR\",\"EUR\",\"LAT\",\"EUR\",\"LAT\",\"AF\",\"EUR\",\"ASI\",\"ASI\",\"ASI\",\"LAT\",\"ASI\",\"EUR\",\"AF\",\"AF\",\"EUR\",\"EUR\",\"AF\",\"AF\",\"AF\",\"AF\",\"EUR\",\"LAT\",\"ASI\",\"AF\",\"AF\",\"EUR\",\"ASI\",\"ASI\",\"AF\",\"AF\",\"ASI\",\"LAT\",\"AF\",\"EUR\",\"ASI\",\"LAT\",\"EUR\",\"ASI\",\"OCE\",\"OCE\",\"AF\",\"LAT\",\"ASI\",\"NaN\",\"NaN\",\"NaN\",\"NaN\",\"NaN\"],\"Country\":[\"Chine\",\"Inde\",\"USA\",\"Indon\\u00e9sie\",\"Br\\u00e9sil\",\"Pakistan\",\"Bangladesh\",\"Nig\\u00e9ria\",\"F\\u00e9d\\u00e9ration de Russie\",\"Japan\",\"Mexique\",\"Philippines\",\"Viet Nam\",\"Germany\",\"Egypte\",\"Ethiopie\",\"Turquie\",\"Iran, R\\u00e9publique islamique d'\",\"Tha\\u00eflande\",\"R\\u00e9p. D\\u00e9mocratique du Congo\",\"France\",\"UK\",\"Italie\",\"Myanmar\",\"Afrique du Sud\",\"South Korea\",\"Ukraine\",\"Espagne\",\"Colombie\",\"R\\u00e9publique-Unie de Tanzanie\",\"Soudan\",\"Argentine\",\"Kenya\",\"Pologne\",\"Alg\\u00e9rie\",\"Canada\",\"Ouganda\",\"Maroc\",\"Iraq\",\"Afghanistan\",\"P\\u00e9rou\",\"N\\u00e9pal\",\"Venezuela\",\"Ouzb\\u00e9kistan\",\"Malaisie\",\"Arabie saoudite\",\"R\\u00e9p. populaire d\\u00e9mocratique de Cor\\u00e9e\",\"Ghana\",\"Y\\u00e9men\",\"Mozambique\",\"Roumanie\",\"C\\u00f4te d'Ivoire\",\"R\\u00e9publique arabe syrienne\",\"Sri Lanka\",\"Madagascar\",\"Cameroun\",\"Angola\",\"Chili\",\"Netherlands\",\"Kazakhstan\",\"Burkina Faso\",\"Malawi\",\"Niger\",\"Cambodge\",\"Guatemala\",\"Equateur\",\"Mali\",\"Zambie\",\"Zimbabwe\",\"S\\u00e9n\\u00e9gal\",\"Gr\\u00e8ce\",\"Cuba\",\"Tchad\",\"Belgium\",\"Portugal\",\"Czech rep\",\"Tunisie\",\"Hongrie\",\"R\\u00e9publique dominicaine\",\"Guin\\u00e9e\",\"Rwanda\",\"Bolivie\",\"B\\u00e9larus\",\"Sweden\",\"Azerba\\u00efdjan\",\"B\\u00e9nin\",\"Burundi\",\"Switzerland\",\"Bulgarie\",\"Serbie\",\"Honduras\",\"Israel\",\"Tadjikistan\",\"Papouasie-Nouvelle-Guin\\u00e9e\",\"Togo\",\"Jamahiriya arabe libyenne\",\"Paraguay\",\"R\\u00e9p. d\\u00e9mocratique populaire lao\",\"El Salvador\",\"Jordanie\",\"Nicaragua\",\"Sierra Leone\",\"Denmark\",\"Finland\",\"Kirghizistan\",\"Turkm\\u00e9nistan\",\"Erythr\\u00e9e\",\"Singapour\",\"Norway\",\"Costa Rica\",\"Emirats arabes unis\",\"Croatie\",\"Ireland\",\"R\\u00e9publique centrafricaine\",\"G\\u00e9orgie\",\"New Zealand\",\"Liban\",\"Lib\\u00e9ria\",\"Bosnie-Herz\\u00e9govine\",\"R\\u00e9publique de Moldova\",\"Panama\",\"Lituanie\",\"Uruguay\",\"Mauritanie\",\"Albanie\",\"Arm\\u00e9nie\",\"Oman\",\"Kowe\\u00eft\",\"Jama\\u00efque\",\"Mongolie\",\"Lettonie\",\"Namibie\",\"Lesotho\",\"L'ex-R\\u00e9p. yougoslave de Mac\\u00e9doine\",\"Slov\\u00e9nie\",\"Botswana\",\"Gambie\",\"Guin\\u00e9e-Bissau\",\"Gabon\",\"Estonie\",\"Trinit\\u00e9-et-Tobago\",\"Qatar\",\"Maurice\",\"Swaziland\",\"Chypre\",\"Bahre\\u00efn\",\"Bhoutan\",\"Guin\\u00e9e \\u00e9quatoriale\",\"Comores\",\"Macao, Chine\",\"Suriname\",\"Cap-Vert\",\"Malte\",\"Brun\\u00e9i Darussalam\",\"Bahamas\",\"Iceland\",\"Maldives\",\"Vanuatu\",\"Samoa\",\"Sao Tom\\u00e9-et-Principe\",\"Aruba\",\"Tonga\",\"Antigua-et-Barbuda\",\"Antilles n\\u00e9erlandaises\",\"Iles Ca\\u00efmanes\",\"Seychelles\",\"Territoires autonomes palestiniens\"],\"female_literacy\":{\"__ndarray__\":\"AAAAAACgVkBmZmZmZmZJQAAAAAAAwFhAMzMzMzMzVkDNzMzMzIxWQAAAAAAAAERAZmZmZmbmSEBmZmZmZmZIQJqZmZmZ2VhAAAAAAADAWEAAAAAAAOBWQJqZmZmZeVdAzczMzMyMVkAAAAAAAMBYQGZmZmZm5kxAzczMzMzMNkAzMzMzM1NUQM3MzMzMTFNAAAAAAADgVkDNzMzMzAxMQAAAAAAAwFhAAAAAAADAWEAAAAAAAKBYQM3MzMzMTFZAZmZmZmYGVkBmZmZmZiZYQGZmZmZm5lhAmpmZmZk5WECamZmZmVlXQDMzMzMzk1BAzczMzMzMTUDNzMzMzGxYQDMzMzMzs1RAMzMzMzPTWEAzMzMzM/NPQAAAAAAAwFhAMzMzMzOzUEDNzMzMzAxGQM3MzMzMTFFAMzMzMzMzKUBmZmZmZiZVQDMzMzMzs0ZAmpmZmZm5V0CamZmZmblYQDMzMzMzc1ZAzczMzMwMVEAAAAAAAABZQGZmZmZmpk1AZmZmZmZmRUDNzMzMzAxEQJqZmZmZOVhAZmZmZmYmRkDNzMzMzExTQGZmZmZmRlZAMzMzMzNTUEAzMzMzM/NQQAAAAAAAgExAzczMzMysWEAAAAAAAMBYQAAAAAAA4FhAmpmZmZmZNUAzMzMzM3NQQDMzMzMzMy5AmpmZmZm5UUDNzMzMzCxRQM3MzMzMbFRAMzMzMzMzMkAAAAAAAIBOQDMzMzMzM1ZAAAAAAACAQECamZmZmflXQDMzMzMz81hAZmZmZmbmNUAAAAAAAMBYQJqZmZmZOVdAAAAAAADAWEAAAAAAAMBRQJqZmZmZuVhAMzMzMzMTVkBmZmZmZmY6QGZmZmZmhlBAAAAAAACAVUDNzMzMzOxYQAAAAAAAwFhAzczMzMzMWECamZmZmRk8QDMzMzMz801AAAAAAADAWECamZmZmXlYQM3MzMzMDFhAAAAAAADgVECamZmZmflXQAAAAAAA4FhAzczMzMzMS0CamZmZmdlKQDMzMzMzU1RAAAAAAABgV0CamZmZmZlPQJqZmZmZWVRAmpmZmZk5VkCamZmZmXlTQGZmZmZm5jxAAAAAAADAWEAAAAAAAABZQGZmZmZmxlhAMzMzMzPTWEAAAAAAAEBLQGZmZmZm5lZAAAAAAAAAWUDNzMzMzAxYQAAAAAAA4FZAAAAAAACAWEAAAAAAAMBYQM3MzMzMjERAzczMzMzsWEAAAAAAAMBYQAAAAAAAgFVAAAAAAACASkCamZmZmflXQDMzMzMzc1hAMzMzMzMzV0DNzMzMzOxYQAAAAAAAoFhAAAAAAADASEDNzMzMzKxYQJqZmZmZ2VhAmpmZmZk5VEBmZmZmZkZXQDMzMzMzs1ZAMzMzMzNzWEAzMzMzM/NYQM3MzMzM7FVAZmZmZmbGV0CamZmZmdlXQM3MzMzM7FhAAAAAAADgVEBmZmZmZiZBQAAAAAAAQEJAzczMzMzMVEAzMzMzM/NYQM3MzMzMjFhAmpmZmZmZVkAzMzMzMzNVQGZmZmZmZlVAzczMzMwsWECamZmZmVlWQJqZmZmZWUNAZmZmZmZGVkAzMzMzM/NQQM3MzMzMrFZAmpmZmZkZVkAzMzMzM9NTQAAAAAAAYFdAMzMzMzNTV0AAAAAAACBYQAAAAAAAwFhAmpmZmZmZWEAAAAAAAOBTQAAAAAAAoFhAMzMzMzPTVEAAAAAAAIBYQGZmZmZmxlhAmpmZmZnZWEAzMzMzMxNYQAAAAAAAwFhAMzMzMzMTV0CamZmZmblWQA==\",\"dtype\":\"float64\",\"shape\":[167]},\"fertility\":{\"__ndarray__\":\"6Pup8dJN/D/b+X5qvHQFQARWDi2ynQBAdJMYBFYOAUAIrBxaZDv9P2Dl0CLb+Q5A6Pup8dJNAkD91HjpJrEUQH0/NV66SfY//tR46SYx9D9zaJHtfD8BQGmR7Xw/NQhA3SQGgZVDAEDJdr6fGi/1P7tJDAIrhwZA8tJNYhDYFEDNzMzMzMwAQOXQItv5fvw/8/3UeOkm/T9uEoPAyqEXQH9qvHSTGP4/bhKDwMqh/T89CtejcD32P3Noke18PwJACtejcD0KBEAv3SQGgZXzPy2yne+nxvU/sXJoke189z8IrBxaZDsDQBSuR+F6FBZACKwcWmQ7EEBjEFg5tMgBQFYOLbKdbxNAE4PAyqFF9D8j2/l+arwCQN0kBoGVQ/k/arx0kxgEGUB56SYxCKwCQOSlm8QgsA9AhetRuB4FGkA9CtejcD0EQC/dJAaBlQZAlkOLbOf7A0CWQ4ts5/sBQKrx0k1iEARAUrgehetRCEBEi2zn+6n9P+F6FK5H4RBAZmZmZmZmFECR7Xw/Nd4TQDMzMzMzM/U/dJMYBFYOEkD8qfHSTWIJQBFYObTIdgJAexSuR+F6EkBEi2zn+ykSQEA1XrpJjBZAN4lBYOXQ/j/AyqFFtvP7PycxCKwcWgJAd76fGi9dF0BSuB6F69EVQC2yne+nRhxArBxaZDvfBkDfT42XbhIQQLTIdr6fGgRAH4XrUbieFUCmm8QgsPIWQIGVQ4ts5wpAj8L1KFyPE0ApXI/C9Sj2PxSuR+F6FPg/bef7qfFSGEAlBoGVQ4v8P0A1XrpJDPY/MzMzMzMz9z/b+X5qvHT9P+xRuB6F6/U/TDeJQWDlBEA3iUFg5VAVQFK4HoXrURVALIcW2c73CkDl0CLb+X70P1YOLbKd7/0/001iEFg5AUBPjZduEoMVQM3MzMzMzBFAXI/C9Shc9z9g5dAi2/n2P5duEoPAyvk/hetRuB6FCUBqvHSTGAQGQM3MzMzMzApACtejcD0KEEBEi2zn+6kQQIlBYOXQIgVAN4lBYOXQB0BSuB6F61ELQFyPwvUoXAJA8/3UeOkmCEARWDm0yHYFQClcj8L1qBRAL90kBoGV/T/GSzeJQWD9P7+fGi/dJARAcT0K16NwA0DqJjEIrBwSQGiR7Xw/NfQ/KVyPwvUo/j9KDAIrhxb/P/yp8dJNYv4/30+Nl24S9z9zaJHtfD//P30/NV66yRJAHFpkO99P+T8zMzMzMzMAQNv5fmq8dP0/JQaBlUMLFEAxCKwcWmTzP9R46SYxCPg/VOOlm8QgBECsHFpkO9/1P4PAyqFFtgBAWmQ730+NEUBEi2zn+6n9PyyHFtnO9/s/bef7qfHSB0Cd76fGSzcBQEw3iUFg5QJAAyuHFtnO/z83iUFg5dD2P1K4HoXrUQpA6SYxCKwcCkBg5dAi2/n2P30/NV66SfY/+n5qvHSTBkDGSzeJQeATQIlBYOXQohZA7FG4HoXrCUBKDAIrhxb7PyYxCKwcWvo/4XoUrkfhAkB46SYxCKz8P5qZmZmZmQtAqMZLN4lB+D93vp8aL90BQBsv3SQGgQRAbhKDwMohFUAUrkfhehQPQLbz/dR46e4/lkOLbOf7AkDo+6nx0k0FQGq8dJMYBPQ/0SLb+X5qAEAshxbZzvcKQFg5tMh2vgBAAAAAAAAAAECq8dJNYhAPQDeJQWDl0A5AWDm0yHa+DUCDwMqhRbb7PwaBlUOLbA9A738soIUHB0DvfyyghQcHQO9/LKCFBwdA738soIUHB0DvfyyghQcHQA==\",\"dtype\":\"float64\",\"shape\":[167]},\"index\":[0,1,2,3,4,5,6,7,8,9,10,11,12,13,14,15,16,17,18,19,20,21,22,23,24,25,26,27,28,29,30,31,32,33,34,35,36,37,38,39,40,41,42,43,44,45,46,47,48,49,50,51,52,53,54,55,56,57,58,59,60,61,62,63,64,65,66,67,68,69,70,71,72,73,74,75,76,77,78,79,80,81,82,83,84,85,86,87,88,89,90,91,92,93,94,95,96,97,98,99,100,101,102,103,104,105,106,107,108,109,110,111,112,113,114,115,116,117,118,119,120,121,122,123,124,125,126,127,128,129,130,131,132,133,134,135,136,137,138,139,140,141,142,143,144,145,146,147,148,149,150,151,152,153,154,155,156,157,158,159,160,161,162,163,164,165,166],\"population\":{\"__ndarray__\":\"AAAAZii900GQFOkAn/zQQQAAAGCWH7JBAAAAdAUaq0EAAABkgeKmQe+OPP5RzaNBAAAAANESo0EAAAC8oQaiQQAAAGD466BBAAAAAG9ynkH67buGHVuZQQAAAFRuipVBAAAAdOONlEEAAABEmpOTQQAAABAGcJNBAAAAaFs+k0EAAABQXp+RQToXwIbdJ5FBAAAAPPAQkEEAAADY06OOQQAAAMA5so1BAAAAcNVIjUEAAACYu4eMQQAAAFgsoodBAAAAwDw3h0EAAADAeC2HQQAAAMDADoZBAAAAIAC5hUEAAAAApHaFQQAAAJgGQoRBAAAAWFS3g0EAAAAghwSDQQAAAAAYfIJBAAAA+AUugkEAAACQ+WOAQQAAAICqxH9BAAAAELowfkEAAAAANyR+QRITrwTXSX1BsGr1rzqte0EAAADANYB7QQAAAGCTeXtBAAAAgBGkekEAAABAYgx6QQAAABBMw3lB9wa/XgOBd0EAAAAQILd2QQAAAPDoRHZBAAAA0BbbdUEAAABQfFh1QQAAAGBZhHRBAAAAYCyjc0EolOqduqBzQSDBaMXyOHNBAAAA0ME5ckEAAAAQQDRyQQAAAMCTL3FBAAAAAIcGcEEAAAAgE15vQQAAACC65W1BAAAAgGsObUEAAADAHFFsQQAAAMDXC2xBAAAAAFvGa0EAAAAArhpqQQAAAAC6tmlBAAAAAPk7aEEAAABgNxJoQQAAAOBjxWdBAAAAoH1KZ0EAAADA3G5lQQAAAOAPX2VBAAAAYPDQZEEAAAAgumxkQQAAAKC5QmRBAAAAAALiY0EAAAAA37JjQQAAAIB1JWNBAAAA4Lj7YkEAAADgS8FiQQAAAMBuimJBAAAAIHR9YkEAAABA+nZiQQAAAKDGlWFBAAAAgFSOYEEAAADAiIVgQQAAAIADzV5BAAAAwG4sXUEAAADAuBRdQQAAAEDzCVxBAAAAQEHrW0EAAAAAgOFbQQAAAMDcE1pBAAAAgK0WWUEAAABAO6NYQQAAAECpAlhBAAAAwKfLV0EAAABA56tXQQAAAIAlZldBXanGt56HVkEAAABAf55VQQAAAECLNVVBAAAAQN30VEEAAADA3URUQQAAAAAzIlRBAAAAgGg9U0EAAABAZ8tSQQAAAAD6dVJBAAAAAHUwUkEAAACANT1RQQAAAMDRG1FBAAAAABTqUEEAAADA8uFQQQAAAMCPjVBBAAAAwBBuUEEAAAAA2UhQQQAAAADv/k9BAAAAAPzwTEEAAAAAVslMQQAAAIBsuEtBAAAAgFPuSUEAAACA0Z5JQQAAAADSb0lBAAAAgGGHSEEAAACAPftHQQAAAIDveUdBAAAAgChARUGBGHRrNNBEQQAAAABwgERBAAAAAKAmREEAAAAA90lBQQAAAADfP0BBAAAAAJVFP0EAAAAA/iU/QQAAAADE1z5BAAAAAGJQPUEAAAAAKFU5QQAAAAAWCjhBAAAAAN8YNkEAAAAAA3U0QQAAAACMWDRBAAAAAF6LM0EAAAAAdlwzQQAAAADa0TFBAAAAAMRRKkEAAAAAQqsnQQAAAACK9SRBAAAAAPodJEGoYCyg5qMjQQAAAADEDiBBAAAAANBwH0EAAAAAwG8eQQAAAAC4JBlBAAAAAGDxF0EAAAAAEJwUQQAAAACYXxNBAAAAAAyeEkEAAAAAUIwMQQAAAACo1QVBAAAAAHCNA0EAAAAA8L75QAAAAADgSPlAOzR8P69mg0E7NHw/r2aDQTs0fD+vZoNBOzR8P69mg0E7NHw/r2aDQQ==\",\"dtype\":\"float64\",\"shape\":[167]}},\"selected\":{\"id\":\"5570\",\"type\":\"Selection\"},\"selection_policy\":{\"id\":\"5569\",\"type\":\"UnionRenderers\"}},\"id\":\"5302\",\"type\":\"ColumnDataSource\"},{\"attributes\":{\"below\":[{\"id\":\"5312\",\"type\":\"LinearAxis\"}],\"left\":[{\"id\":\"5317\",\"type\":\"LinearAxis\"}],\"renderers\":[{\"id\":\"5312\",\"type\":\"LinearAxis\"},{\"id\":\"5316\",\"type\":\"Grid\"},{\"id\":\"5317\",\"type\":\"LinearAxis\"},{\"id\":\"5321\",\"type\":\"Grid\"},{\"id\":\"5324\",\"type\":\"BoxAnnotation\"},{\"id\":\"5327\",\"type\":\"PolyAnnotation\"},{\"id\":\"5334\",\"type\":\"GlyphRenderer\"}],\"title\":{\"id\":\"5555\",\"type\":\"Title\"},\"toolbar\":{\"id\":\"5326\",\"type\":\"Toolbar\"},\"x_range\":{\"id\":\"5304\",\"type\":\"DataRange1d\"},\"x_scale\":{\"id\":\"5308\",\"type\":\"LinearScale\"},\"y_range\":{\"id\":\"5306\",\"type\":\"DataRange1d\"},\"y_scale\":{\"id\":\"5310\",\"type\":\"LinearScale\"}},\"id\":\"5303\",\"subtype\":\"Figure\",\"type\":\"Plot\"},{\"attributes\":{},\"id\":\"5562\",\"type\":\"BasicTickFormatter\"},{\"attributes\":{\"fill_alpha\":{\"value\":0.1},\"fill_color\":{\"value\":\"#1f77b4\"},\"line_alpha\":{\"value\":0.1},\"line_color\":{\"value\":\"#1f77b4\"},\"x\":{\"field\":\"fertility\"},\"y\":{\"field\":\"female_literacy\"}},\"id\":\"5333\",\"type\":\"Circle\"},{\"attributes\":{},\"id\":\"5341\",\"type\":\"LinearScale\"},{\"attributes\":{\"callback\":null},\"id\":\"5304\",\"type\":\"DataRange1d\"},{\"attributes\":{\"callback\":null},\"id\":\"5339\",\"type\":\"DataRange1d\"},{\"attributes\":{},\"id\":\"5310\",\"type\":\"LinearScale\"},{\"attributes\":{\"bottom_units\":\"screen\",\"fill_alpha\":{\"value\":0.5},\"fill_color\":{\"value\":\"lightgrey\"},\"left_units\":\"screen\",\"level\":\"overlay\",\"line_alpha\":{\"value\":1.0},\"line_color\":{\"value\":\"black\"},\"line_dash\":[4,4],\"line_width\":{\"value\":2},\"plot\":null,\"render_mode\":\"css\",\"right_units\":\"screen\",\"top_units\":\"screen\"},\"id\":\"5324\",\"type\":\"BoxAnnotation\"},{\"attributes\":{\"dimension\":1,\"plot\":{\"id\":\"5303\",\"subtype\":\"Figure\",\"type\":\"Plot\"},\"ticker\":{\"id\":\"5318\",\"type\":\"BasicTicker\"}},\"id\":\"5321\",\"type\":\"Grid\"},{\"attributes\":{},\"id\":\"5318\",\"type\":\"BasicTicker\"},{\"attributes\":{\"callback\":null,\"overlay\":{\"id\":\"5324\",\"type\":\"BoxAnnotation\"}},\"id\":\"5322\",\"type\":\"BoxSelectTool\"}],\"root_ids\":[\"5369\"]},\"title\":\"Bokeh Application\",\"version\":\"1.0.2\"}};\n",
       "  var render_items = [{\"docid\":\"958a99da-e6e9-46aa-a9d2-d965f580e469\",\"roots\":{\"5369\":\"27841fda-617d-49d2-a2b7-dd00c5be8e65\"}}];\n",
       "  root.Bokeh.embed.embed_items_notebook(docs_json, render_items);\n",
       "\n",
       "  }\n",
       "  if (root.Bokeh !== undefined) {\n",
       "    embed_document(root);\n",
       "  } else {\n",
       "    var attempts = 0;\n",
       "    var timer = setInterval(function(root) {\n",
       "      if (root.Bokeh !== undefined) {\n",
       "        embed_document(root);\n",
       "        clearInterval(timer);\n",
       "      }\n",
       "      attempts++;\n",
       "      if (attempts > 100) {\n",
       "        console.log(\"Bokeh: ERROR: Unable to run BokehJS code because BokehJS library is missing\");\n",
       "        clearInterval(timer);\n",
       "      }\n",
       "    }, 10, root)\n",
       "  }\n",
       "})(window);"
      ],
      "application/vnd.bokehjs_exec.v0+json": ""
     },
     "metadata": {
      "application/vnd.bokehjs_exec.v0+json": {
       "id": "5369"
      }
     },
     "output_type": "display_data"
    }
   ],
   "source": [
    "# Create ColumnDataSource: source\n",
    "source = ColumnDataSource(df)\n",
    "\n",
    "# Create the first figure: p1\n",
    "p1 = figure(x_axis_label='fertility (children per woman)', y_axis_label='female literacy (% population)', tools='box_select,lasso_select')\n",
    "\n",
    "# Add a circle glyph to p1\n",
    "p1.circle('fertility','female_literacy',source=source)\n",
    "\n",
    "# Create the second figure: p2\n",
    "p2 = figure(x_axis_label='fertility (children per woman)', y_axis_label='population (millions)',tools='box_select,lasso_select')\n",
    "\n",
    "# Add a circle glyph to p2\n",
    "p2.circle('fertility','population',source=source)\n",
    "\n",
    "# Create row layout of figures p1 and p2: layout\n",
    "layout = row(p1,p2)\n",
    "\n",
    "# Specify the name of the output_file and show the result\n",
    "output_file('linked_brush.html')\n",
    "show(layout)"
   ]
  },
  {
   "cell_type": "markdown",
   "metadata": {},
   "source": [
    "## Annotations and guides\n",
    "### What are they?\n",
    "- Help relate scale information to the viewer\n",
    "    - Axes, Grids (default on most plots)\n",
    "- Explain the visual encodings that are used\n",
    "    - Legends\n",
    "- Drill down into details not visible in the plot\n",
    "    - Hover Tooltips"
   ]
  },
  {
   "cell_type": "code",
   "execution_count": 20,
   "metadata": {},
   "outputs": [
    {
     "data": {
      "text/html": [
       "<video style=\"display:block; margin: 0 auto;\" controls>\n",
       "      <source src=\"_Docs/04-Annotations_and_guides.mp4\" type=\"video/mp4\">\n",
       "</video>\n"
      ],
      "text/plain": [
       "<IPython.core.display.HTML object>"
      ]
     },
     "metadata": {},
     "output_type": "display_data"
    }
   ],
   "source": [
    "%%HTML\n",
    "<video style=\"display:block; margin: 0 auto;\" controls>\n",
    "      <source src=\"_Docs/04-Annotations_and_guides.mp4\" type=\"video/mp4\">\n",
    "</video>"
   ]
  },
  {
   "cell_type": "markdown",
   "metadata": {},
   "source": [
    "### How to create legends\n",
    "Legends can be added to any glyph by using the `legend` keyword argument.\n",
    "\n",
    "In this exercise, you will plot two `circle` glyphs for female literacy vs fertility in Africa and Latin America.\n",
    "\n",
    "Two `CDSView` called `latin_america` and `africa` have been provided.\n",
    "\n",
    "Your job is to plot two `circle` glyphs for these two objects with `fertility` on the x axis and `female_literacy` on the y axis and add the `legend` values. The figure `p` has been provided for you."
   ]
  },
  {
   "cell_type": "code",
   "execution_count": 21,
   "metadata": {},
   "outputs": [],
   "source": [
    "# Create ColumnDataSource\n",
    "source = ColumnDataSource(df)\n",
    "\n",
    "# view for just Latin America Continent\n",
    "latin_america = CDSView(source=source, filters=[GroupFilter(column_name='Continent', group=\"LAT\")])\n",
    "\n",
    "# view for just Africa Continent\n",
    "africa = CDSView(source=source, filters=[GroupFilter(column_name='Continent', group=\"AF\")])\n",
    "\n",
    "# Create the figure: p\n",
    "p = figure(x_axis_label='fertility (children per woman)', y_axis_label='female literacy (% population)')"
   ]
  },
  {
   "cell_type": "code",
   "execution_count": 22,
   "metadata": {},
   "outputs": [
    {
     "data": {
      "text/html": [
       "\n",
       "\n",
       "\n",
       "\n",
       "\n",
       "\n",
       "  <div class=\"bk-root\" id=\"c936e4b5-6e9c-48e8-a0f3-313f2c3b2df0\"></div>\n"
      ]
     },
     "metadata": {},
     "output_type": "display_data"
    },
    {
     "data": {
      "application/javascript": [
       "(function(root) {\n",
       "  function embed_document(root) {\n",
       "    \n",
       "  var docs_json = {\"6483d0e0-85f4-4f66-af43-5d0642e7c999\":{\"roots\":{\"references\":[{\"attributes\":{\"below\":[{\"id\":\"5862\",\"type\":\"LinearAxis\"}],\"left\":[{\"id\":\"5867\",\"type\":\"LinearAxis\"}],\"renderers\":[{\"id\":\"5862\",\"type\":\"LinearAxis\"},{\"id\":\"5866\",\"type\":\"Grid\"},{\"id\":\"5867\",\"type\":\"LinearAxis\"},{\"id\":\"5871\",\"type\":\"Grid\"},{\"id\":\"5880\",\"type\":\"BoxAnnotation\"},{\"id\":\"5898\",\"type\":\"Legend\"},{\"id\":\"5890\",\"type\":\"GlyphRenderer\"},{\"id\":\"5903\",\"type\":\"GlyphRenderer\"}],\"title\":{\"id\":\"5891\",\"type\":\"Title\"},\"toolbar\":{\"id\":\"5878\",\"type\":\"Toolbar\"},\"x_range\":{\"id\":\"5854\",\"type\":\"DataRange1d\"},\"x_scale\":{\"id\":\"5858\",\"type\":\"LinearScale\"},\"y_range\":{\"id\":\"5856\",\"type\":\"DataRange1d\"},\"y_scale\":{\"id\":\"5860\",\"type\":\"LinearScale\"}},\"id\":\"5853\",\"subtype\":\"Figure\",\"type\":\"Plot\"},{\"attributes\":{},\"id\":\"5894\",\"type\":\"BasicTickFormatter\"},{\"attributes\":{\"fill_color\":{\"value\":\"blue\"},\"line_color\":{\"value\":\"blue\"},\"size\":{\"units\":\"screen\",\"value\":10},\"x\":{\"field\":\"fertility\"},\"y\":{\"field\":\"female_literacy\"}},\"id\":\"5901\",\"type\":\"Circle\"},{\"attributes\":{\"filters\":[{\"id\":\"5851\",\"type\":\"GroupFilter\"}],\"source\":{\"id\":\"5848\",\"type\":\"ColumnDataSource\"}},\"id\":\"5852\",\"type\":\"CDSView\"},{\"attributes\":{\"bottom_units\":\"screen\",\"fill_alpha\":{\"value\":0.5},\"fill_color\":{\"value\":\"lightgrey\"},\"left_units\":\"screen\",\"level\":\"overlay\",\"line_alpha\":{\"value\":1.0},\"line_color\":{\"value\":\"black\"},\"line_dash\":[4,4],\"line_width\":{\"value\":2},\"plot\":null,\"render_mode\":\"css\",\"right_units\":\"screen\",\"top_units\":\"screen\"},\"id\":\"5880\",\"type\":\"BoxAnnotation\"},{\"attributes\":{\"column_name\":\"Continent\",\"group\":\"AF\"},\"id\":\"5851\",\"type\":\"GroupFilter\"},{\"attributes\":{\"callback\":null,\"data\":{\"Continent\":[\"ASI\",\"ASI\",\"NAM\",\"ASI\",\"LAT\",\"ASI\",\"ASI\",\"AF\",\"EUR\",\"ASI\",\"LAT\",\"ASI\",\"ASI\",\"EUR\",\"AF\",\"AF\",\"ASI\",\"ASI\",\"ASI\",\"AF\",\"EUR\",\"EUR\",\"EUR\",\"ASI\",\"AF\",\"ASI\",\"EUR\",\"EUR\",\"LAT\",\"AF\",\"AF\",\"LAT\",\"AF\",\"EUR\",\"AF\",\"NAM\",\"AF\",\"AF\",\"ASI\",\"ASI\",\"LAT\",\"ASI\",\"LAT\",\"ASI\",\"ASI\",\"ASI\",\"ASI\",\"AF\",\"ASI\",\"AF\",\"EUR\",\"AF\",\"ASI\",\"ASI\",\"AF\",\"AF\",\"AF\",\"LAT\",\"EUR\",\"ASI\",\"AF\",\"AF\",\"AF\",\"ASI\",\"LAT\",\"LAT\",\"AF\",\"AF\",\"AF\",\"AF\",\"EUR\",\"LAT\",\"AF\",\"EUR\",\"EUR\",\"EUR\",\"AF\",\"EUR\",\"LAT\",\"AF\",\"AF\",\"LAT\",\"EUR\",\"EUR\",\"ASI\",\"AF\",\"AF\",\"EUR\",\"EUR\",\"EUR\",\"LAT\",\"ASI\",\"ASI\",\"OCE\",\"AF\",\"AF\",\"LAT\",\"ASI\",\"LAT\",\"ASI\",\"LAT\",\"AF\",\"EUR\",\"EUR\",\"ASI\",\"ASI\",\"AF\",\"ASI\",\"EUR\",\"LAT\",\"ASI\",\"EUR\",\"EUR\",\"AF\",\"ASI\",\"OCE\",\"ASI\",\"AF\",\"EUR\",\"EUR\",\"LAT\",\"EUR\",\"LAT\",\"AF\",\"EUR\",\"ASI\",\"ASI\",\"ASI\",\"LAT\",\"ASI\",\"EUR\",\"AF\",\"AF\",\"EUR\",\"EUR\",\"AF\",\"AF\",\"AF\",\"AF\",\"EUR\",\"LAT\",\"ASI\",\"AF\",\"AF\",\"EUR\",\"ASI\",\"ASI\",\"AF\",\"AF\",\"ASI\",\"LAT\",\"AF\",\"EUR\",\"ASI\",\"LAT\",\"EUR\",\"ASI\",\"OCE\",\"OCE\",\"AF\",\"LAT\",\"ASI\",\"NaN\",\"NaN\",\"NaN\",\"NaN\",\"NaN\"],\"Country\":[\"Chine\",\"Inde\",\"USA\",\"Indon\\u00e9sie\",\"Br\\u00e9sil\",\"Pakistan\",\"Bangladesh\",\"Nig\\u00e9ria\",\"F\\u00e9d\\u00e9ration de Russie\",\"Japan\",\"Mexique\",\"Philippines\",\"Viet Nam\",\"Germany\",\"Egypte\",\"Ethiopie\",\"Turquie\",\"Iran, R\\u00e9publique islamique d'\",\"Tha\\u00eflande\",\"R\\u00e9p. D\\u00e9mocratique du Congo\",\"France\",\"UK\",\"Italie\",\"Myanmar\",\"Afrique du Sud\",\"South Korea\",\"Ukraine\",\"Espagne\",\"Colombie\",\"R\\u00e9publique-Unie de Tanzanie\",\"Soudan\",\"Argentine\",\"Kenya\",\"Pologne\",\"Alg\\u00e9rie\",\"Canada\",\"Ouganda\",\"Maroc\",\"Iraq\",\"Afghanistan\",\"P\\u00e9rou\",\"N\\u00e9pal\",\"Venezuela\",\"Ouzb\\u00e9kistan\",\"Malaisie\",\"Arabie saoudite\",\"R\\u00e9p. populaire d\\u00e9mocratique de Cor\\u00e9e\",\"Ghana\",\"Y\\u00e9men\",\"Mozambique\",\"Roumanie\",\"C\\u00f4te d'Ivoire\",\"R\\u00e9publique arabe syrienne\",\"Sri Lanka\",\"Madagascar\",\"Cameroun\",\"Angola\",\"Chili\",\"Netherlands\",\"Kazakhstan\",\"Burkina Faso\",\"Malawi\",\"Niger\",\"Cambodge\",\"Guatemala\",\"Equateur\",\"Mali\",\"Zambie\",\"Zimbabwe\",\"S\\u00e9n\\u00e9gal\",\"Gr\\u00e8ce\",\"Cuba\",\"Tchad\",\"Belgium\",\"Portugal\",\"Czech rep\",\"Tunisie\",\"Hongrie\",\"R\\u00e9publique dominicaine\",\"Guin\\u00e9e\",\"Rwanda\",\"Bolivie\",\"B\\u00e9larus\",\"Sweden\",\"Azerba\\u00efdjan\",\"B\\u00e9nin\",\"Burundi\",\"Switzerland\",\"Bulgarie\",\"Serbie\",\"Honduras\",\"Israel\",\"Tadjikistan\",\"Papouasie-Nouvelle-Guin\\u00e9e\",\"Togo\",\"Jamahiriya arabe libyenne\",\"Paraguay\",\"R\\u00e9p. d\\u00e9mocratique populaire lao\",\"El Salvador\",\"Jordanie\",\"Nicaragua\",\"Sierra Leone\",\"Denmark\",\"Finland\",\"Kirghizistan\",\"Turkm\\u00e9nistan\",\"Erythr\\u00e9e\",\"Singapour\",\"Norway\",\"Costa Rica\",\"Emirats arabes unis\",\"Croatie\",\"Ireland\",\"R\\u00e9publique centrafricaine\",\"G\\u00e9orgie\",\"New Zealand\",\"Liban\",\"Lib\\u00e9ria\",\"Bosnie-Herz\\u00e9govine\",\"R\\u00e9publique de Moldova\",\"Panama\",\"Lituanie\",\"Uruguay\",\"Mauritanie\",\"Albanie\",\"Arm\\u00e9nie\",\"Oman\",\"Kowe\\u00eft\",\"Jama\\u00efque\",\"Mongolie\",\"Lettonie\",\"Namibie\",\"Lesotho\",\"L'ex-R\\u00e9p. yougoslave de Mac\\u00e9doine\",\"Slov\\u00e9nie\",\"Botswana\",\"Gambie\",\"Guin\\u00e9e-Bissau\",\"Gabon\",\"Estonie\",\"Trinit\\u00e9-et-Tobago\",\"Qatar\",\"Maurice\",\"Swaziland\",\"Chypre\",\"Bahre\\u00efn\",\"Bhoutan\",\"Guin\\u00e9e \\u00e9quatoriale\",\"Comores\",\"Macao, Chine\",\"Suriname\",\"Cap-Vert\",\"Malte\",\"Brun\\u00e9i Darussalam\",\"Bahamas\",\"Iceland\",\"Maldives\",\"Vanuatu\",\"Samoa\",\"Sao Tom\\u00e9-et-Principe\",\"Aruba\",\"Tonga\",\"Antigua-et-Barbuda\",\"Antilles n\\u00e9erlandaises\",\"Iles Ca\\u00efmanes\",\"Seychelles\",\"Territoires autonomes palestiniens\"],\"female_literacy\":{\"__ndarray__\":\"AAAAAACgVkBmZmZmZmZJQAAAAAAAwFhAMzMzMzMzVkDNzMzMzIxWQAAAAAAAAERAZmZmZmbmSEBmZmZmZmZIQJqZmZmZ2VhAAAAAAADAWEAAAAAAAOBWQJqZmZmZeVdAzczMzMyMVkAAAAAAAMBYQGZmZmZm5kxAzczMzMzMNkAzMzMzM1NUQM3MzMzMTFNAAAAAAADgVkDNzMzMzAxMQAAAAAAAwFhAAAAAAADAWEAAAAAAAKBYQM3MzMzMTFZAZmZmZmYGVkBmZmZmZiZYQGZmZmZm5lhAmpmZmZk5WECamZmZmVlXQDMzMzMzk1BAzczMzMzMTUDNzMzMzGxYQDMzMzMzs1RAMzMzMzPTWEAzMzMzM/NPQAAAAAAAwFhAMzMzMzOzUEDNzMzMzAxGQM3MzMzMTFFAMzMzMzMzKUBmZmZmZiZVQDMzMzMzs0ZAmpmZmZm5V0CamZmZmblYQDMzMzMzc1ZAzczMzMwMVEAAAAAAAABZQGZmZmZmpk1AZmZmZmZmRUDNzMzMzAxEQJqZmZmZOVhAZmZmZmYmRkDNzMzMzExTQGZmZmZmRlZAMzMzMzNTUEAzMzMzM/NQQAAAAAAAgExAzczMzMysWEAAAAAAAMBYQAAAAAAA4FhAmpmZmZmZNUAzMzMzM3NQQDMzMzMzMy5AmpmZmZm5UUDNzMzMzCxRQM3MzMzMbFRAMzMzMzMzMkAAAAAAAIBOQDMzMzMzM1ZAAAAAAACAQECamZmZmflXQDMzMzMz81hAZmZmZmbmNUAAAAAAAMBYQJqZmZmZOVdAAAAAAADAWEAAAAAAAMBRQJqZmZmZuVhAMzMzMzMTVkBmZmZmZmY6QGZmZmZmhlBAAAAAAACAVUDNzMzMzOxYQAAAAAAAwFhAzczMzMzMWECamZmZmRk8QDMzMzMz801AAAAAAADAWECamZmZmXlYQM3MzMzMDFhAAAAAAADgVECamZmZmflXQAAAAAAA4FhAzczMzMzMS0CamZmZmdlKQDMzMzMzU1RAAAAAAABgV0CamZmZmZlPQJqZmZmZWVRAmpmZmZk5VkCamZmZmXlTQGZmZmZm5jxAAAAAAADAWEAAAAAAAABZQGZmZmZmxlhAMzMzMzPTWEAAAAAAAEBLQGZmZmZm5lZAAAAAAAAAWUDNzMzMzAxYQAAAAAAA4FZAAAAAAACAWEAAAAAAAMBYQM3MzMzMjERAzczMzMzsWEAAAAAAAMBYQAAAAAAAgFVAAAAAAACASkCamZmZmflXQDMzMzMzc1hAMzMzMzMzV0DNzMzMzOxYQAAAAAAAoFhAAAAAAADASEDNzMzMzKxYQJqZmZmZ2VhAmpmZmZk5VEBmZmZmZkZXQDMzMzMzs1ZAMzMzMzNzWEAzMzMzM/NYQM3MzMzM7FVAZmZmZmbGV0CamZmZmdlXQM3MzMzM7FhAAAAAAADgVEBmZmZmZiZBQAAAAAAAQEJAzczMzMzMVEAzMzMzM/NYQM3MzMzMjFhAmpmZmZmZVkAzMzMzMzNVQGZmZmZmZlVAzczMzMwsWECamZmZmVlWQJqZmZmZWUNAZmZmZmZGVkAzMzMzM/NQQM3MzMzMrFZAmpmZmZkZVkAzMzMzM9NTQAAAAAAAYFdAMzMzMzNTV0AAAAAAACBYQAAAAAAAwFhAmpmZmZmZWEAAAAAAAOBTQAAAAAAAoFhAMzMzMzPTVEAAAAAAAIBYQGZmZmZmxlhAmpmZmZnZWEAzMzMzMxNYQAAAAAAAwFhAMzMzMzMTV0CamZmZmblWQA==\",\"dtype\":\"float64\",\"shape\":[167]},\"fertility\":{\"__ndarray__\":\"6Pup8dJN/D/b+X5qvHQFQARWDi2ynQBAdJMYBFYOAUAIrBxaZDv9P2Dl0CLb+Q5A6Pup8dJNAkD91HjpJrEUQH0/NV66SfY//tR46SYx9D9zaJHtfD8BQGmR7Xw/NQhA3SQGgZVDAEDJdr6fGi/1P7tJDAIrhwZA8tJNYhDYFEDNzMzMzMwAQOXQItv5fvw/8/3UeOkm/T9uEoPAyqEXQH9qvHSTGP4/bhKDwMqh/T89CtejcD32P3Noke18PwJACtejcD0KBEAv3SQGgZXzPy2yne+nxvU/sXJoke189z8IrBxaZDsDQBSuR+F6FBZACKwcWmQ7EEBjEFg5tMgBQFYOLbKdbxNAE4PAyqFF9D8j2/l+arwCQN0kBoGVQ/k/arx0kxgEGUB56SYxCKwCQOSlm8QgsA9AhetRuB4FGkA9CtejcD0EQC/dJAaBlQZAlkOLbOf7A0CWQ4ts5/sBQKrx0k1iEARAUrgehetRCEBEi2zn+6n9P+F6FK5H4RBAZmZmZmZmFECR7Xw/Nd4TQDMzMzMzM/U/dJMYBFYOEkD8qfHSTWIJQBFYObTIdgJAexSuR+F6EkBEi2zn+ykSQEA1XrpJjBZAN4lBYOXQ/j/AyqFFtvP7PycxCKwcWgJAd76fGi9dF0BSuB6F69EVQC2yne+nRhxArBxaZDvfBkDfT42XbhIQQLTIdr6fGgRAH4XrUbieFUCmm8QgsPIWQIGVQ4ts5wpAj8L1KFyPE0ApXI/C9Sj2PxSuR+F6FPg/bef7qfFSGEAlBoGVQ4v8P0A1XrpJDPY/MzMzMzMz9z/b+X5qvHT9P+xRuB6F6/U/TDeJQWDlBEA3iUFg5VAVQFK4HoXrURVALIcW2c73CkDl0CLb+X70P1YOLbKd7/0/001iEFg5AUBPjZduEoMVQM3MzMzMzBFAXI/C9Shc9z9g5dAi2/n2P5duEoPAyvk/hetRuB6FCUBqvHSTGAQGQM3MzMzMzApACtejcD0KEEBEi2zn+6kQQIlBYOXQIgVAN4lBYOXQB0BSuB6F61ELQFyPwvUoXAJA8/3UeOkmCEARWDm0yHYFQClcj8L1qBRAL90kBoGV/T/GSzeJQWD9P7+fGi/dJARAcT0K16NwA0DqJjEIrBwSQGiR7Xw/NfQ/KVyPwvUo/j9KDAIrhxb/P/yp8dJNYv4/30+Nl24S9z9zaJHtfD//P30/NV66yRJAHFpkO99P+T8zMzMzMzMAQNv5fmq8dP0/JQaBlUMLFEAxCKwcWmTzP9R46SYxCPg/VOOlm8QgBECsHFpkO9/1P4PAyqFFtgBAWmQ730+NEUBEi2zn+6n9PyyHFtnO9/s/bef7qfHSB0Cd76fGSzcBQEw3iUFg5QJAAyuHFtnO/z83iUFg5dD2P1K4HoXrUQpA6SYxCKwcCkBg5dAi2/n2P30/NV66SfY/+n5qvHSTBkDGSzeJQeATQIlBYOXQohZA7FG4HoXrCUBKDAIrhxb7PyYxCKwcWvo/4XoUrkfhAkB46SYxCKz8P5qZmZmZmQtAqMZLN4lB+D93vp8aL90BQBsv3SQGgQRAbhKDwMohFUAUrkfhehQPQLbz/dR46e4/lkOLbOf7AkDo+6nx0k0FQGq8dJMYBPQ/0SLb+X5qAEAshxbZzvcKQFg5tMh2vgBAAAAAAAAAAECq8dJNYhAPQDeJQWDl0A5AWDm0yHa+DUCDwMqhRbb7PwaBlUOLbA9A738soIUHB0DvfyyghQcHQO9/LKCFBwdA738soIUHB0DvfyyghQcHQA==\",\"dtype\":\"float64\",\"shape\":[167]},\"index\":[0,1,2,3,4,5,6,7,8,9,10,11,12,13,14,15,16,17,18,19,20,21,22,23,24,25,26,27,28,29,30,31,32,33,34,35,36,37,38,39,40,41,42,43,44,45,46,47,48,49,50,51,52,53,54,55,56,57,58,59,60,61,62,63,64,65,66,67,68,69,70,71,72,73,74,75,76,77,78,79,80,81,82,83,84,85,86,87,88,89,90,91,92,93,94,95,96,97,98,99,100,101,102,103,104,105,106,107,108,109,110,111,112,113,114,115,116,117,118,119,120,121,122,123,124,125,126,127,128,129,130,131,132,133,134,135,136,137,138,139,140,141,142,143,144,145,146,147,148,149,150,151,152,153,154,155,156,157,158,159,160,161,162,163,164,165,166],\"population\":{\"__ndarray__\":\"AAAAZii900GQFOkAn/zQQQAAAGCWH7JBAAAAdAUaq0EAAABkgeKmQe+OPP5RzaNBAAAAANESo0EAAAC8oQaiQQAAAGD466BBAAAAAG9ynkH67buGHVuZQQAAAFRuipVBAAAAdOONlEEAAABEmpOTQQAAABAGcJNBAAAAaFs+k0EAAABQXp+RQToXwIbdJ5FBAAAAPPAQkEEAAADY06OOQQAAAMA5so1BAAAAcNVIjUEAAACYu4eMQQAAAFgsoodBAAAAwDw3h0EAAADAeC2HQQAAAMDADoZBAAAAIAC5hUEAAAAApHaFQQAAAJgGQoRBAAAAWFS3g0EAAAAghwSDQQAAAAAYfIJBAAAA+AUugkEAAACQ+WOAQQAAAICqxH9BAAAAELowfkEAAAAANyR+QRITrwTXSX1BsGr1rzqte0EAAADANYB7QQAAAGCTeXtBAAAAgBGkekEAAABAYgx6QQAAABBMw3lB9wa/XgOBd0EAAAAQILd2QQAAAPDoRHZBAAAA0BbbdUEAAABQfFh1QQAAAGBZhHRBAAAAYCyjc0EolOqduqBzQSDBaMXyOHNBAAAA0ME5ckEAAAAQQDRyQQAAAMCTL3FBAAAAAIcGcEEAAAAgE15vQQAAACC65W1BAAAAgGsObUEAAADAHFFsQQAAAMDXC2xBAAAAAFvGa0EAAAAArhpqQQAAAAC6tmlBAAAAAPk7aEEAAABgNxJoQQAAAOBjxWdBAAAAoH1KZ0EAAADA3G5lQQAAAOAPX2VBAAAAYPDQZEEAAAAgumxkQQAAAKC5QmRBAAAAAALiY0EAAAAA37JjQQAAAIB1JWNBAAAA4Lj7YkEAAADgS8FiQQAAAMBuimJBAAAAIHR9YkEAAABA+nZiQQAAAKDGlWFBAAAAgFSOYEEAAADAiIVgQQAAAIADzV5BAAAAwG4sXUEAAADAuBRdQQAAAEDzCVxBAAAAQEHrW0EAAAAAgOFbQQAAAMDcE1pBAAAAgK0WWUEAAABAO6NYQQAAAECpAlhBAAAAwKfLV0EAAABA56tXQQAAAIAlZldBXanGt56HVkEAAABAf55VQQAAAECLNVVBAAAAQN30VEEAAADA3URUQQAAAAAzIlRBAAAAgGg9U0EAAABAZ8tSQQAAAAD6dVJBAAAAAHUwUkEAAACANT1RQQAAAMDRG1FBAAAAABTqUEEAAADA8uFQQQAAAMCPjVBBAAAAwBBuUEEAAAAA2UhQQQAAAADv/k9BAAAAAPzwTEEAAAAAVslMQQAAAIBsuEtBAAAAgFPuSUEAAACA0Z5JQQAAAADSb0lBAAAAgGGHSEEAAACAPftHQQAAAIDveUdBAAAAgChARUGBGHRrNNBEQQAAAABwgERBAAAAAKAmREEAAAAA90lBQQAAAADfP0BBAAAAAJVFP0EAAAAA/iU/QQAAAADE1z5BAAAAAGJQPUEAAAAAKFU5QQAAAAAWCjhBAAAAAN8YNkEAAAAAA3U0QQAAAACMWDRBAAAAAF6LM0EAAAAAdlwzQQAAAADa0TFBAAAAAMRRKkEAAAAAQqsnQQAAAACK9SRBAAAAAPodJEGoYCyg5qMjQQAAAADEDiBBAAAAANBwH0EAAAAAwG8eQQAAAAC4JBlBAAAAAGDxF0EAAAAAEJwUQQAAAACYXxNBAAAAAAyeEkEAAAAAUIwMQQAAAACo1QVBAAAAAHCNA0EAAAAA8L75QAAAAADgSPlAOzR8P69mg0E7NHw/r2aDQTs0fD+vZoNBOzR8P69mg0E7NHw/r2aDQQ==\",\"dtype\":\"float64\",\"shape\":[167]}},\"selected\":{\"id\":\"5912\",\"type\":\"Selection\"},\"selection_policy\":{\"id\":\"5911\",\"type\":\"UnionRenderers\"}},\"id\":\"5848\",\"type\":\"ColumnDataSource\"},{\"attributes\":{},\"id\":\"5875\",\"type\":\"SaveTool\"},{\"attributes\":{\"fill_alpha\":{\"value\":0.1},\"fill_color\":{\"value\":\"#1f77b4\"},\"line_alpha\":{\"value\":0.1},\"line_color\":{\"value\":\"#1f77b4\"},\"size\":{\"units\":\"screen\",\"value\":10},\"x\":{\"field\":\"fertility\"},\"y\":{\"field\":\"female_literacy\"}},\"id\":\"5902\",\"type\":\"Circle\"},{\"attributes\":{\"column_name\":\"Continent\",\"group\":\"LAT\"},\"id\":\"5849\",\"type\":\"GroupFilter\"},{\"attributes\":{},\"id\":\"5876\",\"type\":\"ResetTool\"},{\"attributes\":{\"label\":{\"value\":\"Latin America\"},\"renderers\":[{\"id\":\"5890\",\"type\":\"GlyphRenderer\"}]},\"id\":\"5899\",\"type\":\"LegendItem\"},{\"attributes\":{\"fill_color\":{\"value\":\"red\"},\"line_color\":{\"value\":\"red\"},\"size\":{\"units\":\"screen\",\"value\":10},\"x\":{\"field\":\"fertility\"},\"y\":{\"field\":\"female_literacy\"}},\"id\":\"5888\",\"type\":\"Circle\"},{\"attributes\":{\"filters\":[{\"id\":\"5849\",\"type\":\"GroupFilter\"}],\"source\":{\"id\":\"5848\",\"type\":\"ColumnDataSource\"}},\"id\":\"5850\",\"type\":\"CDSView\"},{\"attributes\":{\"callback\":null},\"id\":\"5854\",\"type\":\"DataRange1d\"},{\"attributes\":{},\"id\":\"5896\",\"type\":\"BasicTickFormatter\"},{\"attributes\":{},\"id\":\"5911\",\"type\":\"UnionRenderers\"},{\"attributes\":{},\"id\":\"5912\",\"type\":\"Selection\"},{\"attributes\":{\"label\":{\"value\":\"Africa\"},\"renderers\":[{\"id\":\"5903\",\"type\":\"GlyphRenderer\"}]},\"id\":\"5913\",\"type\":\"LegendItem\"},{\"attributes\":{\"active_drag\":\"auto\",\"active_inspect\":\"auto\",\"active_multi\":null,\"active_scroll\":\"auto\",\"active_tap\":\"auto\",\"tools\":[{\"id\":\"5872\",\"type\":\"PanTool\"},{\"id\":\"5873\",\"type\":\"WheelZoomTool\"},{\"id\":\"5874\",\"type\":\"BoxZoomTool\"},{\"id\":\"5875\",\"type\":\"SaveTool\"},{\"id\":\"5876\",\"type\":\"ResetTool\"},{\"id\":\"5877\",\"type\":\"HelpTool\"}]},\"id\":\"5878\",\"type\":\"Toolbar\"},{\"attributes\":{\"callback\":null},\"id\":\"5856\",\"type\":\"DataRange1d\"},{\"attributes\":{},\"id\":\"5858\",\"type\":\"LinearScale\"},{\"attributes\":{},\"id\":\"5872\",\"type\":\"PanTool\"},{\"attributes\":{\"axis_label\":\"fertility (children per woman)\",\"formatter\":{\"id\":\"5894\",\"type\":\"BasicTickFormatter\"},\"plot\":{\"id\":\"5853\",\"subtype\":\"Figure\",\"type\":\"Plot\"},\"ticker\":{\"id\":\"5863\",\"type\":\"BasicTicker\"}},\"id\":\"5862\",\"type\":\"LinearAxis\"},{\"attributes\":{\"plot\":{\"id\":\"5853\",\"subtype\":\"Figure\",\"type\":\"Plot\"},\"ticker\":{\"id\":\"5863\",\"type\":\"BasicTicker\"}},\"id\":\"5866\",\"type\":\"Grid\"},{\"attributes\":{},\"id\":\"5873\",\"type\":\"WheelZoomTool\"},{\"attributes\":{},\"id\":\"5860\",\"type\":\"LinearScale\"},{\"attributes\":{\"axis_label\":\"female literacy (% population)\",\"formatter\":{\"id\":\"5896\",\"type\":\"BasicTickFormatter\"},\"plot\":{\"id\":\"5853\",\"subtype\":\"Figure\",\"type\":\"Plot\"},\"ticker\":{\"id\":\"5868\",\"type\":\"BasicTicker\"}},\"id\":\"5867\",\"type\":\"LinearAxis\"},{\"attributes\":{\"plot\":null,\"text\":\"\"},\"id\":\"5891\",\"type\":\"Title\"},{\"attributes\":{\"dimension\":1,\"plot\":{\"id\":\"5853\",\"subtype\":\"Figure\",\"type\":\"Plot\"},\"ticker\":{\"id\":\"5868\",\"type\":\"BasicTicker\"}},\"id\":\"5871\",\"type\":\"Grid\"},{\"attributes\":{},\"id\":\"5868\",\"type\":\"BasicTicker\"},{\"attributes\":{\"items\":[{\"id\":\"5899\",\"type\":\"LegendItem\"},{\"id\":\"5913\",\"type\":\"LegendItem\"}],\"plot\":{\"id\":\"5853\",\"subtype\":\"Figure\",\"type\":\"Plot\"}},\"id\":\"5898\",\"type\":\"Legend\"},{\"attributes\":{},\"id\":\"5863\",\"type\":\"BasicTicker\"},{\"attributes\":{\"data_source\":{\"id\":\"5848\",\"type\":\"ColumnDataSource\"},\"glyph\":{\"id\":\"5901\",\"type\":\"Circle\"},\"hover_glyph\":null,\"muted_glyph\":null,\"nonselection_glyph\":{\"id\":\"5902\",\"type\":\"Circle\"},\"selection_glyph\":null,\"view\":{\"id\":\"5852\",\"type\":\"CDSView\"}},\"id\":\"5903\",\"type\":\"GlyphRenderer\"},{\"attributes\":{\"fill_alpha\":{\"value\":0.1},\"fill_color\":{\"value\":\"#1f77b4\"},\"line_alpha\":{\"value\":0.1},\"line_color\":{\"value\":\"#1f77b4\"},\"size\":{\"units\":\"screen\",\"value\":10},\"x\":{\"field\":\"fertility\"},\"y\":{\"field\":\"female_literacy\"}},\"id\":\"5889\",\"type\":\"Circle\"},{\"attributes\":{},\"id\":\"5877\",\"type\":\"HelpTool\"},{\"attributes\":{\"overlay\":{\"id\":\"5880\",\"type\":\"BoxAnnotation\"}},\"id\":\"5874\",\"type\":\"BoxZoomTool\"},{\"attributes\":{\"data_source\":{\"id\":\"5848\",\"type\":\"ColumnDataSource\"},\"glyph\":{\"id\":\"5888\",\"type\":\"Circle\"},\"hover_glyph\":null,\"muted_glyph\":null,\"nonselection_glyph\":{\"id\":\"5889\",\"type\":\"Circle\"},\"selection_glyph\":null,\"view\":{\"id\":\"5850\",\"type\":\"CDSView\"}},\"id\":\"5890\",\"type\":\"GlyphRenderer\"}],\"root_ids\":[\"5853\"]},\"title\":\"Bokeh Application\",\"version\":\"1.0.2\"}};\n",
       "  var render_items = [{\"docid\":\"6483d0e0-85f4-4f66-af43-5d0642e7c999\",\"roots\":{\"5853\":\"c936e4b5-6e9c-48e8-a0f3-313f2c3b2df0\"}}];\n",
       "  root.Bokeh.embed.embed_items_notebook(docs_json, render_items);\n",
       "\n",
       "  }\n",
       "  if (root.Bokeh !== undefined) {\n",
       "    embed_document(root);\n",
       "  } else {\n",
       "    var attempts = 0;\n",
       "    var timer = setInterval(function(root) {\n",
       "      if (root.Bokeh !== undefined) {\n",
       "        embed_document(root);\n",
       "        clearInterval(timer);\n",
       "      }\n",
       "      attempts++;\n",
       "      if (attempts > 100) {\n",
       "        console.log(\"Bokeh: ERROR: Unable to run BokehJS code because BokehJS library is missing\");\n",
       "        clearInterval(timer);\n",
       "      }\n",
       "    }, 10, root)\n",
       "  }\n",
       "})(window);"
      ],
      "application/vnd.bokehjs_exec.v0+json": ""
     },
     "metadata": {
      "application/vnd.bokehjs_exec.v0+json": {
       "id": "5853"
      }
     },
     "output_type": "display_data"
    }
   ],
   "source": [
    "# Add the first circle glyph to the figure p\n",
    "p.circle('fertility', 'female_literacy', source=source, view=latin_america, size=10, color='red', legend='Latin America')\n",
    "\n",
    "# Add the second circle glyph to the figure p\n",
    "p.circle('fertility', 'female_literacy', source=source, view=africa, size=10, color='blue', legend='Africa')\n",
    "\n",
    "# Specify the name of the output_file and show the result\n",
    "output_file('fert_lit_groups.html')\n",
    "show(p)"
   ]
  },
  {
   "cell_type": "markdown",
   "metadata": {},
   "source": [
    "### Positioning and styling legends\n",
    "Properties of the legend can be changed by using the `legend` member attribute of a Bokeh figure after the glyphs have been plotted.\n",
    "\n",
    "In this exercise, you'll adjust the background `color` and `legend` location of the female literacy vs fertility plot from the previous exercise.\n",
    "\n",
    "The figure object `p` has been created for you along with the circle glyphs."
   ]
  },
  {
   "cell_type": "code",
   "execution_count": 23,
   "metadata": {},
   "outputs": [
    {
     "data": {
      "text/html": [
       "\n",
       "\n",
       "\n",
       "\n",
       "\n",
       "\n",
       "  <div class=\"bk-root\" id=\"3bd24fd2-2df4-4e9d-a539-1123e214e456\"></div>\n"
      ]
     },
     "metadata": {},
     "output_type": "display_data"
    },
    {
     "data": {
      "application/javascript": [
       "(function(root) {\n",
       "  function embed_document(root) {\n",
       "    \n",
       "  var docs_json = {\"b434ed6f-936b-4ec1-a3d6-0642d35f623d\":{\"roots\":{\"references\":[{\"attributes\":{\"below\":[{\"id\":\"5862\",\"type\":\"LinearAxis\"}],\"left\":[{\"id\":\"5867\",\"type\":\"LinearAxis\"}],\"renderers\":[{\"id\":\"5862\",\"type\":\"LinearAxis\"},{\"id\":\"5866\",\"type\":\"Grid\"},{\"id\":\"5867\",\"type\":\"LinearAxis\"},{\"id\":\"5871\",\"type\":\"Grid\"},{\"id\":\"5880\",\"type\":\"BoxAnnotation\"},{\"id\":\"5898\",\"type\":\"Legend\"},{\"id\":\"5890\",\"type\":\"GlyphRenderer\"},{\"id\":\"5903\",\"type\":\"GlyphRenderer\"}],\"title\":{\"id\":\"5891\",\"type\":\"Title\"},\"toolbar\":{\"id\":\"5878\",\"type\":\"Toolbar\"},\"x_range\":{\"id\":\"5854\",\"type\":\"DataRange1d\"},\"x_scale\":{\"id\":\"5858\",\"type\":\"LinearScale\"},\"y_range\":{\"id\":\"5856\",\"type\":\"DataRange1d\"},\"y_scale\":{\"id\":\"5860\",\"type\":\"LinearScale\"}},\"id\":\"5853\",\"subtype\":\"Figure\",\"type\":\"Plot\"},{\"attributes\":{},\"id\":\"5894\",\"type\":\"BasicTickFormatter\"},{\"attributes\":{\"fill_color\":{\"value\":\"blue\"},\"line_color\":{\"value\":\"blue\"},\"size\":{\"units\":\"screen\",\"value\":10},\"x\":{\"field\":\"fertility\"},\"y\":{\"field\":\"female_literacy\"}},\"id\":\"5901\",\"type\":\"Circle\"},{\"attributes\":{\"filters\":[{\"id\":\"5851\",\"type\":\"GroupFilter\"}],\"source\":{\"id\":\"5848\",\"type\":\"ColumnDataSource\"}},\"id\":\"5852\",\"type\":\"CDSView\"},{\"attributes\":{\"bottom_units\":\"screen\",\"fill_alpha\":{\"value\":0.5},\"fill_color\":{\"value\":\"lightgrey\"},\"left_units\":\"screen\",\"level\":\"overlay\",\"line_alpha\":{\"value\":1.0},\"line_color\":{\"value\":\"black\"},\"line_dash\":[4,4],\"line_width\":{\"value\":2},\"plot\":null,\"render_mode\":\"css\",\"right_units\":\"screen\",\"top_units\":\"screen\"},\"id\":\"5880\",\"type\":\"BoxAnnotation\"},{\"attributes\":{\"column_name\":\"Continent\",\"group\":\"AF\"},\"id\":\"5851\",\"type\":\"GroupFilter\"},{\"attributes\":{\"callback\":null,\"data\":{\"Continent\":[\"ASI\",\"ASI\",\"NAM\",\"ASI\",\"LAT\",\"ASI\",\"ASI\",\"AF\",\"EUR\",\"ASI\",\"LAT\",\"ASI\",\"ASI\",\"EUR\",\"AF\",\"AF\",\"ASI\",\"ASI\",\"ASI\",\"AF\",\"EUR\",\"EUR\",\"EUR\",\"ASI\",\"AF\",\"ASI\",\"EUR\",\"EUR\",\"LAT\",\"AF\",\"AF\",\"LAT\",\"AF\",\"EUR\",\"AF\",\"NAM\",\"AF\",\"AF\",\"ASI\",\"ASI\",\"LAT\",\"ASI\",\"LAT\",\"ASI\",\"ASI\",\"ASI\",\"ASI\",\"AF\",\"ASI\",\"AF\",\"EUR\",\"AF\",\"ASI\",\"ASI\",\"AF\",\"AF\",\"AF\",\"LAT\",\"EUR\",\"ASI\",\"AF\",\"AF\",\"AF\",\"ASI\",\"LAT\",\"LAT\",\"AF\",\"AF\",\"AF\",\"AF\",\"EUR\",\"LAT\",\"AF\",\"EUR\",\"EUR\",\"EUR\",\"AF\",\"EUR\",\"LAT\",\"AF\",\"AF\",\"LAT\",\"EUR\",\"EUR\",\"ASI\",\"AF\",\"AF\",\"EUR\",\"EUR\",\"EUR\",\"LAT\",\"ASI\",\"ASI\",\"OCE\",\"AF\",\"AF\",\"LAT\",\"ASI\",\"LAT\",\"ASI\",\"LAT\",\"AF\",\"EUR\",\"EUR\",\"ASI\",\"ASI\",\"AF\",\"ASI\",\"EUR\",\"LAT\",\"ASI\",\"EUR\",\"EUR\",\"AF\",\"ASI\",\"OCE\",\"ASI\",\"AF\",\"EUR\",\"EUR\",\"LAT\",\"EUR\",\"LAT\",\"AF\",\"EUR\",\"ASI\",\"ASI\",\"ASI\",\"LAT\",\"ASI\",\"EUR\",\"AF\",\"AF\",\"EUR\",\"EUR\",\"AF\",\"AF\",\"AF\",\"AF\",\"EUR\",\"LAT\",\"ASI\",\"AF\",\"AF\",\"EUR\",\"ASI\",\"ASI\",\"AF\",\"AF\",\"ASI\",\"LAT\",\"AF\",\"EUR\",\"ASI\",\"LAT\",\"EUR\",\"ASI\",\"OCE\",\"OCE\",\"AF\",\"LAT\",\"ASI\",\"NaN\",\"NaN\",\"NaN\",\"NaN\",\"NaN\"],\"Country\":[\"Chine\",\"Inde\",\"USA\",\"Indon\\u00e9sie\",\"Br\\u00e9sil\",\"Pakistan\",\"Bangladesh\",\"Nig\\u00e9ria\",\"F\\u00e9d\\u00e9ration de Russie\",\"Japan\",\"Mexique\",\"Philippines\",\"Viet Nam\",\"Germany\",\"Egypte\",\"Ethiopie\",\"Turquie\",\"Iran, R\\u00e9publique islamique d'\",\"Tha\\u00eflande\",\"R\\u00e9p. D\\u00e9mocratique du Congo\",\"France\",\"UK\",\"Italie\",\"Myanmar\",\"Afrique du Sud\",\"South Korea\",\"Ukraine\",\"Espagne\",\"Colombie\",\"R\\u00e9publique-Unie de Tanzanie\",\"Soudan\",\"Argentine\",\"Kenya\",\"Pologne\",\"Alg\\u00e9rie\",\"Canada\",\"Ouganda\",\"Maroc\",\"Iraq\",\"Afghanistan\",\"P\\u00e9rou\",\"N\\u00e9pal\",\"Venezuela\",\"Ouzb\\u00e9kistan\",\"Malaisie\",\"Arabie saoudite\",\"R\\u00e9p. populaire d\\u00e9mocratique de Cor\\u00e9e\",\"Ghana\",\"Y\\u00e9men\",\"Mozambique\",\"Roumanie\",\"C\\u00f4te d'Ivoire\",\"R\\u00e9publique arabe syrienne\",\"Sri Lanka\",\"Madagascar\",\"Cameroun\",\"Angola\",\"Chili\",\"Netherlands\",\"Kazakhstan\",\"Burkina Faso\",\"Malawi\",\"Niger\",\"Cambodge\",\"Guatemala\",\"Equateur\",\"Mali\",\"Zambie\",\"Zimbabwe\",\"S\\u00e9n\\u00e9gal\",\"Gr\\u00e8ce\",\"Cuba\",\"Tchad\",\"Belgium\",\"Portugal\",\"Czech rep\",\"Tunisie\",\"Hongrie\",\"R\\u00e9publique dominicaine\",\"Guin\\u00e9e\",\"Rwanda\",\"Bolivie\",\"B\\u00e9larus\",\"Sweden\",\"Azerba\\u00efdjan\",\"B\\u00e9nin\",\"Burundi\",\"Switzerland\",\"Bulgarie\",\"Serbie\",\"Honduras\",\"Israel\",\"Tadjikistan\",\"Papouasie-Nouvelle-Guin\\u00e9e\",\"Togo\",\"Jamahiriya arabe libyenne\",\"Paraguay\",\"R\\u00e9p. d\\u00e9mocratique populaire lao\",\"El Salvador\",\"Jordanie\",\"Nicaragua\",\"Sierra Leone\",\"Denmark\",\"Finland\",\"Kirghizistan\",\"Turkm\\u00e9nistan\",\"Erythr\\u00e9e\",\"Singapour\",\"Norway\",\"Costa Rica\",\"Emirats arabes unis\",\"Croatie\",\"Ireland\",\"R\\u00e9publique centrafricaine\",\"G\\u00e9orgie\",\"New Zealand\",\"Liban\",\"Lib\\u00e9ria\",\"Bosnie-Herz\\u00e9govine\",\"R\\u00e9publique de Moldova\",\"Panama\",\"Lituanie\",\"Uruguay\",\"Mauritanie\",\"Albanie\",\"Arm\\u00e9nie\",\"Oman\",\"Kowe\\u00eft\",\"Jama\\u00efque\",\"Mongolie\",\"Lettonie\",\"Namibie\",\"Lesotho\",\"L'ex-R\\u00e9p. yougoslave de Mac\\u00e9doine\",\"Slov\\u00e9nie\",\"Botswana\",\"Gambie\",\"Guin\\u00e9e-Bissau\",\"Gabon\",\"Estonie\",\"Trinit\\u00e9-et-Tobago\",\"Qatar\",\"Maurice\",\"Swaziland\",\"Chypre\",\"Bahre\\u00efn\",\"Bhoutan\",\"Guin\\u00e9e \\u00e9quatoriale\",\"Comores\",\"Macao, Chine\",\"Suriname\",\"Cap-Vert\",\"Malte\",\"Brun\\u00e9i Darussalam\",\"Bahamas\",\"Iceland\",\"Maldives\",\"Vanuatu\",\"Samoa\",\"Sao Tom\\u00e9-et-Principe\",\"Aruba\",\"Tonga\",\"Antigua-et-Barbuda\",\"Antilles n\\u00e9erlandaises\",\"Iles Ca\\u00efmanes\",\"Seychelles\",\"Territoires autonomes palestiniens\"],\"female_literacy\":{\"__ndarray__\":\"AAAAAACgVkBmZmZmZmZJQAAAAAAAwFhAMzMzMzMzVkDNzMzMzIxWQAAAAAAAAERAZmZmZmbmSEBmZmZmZmZIQJqZmZmZ2VhAAAAAAADAWEAAAAAAAOBWQJqZmZmZeVdAzczMzMyMVkAAAAAAAMBYQGZmZmZm5kxAzczMzMzMNkAzMzMzM1NUQM3MzMzMTFNAAAAAAADgVkDNzMzMzAxMQAAAAAAAwFhAAAAAAADAWEAAAAAAAKBYQM3MzMzMTFZAZmZmZmYGVkBmZmZmZiZYQGZmZmZm5lhAmpmZmZk5WECamZmZmVlXQDMzMzMzk1BAzczMzMzMTUDNzMzMzGxYQDMzMzMzs1RAMzMzMzPTWEAzMzMzM/NPQAAAAAAAwFhAMzMzMzOzUEDNzMzMzAxGQM3MzMzMTFFAMzMzMzMzKUBmZmZmZiZVQDMzMzMzs0ZAmpmZmZm5V0CamZmZmblYQDMzMzMzc1ZAzczMzMwMVEAAAAAAAABZQGZmZmZmpk1AZmZmZmZmRUDNzMzMzAxEQJqZmZmZOVhAZmZmZmYmRkDNzMzMzExTQGZmZmZmRlZAMzMzMzNTUEAzMzMzM/NQQAAAAAAAgExAzczMzMysWEAAAAAAAMBYQAAAAAAA4FhAmpmZmZmZNUAzMzMzM3NQQDMzMzMzMy5AmpmZmZm5UUDNzMzMzCxRQM3MzMzMbFRAMzMzMzMzMkAAAAAAAIBOQDMzMzMzM1ZAAAAAAACAQECamZmZmflXQDMzMzMz81hAZmZmZmbmNUAAAAAAAMBYQJqZmZmZOVdAAAAAAADAWEAAAAAAAMBRQJqZmZmZuVhAMzMzMzMTVkBmZmZmZmY6QGZmZmZmhlBAAAAAAACAVUDNzMzMzOxYQAAAAAAAwFhAzczMzMzMWECamZmZmRk8QDMzMzMz801AAAAAAADAWECamZmZmXlYQM3MzMzMDFhAAAAAAADgVECamZmZmflXQAAAAAAA4FhAzczMzMzMS0CamZmZmdlKQDMzMzMzU1RAAAAAAABgV0CamZmZmZlPQJqZmZmZWVRAmpmZmZk5VkCamZmZmXlTQGZmZmZm5jxAAAAAAADAWEAAAAAAAABZQGZmZmZmxlhAMzMzMzPTWEAAAAAAAEBLQGZmZmZm5lZAAAAAAAAAWUDNzMzMzAxYQAAAAAAA4FZAAAAAAACAWEAAAAAAAMBYQM3MzMzMjERAzczMzMzsWEAAAAAAAMBYQAAAAAAAgFVAAAAAAACASkCamZmZmflXQDMzMzMzc1hAMzMzMzMzV0DNzMzMzOxYQAAAAAAAoFhAAAAAAADASEDNzMzMzKxYQJqZmZmZ2VhAmpmZmZk5VEBmZmZmZkZXQDMzMzMzs1ZAMzMzMzNzWEAzMzMzM/NYQM3MzMzM7FVAZmZmZmbGV0CamZmZmdlXQM3MzMzM7FhAAAAAAADgVEBmZmZmZiZBQAAAAAAAQEJAzczMzMzMVEAzMzMzM/NYQM3MzMzMjFhAmpmZmZmZVkAzMzMzMzNVQGZmZmZmZlVAzczMzMwsWECamZmZmVlWQJqZmZmZWUNAZmZmZmZGVkAzMzMzM/NQQM3MzMzMrFZAmpmZmZkZVkAzMzMzM9NTQAAAAAAAYFdAMzMzMzNTV0AAAAAAACBYQAAAAAAAwFhAmpmZmZmZWEAAAAAAAOBTQAAAAAAAoFhAMzMzMzPTVEAAAAAAAIBYQGZmZmZmxlhAmpmZmZnZWEAzMzMzMxNYQAAAAAAAwFhAMzMzMzMTV0CamZmZmblWQA==\",\"dtype\":\"float64\",\"shape\":[167]},\"fertility\":{\"__ndarray__\":\"6Pup8dJN/D/b+X5qvHQFQARWDi2ynQBAdJMYBFYOAUAIrBxaZDv9P2Dl0CLb+Q5A6Pup8dJNAkD91HjpJrEUQH0/NV66SfY//tR46SYx9D9zaJHtfD8BQGmR7Xw/NQhA3SQGgZVDAEDJdr6fGi/1P7tJDAIrhwZA8tJNYhDYFEDNzMzMzMwAQOXQItv5fvw/8/3UeOkm/T9uEoPAyqEXQH9qvHSTGP4/bhKDwMqh/T89CtejcD32P3Noke18PwJACtejcD0KBEAv3SQGgZXzPy2yne+nxvU/sXJoke189z8IrBxaZDsDQBSuR+F6FBZACKwcWmQ7EEBjEFg5tMgBQFYOLbKdbxNAE4PAyqFF9D8j2/l+arwCQN0kBoGVQ/k/arx0kxgEGUB56SYxCKwCQOSlm8QgsA9AhetRuB4FGkA9CtejcD0EQC/dJAaBlQZAlkOLbOf7A0CWQ4ts5/sBQKrx0k1iEARAUrgehetRCEBEi2zn+6n9P+F6FK5H4RBAZmZmZmZmFECR7Xw/Nd4TQDMzMzMzM/U/dJMYBFYOEkD8qfHSTWIJQBFYObTIdgJAexSuR+F6EkBEi2zn+ykSQEA1XrpJjBZAN4lBYOXQ/j/AyqFFtvP7PycxCKwcWgJAd76fGi9dF0BSuB6F69EVQC2yne+nRhxArBxaZDvfBkDfT42XbhIQQLTIdr6fGgRAH4XrUbieFUCmm8QgsPIWQIGVQ4ts5wpAj8L1KFyPE0ApXI/C9Sj2PxSuR+F6FPg/bef7qfFSGEAlBoGVQ4v8P0A1XrpJDPY/MzMzMzMz9z/b+X5qvHT9P+xRuB6F6/U/TDeJQWDlBEA3iUFg5VAVQFK4HoXrURVALIcW2c73CkDl0CLb+X70P1YOLbKd7/0/001iEFg5AUBPjZduEoMVQM3MzMzMzBFAXI/C9Shc9z9g5dAi2/n2P5duEoPAyvk/hetRuB6FCUBqvHSTGAQGQM3MzMzMzApACtejcD0KEEBEi2zn+6kQQIlBYOXQIgVAN4lBYOXQB0BSuB6F61ELQFyPwvUoXAJA8/3UeOkmCEARWDm0yHYFQClcj8L1qBRAL90kBoGV/T/GSzeJQWD9P7+fGi/dJARAcT0K16NwA0DqJjEIrBwSQGiR7Xw/NfQ/KVyPwvUo/j9KDAIrhxb/P/yp8dJNYv4/30+Nl24S9z9zaJHtfD//P30/NV66yRJAHFpkO99P+T8zMzMzMzMAQNv5fmq8dP0/JQaBlUMLFEAxCKwcWmTzP9R46SYxCPg/VOOlm8QgBECsHFpkO9/1P4PAyqFFtgBAWmQ730+NEUBEi2zn+6n9PyyHFtnO9/s/bef7qfHSB0Cd76fGSzcBQEw3iUFg5QJAAyuHFtnO/z83iUFg5dD2P1K4HoXrUQpA6SYxCKwcCkBg5dAi2/n2P30/NV66SfY/+n5qvHSTBkDGSzeJQeATQIlBYOXQohZA7FG4HoXrCUBKDAIrhxb7PyYxCKwcWvo/4XoUrkfhAkB46SYxCKz8P5qZmZmZmQtAqMZLN4lB+D93vp8aL90BQBsv3SQGgQRAbhKDwMohFUAUrkfhehQPQLbz/dR46e4/lkOLbOf7AkDo+6nx0k0FQGq8dJMYBPQ/0SLb+X5qAEAshxbZzvcKQFg5tMh2vgBAAAAAAAAAAECq8dJNYhAPQDeJQWDl0A5AWDm0yHa+DUCDwMqhRbb7PwaBlUOLbA9A738soIUHB0DvfyyghQcHQO9/LKCFBwdA738soIUHB0DvfyyghQcHQA==\",\"dtype\":\"float64\",\"shape\":[167]},\"index\":[0,1,2,3,4,5,6,7,8,9,10,11,12,13,14,15,16,17,18,19,20,21,22,23,24,25,26,27,28,29,30,31,32,33,34,35,36,37,38,39,40,41,42,43,44,45,46,47,48,49,50,51,52,53,54,55,56,57,58,59,60,61,62,63,64,65,66,67,68,69,70,71,72,73,74,75,76,77,78,79,80,81,82,83,84,85,86,87,88,89,90,91,92,93,94,95,96,97,98,99,100,101,102,103,104,105,106,107,108,109,110,111,112,113,114,115,116,117,118,119,120,121,122,123,124,125,126,127,128,129,130,131,132,133,134,135,136,137,138,139,140,141,142,143,144,145,146,147,148,149,150,151,152,153,154,155,156,157,158,159,160,161,162,163,164,165,166],\"population\":{\"__ndarray__\":\"AAAAZii900GQFOkAn/zQQQAAAGCWH7JBAAAAdAUaq0EAAABkgeKmQe+OPP5RzaNBAAAAANESo0EAAAC8oQaiQQAAAGD466BBAAAAAG9ynkH67buGHVuZQQAAAFRuipVBAAAAdOONlEEAAABEmpOTQQAAABAGcJNBAAAAaFs+k0EAAABQXp+RQToXwIbdJ5FBAAAAPPAQkEEAAADY06OOQQAAAMA5so1BAAAAcNVIjUEAAACYu4eMQQAAAFgsoodBAAAAwDw3h0EAAADAeC2HQQAAAMDADoZBAAAAIAC5hUEAAAAApHaFQQAAAJgGQoRBAAAAWFS3g0EAAAAghwSDQQAAAAAYfIJBAAAA+AUugkEAAACQ+WOAQQAAAICqxH9BAAAAELowfkEAAAAANyR+QRITrwTXSX1BsGr1rzqte0EAAADANYB7QQAAAGCTeXtBAAAAgBGkekEAAABAYgx6QQAAABBMw3lB9wa/XgOBd0EAAAAQILd2QQAAAPDoRHZBAAAA0BbbdUEAAABQfFh1QQAAAGBZhHRBAAAAYCyjc0EolOqduqBzQSDBaMXyOHNBAAAA0ME5ckEAAAAQQDRyQQAAAMCTL3FBAAAAAIcGcEEAAAAgE15vQQAAACC65W1BAAAAgGsObUEAAADAHFFsQQAAAMDXC2xBAAAAAFvGa0EAAAAArhpqQQAAAAC6tmlBAAAAAPk7aEEAAABgNxJoQQAAAOBjxWdBAAAAoH1KZ0EAAADA3G5lQQAAAOAPX2VBAAAAYPDQZEEAAAAgumxkQQAAAKC5QmRBAAAAAALiY0EAAAAA37JjQQAAAIB1JWNBAAAA4Lj7YkEAAADgS8FiQQAAAMBuimJBAAAAIHR9YkEAAABA+nZiQQAAAKDGlWFBAAAAgFSOYEEAAADAiIVgQQAAAIADzV5BAAAAwG4sXUEAAADAuBRdQQAAAEDzCVxBAAAAQEHrW0EAAAAAgOFbQQAAAMDcE1pBAAAAgK0WWUEAAABAO6NYQQAAAECpAlhBAAAAwKfLV0EAAABA56tXQQAAAIAlZldBXanGt56HVkEAAABAf55VQQAAAECLNVVBAAAAQN30VEEAAADA3URUQQAAAAAzIlRBAAAAgGg9U0EAAABAZ8tSQQAAAAD6dVJBAAAAAHUwUkEAAACANT1RQQAAAMDRG1FBAAAAABTqUEEAAADA8uFQQQAAAMCPjVBBAAAAwBBuUEEAAAAA2UhQQQAAAADv/k9BAAAAAPzwTEEAAAAAVslMQQAAAIBsuEtBAAAAgFPuSUEAAACA0Z5JQQAAAADSb0lBAAAAgGGHSEEAAACAPftHQQAAAIDveUdBAAAAgChARUGBGHRrNNBEQQAAAABwgERBAAAAAKAmREEAAAAA90lBQQAAAADfP0BBAAAAAJVFP0EAAAAA/iU/QQAAAADE1z5BAAAAAGJQPUEAAAAAKFU5QQAAAAAWCjhBAAAAAN8YNkEAAAAAA3U0QQAAAACMWDRBAAAAAF6LM0EAAAAAdlwzQQAAAADa0TFBAAAAAMRRKkEAAAAAQqsnQQAAAACK9SRBAAAAAPodJEGoYCyg5qMjQQAAAADEDiBBAAAAANBwH0EAAAAAwG8eQQAAAAC4JBlBAAAAAGDxF0EAAAAAEJwUQQAAAACYXxNBAAAAAAyeEkEAAAAAUIwMQQAAAACo1QVBAAAAAHCNA0EAAAAA8L75QAAAAADgSPlAOzR8P69mg0E7NHw/r2aDQTs0fD+vZoNBOzR8P69mg0E7NHw/r2aDQQ==\",\"dtype\":\"float64\",\"shape\":[167]}},\"selected\":{\"id\":\"5912\",\"type\":\"Selection\"},\"selection_policy\":{\"id\":\"5911\",\"type\":\"UnionRenderers\"}},\"id\":\"5848\",\"type\":\"ColumnDataSource\"},{\"attributes\":{},\"id\":\"5875\",\"type\":\"SaveTool\"},{\"attributes\":{\"fill_alpha\":{\"value\":0.1},\"fill_color\":{\"value\":\"#1f77b4\"},\"line_alpha\":{\"value\":0.1},\"line_color\":{\"value\":\"#1f77b4\"},\"size\":{\"units\":\"screen\",\"value\":10},\"x\":{\"field\":\"fertility\"},\"y\":{\"field\":\"female_literacy\"}},\"id\":\"5902\",\"type\":\"Circle\"},{\"attributes\":{\"column_name\":\"Continent\",\"group\":\"LAT\"},\"id\":\"5849\",\"type\":\"GroupFilter\"},{\"attributes\":{},\"id\":\"5876\",\"type\":\"ResetTool\"},{\"attributes\":{\"label\":{\"value\":\"Latin America\"},\"renderers\":[{\"id\":\"5890\",\"type\":\"GlyphRenderer\"}]},\"id\":\"5899\",\"type\":\"LegendItem\"},{\"attributes\":{\"fill_color\":{\"value\":\"red\"},\"line_color\":{\"value\":\"red\"},\"size\":{\"units\":\"screen\",\"value\":10},\"x\":{\"field\":\"fertility\"},\"y\":{\"field\":\"female_literacy\"}},\"id\":\"5888\",\"type\":\"Circle\"},{\"attributes\":{\"filters\":[{\"id\":\"5849\",\"type\":\"GroupFilter\"}],\"source\":{\"id\":\"5848\",\"type\":\"ColumnDataSource\"}},\"id\":\"5850\",\"type\":\"CDSView\"},{\"attributes\":{\"callback\":null},\"id\":\"5854\",\"type\":\"DataRange1d\"},{\"attributes\":{},\"id\":\"5896\",\"type\":\"BasicTickFormatter\"},{\"attributes\":{},\"id\":\"5911\",\"type\":\"UnionRenderers\"},{\"attributes\":{},\"id\":\"5912\",\"type\":\"Selection\"},{\"attributes\":{\"label\":{\"value\":\"Africa\"},\"renderers\":[{\"id\":\"5903\",\"type\":\"GlyphRenderer\"}]},\"id\":\"5913\",\"type\":\"LegendItem\"},{\"attributes\":{\"active_drag\":\"auto\",\"active_inspect\":\"auto\",\"active_multi\":null,\"active_scroll\":\"auto\",\"active_tap\":\"auto\",\"tools\":[{\"id\":\"5872\",\"type\":\"PanTool\"},{\"id\":\"5873\",\"type\":\"WheelZoomTool\"},{\"id\":\"5874\",\"type\":\"BoxZoomTool\"},{\"id\":\"5875\",\"type\":\"SaveTool\"},{\"id\":\"5876\",\"type\":\"ResetTool\"},{\"id\":\"5877\",\"type\":\"HelpTool\"}]},\"id\":\"5878\",\"type\":\"Toolbar\"},{\"attributes\":{\"callback\":null},\"id\":\"5856\",\"type\":\"DataRange1d\"},{\"attributes\":{},\"id\":\"5858\",\"type\":\"LinearScale\"},{\"attributes\":{},\"id\":\"5872\",\"type\":\"PanTool\"},{\"attributes\":{\"axis_label\":\"fertility (children per woman)\",\"formatter\":{\"id\":\"5894\",\"type\":\"BasicTickFormatter\"},\"plot\":{\"id\":\"5853\",\"subtype\":\"Figure\",\"type\":\"Plot\"},\"ticker\":{\"id\":\"5863\",\"type\":\"BasicTicker\"}},\"id\":\"5862\",\"type\":\"LinearAxis\"},{\"attributes\":{\"plot\":{\"id\":\"5853\",\"subtype\":\"Figure\",\"type\":\"Plot\"},\"ticker\":{\"id\":\"5863\",\"type\":\"BasicTicker\"}},\"id\":\"5866\",\"type\":\"Grid\"},{\"attributes\":{},\"id\":\"5873\",\"type\":\"WheelZoomTool\"},{\"attributes\":{},\"id\":\"5860\",\"type\":\"LinearScale\"},{\"attributes\":{\"axis_label\":\"female literacy (% population)\",\"formatter\":{\"id\":\"5896\",\"type\":\"BasicTickFormatter\"},\"plot\":{\"id\":\"5853\",\"subtype\":\"Figure\",\"type\":\"Plot\"},\"ticker\":{\"id\":\"5868\",\"type\":\"BasicTicker\"}},\"id\":\"5867\",\"type\":\"LinearAxis\"},{\"attributes\":{\"plot\":null,\"text\":\"\"},\"id\":\"5891\",\"type\":\"Title\"},{\"attributes\":{\"dimension\":1,\"plot\":{\"id\":\"5853\",\"subtype\":\"Figure\",\"type\":\"Plot\"},\"ticker\":{\"id\":\"5868\",\"type\":\"BasicTicker\"}},\"id\":\"5871\",\"type\":\"Grid\"},{\"attributes\":{},\"id\":\"5868\",\"type\":\"BasicTicker\"},{\"attributes\":{\"background_fill_color\":{\"value\":\"lightgray\"},\"items\":[{\"id\":\"5899\",\"type\":\"LegendItem\"},{\"id\":\"5913\",\"type\":\"LegendItem\"}],\"location\":\"bottom_left\",\"plot\":{\"id\":\"5853\",\"subtype\":\"Figure\",\"type\":\"Plot\"}},\"id\":\"5898\",\"type\":\"Legend\"},{\"attributes\":{},\"id\":\"5863\",\"type\":\"BasicTicker\"},{\"attributes\":{\"data_source\":{\"id\":\"5848\",\"type\":\"ColumnDataSource\"},\"glyph\":{\"id\":\"5901\",\"type\":\"Circle\"},\"hover_glyph\":null,\"muted_glyph\":null,\"nonselection_glyph\":{\"id\":\"5902\",\"type\":\"Circle\"},\"selection_glyph\":null,\"view\":{\"id\":\"5852\",\"type\":\"CDSView\"}},\"id\":\"5903\",\"type\":\"GlyphRenderer\"},{\"attributes\":{\"fill_alpha\":{\"value\":0.1},\"fill_color\":{\"value\":\"#1f77b4\"},\"line_alpha\":{\"value\":0.1},\"line_color\":{\"value\":\"#1f77b4\"},\"size\":{\"units\":\"screen\",\"value\":10},\"x\":{\"field\":\"fertility\"},\"y\":{\"field\":\"female_literacy\"}},\"id\":\"5889\",\"type\":\"Circle\"},{\"attributes\":{},\"id\":\"5877\",\"type\":\"HelpTool\"},{\"attributes\":{\"overlay\":{\"id\":\"5880\",\"type\":\"BoxAnnotation\"}},\"id\":\"5874\",\"type\":\"BoxZoomTool\"},{\"attributes\":{\"data_source\":{\"id\":\"5848\",\"type\":\"ColumnDataSource\"},\"glyph\":{\"id\":\"5888\",\"type\":\"Circle\"},\"hover_glyph\":null,\"muted_glyph\":null,\"nonselection_glyph\":{\"id\":\"5889\",\"type\":\"Circle\"},\"selection_glyph\":null,\"view\":{\"id\":\"5850\",\"type\":\"CDSView\"}},\"id\":\"5890\",\"type\":\"GlyphRenderer\"}],\"root_ids\":[\"5853\"]},\"title\":\"Bokeh Application\",\"version\":\"1.0.2\"}};\n",
       "  var render_items = [{\"docid\":\"b434ed6f-936b-4ec1-a3d6-0642d35f623d\",\"roots\":{\"5853\":\"3bd24fd2-2df4-4e9d-a539-1123e214e456\"}}];\n",
       "  root.Bokeh.embed.embed_items_notebook(docs_json, render_items);\n",
       "\n",
       "  }\n",
       "  if (root.Bokeh !== undefined) {\n",
       "    embed_document(root);\n",
       "  } else {\n",
       "    var attempts = 0;\n",
       "    var timer = setInterval(function(root) {\n",
       "      if (root.Bokeh !== undefined) {\n",
       "        embed_document(root);\n",
       "        clearInterval(timer);\n",
       "      }\n",
       "      attempts++;\n",
       "      if (attempts > 100) {\n",
       "        console.log(\"Bokeh: ERROR: Unable to run BokehJS code because BokehJS library is missing\");\n",
       "        clearInterval(timer);\n",
       "      }\n",
       "    }, 10, root)\n",
       "  }\n",
       "})(window);"
      ],
      "application/vnd.bokehjs_exec.v0+json": ""
     },
     "metadata": {
      "application/vnd.bokehjs_exec.v0+json": {
       "id": "5853"
      }
     },
     "output_type": "display_data"
    }
   ],
   "source": [
    "# Assign the legend to the bottom left: p.legend.location\n",
    "p.legend.location='bottom_left'\n",
    "\n",
    "# Fill the legend background with the color 'lightgray': p.legend.background_fill_color\n",
    "p.legend.background_fill_color='lightgray'\n",
    "\n",
    "# Specify the name of the output_file and show the result\n",
    "output_file('fert_lit_groups.html')\n",
    "show(p)"
   ]
  },
  {
   "cell_type": "markdown",
   "metadata": {},
   "source": [
    "### Adding a hover tooltip\n",
    "Working with the `HoverTool` is easy for data stored in a `ColumnDataSource`.\n",
    "\n",
    "In this exercise, you will create a `HoverTool` object and display the country for each `circle` glyph in the figure that you created in the last exercise. This is done by assigning the tooltips keyword argument to a `list-of-tuples` specifying the `label` and the `column` of values from the `ColumnDataSource` using the `@` operator.\n",
    "\n",
    "The figure object has been prepared for you as `p`.\n",
    "\n",
    "After you have added the hover tooltip to the figure, be sure to interact with it by hovering your mouse over each point to see which country it represents."
   ]
  },
  {
   "cell_type": "code",
   "execution_count": 24,
   "metadata": {},
   "outputs": [
    {
     "data": {
      "text/html": [
       "\n",
       "\n",
       "\n",
       "\n",
       "\n",
       "\n",
       "  <div class=\"bk-root\" id=\"af7b253a-01fd-4177-8d5a-336bbd4dffae\"></div>\n"
      ]
     },
     "metadata": {},
     "output_type": "display_data"
    },
    {
     "data": {
      "application/javascript": [
       "(function(root) {\n",
       "  function embed_document(root) {\n",
       "    \n",
       "  var docs_json = {\"b537e676-3f01-44d8-a278-53df4ef6b1c7\":{\"roots\":{\"references\":[{\"attributes\":{\"below\":[{\"id\":\"5862\",\"type\":\"LinearAxis\"}],\"left\":[{\"id\":\"5867\",\"type\":\"LinearAxis\"}],\"renderers\":[{\"id\":\"5862\",\"type\":\"LinearAxis\"},{\"id\":\"5866\",\"type\":\"Grid\"},{\"id\":\"5867\",\"type\":\"LinearAxis\"},{\"id\":\"5871\",\"type\":\"Grid\"},{\"id\":\"5880\",\"type\":\"BoxAnnotation\"},{\"id\":\"5898\",\"type\":\"Legend\"},{\"id\":\"5890\",\"type\":\"GlyphRenderer\"},{\"id\":\"5903\",\"type\":\"GlyphRenderer\"}],\"title\":{\"id\":\"5891\",\"type\":\"Title\"},\"toolbar\":{\"id\":\"5878\",\"type\":\"Toolbar\"},\"x_range\":{\"id\":\"5854\",\"type\":\"DataRange1d\"},\"x_scale\":{\"id\":\"5858\",\"type\":\"LinearScale\"},\"y_range\":{\"id\":\"5856\",\"type\":\"DataRange1d\"},\"y_scale\":{\"id\":\"5860\",\"type\":\"LinearScale\"}},\"id\":\"5853\",\"subtype\":\"Figure\",\"type\":\"Plot\"},{\"attributes\":{},\"id\":\"5894\",\"type\":\"BasicTickFormatter\"},{\"attributes\":{\"fill_color\":{\"value\":\"blue\"},\"line_color\":{\"value\":\"blue\"},\"size\":{\"units\":\"screen\",\"value\":10},\"x\":{\"field\":\"fertility\"},\"y\":{\"field\":\"female_literacy\"}},\"id\":\"5901\",\"type\":\"Circle\"},{\"attributes\":{\"filters\":[{\"id\":\"5851\",\"type\":\"GroupFilter\"}],\"source\":{\"id\":\"5848\",\"type\":\"ColumnDataSource\"}},\"id\":\"5852\",\"type\":\"CDSView\"},{\"attributes\":{\"bottom_units\":\"screen\",\"fill_alpha\":{\"value\":0.5},\"fill_color\":{\"value\":\"lightgrey\"},\"left_units\":\"screen\",\"level\":\"overlay\",\"line_alpha\":{\"value\":1.0},\"line_color\":{\"value\":\"black\"},\"line_dash\":[4,4],\"line_width\":{\"value\":2},\"plot\":null,\"render_mode\":\"css\",\"right_units\":\"screen\",\"top_units\":\"screen\"},\"id\":\"5880\",\"type\":\"BoxAnnotation\"},{\"attributes\":{\"column_name\":\"Continent\",\"group\":\"AF\"},\"id\":\"5851\",\"type\":\"GroupFilter\"},{\"attributes\":{\"callback\":null,\"data\":{\"Continent\":[\"ASI\",\"ASI\",\"NAM\",\"ASI\",\"LAT\",\"ASI\",\"ASI\",\"AF\",\"EUR\",\"ASI\",\"LAT\",\"ASI\",\"ASI\",\"EUR\",\"AF\",\"AF\",\"ASI\",\"ASI\",\"ASI\",\"AF\",\"EUR\",\"EUR\",\"EUR\",\"ASI\",\"AF\",\"ASI\",\"EUR\",\"EUR\",\"LAT\",\"AF\",\"AF\",\"LAT\",\"AF\",\"EUR\",\"AF\",\"NAM\",\"AF\",\"AF\",\"ASI\",\"ASI\",\"LAT\",\"ASI\",\"LAT\",\"ASI\",\"ASI\",\"ASI\",\"ASI\",\"AF\",\"ASI\",\"AF\",\"EUR\",\"AF\",\"ASI\",\"ASI\",\"AF\",\"AF\",\"AF\",\"LAT\",\"EUR\",\"ASI\",\"AF\",\"AF\",\"AF\",\"ASI\",\"LAT\",\"LAT\",\"AF\",\"AF\",\"AF\",\"AF\",\"EUR\",\"LAT\",\"AF\",\"EUR\",\"EUR\",\"EUR\",\"AF\",\"EUR\",\"LAT\",\"AF\",\"AF\",\"LAT\",\"EUR\",\"EUR\",\"ASI\",\"AF\",\"AF\",\"EUR\",\"EUR\",\"EUR\",\"LAT\",\"ASI\",\"ASI\",\"OCE\",\"AF\",\"AF\",\"LAT\",\"ASI\",\"LAT\",\"ASI\",\"LAT\",\"AF\",\"EUR\",\"EUR\",\"ASI\",\"ASI\",\"AF\",\"ASI\",\"EUR\",\"LAT\",\"ASI\",\"EUR\",\"EUR\",\"AF\",\"ASI\",\"OCE\",\"ASI\",\"AF\",\"EUR\",\"EUR\",\"LAT\",\"EUR\",\"LAT\",\"AF\",\"EUR\",\"ASI\",\"ASI\",\"ASI\",\"LAT\",\"ASI\",\"EUR\",\"AF\",\"AF\",\"EUR\",\"EUR\",\"AF\",\"AF\",\"AF\",\"AF\",\"EUR\",\"LAT\",\"ASI\",\"AF\",\"AF\",\"EUR\",\"ASI\",\"ASI\",\"AF\",\"AF\",\"ASI\",\"LAT\",\"AF\",\"EUR\",\"ASI\",\"LAT\",\"EUR\",\"ASI\",\"OCE\",\"OCE\",\"AF\",\"LAT\",\"ASI\",\"NaN\",\"NaN\",\"NaN\",\"NaN\",\"NaN\"],\"Country\":[\"Chine\",\"Inde\",\"USA\",\"Indon\\u00e9sie\",\"Br\\u00e9sil\",\"Pakistan\",\"Bangladesh\",\"Nig\\u00e9ria\",\"F\\u00e9d\\u00e9ration de Russie\",\"Japan\",\"Mexique\",\"Philippines\",\"Viet Nam\",\"Germany\",\"Egypte\",\"Ethiopie\",\"Turquie\",\"Iran, R\\u00e9publique islamique d'\",\"Tha\\u00eflande\",\"R\\u00e9p. D\\u00e9mocratique du Congo\",\"France\",\"UK\",\"Italie\",\"Myanmar\",\"Afrique du Sud\",\"South Korea\",\"Ukraine\",\"Espagne\",\"Colombie\",\"R\\u00e9publique-Unie de Tanzanie\",\"Soudan\",\"Argentine\",\"Kenya\",\"Pologne\",\"Alg\\u00e9rie\",\"Canada\",\"Ouganda\",\"Maroc\",\"Iraq\",\"Afghanistan\",\"P\\u00e9rou\",\"N\\u00e9pal\",\"Venezuela\",\"Ouzb\\u00e9kistan\",\"Malaisie\",\"Arabie saoudite\",\"R\\u00e9p. populaire d\\u00e9mocratique de Cor\\u00e9e\",\"Ghana\",\"Y\\u00e9men\",\"Mozambique\",\"Roumanie\",\"C\\u00f4te d'Ivoire\",\"R\\u00e9publique arabe syrienne\",\"Sri Lanka\",\"Madagascar\",\"Cameroun\",\"Angola\",\"Chili\",\"Netherlands\",\"Kazakhstan\",\"Burkina Faso\",\"Malawi\",\"Niger\",\"Cambodge\",\"Guatemala\",\"Equateur\",\"Mali\",\"Zambie\",\"Zimbabwe\",\"S\\u00e9n\\u00e9gal\",\"Gr\\u00e8ce\",\"Cuba\",\"Tchad\",\"Belgium\",\"Portugal\",\"Czech rep\",\"Tunisie\",\"Hongrie\",\"R\\u00e9publique dominicaine\",\"Guin\\u00e9e\",\"Rwanda\",\"Bolivie\",\"B\\u00e9larus\",\"Sweden\",\"Azerba\\u00efdjan\",\"B\\u00e9nin\",\"Burundi\",\"Switzerland\",\"Bulgarie\",\"Serbie\",\"Honduras\",\"Israel\",\"Tadjikistan\",\"Papouasie-Nouvelle-Guin\\u00e9e\",\"Togo\",\"Jamahiriya arabe libyenne\",\"Paraguay\",\"R\\u00e9p. d\\u00e9mocratique populaire lao\",\"El Salvador\",\"Jordanie\",\"Nicaragua\",\"Sierra Leone\",\"Denmark\",\"Finland\",\"Kirghizistan\",\"Turkm\\u00e9nistan\",\"Erythr\\u00e9e\",\"Singapour\",\"Norway\",\"Costa Rica\",\"Emirats arabes unis\",\"Croatie\",\"Ireland\",\"R\\u00e9publique centrafricaine\",\"G\\u00e9orgie\",\"New Zealand\",\"Liban\",\"Lib\\u00e9ria\",\"Bosnie-Herz\\u00e9govine\",\"R\\u00e9publique de Moldova\",\"Panama\",\"Lituanie\",\"Uruguay\",\"Mauritanie\",\"Albanie\",\"Arm\\u00e9nie\",\"Oman\",\"Kowe\\u00eft\",\"Jama\\u00efque\",\"Mongolie\",\"Lettonie\",\"Namibie\",\"Lesotho\",\"L'ex-R\\u00e9p. yougoslave de Mac\\u00e9doine\",\"Slov\\u00e9nie\",\"Botswana\",\"Gambie\",\"Guin\\u00e9e-Bissau\",\"Gabon\",\"Estonie\",\"Trinit\\u00e9-et-Tobago\",\"Qatar\",\"Maurice\",\"Swaziland\",\"Chypre\",\"Bahre\\u00efn\",\"Bhoutan\",\"Guin\\u00e9e \\u00e9quatoriale\",\"Comores\",\"Macao, Chine\",\"Suriname\",\"Cap-Vert\",\"Malte\",\"Brun\\u00e9i Darussalam\",\"Bahamas\",\"Iceland\",\"Maldives\",\"Vanuatu\",\"Samoa\",\"Sao Tom\\u00e9-et-Principe\",\"Aruba\",\"Tonga\",\"Antigua-et-Barbuda\",\"Antilles n\\u00e9erlandaises\",\"Iles Ca\\u00efmanes\",\"Seychelles\",\"Territoires autonomes palestiniens\"],\"female_literacy\":{\"__ndarray__\":\"AAAAAACgVkBmZmZmZmZJQAAAAAAAwFhAMzMzMzMzVkDNzMzMzIxWQAAAAAAAAERAZmZmZmbmSEBmZmZmZmZIQJqZmZmZ2VhAAAAAAADAWEAAAAAAAOBWQJqZmZmZeVdAzczMzMyMVkAAAAAAAMBYQGZmZmZm5kxAzczMzMzMNkAzMzMzM1NUQM3MzMzMTFNAAAAAAADgVkDNzMzMzAxMQAAAAAAAwFhAAAAAAADAWEAAAAAAAKBYQM3MzMzMTFZAZmZmZmYGVkBmZmZmZiZYQGZmZmZm5lhAmpmZmZk5WECamZmZmVlXQDMzMzMzk1BAzczMzMzMTUDNzMzMzGxYQDMzMzMzs1RAMzMzMzPTWEAzMzMzM/NPQAAAAAAAwFhAMzMzMzOzUEDNzMzMzAxGQM3MzMzMTFFAMzMzMzMzKUBmZmZmZiZVQDMzMzMzs0ZAmpmZmZm5V0CamZmZmblYQDMzMzMzc1ZAzczMzMwMVEAAAAAAAABZQGZmZmZmpk1AZmZmZmZmRUDNzMzMzAxEQJqZmZmZOVhAZmZmZmYmRkDNzMzMzExTQGZmZmZmRlZAMzMzMzNTUEAzMzMzM/NQQAAAAAAAgExAzczMzMysWEAAAAAAAMBYQAAAAAAA4FhAmpmZmZmZNUAzMzMzM3NQQDMzMzMzMy5AmpmZmZm5UUDNzMzMzCxRQM3MzMzMbFRAMzMzMzMzMkAAAAAAAIBOQDMzMzMzM1ZAAAAAAACAQECamZmZmflXQDMzMzMz81hAZmZmZmbmNUAAAAAAAMBYQJqZmZmZOVdAAAAAAADAWEAAAAAAAMBRQJqZmZmZuVhAMzMzMzMTVkBmZmZmZmY6QGZmZmZmhlBAAAAAAACAVUDNzMzMzOxYQAAAAAAAwFhAzczMzMzMWECamZmZmRk8QDMzMzMz801AAAAAAADAWECamZmZmXlYQM3MzMzMDFhAAAAAAADgVECamZmZmflXQAAAAAAA4FhAzczMzMzMS0CamZmZmdlKQDMzMzMzU1RAAAAAAABgV0CamZmZmZlPQJqZmZmZWVRAmpmZmZk5VkCamZmZmXlTQGZmZmZm5jxAAAAAAADAWEAAAAAAAABZQGZmZmZmxlhAMzMzMzPTWEAAAAAAAEBLQGZmZmZm5lZAAAAAAAAAWUDNzMzMzAxYQAAAAAAA4FZAAAAAAACAWEAAAAAAAMBYQM3MzMzMjERAzczMzMzsWEAAAAAAAMBYQAAAAAAAgFVAAAAAAACASkCamZmZmflXQDMzMzMzc1hAMzMzMzMzV0DNzMzMzOxYQAAAAAAAoFhAAAAAAADASEDNzMzMzKxYQJqZmZmZ2VhAmpmZmZk5VEBmZmZmZkZXQDMzMzMzs1ZAMzMzMzNzWEAzMzMzM/NYQM3MzMzM7FVAZmZmZmbGV0CamZmZmdlXQM3MzMzM7FhAAAAAAADgVEBmZmZmZiZBQAAAAAAAQEJAzczMzMzMVEAzMzMzM/NYQM3MzMzMjFhAmpmZmZmZVkAzMzMzMzNVQGZmZmZmZlVAzczMzMwsWECamZmZmVlWQJqZmZmZWUNAZmZmZmZGVkAzMzMzM/NQQM3MzMzMrFZAmpmZmZkZVkAzMzMzM9NTQAAAAAAAYFdAMzMzMzNTV0AAAAAAACBYQAAAAAAAwFhAmpmZmZmZWEAAAAAAAOBTQAAAAAAAoFhAMzMzMzPTVEAAAAAAAIBYQGZmZmZmxlhAmpmZmZnZWEAzMzMzMxNYQAAAAAAAwFhAMzMzMzMTV0CamZmZmblWQA==\",\"dtype\":\"float64\",\"shape\":[167]},\"fertility\":{\"__ndarray__\":\"6Pup8dJN/D/b+X5qvHQFQARWDi2ynQBAdJMYBFYOAUAIrBxaZDv9P2Dl0CLb+Q5A6Pup8dJNAkD91HjpJrEUQH0/NV66SfY//tR46SYx9D9zaJHtfD8BQGmR7Xw/NQhA3SQGgZVDAEDJdr6fGi/1P7tJDAIrhwZA8tJNYhDYFEDNzMzMzMwAQOXQItv5fvw/8/3UeOkm/T9uEoPAyqEXQH9qvHSTGP4/bhKDwMqh/T89CtejcD32P3Noke18PwJACtejcD0KBEAv3SQGgZXzPy2yne+nxvU/sXJoke189z8IrBxaZDsDQBSuR+F6FBZACKwcWmQ7EEBjEFg5tMgBQFYOLbKdbxNAE4PAyqFF9D8j2/l+arwCQN0kBoGVQ/k/arx0kxgEGUB56SYxCKwCQOSlm8QgsA9AhetRuB4FGkA9CtejcD0EQC/dJAaBlQZAlkOLbOf7A0CWQ4ts5/sBQKrx0k1iEARAUrgehetRCEBEi2zn+6n9P+F6FK5H4RBAZmZmZmZmFECR7Xw/Nd4TQDMzMzMzM/U/dJMYBFYOEkD8qfHSTWIJQBFYObTIdgJAexSuR+F6EkBEi2zn+ykSQEA1XrpJjBZAN4lBYOXQ/j/AyqFFtvP7PycxCKwcWgJAd76fGi9dF0BSuB6F69EVQC2yne+nRhxArBxaZDvfBkDfT42XbhIQQLTIdr6fGgRAH4XrUbieFUCmm8QgsPIWQIGVQ4ts5wpAj8L1KFyPE0ApXI/C9Sj2PxSuR+F6FPg/bef7qfFSGEAlBoGVQ4v8P0A1XrpJDPY/MzMzMzMz9z/b+X5qvHT9P+xRuB6F6/U/TDeJQWDlBEA3iUFg5VAVQFK4HoXrURVALIcW2c73CkDl0CLb+X70P1YOLbKd7/0/001iEFg5AUBPjZduEoMVQM3MzMzMzBFAXI/C9Shc9z9g5dAi2/n2P5duEoPAyvk/hetRuB6FCUBqvHSTGAQGQM3MzMzMzApACtejcD0KEEBEi2zn+6kQQIlBYOXQIgVAN4lBYOXQB0BSuB6F61ELQFyPwvUoXAJA8/3UeOkmCEARWDm0yHYFQClcj8L1qBRAL90kBoGV/T/GSzeJQWD9P7+fGi/dJARAcT0K16NwA0DqJjEIrBwSQGiR7Xw/NfQ/KVyPwvUo/j9KDAIrhxb/P/yp8dJNYv4/30+Nl24S9z9zaJHtfD//P30/NV66yRJAHFpkO99P+T8zMzMzMzMAQNv5fmq8dP0/JQaBlUMLFEAxCKwcWmTzP9R46SYxCPg/VOOlm8QgBECsHFpkO9/1P4PAyqFFtgBAWmQ730+NEUBEi2zn+6n9PyyHFtnO9/s/bef7qfHSB0Cd76fGSzcBQEw3iUFg5QJAAyuHFtnO/z83iUFg5dD2P1K4HoXrUQpA6SYxCKwcCkBg5dAi2/n2P30/NV66SfY/+n5qvHSTBkDGSzeJQeATQIlBYOXQohZA7FG4HoXrCUBKDAIrhxb7PyYxCKwcWvo/4XoUrkfhAkB46SYxCKz8P5qZmZmZmQtAqMZLN4lB+D93vp8aL90BQBsv3SQGgQRAbhKDwMohFUAUrkfhehQPQLbz/dR46e4/lkOLbOf7AkDo+6nx0k0FQGq8dJMYBPQ/0SLb+X5qAEAshxbZzvcKQFg5tMh2vgBAAAAAAAAAAECq8dJNYhAPQDeJQWDl0A5AWDm0yHa+DUCDwMqhRbb7PwaBlUOLbA9A738soIUHB0DvfyyghQcHQO9/LKCFBwdA738soIUHB0DvfyyghQcHQA==\",\"dtype\":\"float64\",\"shape\":[167]},\"index\":[0,1,2,3,4,5,6,7,8,9,10,11,12,13,14,15,16,17,18,19,20,21,22,23,24,25,26,27,28,29,30,31,32,33,34,35,36,37,38,39,40,41,42,43,44,45,46,47,48,49,50,51,52,53,54,55,56,57,58,59,60,61,62,63,64,65,66,67,68,69,70,71,72,73,74,75,76,77,78,79,80,81,82,83,84,85,86,87,88,89,90,91,92,93,94,95,96,97,98,99,100,101,102,103,104,105,106,107,108,109,110,111,112,113,114,115,116,117,118,119,120,121,122,123,124,125,126,127,128,129,130,131,132,133,134,135,136,137,138,139,140,141,142,143,144,145,146,147,148,149,150,151,152,153,154,155,156,157,158,159,160,161,162,163,164,165,166],\"population\":{\"__ndarray__\":\"AAAAZii900GQFOkAn/zQQQAAAGCWH7JBAAAAdAUaq0EAAABkgeKmQe+OPP5RzaNBAAAAANESo0EAAAC8oQaiQQAAAGD466BBAAAAAG9ynkH67buGHVuZQQAAAFRuipVBAAAAdOONlEEAAABEmpOTQQAAABAGcJNBAAAAaFs+k0EAAABQXp+RQToXwIbdJ5FBAAAAPPAQkEEAAADY06OOQQAAAMA5so1BAAAAcNVIjUEAAACYu4eMQQAAAFgsoodBAAAAwDw3h0EAAADAeC2HQQAAAMDADoZBAAAAIAC5hUEAAAAApHaFQQAAAJgGQoRBAAAAWFS3g0EAAAAghwSDQQAAAAAYfIJBAAAA+AUugkEAAACQ+WOAQQAAAICqxH9BAAAAELowfkEAAAAANyR+QRITrwTXSX1BsGr1rzqte0EAAADANYB7QQAAAGCTeXtBAAAAgBGkekEAAABAYgx6QQAAABBMw3lB9wa/XgOBd0EAAAAQILd2QQAAAPDoRHZBAAAA0BbbdUEAAABQfFh1QQAAAGBZhHRBAAAAYCyjc0EolOqduqBzQSDBaMXyOHNBAAAA0ME5ckEAAAAQQDRyQQAAAMCTL3FBAAAAAIcGcEEAAAAgE15vQQAAACC65W1BAAAAgGsObUEAAADAHFFsQQAAAMDXC2xBAAAAAFvGa0EAAAAArhpqQQAAAAC6tmlBAAAAAPk7aEEAAABgNxJoQQAAAOBjxWdBAAAAoH1KZ0EAAADA3G5lQQAAAOAPX2VBAAAAYPDQZEEAAAAgumxkQQAAAKC5QmRBAAAAAALiY0EAAAAA37JjQQAAAIB1JWNBAAAA4Lj7YkEAAADgS8FiQQAAAMBuimJBAAAAIHR9YkEAAABA+nZiQQAAAKDGlWFBAAAAgFSOYEEAAADAiIVgQQAAAIADzV5BAAAAwG4sXUEAAADAuBRdQQAAAEDzCVxBAAAAQEHrW0EAAAAAgOFbQQAAAMDcE1pBAAAAgK0WWUEAAABAO6NYQQAAAECpAlhBAAAAwKfLV0EAAABA56tXQQAAAIAlZldBXanGt56HVkEAAABAf55VQQAAAECLNVVBAAAAQN30VEEAAADA3URUQQAAAAAzIlRBAAAAgGg9U0EAAABAZ8tSQQAAAAD6dVJBAAAAAHUwUkEAAACANT1RQQAAAMDRG1FBAAAAABTqUEEAAADA8uFQQQAAAMCPjVBBAAAAwBBuUEEAAAAA2UhQQQAAAADv/k9BAAAAAPzwTEEAAAAAVslMQQAAAIBsuEtBAAAAgFPuSUEAAACA0Z5JQQAAAADSb0lBAAAAgGGHSEEAAACAPftHQQAAAIDveUdBAAAAgChARUGBGHRrNNBEQQAAAABwgERBAAAAAKAmREEAAAAA90lBQQAAAADfP0BBAAAAAJVFP0EAAAAA/iU/QQAAAADE1z5BAAAAAGJQPUEAAAAAKFU5QQAAAAAWCjhBAAAAAN8YNkEAAAAAA3U0QQAAAACMWDRBAAAAAF6LM0EAAAAAdlwzQQAAAADa0TFBAAAAAMRRKkEAAAAAQqsnQQAAAACK9SRBAAAAAPodJEGoYCyg5qMjQQAAAADEDiBBAAAAANBwH0EAAAAAwG8eQQAAAAC4JBlBAAAAAGDxF0EAAAAAEJwUQQAAAACYXxNBAAAAAAyeEkEAAAAAUIwMQQAAAACo1QVBAAAAAHCNA0EAAAAA8L75QAAAAADgSPlAOzR8P69mg0E7NHw/r2aDQTs0fD+vZoNBOzR8P69mg0E7NHw/r2aDQQ==\",\"dtype\":\"float64\",\"shape\":[167]}},\"selected\":{\"id\":\"5912\",\"type\":\"Selection\"},\"selection_policy\":{\"id\":\"5911\",\"type\":\"UnionRenderers\"}},\"id\":\"5848\",\"type\":\"ColumnDataSource\"},{\"attributes\":{},\"id\":\"5875\",\"type\":\"SaveTool\"},{\"attributes\":{\"fill_alpha\":{\"value\":0.1},\"fill_color\":{\"value\":\"#1f77b4\"},\"line_alpha\":{\"value\":0.1},\"line_color\":{\"value\":\"#1f77b4\"},\"size\":{\"units\":\"screen\",\"value\":10},\"x\":{\"field\":\"fertility\"},\"y\":{\"field\":\"female_literacy\"}},\"id\":\"5902\",\"type\":\"Circle\"},{\"attributes\":{\"column_name\":\"Continent\",\"group\":\"LAT\"},\"id\":\"5849\",\"type\":\"GroupFilter\"},{\"attributes\":{},\"id\":\"5876\",\"type\":\"ResetTool\"},{\"attributes\":{\"label\":{\"value\":\"Latin America\"},\"renderers\":[{\"id\":\"5890\",\"type\":\"GlyphRenderer\"}]},\"id\":\"5899\",\"type\":\"LegendItem\"},{\"attributes\":{\"fill_color\":{\"value\":\"red\"},\"line_color\":{\"value\":\"red\"},\"size\":{\"units\":\"screen\",\"value\":10},\"x\":{\"field\":\"fertility\"},\"y\":{\"field\":\"female_literacy\"}},\"id\":\"5888\",\"type\":\"Circle\"},{\"attributes\":{\"filters\":[{\"id\":\"5849\",\"type\":\"GroupFilter\"}],\"source\":{\"id\":\"5848\",\"type\":\"ColumnDataSource\"}},\"id\":\"5850\",\"type\":\"CDSView\"},{\"attributes\":{\"callback\":null},\"id\":\"5854\",\"type\":\"DataRange1d\"},{\"attributes\":{},\"id\":\"5896\",\"type\":\"BasicTickFormatter\"},{\"attributes\":{},\"id\":\"5911\",\"type\":\"UnionRenderers\"},{\"attributes\":{},\"id\":\"5912\",\"type\":\"Selection\"},{\"attributes\":{\"label\":{\"value\":\"Africa\"},\"renderers\":[{\"id\":\"5903\",\"type\":\"GlyphRenderer\"}]},\"id\":\"5913\",\"type\":\"LegendItem\"},{\"attributes\":{\"active_drag\":\"auto\",\"active_inspect\":\"auto\",\"active_multi\":null,\"active_scroll\":\"auto\",\"active_tap\":\"auto\",\"tools\":[{\"id\":\"5872\",\"type\":\"PanTool\"},{\"id\":\"5873\",\"type\":\"WheelZoomTool\"},{\"id\":\"5874\",\"type\":\"BoxZoomTool\"},{\"id\":\"5875\",\"type\":\"SaveTool\"},{\"id\":\"5876\",\"type\":\"ResetTool\"},{\"id\":\"5877\",\"type\":\"HelpTool\"},{\"id\":\"6398\",\"type\":\"HoverTool\"}]},\"id\":\"5878\",\"type\":\"Toolbar\"},{\"attributes\":{\"callback\":null},\"id\":\"5856\",\"type\":\"DataRange1d\"},{\"attributes\":{},\"id\":\"5858\",\"type\":\"LinearScale\"},{\"attributes\":{},\"id\":\"5872\",\"type\":\"PanTool\"},{\"attributes\":{\"axis_label\":\"fertility (children per woman)\",\"formatter\":{\"id\":\"5894\",\"type\":\"BasicTickFormatter\"},\"plot\":{\"id\":\"5853\",\"subtype\":\"Figure\",\"type\":\"Plot\"},\"ticker\":{\"id\":\"5863\",\"type\":\"BasicTicker\"}},\"id\":\"5862\",\"type\":\"LinearAxis\"},{\"attributes\":{\"plot\":{\"id\":\"5853\",\"subtype\":\"Figure\",\"type\":\"Plot\"},\"ticker\":{\"id\":\"5863\",\"type\":\"BasicTicker\"}},\"id\":\"5866\",\"type\":\"Grid\"},{\"attributes\":{},\"id\":\"5873\",\"type\":\"WheelZoomTool\"},{\"attributes\":{},\"id\":\"5860\",\"type\":\"LinearScale\"},{\"attributes\":{\"axis_label\":\"female literacy (% population)\",\"formatter\":{\"id\":\"5896\",\"type\":\"BasicTickFormatter\"},\"plot\":{\"id\":\"5853\",\"subtype\":\"Figure\",\"type\":\"Plot\"},\"ticker\":{\"id\":\"5868\",\"type\":\"BasicTicker\"}},\"id\":\"5867\",\"type\":\"LinearAxis\"},{\"attributes\":{\"callback\":null,\"tooltips\":[[\"Female literacy\",\"@female_literacy\"],[\"Fertility\",\"@fertility\"],[\"Population\",\"@population\"],[\"Country\",\"@Country\"]]},\"id\":\"6398\",\"type\":\"HoverTool\"},{\"attributes\":{\"plot\":null,\"text\":\"\"},\"id\":\"5891\",\"type\":\"Title\"},{\"attributes\":{\"dimension\":1,\"plot\":{\"id\":\"5853\",\"subtype\":\"Figure\",\"type\":\"Plot\"},\"ticker\":{\"id\":\"5868\",\"type\":\"BasicTicker\"}},\"id\":\"5871\",\"type\":\"Grid\"},{\"attributes\":{},\"id\":\"5868\",\"type\":\"BasicTicker\"},{\"attributes\":{\"background_fill_color\":{\"value\":\"lightgray\"},\"items\":[{\"id\":\"5899\",\"type\":\"LegendItem\"},{\"id\":\"5913\",\"type\":\"LegendItem\"}],\"location\":\"bottom_left\",\"plot\":{\"id\":\"5853\",\"subtype\":\"Figure\",\"type\":\"Plot\"}},\"id\":\"5898\",\"type\":\"Legend\"},{\"attributes\":{},\"id\":\"5863\",\"type\":\"BasicTicker\"},{\"attributes\":{\"data_source\":{\"id\":\"5848\",\"type\":\"ColumnDataSource\"},\"glyph\":{\"id\":\"5901\",\"type\":\"Circle\"},\"hover_glyph\":null,\"muted_glyph\":null,\"nonselection_glyph\":{\"id\":\"5902\",\"type\":\"Circle\"},\"selection_glyph\":null,\"view\":{\"id\":\"5852\",\"type\":\"CDSView\"}},\"id\":\"5903\",\"type\":\"GlyphRenderer\"},{\"attributes\":{\"fill_alpha\":{\"value\":0.1},\"fill_color\":{\"value\":\"#1f77b4\"},\"line_alpha\":{\"value\":0.1},\"line_color\":{\"value\":\"#1f77b4\"},\"size\":{\"units\":\"screen\",\"value\":10},\"x\":{\"field\":\"fertility\"},\"y\":{\"field\":\"female_literacy\"}},\"id\":\"5889\",\"type\":\"Circle\"},{\"attributes\":{},\"id\":\"5877\",\"type\":\"HelpTool\"},{\"attributes\":{\"overlay\":{\"id\":\"5880\",\"type\":\"BoxAnnotation\"}},\"id\":\"5874\",\"type\":\"BoxZoomTool\"},{\"attributes\":{\"data_source\":{\"id\":\"5848\",\"type\":\"ColumnDataSource\"},\"glyph\":{\"id\":\"5888\",\"type\":\"Circle\"},\"hover_glyph\":null,\"muted_glyph\":null,\"nonselection_glyph\":{\"id\":\"5889\",\"type\":\"Circle\"},\"selection_glyph\":null,\"view\":{\"id\":\"5850\",\"type\":\"CDSView\"}},\"id\":\"5890\",\"type\":\"GlyphRenderer\"}],\"root_ids\":[\"5853\"]},\"title\":\"Bokeh Application\",\"version\":\"1.0.2\"}};\n",
       "  var render_items = [{\"docid\":\"b537e676-3f01-44d8-a278-53df4ef6b1c7\",\"roots\":{\"5853\":\"af7b253a-01fd-4177-8d5a-336bbd4dffae\"}}];\n",
       "  root.Bokeh.embed.embed_items_notebook(docs_json, render_items);\n",
       "\n",
       "  }\n",
       "  if (root.Bokeh !== undefined) {\n",
       "    embed_document(root);\n",
       "  } else {\n",
       "    var attempts = 0;\n",
       "    var timer = setInterval(function(root) {\n",
       "      if (root.Bokeh !== undefined) {\n",
       "        embed_document(root);\n",
       "        clearInterval(timer);\n",
       "      }\n",
       "      attempts++;\n",
       "      if (attempts > 100) {\n",
       "        console.log(\"Bokeh: ERROR: Unable to run BokehJS code because BokehJS library is missing\");\n",
       "        clearInterval(timer);\n",
       "      }\n",
       "    }, 10, root)\n",
       "  }\n",
       "})(window);"
      ],
      "application/vnd.bokehjs_exec.v0+json": ""
     },
     "metadata": {
      "application/vnd.bokehjs_exec.v0+json": {
       "id": "5853"
      }
     },
     "output_type": "display_data"
    }
   ],
   "source": [
    "# Create a HoverTool object: hover\n",
    "hover = HoverTool(tooltips=[('Female literacy','@female_literacy'),\n",
    "                            ('Fertility','@fertility'),\n",
    "                            ('Population','@population'),\n",
    "                            ('Country','@Country')])\n",
    "\n",
    "# Add the HoverTool object to figure p\n",
    "p.add_tools(hover)\n",
    "\n",
    "# Specify the name of the output_file and show the result\n",
    "output_file('hover.html')\n",
    "show(p)"
   ]
  }
 ],
 "metadata": {
  "kernelspec": {
   "display_name": "Python 3",
   "language": "python",
   "name": "python3"
  },
  "language_info": {
   "codemirror_mode": {
    "name": "ipython",
    "version": 3
   },
   "file_extension": ".py",
   "mimetype": "text/x-python",
   "name": "python",
   "nbconvert_exporter": "python",
   "pygments_lexer": "ipython3",
   "version": "3.7.1"
  }
 },
 "nbformat": 4,
 "nbformat_minor": 2
}

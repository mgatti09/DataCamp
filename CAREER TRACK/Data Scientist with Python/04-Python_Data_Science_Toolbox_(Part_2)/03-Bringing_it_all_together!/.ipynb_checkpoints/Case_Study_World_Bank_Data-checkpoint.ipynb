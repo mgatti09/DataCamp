{
 "cells": [
  {
   "cell_type": "markdown",
   "metadata": {},
   "source": [
    "# Case Study World Bank Data\n",
    "In this notebook we/ll be using __*dictionaries, ziping, user defined functions, iterators, list comprehensions and generators*__ to wrangle and extract meaningful information from a real world dataset, the world bank wealth development indicators dataset: <a href=\"https://datacatalog.worldbank.org/dataset/world-development-indicators\">World Development Indicators</a>. This dataset contains data on 270 world economies for over half a century from 1960 to 2015, it contains indicators like:\n",
    "* Population\n",
    "* Electricity consumption\n",
    "* CO2 emissions\n",
    "* Literacy rates\n",
    "* Unemployment\n",
    "* Mortality rates"
   ]
  }
 ],
 "metadata": {
  "kernelspec": {
   "display_name": "Python 3",
   "language": "python",
   "name": "python3"
  },
  "language_info": {
   "codemirror_mode": {
    "name": "ipython",
    "version": 3
   },
   "file_extension": ".py",
   "mimetype": "text/x-python",
   "name": "python",
   "nbconvert_exporter": "python",
   "pygments_lexer": "ipython3",
   "version": "3.7.1"
  }
 },
 "nbformat": 4,
 "nbformat_minor": 2
}

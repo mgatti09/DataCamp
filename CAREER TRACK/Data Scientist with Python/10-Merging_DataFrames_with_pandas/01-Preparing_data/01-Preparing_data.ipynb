{
 "cells": [
  {
   "cell_type": "markdown",
   "metadata": {},
   "source": [
    "# Preparing data\n",
    "In this chapter, you'll learn about different techniques you can use to import multiple files into DataFrames. Having imported your data into individual DataFrames, you'll then learn how to share information between DataFrames using their Indexes. Understanding how Indexes work is essential information that you'll need for merging DataFrames later in the course."
   ]
  },
  {
   "cell_type": "code",
   "execution_count": null,
   "metadata": {},
   "outputs": [],
   "source": [
    "from IPython.display import HTML\n",
    "import pandas as pd"
   ]
  },
  {
   "cell_type": "code",
   "execution_count": 7,
   "metadata": {},
   "outputs": [
    {
     "data": {
      "text/html": [
       "<video style=\"display:block; margin: 0 auto;\" controls>\n",
       "      <source src=\"_Docs/01-Reading_multiple_data_files.mp4\" type=\"video/mp4\">\n",
       "</video>\n"
      ],
      "text/plain": [
       "<IPython.core.display.HTML object>"
      ]
     },
     "metadata": {},
     "output_type": "display_data"
    }
   ],
   "source": [
    "%%HTML\n",
    "<video style=\"display:block; margin: 0 auto;\" controls>\n",
    "      <source src=\"_Docs/01-Reading_multiple_data_files.mp4\" type=\"video/mp4\">\n",
    "</video>"
   ]
  },
  {
   "cell_type": "markdown",
   "metadata": {},
   "source": [
    "# Reading multiple data files\n",
    "## Tools for pandas data import\n",
    "- pd.read_csv() for CSV files\n",
    "    - dataframe = pd.read_csv(filepath)\n",
    "    - dozens of optional input parameters\n",
    "- Other data import tools:\n",
    "    - pd.read_excel()\n",
    "    - pd.read_html()\n",
    "    - pd.read_json()\n",
    "### Reading DataFrames from multiple files\n",
    "When data is spread among several files, you usually invoke pandas' `read_csv()` (or a similar data import function) multiple times to load the data into several DataFrames.\n",
    "\n",
    "The data files for this example have been derived from a list of Olympic medals awarded between 1896 & 2008 compiled by the Guardian.\n",
    "\n",
    "The column labels of each DataFrame are `NOC`, `Country`, & `Total` where `NOC` is a three-letter code for the name of the country and Total is the number of medals of that type won (`bronze`, `silver`, or `gold`)."
   ]
  },
  {
   "cell_type": "code",
   "execution_count": null,
   "metadata": {},
   "outputs": [],
   "source": []
  }
 ],
 "metadata": {
  "kernelspec": {
   "display_name": "Python 3",
   "language": "python",
   "name": "python3"
  },
  "language_info": {
   "codemirror_mode": {
    "name": "ipython",
    "version": 3
   },
   "file_extension": ".py",
   "mimetype": "text/x-python",
   "name": "python",
   "nbconvert_exporter": "python",
   "pygments_lexer": "ipython3",
   "version": "3.7.1"
  }
 },
 "nbformat": 4,
 "nbformat_minor": 2
}

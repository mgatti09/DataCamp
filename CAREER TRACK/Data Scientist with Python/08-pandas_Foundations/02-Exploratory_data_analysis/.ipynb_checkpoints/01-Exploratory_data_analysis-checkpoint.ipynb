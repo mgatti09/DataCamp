{
 "cells": [
  {
   "cell_type": "markdown",
   "metadata": {},
   "source": [
    "# Visual exploratory data analysis (EDA)\n",
    "In statistics, [exploratory data analysis (EDA)][1] is an approach to analyzing data sets to summarize their main characteristics, often with visual methods. A statistical model can be used or not, but primarily EDA is for seeing what the data can tell us beyond the formal modeling or hypothesis testing task. Exploratory data analysis was promoted by John Tukey to encourage statisticians to explore the data, and possibly formulate hypotheses that could lead to new data collection and experiments. EDA is different from initial data analysis (IDA),[1] which focuses more narrowly on checking assumptions required for model fitting and hypothesis testing, and handling missing values and making transformations of variables as needed. EDA encompasses IDA.\n",
    "\n",
    "[1]: https://en.wikipedia.org/wiki/Exploratory_data_analysis"
   ]
  },
  {
   "cell_type": "markdown",
   "metadata": {},
   "source": [
    "### pandas line plots\n",
    "In the previous chapter, you saw that the `.plot()` method will place the Index values on the x-axis by default. In this exercise, you'll practice making line plots with specific columns on the x and y axes.\n",
    "\n",
    "You will work with a dataset consisting of monthly stock prices in 2015 for AAPL, GOOG, and IBM. The stock prices were obtained from [Yahoo Finance][1]. Your job is to plot the `'Month'` column on the x-axis and the AAPL and IBM prices on the y-axis using a list of column names.\n",
    "\n",
    "[1]: http://finance.yahoo.com/"
   ]
  },
  {
   "cell_type": "code",
   "execution_count": 6,
   "metadata": {},
   "outputs": [],
   "source": [
    "import pandas as pd\n",
    "import numpy as np\n",
    "import matplotlib.pyplot as plt"
   ]
  },
  {
   "cell_type": "code",
   "execution_count": 7,
   "metadata": {},
   "outputs": [],
   "source": [
    "filepath = '../_datasets/'\n",
    "filename = 'monthly_stock_prices_2015.csv'"
   ]
  },
  {
   "cell_type": "code",
   "execution_count": 8,
   "metadata": {},
   "outputs": [
    {
     "name": "stdout",
     "output_type": "stream",
     "text": [
      "<class 'pandas.core.frame.DataFrame'>\n",
      "RangeIndex: 12 entries, 0 to 11\n",
      "Data columns (total 4 columns):\n",
      "Month    12 non-null object\n",
      "AAPL     12 non-null float64\n",
      "GOOG     12 non-null float64\n",
      "IBM      12 non-null float64\n",
      "dtypes: float64(3), object(1)\n",
      "memory usage: 376.0+ bytes\n",
      "None\n",
      "             AAPL        GOOG         IBM\n",
      "count   12.000000   12.000000   12.000000\n",
      "mean   119.860835  607.954783  154.276666\n",
      "std      7.563793   86.198682   11.988910\n",
      "min    105.260002  520.510010  137.619995\n",
      "25%    116.060003  536.635632  143.747501\n",
      "50%    120.400002  583.411247  156.904999\n",
      "75%    125.220002  646.909988  162.157505\n",
      "max    130.279999  758.880005  171.289993\n"
     ]
    },
    {
     "data": {
      "text/html": [
       "<div>\n",
       "<style scoped>\n",
       "    .dataframe tbody tr th:only-of-type {\n",
       "        vertical-align: middle;\n",
       "    }\n",
       "\n",
       "    .dataframe tbody tr th {\n",
       "        vertical-align: top;\n",
       "    }\n",
       "\n",
       "    .dataframe thead th {\n",
       "        text-align: right;\n",
       "    }\n",
       "</style>\n",
       "<table border=\"1\" class=\"dataframe\">\n",
       "  <thead>\n",
       "    <tr style=\"text-align: right;\">\n",
       "      <th></th>\n",
       "      <th>Month</th>\n",
       "      <th>AAPL</th>\n",
       "      <th>GOOG</th>\n",
       "      <th>IBM</th>\n",
       "    </tr>\n",
       "  </thead>\n",
       "  <tbody>\n",
       "    <tr>\n",
       "      <th>0</th>\n",
       "      <td>Jan</td>\n",
       "      <td>117.160004</td>\n",
       "      <td>534.522445</td>\n",
       "      <td>153.309998</td>\n",
       "    </tr>\n",
       "    <tr>\n",
       "      <th>1</th>\n",
       "      <td>Feb</td>\n",
       "      <td>128.460007</td>\n",
       "      <td>558.402511</td>\n",
       "      <td>161.940002</td>\n",
       "    </tr>\n",
       "    <tr>\n",
       "      <th>2</th>\n",
       "      <td>Mar</td>\n",
       "      <td>124.430000</td>\n",
       "      <td>548.002468</td>\n",
       "      <td>160.500000</td>\n",
       "    </tr>\n",
       "    <tr>\n",
       "      <th>3</th>\n",
       "      <td>Apr</td>\n",
       "      <td>125.150002</td>\n",
       "      <td>537.340027</td>\n",
       "      <td>171.289993</td>\n",
       "    </tr>\n",
       "    <tr>\n",
       "      <th>4</th>\n",
       "      <td>May</td>\n",
       "      <td>130.279999</td>\n",
       "      <td>532.109985</td>\n",
       "      <td>169.649994</td>\n",
       "    </tr>\n",
       "  </tbody>\n",
       "</table>\n",
       "</div>"
      ],
      "text/plain": [
       "  Month        AAPL        GOOG         IBM\n",
       "0   Jan  117.160004  534.522445  153.309998\n",
       "1   Feb  128.460007  558.402511  161.940002\n",
       "2   Mar  124.430000  548.002468  160.500000\n",
       "3   Apr  125.150002  537.340027  171.289993\n",
       "4   May  130.279999  532.109985  169.649994"
      ]
     },
     "execution_count": 8,
     "metadata": {},
     "output_type": "execute_result"
    }
   ],
   "source": [
    "df = pd.read_csv(filepath+filename)\n",
    "print(df.info())\n",
    "print(df.describe())\n",
    "df_pop.head()"
   ]
  },
  {
   "cell_type": "code",
   "execution_count": 10,
   "metadata": {},
   "outputs": [
    {
     "data": {
      "image/png": "[encoded data removed]",
      "text/plain": [
       "<Figure size 432x288 with 1 Axes>"
      ]
     },
     "metadata": {
      "needs_background": "light"
     },
     "output_type": "display_data"
    }
   ],
   "source": [
    "# Create a list of y-axis column names: y_columns\n",
    "y_columns = ['AAPL','IBM']\n",
    "\n",
    "# Generate a line plot\n",
    "df.plot(x='Month', y=y_columns)\n",
    "\n",
    "# Add the title\n",
    "plt.title('Monthly stock prices')\n",
    "\n",
    "# Add the y-axis label\n",
    "plt.ylabel('Price ($US)')\n",
    "\n",
    "# Display the plot\n",
    "plt.show()"
   ]
  },
  {
   "cell_type": "markdown",
   "metadata": {},
   "source": [
    "### pandas scatter plots\n",
    "Pandas scatter plots are generated using the `kind='scatter'` keyword argument. Scatter plots require that the x and y columns be chosen by specifying the `x` and `y` parameters inside `.plot()`. Scatter plots also take an `s` keyword argument to provide the radius of each circle to plot in pixels.\n",
    "\n",
    "In this exercise, you're going to plot fuel efficiency (miles-per-gallon) versus horse-power for 392 automobiles manufactured from 1970 to 1982 from the [UCI Machine Learning Repository][1].\n",
    "\n",
    "The size of each circle is provided as a NumPy array called `sizes`. This array contains the normalized `'weight'` of each automobile in the dataset.\n",
    "\n",
    "[1]: https://archive.ics.uci.edu/ml/datasets/Auto+MPG"
   ]
  },
  {
   "cell_type": "code",
   "execution_count": 12,
   "metadata": {},
   "outputs": [
    {
     "data": {
      "text/html": [
       "<div>\n",
       "<style scoped>\n",
       "    .dataframe tbody tr th:only-of-type {\n",
       "        vertical-align: middle;\n",
       "    }\n",
       "\n",
       "    .dataframe tbody tr th {\n",
       "        vertical-align: top;\n",
       "    }\n",
       "\n",
       "    .dataframe thead th {\n",
       "        text-align: right;\n",
       "    }\n",
       "</style>\n",
       "<table border=\"1\" class=\"dataframe\">\n",
       "  <thead>\n",
       "    <tr style=\"text-align: right;\">\n",
       "      <th></th>\n",
       "      <th>mpg</th>\n",
       "      <th>cyl</th>\n",
       "      <th>displ</th>\n",
       "      <th>hp</th>\n",
       "      <th>weight</th>\n",
       "      <th>accel</th>\n",
       "      <th>yr</th>\n",
       "      <th>origin</th>\n",
       "      <th>name</th>\n",
       "    </tr>\n",
       "  </thead>\n",
       "  <tbody>\n",
       "    <tr>\n",
       "      <th>0</th>\n",
       "      <td>18.0</td>\n",
       "      <td>8</td>\n",
       "      <td>307.0</td>\n",
       "      <td>130</td>\n",
       "      <td>3504</td>\n",
       "      <td>12.0</td>\n",
       "      <td>70</td>\n",
       "      <td>US</td>\n",
       "      <td>chevrolet chevelle malibu</td>\n",
       "    </tr>\n",
       "    <tr>\n",
       "      <th>1</th>\n",
       "      <td>15.0</td>\n",
       "      <td>8</td>\n",
       "      <td>350.0</td>\n",
       "      <td>165</td>\n",
       "      <td>3693</td>\n",
       "      <td>11.5</td>\n",
       "      <td>70</td>\n",
       "      <td>US</td>\n",
       "      <td>buick skylark 320</td>\n",
       "    </tr>\n",
       "    <tr>\n",
       "      <th>2</th>\n",
       "      <td>18.0</td>\n",
       "      <td>8</td>\n",
       "      <td>318.0</td>\n",
       "      <td>150</td>\n",
       "      <td>3436</td>\n",
       "      <td>11.0</td>\n",
       "      <td>70</td>\n",
       "      <td>US</td>\n",
       "      <td>plymouth satellite</td>\n",
       "    </tr>\n",
       "    <tr>\n",
       "      <th>3</th>\n",
       "      <td>16.0</td>\n",
       "      <td>8</td>\n",
       "      <td>304.0</td>\n",
       "      <td>150</td>\n",
       "      <td>3433</td>\n",
       "      <td>12.0</td>\n",
       "      <td>70</td>\n",
       "      <td>US</td>\n",
       "      <td>amc rebel sst</td>\n",
       "    </tr>\n",
       "    <tr>\n",
       "      <th>4</th>\n",
       "      <td>17.0</td>\n",
       "      <td>8</td>\n",
       "      <td>302.0</td>\n",
       "      <td>140</td>\n",
       "      <td>3449</td>\n",
       "      <td>10.5</td>\n",
       "      <td>70</td>\n",
       "      <td>US</td>\n",
       "      <td>ford torino</td>\n",
       "    </tr>\n",
       "  </tbody>\n",
       "</table>\n",
       "</div>"
      ],
      "text/plain": [
       "    mpg  cyl  displ   hp  weight  accel  yr origin                       name\n",
       "0  18.0    8  307.0  130    3504   12.0  70     US  chevrolet chevelle malibu\n",
       "1  15.0    8  350.0  165    3693   11.5  70     US          buick skylark 320\n",
       "2  18.0    8  318.0  150    3436   11.0  70     US         plymouth satellite\n",
       "3  16.0    8  304.0  150    3433   12.0  70     US              amc rebel sst\n",
       "4  17.0    8  302.0  140    3449   10.5  70     US                ford torino"
      ]
     },
     "execution_count": 12,
     "metadata": {},
     "output_type": "execute_result"
    }
   ],
   "source": [
    "urlDataSet = 'https://assets.datacamp.com/production/course_1639/datasets/auto-mpg.csv'\n",
    "df = pd.read_csv(urlDataSet)\n",
    "df.head()"
   ]
  },
  {
   "cell_type": "code",
   "execution_count": 13,
   "metadata": {},
   "outputs": [],
   "source": [
    "sizes = [ 51.12044694,  56.78387977,  49.15557238,  49.06977358, 49.52823321,  78.4595872 ,  78.93021696,  77.41479205, 81.52541106,  61.71459825,  52.85646225,  54.23007578, 58.89427963,  39.65137852,  23.42587473,  33.41639502, 32.03903011,  27.8650165 ,  18.88972581,  14.0196956 ,  29.72619722,  24.58549713,  23.48516821,  20.77938954, 29.19459189,  88.67676838,  79.72987328,  79.94866084, 93.23005042,  18.88972581,  21.34122243,  20.6679223 , 28.88670381,  49.24144612,  46.14174741,  45.39631334, 45.01218186,  73.76057586,  82.96880195,  71.84547684, 69.85320595, 102.22421043,  93.78252358, 110.0, 36.52889673,  24.14234281,  44.84805372,  41.02504618, 20.51976563,  18.765772  ,  17.9095202 ,  17.75442285, 13.08832041,  10.83266174,  14.00441945,  15.91328975, 21.60597587,  18.8188451 ,  21.15311208,  24.14234281, 20.63083317,  76.05635059,  80.05816704,  71.18975117, 70.98330444,  56.13992036,  89.36985382,  84.38736544, 82.6716892 ,  81.4149056 ,  22.60363518,  63.06844313, 69.92143863,  76.76982089,  69.2066568 ,  35.81711267, 26.25184749,  36.94940537,  19.95069229,  23.88237331, 21.79608472,  26.1474042 ,  19.49759118,  18.36136808, 69.98970461,  56.13992036,  66.21810474,  68.02351436, 59.39644014, 102.10046481,  82.96880195,  79.25686195, 74.74521151,  93.34830013, 102.05923292,  60.7883734 , 40.55589449,  44.7388015 ,  36.11079464,  37.9986264 , 35.11233175,  15.83199594, 103.96451839, 100.21241654, 90.18186347,  84.27493641,  32.38645967,  21.62494928, 24.00218436,  23.56434276,  18.78345471,  22.21725537, 25.44271071,  21.36007926,  69.37650986,  76.19877818, 14.51292942,  19.38962134,  27.75740889,  34.24717407, 48.10262495,  29.459795  ,  32.80584831,  55.89556844, 40.06360581,  35.03982309,  46.33599903,  15.83199594, 25.01226779,  14.03498009,  26.90404245,  59.52231336, 54.92349014,  54.35035315,  71.39649768,  91.93424995, 82.70879915,  89.56285636,  75.45251972,  20.50128352, 16.04379287,  22.02531454,  11.32159874,  16.70430249, 18.80114574,  18.50153068,  21.00322336,  25.79385418, 23.80266582,  16.65430211,  44.35746794,  49.815853  , 49.04119063,  41.52318884,  90.72524338,  82.07906251, 84.23747672,  90.29816462,  63.55551901,  63.23059357, 57.92740995,  59.64831981,  38.45278922,  43.19643409, 41.81296121,  19.62393488,  28.99647648,  35.35456858, 27.97283229,  30.39744886,  20.57526193,  26.96758278, 37.07354237,  15.62160631,  42.92863291,  30.21771564, 36.40567571,  36.11079464,  29.70395123,  13.41514444, 25.27829944,  20.51976563,  27.54281821,  21.17188565, 20.18836167,  73.97101962,  73.09614831,  65.35749368, 73.97101962,  43.51889468,  46.80945169,  37.77255674, 39.6256851 ,  17.24230306,  19.49759118,  15.62160631, 13.41514444,  55.49963323,  53.18333207,  55.31736854, 42.44868923,  13.86730874,  16.48817545,  19.33574884, 27.3931002 ,  41.31307817,  64.63368105,  44.52069676, 35.74387954,  60.75655952,  79.87569835,  68.46177648, 62.35745431,  58.70651902,  17.41217694,  19.33574884, 13.86730874,  22.02531454,  15.75091031,  62.68013142, 68.63071356,  71.36201911,  76.80558184,  51.58836621, 48.84134317,  54.86301837,  51.73502816,  74.14661842, 72.22648148,  77.88228247,  78.24284811,  15.67003285, 31.25845963,  21.36007926,  31.60164234,  17.51450098, 17.92679488,  16.40542438,  19.96892459,  32.99310928, 28.14577056,  30.80379718,  16.40542438,  13.48998471, 16.40542438,  17.84050478,  13.48998471,  47.1451025 , 58.08281541,  53.06435374,  52.02897659,  41.44433489, 36.60292926,  30.80379718,  48.98404972,  42.90189859, 47.56635225,  39.24128299,  54.56115914,  48.41447259, 48.84134317,  49.41341845,  42.76835191,  69.30854366, 19.33574884,  27.28640858,  22.02531454,  20.70504474, 26.33555201,  31.37264569,  33.93740821,  24.08222494, 33.34566004,  41.05118927,  32.52595611,  48.41447259, 16.48817545,  18.97851406,  43.84255439,  37.22278157, 34.77459916,  44.38465193,  47.00510227,  61.39441929, 57.77221268,  65.12675249,  61.07507305,  79.14790534, 68.42801405,  54.10993164,  64.63368105,  15.42864956, 16.24054679,  15.26876826,  29.68171358,  51.88189829, 63.32798377,  42.36896092,  48.6988448 ,  20.15170555, 19.24612787,  16.98905358,  18.88972581,  29.68171358, 28.03762169,  30.35246559,  27.20120517,  19.13885751, 16.12562794,  18.71277385,  16.9722369 ,  29.85984799, 34.29495526,  37.54716158,  47.59450219,  19.93246832, 30.60028577,  26.90404245,  24.66650366,  21.36007926, 18.5366546 ,  32.64243213,  18.5366546 ,  18.09999962, 22.70075058,  36.23351603,  43.97776651,  14.24983724, 19.15671509,  14.17291518,  35.25757392,  24.38356372, 26.02234705,  21.83420642,  25.81458463,  28.90864169, 28.58044785,  30.91715052,  23.6833544 ,  12.82391671, 14.63757021,  12.89709155,  17.75442285,  16.24054679, 17.49742615,  16.40542438,  20.42743834,  17.41217694, 23.58415722,  19.96892459,  20.33531923,  22.99334585, 28.47146626,  28.90864169,  43.43816712,  41.57579979, 35.01567018,  35.74387954,  48.5565546 ,  57.77221268, 38.98605581,  49.98882458,  28.25412762,  29.01845599, 23.88237331,  27.60710798,  26.54539622,  31.14448175, 34.17556473,  16.3228815 ,  17.0732619 ,  16.15842026, 18.80114574,  18.80114574,  19.42557798,  20.2434083 , 20.98452475,  16.07650192,  16.07650192,  16.57113469, 36.11079464,  37.84783835,  27.82194848,  33.46359332, 29.5706502 ,  23.38638738,  36.23351603,  32.40968826, 18.88972581,  21.92965639,  28.68963762,  30.80379718]"
   ]
  },
  {
   "cell_type": "code",
   "execution_count": 14,
   "metadata": {},
   "outputs": [
    {
     "data": {
      "image/png": "[encoded data removed]",
      "text/plain": [
       "<Figure size 432x288 with 1 Axes>"
      ]
     },
     "metadata": {
      "needs_background": "light"
     },
     "output_type": "display_data"
    }
   ],
   "source": [
    "# Generate a scatter plot\n",
    "df.plot(kind='scatter', x='hp', y='mpg', s=sizes)\n",
    "\n",
    "# Add the title\n",
    "plt.title('Fuel efficiency vs Horse-power')\n",
    "\n",
    "# Add the x-axis label\n",
    "plt.xlabel('Horse-power')\n",
    "\n",
    "# Add the y-axis label\n",
    "plt.ylabel('Fuel efficiency (mpg)')\n",
    "\n",
    "# Display the plot\n",
    "plt.show()"
   ]
  },
  {
   "cell_type": "markdown",
   "metadata": {},
   "source": [
    "### pandas box plots\n",
    "While pandas can plot multiple columns of data in a single figure, making plots that share the same `x` and `y` axes, there are cases where two columns cannot be plotted together because their units do not match. The `.plot()` method can generate subplots for each column being plotted. Here, each plot will be scaled independently.\n",
    "\n",
    "In this exercise your job is to generate [box plots][1] for fuel efficiency (mpg) and weight from the automobiles data set. To do this in a single figure, you'll specify `subplots=True` inside `.plot()` to generate two separate plots.\n",
    "\n",
    "[1]: https://en.wikipedia.org/wiki/Box_plot"
   ]
  },
  {
   "cell_type": "code",
   "execution_count": null,
   "metadata": {},
   "outputs": [],
   "source": [
    "# Make a list of the column names to be plotted: cols\n",
    "cols = ['weight','mpg']\n",
    "\n",
    "# Generate the box plots\n",
    "df[cols].plot(kind='box',subplots=True)\n",
    "\n",
    "# Display the plot\n",
    "plt.show()"
   ]
  }
 ],
 "metadata": {
  "kernelspec": {
   "display_name": "Python 3",
   "language": "python",
   "name": "python3"
  },
  "language_info": {
   "codemirror_mode": {
    "name": "ipython",
    "version": 3
   },
   "file_extension": ".py",
   "mimetype": "text/x-python",
   "name": "python",
   "nbconvert_exporter": "python",
   "pygments_lexer": "ipython3",
   "version": "3.7.1"
  }
 },
 "nbformat": 4,
 "nbformat_minor": 2
}

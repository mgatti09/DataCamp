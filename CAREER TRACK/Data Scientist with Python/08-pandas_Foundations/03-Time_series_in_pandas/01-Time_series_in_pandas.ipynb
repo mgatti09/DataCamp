{
 "cells": [
  {
   "cell_type": "markdown",
   "metadata": {},
   "source": [
    "# Indexing time series \n",
    "## Using pandas to read datetime objects\n",
    "- read_csv() function\n",
    "    - Can read strings into datetime objects\n",
    "    - Need to specify ‘parse_dates=True’\n",
    "- ISO 8601 format\n",
    "    - yyyy-mm-dd hh:mm:ss\n",
    "    \n",
    "## Partial datetime string selection\n",
    "- Alternative formats:\n",
    "    - sales.loc[‘February 5, 2015’]\n",
    "    - sales.loc[‘2015-Feb-5’]\n",
    "- Whole month: sales.loc[‘2015-2’]\n",
    "- Whole year: sales.loc[‘2015’]\n",
    "- Only the month: sales.loc[sales.index.month==2]\n",
    "- Only the day: sales.loc[sales.index.day==2]"
   ]
  },
  {
   "cell_type": "code",
   "execution_count": 1,
   "metadata": {},
   "outputs": [],
   "source": [
    "import pandas as pd\n",
    "import numpy as np\n",
    "import matplotlib.pyplot as plt"
   ]
  },
  {
   "cell_type": "code",
   "execution_count": 2,
   "metadata": {},
   "outputs": [],
   "source": [
    "filepath = '../_datasets/'\n",
    "filename = 'weather_data_austin_2010.csv'"
   ]
  },
  {
   "cell_type": "code",
   "execution_count": 3,
   "metadata": {},
   "outputs": [
    {
     "data": {
      "text/html": [
       "<div>\n",
       "<style scoped>\n",
       "    .dataframe tbody tr th:only-of-type {\n",
       "        vertical-align: middle;\n",
       "    }\n",
       "\n",
       "    .dataframe tbody tr th {\n",
       "        vertical-align: top;\n",
       "    }\n",
       "\n",
       "    .dataframe thead th {\n",
       "        text-align: right;\n",
       "    }\n",
       "</style>\n",
       "<table border=\"1\" class=\"dataframe\">\n",
       "  <thead>\n",
       "    <tr style=\"text-align: right;\">\n",
       "      <th></th>\n",
       "      <th>Temperature</th>\n",
       "      <th>DewPoint</th>\n",
       "      <th>Pressure</th>\n",
       "      <th>Date</th>\n",
       "    </tr>\n",
       "  </thead>\n",
       "  <tbody>\n",
       "    <tr>\n",
       "      <th>0</th>\n",
       "      <td>46.2</td>\n",
       "      <td>37.5</td>\n",
       "      <td>1.0</td>\n",
       "      <td>20100101 00:00</td>\n",
       "    </tr>\n",
       "    <tr>\n",
       "      <th>1</th>\n",
       "      <td>44.6</td>\n",
       "      <td>37.1</td>\n",
       "      <td>1.0</td>\n",
       "      <td>20100101 01:00</td>\n",
       "    </tr>\n",
       "    <tr>\n",
       "      <th>2</th>\n",
       "      <td>44.1</td>\n",
       "      <td>36.9</td>\n",
       "      <td>1.0</td>\n",
       "      <td>20100101 02:00</td>\n",
       "    </tr>\n",
       "    <tr>\n",
       "      <th>3</th>\n",
       "      <td>43.8</td>\n",
       "      <td>36.9</td>\n",
       "      <td>1.0</td>\n",
       "      <td>20100101 03:00</td>\n",
       "    </tr>\n",
       "    <tr>\n",
       "      <th>4</th>\n",
       "      <td>43.5</td>\n",
       "      <td>36.8</td>\n",
       "      <td>1.0</td>\n",
       "      <td>20100101 04:00</td>\n",
       "    </tr>\n",
       "  </tbody>\n",
       "</table>\n",
       "</div>"
      ],
      "text/plain": [
       "   Temperature  DewPoint  Pressure            Date\n",
       "0         46.2      37.5       1.0  20100101 00:00\n",
       "1         44.6      37.1       1.0  20100101 01:00\n",
       "2         44.1      36.9       1.0  20100101 02:00\n",
       "3         43.8      36.9       1.0  20100101 03:00\n",
       "4         43.5      36.8       1.0  20100101 04:00"
      ]
     },
     "execution_count": 3,
     "metadata": {},
     "output_type": "execute_result"
    }
   ],
   "source": [
    "df = pd.read_csv(filepath+filename)\n",
    "df.head()"
   ]
  },
  {
   "cell_type": "code",
   "execution_count": 4,
   "metadata": {},
   "outputs": [
    {
     "name": "stdout",
     "output_type": "stream",
     "text": [
      "<class 'list'>\n",
      "<class 'list'>\n"
     ]
    }
   ],
   "source": [
    "temperature_list = df.Temperature.values.tolist()\n",
    "date_list = df.Date.values.tolist()\n",
    "print(type(temperature_list))\n",
    "print(type(date_list))"
   ]
  },
  {
   "cell_type": "markdown",
   "metadata": {},
   "source": [
    "### Creating and using a DatetimeIndex\n",
    "The pandas Index is a powerful way to handle time series data, so it is valuable to know how to build one yourself. Pandas provides the `pd.to_datetime()` function for just this task. For example, if passed the list of strings `['2015-01-01 091234','2015-01-01 091234']` and a format specification variable, such as `format='%Y-%m-%d %H%M%S`, pandas will parse the string into the proper datetime elements and build the datetime objects.\n",
    "\n",
    "In this exercise, a list of temperature data and a list of date strings has been pre-loaded as `temperature_list` and `date_list` respectively. Your job is to use the `.to_datetime()` method to build a `DatetimeIndex` out of the list of date strings, and to then use it along with the list of temperature data to build a pandas Series."
   ]
  },
  {
   "cell_type": "code",
   "execution_count": 5,
   "metadata": {},
   "outputs": [
    {
     "name": "stdout",
     "output_type": "stream",
     "text": [
      "<class 'pandas.core.indexes.datetimes.DatetimeIndex'>\n",
      "<class 'pandas.core.series.Series'>\n"
     ]
    }
   ],
   "source": [
    "# Prepare a format string: time_format\n",
    "time_format = '%Y-%m-%d %H:%M'\n",
    "\n",
    "# Convert date_list into a datetime object: my_datetimes\n",
    "my_datetimes = pd.to_datetime(date_list, format=time_format)  \n",
    "\n",
    "# Construct a pandas Series using temperature_list and my_datetimes: time_series\n",
    "time_series = pd.Series(temperature_list, index=my_datetimes)\n",
    "\n",
    "print(type(my_datetimes))\n",
    "print(type(time_series))"
   ]
  },
  {
   "cell_type": "markdown",
   "metadata": {},
   "source": [
    "### Partial string indexing and slicing\n",
    "Pandas time series support \"partial string\" indexing. What this means is that even when passed only a portion of the datetime, such as the date but not the time, pandas is remarkably good at doing what one would expect. Pandas datetime indexing also supports a wide variety of commonly used datetime string formats, even when mixed.\n",
    "\n",
    "In this exercise, a time series that contains hourly weather. This data was read using the `parse_dates=True` option in `read_csv()` with `index_col=\"Dates\"` so that the Index is indeed a `DatetimeIndex`."
   ]
  },
  {
   "cell_type": "code",
   "execution_count": 6,
   "metadata": {},
   "outputs": [
    {
     "data": {
      "text/plain": [
       "Date\n",
       "2010-01-01 00:00:00    46.2\n",
       "2010-01-01 01:00:00    44.6\n",
       "2010-01-01 02:00:00    44.1\n",
       "2010-01-01 03:00:00    43.8\n",
       "2010-01-01 04:00:00    43.5\n",
       "Name: Temperature, dtype: float64"
      ]
     },
     "execution_count": 6,
     "metadata": {},
     "output_type": "execute_result"
    }
   ],
   "source": [
    "urlDataSet = 'https://assets.datacamp.com/production/course_1639/datasets/weather_data_austin_2010.csv'\n",
    "ts0 = pd.read_csv(urlDataSet, parse_dates=True, index_col='Date')\n",
    "ts0 = ts0.loc[:,'Temperature']\n",
    "ts0.head()"
   ]
  },
  {
   "cell_type": "code",
   "execution_count": 7,
   "metadata": {},
   "outputs": [
    {
     "data": {
      "text/plain": [
       "Date\n",
       "2010-10-11 21:00:00    69.0\n",
       "2010-10-11 22:00:00    67.7\n",
       "Name: Temperature, dtype: float64"
      ]
     },
     "execution_count": 7,
     "metadata": {},
     "output_type": "execute_result"
    }
   ],
   "source": [
    "# Extract the hour from 9pm to 10pm on '2010-10-11': ts1\n",
    "ts1 = ts0.loc['2010-10-11 21:00:00':'2010-10-11 22:00:00']\n",
    "ts1.head()"
   ]
  },
  {
   "cell_type": "code",
   "execution_count": 8,
   "metadata": {},
   "outputs": [
    {
     "data": {
      "text/plain": [
       "Date\n",
       "2010-07-04 00:00:00    77.6\n",
       "2010-07-04 01:00:00    76.3\n",
       "2010-07-04 02:00:00    75.5\n",
       "2010-07-04 03:00:00    74.9\n",
       "2010-07-04 04:00:00    74.6\n",
       "Name: Temperature, dtype: float64"
      ]
     },
     "execution_count": 8,
     "metadata": {},
     "output_type": "execute_result"
    }
   ],
   "source": [
    "# Extract '2010-07-04' from ts0: ts2\n",
    "ts2 = ts0.loc['2010-07-04']\n",
    "ts2.head()"
   ]
  },
  {
   "cell_type": "code",
   "execution_count": 9,
   "metadata": {},
   "outputs": [
    {
     "data": {
      "text/plain": [
       "Date\n",
       "2010-12-15 00:00:00    48.0\n",
       "2010-12-15 01:00:00    47.2\n",
       "2010-12-15 02:00:00    46.5\n",
       "2010-12-15 03:00:00    46.0\n",
       "2010-12-15 04:00:00    45.6\n",
       "Name: Temperature, dtype: float64"
      ]
     },
     "execution_count": 9,
     "metadata": {},
     "output_type": "execute_result"
    }
   ],
   "source": [
    "# Extract data from '2010-12-15' to '2010-12-31': ts3\n",
    "ts3 = ts0.loc['2010-12-15':'2010-12-31']\n",
    "ts3.head()"
   ]
  },
  {
   "cell_type": "markdown",
   "metadata": {},
   "source": [
    "### Reindexing the Index\n",
    "Reindexing is useful in preparation for adding or otherwise combining two time series data sets. To reindex the data, we provide a new index and ask pandas to try and match the old data to the new index. If data is unavailable for one of the new index dates or times, you must tell pandas how to fill it in. Otherwise, pandas will fill with `NaN` by default."
   ]
  },
  {
   "cell_type": "code",
   "execution_count": 10,
   "metadata": {},
   "outputs": [],
   "source": [
    "# Prepare a format string: time_format\n",
    "time_format = '%Y-%m-%d %H:%M'\n",
    "\n",
    "date_list = ['2016-07-01', '2016-07-02', '2016-07-03', '2016-07-04', '2016-07-05', '2016-07-06', '2016-07-07', '2016-07-08', '2016-07-09', '2016-07-10', '2016-07-11', '2016-07-12', '2016-07-13', '2016-07-14', '2016-07-15', '2016-07-16', '2016-07-17']\n",
    "value_list = [ 0,  1,  2,  3,  4,  5,  6,  7,  8,  9, 10, 11, 12, 13, 14, 15, 16]\n",
    "# Construct a pandas Series using temperature_list and my_datetimes: time_series\n",
    "ts1 = pd.Series(value_list, index=pd.to_datetime(date_list, format=time_format))\n",
    "\n",
    "\n",
    "date_list = ['2016-07-01', '2016-07-04', '2016-07-05', '2016-07-06', '2016-07-07', '2016-07-08', '2016-07-11', '2016-07-12', '2016-07-13', '2016-07-14', '2016-07-15']\n",
    "value_list = [ 0,  1,  2,  3,  4,  5,  6,  7,  8,  9, 10]\n",
    "# Construct a pandas Series using temperature_list and my_datetimes: time_series\n",
    "ts2 = pd.Series(value_list, index=pd.to_datetime(date_list, format=time_format))"
   ]
  },
  {
   "cell_type": "markdown",
   "metadata": {},
   "source": [
    "In this exercise, two time series data sets containing daily data, each indexed by dates. The first, ts1, includes weekends, but the second, ts2, does not. The goal is to combine the two data sets in a sensible way. Your job is to reindex the second data set so that it has weekends as well, and then add it to the first. When you are done, it would be informative to inspect your results."
   ]
  },
  {
   "cell_type": "code",
   "execution_count": 11,
   "metadata": {},
   "outputs": [
    {
     "data": {
      "text/plain": [
       "2016-07-01    0.0\n",
       "2016-07-02    NaN\n",
       "2016-07-03    NaN\n",
       "2016-07-04    1.0\n",
       "2016-07-05    2.0\n",
       "dtype: float64"
      ]
     },
     "execution_count": 11,
     "metadata": {},
     "output_type": "execute_result"
    }
   ],
   "source": [
    "# Reindex without fill method: ts3\n",
    "ts3 = ts2.reindex(ts1.index)\n",
    "ts3.head()"
   ]
  },
  {
   "cell_type": "code",
   "execution_count": 12,
   "metadata": {},
   "outputs": [
    {
     "data": {
      "text/plain": [
       "2016-07-01    0\n",
       "2016-07-02    0\n",
       "2016-07-03    0\n",
       "2016-07-04    1\n",
       "2016-07-05    2\n",
       "dtype: int64"
      ]
     },
     "execution_count": 12,
     "metadata": {},
     "output_type": "execute_result"
    }
   ],
   "source": [
    "# Reindex with fill method, using forward fill: ts4\n",
    "ts4 = ts2.reindex(ts1.index,method='ffill')\n",
    "ts4.head()"
   ]
  },
  {
   "cell_type": "markdown",
   "metadata": {},
   "source": [
    "### Missing values and interpolation\n",
    "One common application of interpolation in data analysis is to fill in missing data.\n",
    "\n",
    "In this exercise, noisy measured data that has some dropped or otherwise missing values has been loaded. The goal is to compare two time series, and then look at summary statistics of the differences. The problem is that one of the data sets is missing data at some of the times. The data `ts1` has value for all times, yet the data set `ts2` does not: it is missing data for the weekends.\n",
    "\n",
    "Your job is to first interpolate to fill in the data for all days. Then, compute the differences between the two data sets, now that they both have full support for all times. Finally, generate the summary statistics that describe the distribution of differences."
   ]
  },
  {
   "cell_type": "code",
   "execution_count": 13,
   "metadata": {},
   "outputs": [
    {
     "name": "stdout",
     "output_type": "stream",
     "text": [
      "count    17.000000\n",
      "mean      2.882353\n",
      "std       1.585267\n",
      "min       0.000000\n",
      "25%       2.000000\n",
      "50%       2.666667\n",
      "75%       4.000000\n",
      "max       6.000000\n",
      "dtype: float64\n"
     ]
    }
   ],
   "source": [
    "# Reset the index of ts2 to ts1, and then use linear interpolation to fill in the NaNs: ts2_interp\n",
    "ts2_interp = ts2.reindex(ts1.index).interpolate(how='linear')\n",
    "\n",
    "# Compute the absolute difference of ts1 and ts2_interp: differences \n",
    "differences = np.abs(ts1-ts2_interp)\n",
    "\n",
    "# Generate and print summary statistics of the differences\n",
    "print(differences.describe())"
   ]
  },
  {
   "cell_type": "markdown",
   "metadata": {},
   "source": [
    "# Resampling time series data\n",
    "## Resampling\n",
    "- Statistical methods over different time intervals\n",
    "    - mean(), sum(), count(), etc.\n",
    "- Down-sampling\n",
    "    - reduce datetime rows to slower frequency\n",
    "- Up-sampling\n",
    "    - increase datetime rows to faster frequency\n",
    "    \n",
    "## Resampling frequencies\n",
    "\n",
    "| Input         | Description           \n",
    "| ------------- |:-------------:\n",
    "| ‘min’, ‘ T’   | minute\n",
    "|‘H’            | hour\n",
    "|‘D’            | day\n",
    "|‘B’            | business day\n",
    "|‘W’            | week\n",
    "|‘M’            | month\n",
    "|‘Q’            | quarter\n",
    "|‘A’            | year"
   ]
  },
  {
   "cell_type": "markdown",
   "metadata": {},
   "source": [
    "### Resampling and frequency\n",
    "Pandas provides methods for resampling time series data. When downsampling or upsampling, the syntax is similar, but the methods called are different. Both use the concept of 'method chaining' - `df.method1().method2().method3()` - to direct the output from one method call to the input of the next, and so on, as a sequence of operations, one feeding into the next.\n",
    "\n",
    "For example, if you have hourly data, and just need daily data, pandas will not guess how to throw out the 23 of 24 points. You must specify this in the method. One approach, for instance, could be to take the mean, as in `df.resample('D').mean()`."
   ]
  },
  {
   "cell_type": "code",
   "execution_count": 14,
   "metadata": {},
   "outputs": [
    {
     "data": {
      "text/html": [
       "<div>\n",
       "<style scoped>\n",
       "    .dataframe tbody tr th:only-of-type {\n",
       "        vertical-align: middle;\n",
       "    }\n",
       "\n",
       "    .dataframe tbody tr th {\n",
       "        vertical-align: top;\n",
       "    }\n",
       "\n",
       "    .dataframe thead th {\n",
       "        text-align: right;\n",
       "    }\n",
       "</style>\n",
       "<table border=\"1\" class=\"dataframe\">\n",
       "  <thead>\n",
       "    <tr style=\"text-align: right;\">\n",
       "      <th></th>\n",
       "      <th>Temperature</th>\n",
       "      <th>DewPoint</th>\n",
       "      <th>Pressure</th>\n",
       "    </tr>\n",
       "    <tr>\n",
       "      <th>Date</th>\n",
       "      <th></th>\n",
       "      <th></th>\n",
       "      <th></th>\n",
       "    </tr>\n",
       "  </thead>\n",
       "  <tbody>\n",
       "    <tr>\n",
       "      <th>2010-01-01 00:00:00</th>\n",
       "      <td>46.2</td>\n",
       "      <td>37.5</td>\n",
       "      <td>1.0</td>\n",
       "    </tr>\n",
       "    <tr>\n",
       "      <th>2010-01-01 01:00:00</th>\n",
       "      <td>44.6</td>\n",
       "      <td>37.1</td>\n",
       "      <td>1.0</td>\n",
       "    </tr>\n",
       "    <tr>\n",
       "      <th>2010-01-01 02:00:00</th>\n",
       "      <td>44.1</td>\n",
       "      <td>36.9</td>\n",
       "      <td>1.0</td>\n",
       "    </tr>\n",
       "    <tr>\n",
       "      <th>2010-01-01 03:00:00</th>\n",
       "      <td>43.8</td>\n",
       "      <td>36.9</td>\n",
       "      <td>1.0</td>\n",
       "    </tr>\n",
       "    <tr>\n",
       "      <th>2010-01-01 04:00:00</th>\n",
       "      <td>43.5</td>\n",
       "      <td>36.8</td>\n",
       "      <td>1.0</td>\n",
       "    </tr>\n",
       "  </tbody>\n",
       "</table>\n",
       "</div>"
      ],
      "text/plain": [
       "                     Temperature  DewPoint  Pressure\n",
       "Date                                                \n",
       "2010-01-01 00:00:00         46.2      37.5       1.0\n",
       "2010-01-01 01:00:00         44.6      37.1       1.0\n",
       "2010-01-01 02:00:00         44.1      36.9       1.0\n",
       "2010-01-01 03:00:00         43.8      36.9       1.0\n",
       "2010-01-01 04:00:00         43.5      36.8       1.0"
      ]
     },
     "execution_count": 14,
     "metadata": {},
     "output_type": "execute_result"
    }
   ],
   "source": [
    "urlDataSet = 'https://assets.datacamp.com/production/course_1639/datasets/weather_data_austin_2010.csv'\n",
    "df = pd.read_csv(urlDataSet, parse_dates=True, index_col='Date')\n",
    "df.head()"
   ]
  },
  {
   "cell_type": "code",
   "execution_count": 15,
   "metadata": {},
   "outputs": [
    {
     "data": {
      "text/plain": [
       "Date\n",
       "2010-01-01 00:00:00    44.200000\n",
       "2010-01-01 06:00:00    45.933333\n",
       "2010-01-01 12:00:00    57.766667\n",
       "2010-01-01 18:00:00    49.450000\n",
       "2010-01-02 00:00:00    44.516667\n",
       "Freq: 6H, Name: Temperature, dtype: float64"
      ]
     },
     "execution_count": 15,
     "metadata": {},
     "output_type": "execute_result"
    }
   ],
   "source": [
    "# Downsample to 6 hour data and aggregate by mean: df1\n",
    "df1 = df.Temperature.resample('6H').mean()\n",
    "df1.head()"
   ]
  },
  {
   "cell_type": "code",
   "execution_count": 16,
   "metadata": {},
   "outputs": [
    {
     "data": {
      "text/plain": [
       "Date\n",
       "2010-01-01    24\n",
       "2010-01-02    24\n",
       "2010-01-03    24\n",
       "2010-01-04    24\n",
       "2010-01-05    24\n",
       "Freq: D, Name: Temperature, dtype: int64"
      ]
     },
     "execution_count": 16,
     "metadata": {},
     "output_type": "execute_result"
    }
   ],
   "source": [
    "# Downsample to daily data and count the number of data points: df2\n",
    "df2 = df.Temperature.resample('D').count()\n",
    "df2.head()"
   ]
  },
  {
   "cell_type": "markdown",
   "metadata": {},
   "source": [
    "### Separating and resampling\n",
    "With pandas, you can resample in different ways on different subsets of your data. For example, resampling different months of data with different aggregations. "
   ]
  },
  {
   "cell_type": "code",
   "execution_count": 17,
   "metadata": {},
   "outputs": [
    {
     "data": {
      "text/plain": [
       "Date\n",
       "2010-08-01 00:00:00    79.0\n",
       "2010-08-01 01:00:00    77.4\n",
       "2010-08-01 02:00:00    76.4\n",
       "2010-08-01 03:00:00    75.7\n",
       "2010-08-01 04:00:00    75.1\n",
       "Name: Temperature, dtype: float64"
      ]
     },
     "execution_count": 17,
     "metadata": {},
     "output_type": "execute_result"
    }
   ],
   "source": [
    "# Extract temperature data for August: august\n",
    "august = df.Temperature['2010-08']\n",
    "august.head()"
   ]
  },
  {
   "cell_type": "code",
   "execution_count": 18,
   "metadata": {},
   "outputs": [
    {
     "data": {
      "text/plain": [
       "Date\n",
       "2010-08-01    95.0\n",
       "2010-08-02    95.0\n",
       "2010-08-03    95.1\n",
       "2010-08-04    95.1\n",
       "2010-08-05    95.1\n",
       "Freq: D, Name: Temperature, dtype: float64"
      ]
     },
     "execution_count": 18,
     "metadata": {},
     "output_type": "execute_result"
    }
   ],
   "source": [
    "# Downsample to obtain only the daily highest temperatures in August: august_highs\n",
    "august_highs = august.resample('D').max()\n",
    "august_highs.head()"
   ]
  },
  {
   "cell_type": "code",
   "execution_count": 19,
   "metadata": {},
   "outputs": [
    {
     "data": {
      "text/plain": [
       "Date\n",
       "2010-02-01 00:00:00    47.8\n",
       "2010-02-01 01:00:00    46.8\n",
       "2010-02-01 02:00:00    46.1\n",
       "2010-02-01 03:00:00    45.5\n",
       "2010-02-01 04:00:00    44.9\n",
       "Name: Temperature, dtype: float64"
      ]
     },
     "execution_count": 19,
     "metadata": {},
     "output_type": "execute_result"
    }
   ],
   "source": [
    "# Extract temperature data for February: february\n",
    "february = df.Temperature['2010-02']\n",
    "february.head()"
   ]
  },
  {
   "cell_type": "code",
   "execution_count": 20,
   "metadata": {},
   "outputs": [
    {
     "data": {
      "text/plain": [
       "Date\n",
       "2010-02-01    43.8\n",
       "2010-02-02    44.3\n",
       "2010-02-03    44.6\n",
       "2010-02-04    44.5\n",
       "2010-02-05    44.3\n",
       "Freq: D, Name: Temperature, dtype: float64"
      ]
     },
     "execution_count": 20,
     "metadata": {},
     "output_type": "execute_result"
    }
   ],
   "source": [
    "# Downsample to obtain the daily lowest temperatures in February: february_lows\n",
    "february_lows = february.resample('D').min()\n",
    "february_lows.head()"
   ]
  },
  {
   "cell_type": "markdown",
   "metadata": {},
   "source": [
    "### Rolling mean and frequency\n",
    "You will continue to practice resampling, this time using rolling means.\n",
    "\n",
    "Rolling means (or moving averages) are generally used to smooth out short-term fluctuations in time series data and highlight long-term trends. You can read more about them [here][1].\n",
    "\n",
    "To use the `.rolling()` method, you must always use method chaining, first calling `.rolling()` and then chaining an aggregation method after it. For example, with a Series `hourly_data`, `hourly_data.rolling(window=24).mean()` would compute new values for each hourly point, based on a 24-hour window stretching out behind each point. The frequency of the output data is the same: it is still hourly. Such an operation is useful for smoothing time series data.\n",
    "\n",
    "[1]: https://en.wikipedia.org/wiki/Moving_average"
   ]
  },
  {
   "cell_type": "code",
   "execution_count": 21,
   "metadata": {},
   "outputs": [
    {
     "data": {
      "text/plain": [
       "Date\n",
       "2010-08-01 00:00:00    79.0\n",
       "2010-08-01 01:00:00    77.4\n",
       "2010-08-01 02:00:00    76.4\n",
       "2010-08-01 03:00:00    75.7\n",
       "2010-08-01 04:00:00    75.1\n",
       "2010-08-01 05:00:00    74.6\n",
       "2010-08-01 06:00:00    74.5\n",
       "2010-08-01 07:00:00    76.0\n",
       "2010-08-01 08:00:00    79.8\n",
       "2010-08-01 09:00:00    83.3\n",
       "2010-08-01 10:00:00    86.6\n",
       "2010-08-01 11:00:00    89.3\n",
       "2010-08-01 12:00:00    91.6\n",
       "2010-08-01 13:00:00    93.2\n",
       "2010-08-01 14:00:00    94.4\n",
       "2010-08-01 15:00:00    95.0\n",
       "2010-08-01 16:00:00    94.8\n",
       "2010-08-01 17:00:00    93.9\n",
       "2010-08-01 18:00:00    92.4\n",
       "2010-08-01 19:00:00    89.9\n",
       "2010-08-01 20:00:00    86.1\n",
       "2010-08-01 21:00:00    83.6\n",
       "2010-08-01 22:00:00    81.8\n",
       "2010-08-01 23:00:00    80.0\n",
       "2010-08-02 00:00:00    79.1\n",
       "2010-08-02 01:00:00    77.4\n",
       "2010-08-02 02:00:00    76.5\n",
       "2010-08-02 03:00:00    75.8\n",
       "2010-08-02 04:00:00    75.2\n",
       "2010-08-02 05:00:00    74.6\n",
       "                       ... \n",
       "2010-08-14 18:00:00    92.1\n",
       "2010-08-14 19:00:00    89.0\n",
       "2010-08-14 20:00:00    85.6\n",
       "2010-08-14 21:00:00    83.3\n",
       "2010-08-14 22:00:00    81.6\n",
       "2010-08-14 23:00:00    80.1\n",
       "2010-08-15 00:00:00    79.1\n",
       "2010-08-15 01:00:00    77.4\n",
       "2010-08-15 02:00:00    76.4\n",
       "2010-08-15 03:00:00    75.8\n",
       "2010-08-15 04:00:00    75.3\n",
       "2010-08-15 05:00:00    74.8\n",
       "2010-08-15 06:00:00    74.7\n",
       "2010-08-15 07:00:00    75.8\n",
       "2010-08-15 08:00:00    79.5\n",
       "2010-08-15 09:00:00    83.1\n",
       "2010-08-15 10:00:00    86.2\n",
       "2010-08-15 11:00:00    89.1\n",
       "2010-08-15 12:00:00    91.4\n",
       "2010-08-15 13:00:00    93.0\n",
       "2010-08-15 14:00:00    94.2\n",
       "2010-08-15 15:00:00    94.7\n",
       "2010-08-15 16:00:00    94.6\n",
       "2010-08-15 17:00:00    93.9\n",
       "2010-08-15 18:00:00    91.9\n",
       "2010-08-15 19:00:00    88.8\n",
       "2010-08-15 20:00:00    85.5\n",
       "2010-08-15 21:00:00    83.3\n",
       "2010-08-15 22:00:00    81.6\n",
       "2010-08-15 23:00:00    80.0\n",
       "Name: Temperature, Length: 360, dtype: float64"
      ]
     },
     "execution_count": 21,
     "metadata": {},
     "output_type": "execute_result"
    }
   ],
   "source": [
    "# Extract data from 2010-Aug-01 to 2010-Aug-15: unsmoothed\n",
    "unsmoothed = df['Temperature']['2010-Aug-01':'2010-Aug-15']\n",
    "unsmoothed"
   ]
  },
  {
   "cell_type": "code",
   "execution_count": 22,
   "metadata": {},
   "outputs": [
    {
     "data": {
      "text/plain": [
       "Date\n",
       "2010-08-01 00:00:00          NaN\n",
       "2010-08-01 01:00:00          NaN\n",
       "2010-08-01 02:00:00          NaN\n",
       "2010-08-01 03:00:00          NaN\n",
       "2010-08-01 04:00:00          NaN\n",
       "2010-08-01 05:00:00          NaN\n",
       "2010-08-01 06:00:00          NaN\n",
       "2010-08-01 07:00:00          NaN\n",
       "2010-08-01 08:00:00          NaN\n",
       "2010-08-01 09:00:00          NaN\n",
       "2010-08-01 10:00:00          NaN\n",
       "2010-08-01 11:00:00          NaN\n",
       "2010-08-01 12:00:00          NaN\n",
       "2010-08-01 13:00:00          NaN\n",
       "2010-08-01 14:00:00          NaN\n",
       "2010-08-01 15:00:00          NaN\n",
       "2010-08-01 16:00:00          NaN\n",
       "2010-08-01 17:00:00          NaN\n",
       "2010-08-01 18:00:00          NaN\n",
       "2010-08-01 19:00:00          NaN\n",
       "2010-08-01 20:00:00          NaN\n",
       "2010-08-01 21:00:00          NaN\n",
       "2010-08-01 22:00:00          NaN\n",
       "2010-08-01 23:00:00    84.350000\n",
       "2010-08-02 00:00:00    84.354167\n",
       "2010-08-02 01:00:00    84.354167\n",
       "2010-08-02 02:00:00    84.358333\n",
       "2010-08-02 03:00:00    84.362500\n",
       "2010-08-02 04:00:00    84.366667\n",
       "2010-08-02 05:00:00    84.366667\n",
       "                         ...    \n",
       "2010-08-14 18:00:00    84.287500\n",
       "2010-08-14 19:00:00    84.279167\n",
       "2010-08-14 20:00:00    84.275000\n",
       "2010-08-14 21:00:00    84.270833\n",
       "2010-08-14 22:00:00    84.266667\n",
       "2010-08-14 23:00:00    84.262500\n",
       "2010-08-15 00:00:00    84.258333\n",
       "2010-08-15 01:00:00    84.254167\n",
       "2010-08-15 02:00:00    84.250000\n",
       "2010-08-15 03:00:00    84.245833\n",
       "2010-08-15 04:00:00    84.241667\n",
       "2010-08-15 05:00:00    84.237500\n",
       "2010-08-15 06:00:00    84.237500\n",
       "2010-08-15 07:00:00    84.233333\n",
       "2010-08-15 08:00:00    84.233333\n",
       "2010-08-15 09:00:00    84.233333\n",
       "2010-08-15 10:00:00    84.229167\n",
       "2010-08-15 11:00:00    84.225000\n",
       "2010-08-15 12:00:00    84.220833\n",
       "2010-08-15 13:00:00    84.216667\n",
       "2010-08-15 14:00:00    84.212500\n",
       "2010-08-15 15:00:00    84.204167\n",
       "2010-08-15 16:00:00    84.200000\n",
       "2010-08-15 17:00:00    84.195833\n",
       "2010-08-15 18:00:00    84.187500\n",
       "2010-08-15 19:00:00    84.179167\n",
       "2010-08-15 20:00:00    84.175000\n",
       "2010-08-15 21:00:00    84.175000\n",
       "2010-08-15 22:00:00    84.175000\n",
       "2010-08-15 23:00:00    84.170833\n",
       "Name: Temperature, Length: 360, dtype: float64"
      ]
     },
     "execution_count": 22,
     "metadata": {},
     "output_type": "execute_result"
    }
   ],
   "source": [
    "# Apply a rolling mean with a 24 hour window: smoothed\n",
    "smoothed = unsmoothed.rolling(window=24).mean()\n",
    "smoothed"
   ]
  },
  {
   "cell_type": "code",
   "execution_count": 23,
   "metadata": {},
   "outputs": [
    {
     "data": {
      "image/png": "[encoded data removed]",
      "text/plain": [
       "<Figure size 432x288 with 1 Axes>"
      ]
     },
     "metadata": {
      "needs_background": "light"
     },
     "output_type": "display_data"
    }
   ],
   "source": [
    "# Create a new DataFrame with columns smoothed and unsmoothed: august\n",
    "august = pd.DataFrame({'smoothed':smoothed, 'unsmoothed':unsmoothed})\n",
    "\n",
    "# Plot both smoothed and unsmoothed data using august.plot().\n",
    "august.plot()\n",
    "plt.show()"
   ]
  },
  {
   "cell_type": "markdown",
   "metadata": {},
   "source": [
    "### Resample and roll with it\n",
    "As of pandas version 0.18.0, the interface for applying rolling transformations to time series has become more consistent and flexible, and feels somewhat like a groupby.\n",
    "\n",
    "You can now flexibly chain together resampling and rolling operations. Your job is to extract one month of data, resample to find the daily high temperatures, and then use a rolling and aggregation operation to smooth the data."
   ]
  },
  {
   "cell_type": "code",
   "execution_count": 24,
   "metadata": {},
   "outputs": [
    {
     "name": "stdout",
     "output_type": "stream",
     "text": [
      "Date\n",
      "2010-08-01          NaN\n",
      "2010-08-02          NaN\n",
      "2010-08-03          NaN\n",
      "2010-08-04          NaN\n",
      "2010-08-05          NaN\n",
      "2010-08-06          NaN\n",
      "2010-08-07    95.114286\n",
      "2010-08-08    95.142857\n",
      "2010-08-09    95.171429\n",
      "2010-08-10    95.171429\n",
      "2010-08-11    95.157143\n",
      "2010-08-12    95.128571\n",
      "2010-08-13    95.100000\n",
      "2010-08-14    95.042857\n",
      "2010-08-15    94.971429\n",
      "2010-08-16    94.900000\n",
      "2010-08-17    94.857143\n",
      "2010-08-18    94.828571\n",
      "2010-08-19    94.814286\n",
      "2010-08-20    94.785714\n",
      "2010-08-21    94.757143\n",
      "2010-08-22    94.742857\n",
      "2010-08-23    94.714286\n",
      "2010-08-24    94.642857\n",
      "2010-08-25    94.542857\n",
      "2010-08-26    94.428571\n",
      "2010-08-27    94.271429\n",
      "2010-08-28    94.100000\n",
      "2010-08-29    93.914286\n",
      "2010-08-30    93.742857\n",
      "2010-08-31    93.571429\n",
      "Freq: D, Name: Temperature, dtype: float64\n"
     ]
    }
   ],
   "source": [
    "# Extract the August 2010 data: august\n",
    "august = df['Temperature']['2010-08']\n",
    "\n",
    "# Resample to daily data, aggregating by max: daily_highs\n",
    "daily_highs = august.resample('D').max()\n",
    "\n",
    "# Use a rolling 7-day window with method chaining to smooth the daily high temperatures in August\n",
    "daily_highs_smoothed = daily_highs.rolling(window=7).mean()\n",
    "print(daily_highs_smoothed)"
   ]
  },
  {
   "cell_type": "markdown",
   "metadata": {},
   "source": [
    "# Manipulating time series data"
   ]
  },
  {
   "cell_type": "markdown",
   "metadata": {},
   "source": [
    "### Method chaining and filtering\n",
    "We've seen that pandas supports method chaining. This technique can be very powerful when cleaning and filtering data.\n",
    "\n",
    "In this exercise, a DataFrame containing flight departure data for a single airline and a single airport for the month of July 2015 has been pre-loaded. Your job is to use .str() filtering and method chaining to generate summary statistics on flight delays each day to Dallas."
   ]
  },
  {
   "cell_type": "code",
   "execution_count": 25,
   "metadata": {},
   "outputs": [
    {
     "data": {
      "text/html": [
       "<div>\n",
       "<style scoped>\n",
       "    .dataframe tbody tr th:only-of-type {\n",
       "        vertical-align: middle;\n",
       "    }\n",
       "\n",
       "    .dataframe tbody tr th {\n",
       "        vertical-align: top;\n",
       "    }\n",
       "\n",
       "    .dataframe thead th {\n",
       "        text-align: right;\n",
       "    }\n",
       "</style>\n",
       "<table border=\"1\" class=\"dataframe\">\n",
       "  <thead>\n",
       "    <tr style=\"text-align: right;\">\n",
       "      <th></th>\n",
       "      <th>Carrier Code</th>\n",
       "      <th>Flight Number</th>\n",
       "      <th>Tail Number</th>\n",
       "      <th>Destination Airport</th>\n",
       "      <th>Scheduled Departure Time</th>\n",
       "      <th>Actual Departure Time</th>\n",
       "      <th>Scheduled Elapsed Time(Minutes)</th>\n",
       "      <th>Actual Elapsed Time(Minutes)</th>\n",
       "      <th>Departure Delay(Minutes)</th>\n",
       "      <th>Wheels-off Time</th>\n",
       "      <th>Taxi-out Time(Minutes)</th>\n",
       "      <th>DelayCarrier(Minutes)</th>\n",
       "      <th>DelayWeather(Minutes)</th>\n",
       "      <th>DelayNational Aviation System(Minutes)</th>\n",
       "      <th>DelaySecurity(Minutes)</th>\n",
       "      <th>DelayLate Aircraft Arrival(Minutes)</th>\n",
       "      <th>Unnamed: 17</th>\n",
       "    </tr>\n",
       "    <tr>\n",
       "      <th>Date (MM/DD/YYYY)</th>\n",
       "      <th></th>\n",
       "      <th></th>\n",
       "      <th></th>\n",
       "      <th></th>\n",
       "      <th></th>\n",
       "      <th></th>\n",
       "      <th></th>\n",
       "      <th></th>\n",
       "      <th></th>\n",
       "      <th></th>\n",
       "      <th></th>\n",
       "      <th></th>\n",
       "      <th></th>\n",
       "      <th></th>\n",
       "      <th></th>\n",
       "      <th></th>\n",
       "      <th></th>\n",
       "    </tr>\n",
       "  </thead>\n",
       "  <tbody>\n",
       "    <tr>\n",
       "      <th>2015-07-01</th>\n",
       "      <td>WN</td>\n",
       "      <td>103.0</td>\n",
       "      <td>N8607M</td>\n",
       "      <td>MDW</td>\n",
       "      <td>06:30</td>\n",
       "      <td>06:52</td>\n",
       "      <td>165.0</td>\n",
       "      <td>147.0</td>\n",
       "      <td>22.0</td>\n",
       "      <td>07:01</td>\n",
       "      <td>9.0</td>\n",
       "      <td>0.0</td>\n",
       "      <td>0.0</td>\n",
       "      <td>0.0</td>\n",
       "      <td>0.0</td>\n",
       "      <td>0.0</td>\n",
       "      <td>NaN</td>\n",
       "    </tr>\n",
       "    <tr>\n",
       "      <th>2015-07-01</th>\n",
       "      <td>WN</td>\n",
       "      <td>144.0</td>\n",
       "      <td>N8609A</td>\n",
       "      <td>SAN</td>\n",
       "      <td>20:55</td>\n",
       "      <td>20:50</td>\n",
       "      <td>170.0</td>\n",
       "      <td>158.0</td>\n",
       "      <td>-5.0</td>\n",
       "      <td>21:03</td>\n",
       "      <td>13.0</td>\n",
       "      <td>0.0</td>\n",
       "      <td>0.0</td>\n",
       "      <td>0.0</td>\n",
       "      <td>0.0</td>\n",
       "      <td>0.0</td>\n",
       "      <td>NaN</td>\n",
       "    </tr>\n",
       "    <tr>\n",
       "      <th>2015-07-01</th>\n",
       "      <td>WN</td>\n",
       "      <td>178.0</td>\n",
       "      <td>N646SW</td>\n",
       "      <td>ELP</td>\n",
       "      <td>20:30</td>\n",
       "      <td>20:45</td>\n",
       "      <td>90.0</td>\n",
       "      <td>80.0</td>\n",
       "      <td>15.0</td>\n",
       "      <td>20:55</td>\n",
       "      <td>10.0</td>\n",
       "      <td>0.0</td>\n",
       "      <td>0.0</td>\n",
       "      <td>0.0</td>\n",
       "      <td>0.0</td>\n",
       "      <td>0.0</td>\n",
       "      <td>NaN</td>\n",
       "    </tr>\n",
       "    <tr>\n",
       "      <th>2015-07-01</th>\n",
       "      <td>WN</td>\n",
       "      <td>232.0</td>\n",
       "      <td>N204WN</td>\n",
       "      <td>ATL</td>\n",
       "      <td>05:45</td>\n",
       "      <td>05:49</td>\n",
       "      <td>135.0</td>\n",
       "      <td>137.0</td>\n",
       "      <td>4.0</td>\n",
       "      <td>06:01</td>\n",
       "      <td>12.0</td>\n",
       "      <td>0.0</td>\n",
       "      <td>0.0</td>\n",
       "      <td>0.0</td>\n",
       "      <td>0.0</td>\n",
       "      <td>0.0</td>\n",
       "      <td>NaN</td>\n",
       "    </tr>\n",
       "    <tr>\n",
       "      <th>2015-07-01</th>\n",
       "      <td>WN</td>\n",
       "      <td>238.0</td>\n",
       "      <td>N233LV</td>\n",
       "      <td>DAL</td>\n",
       "      <td>12:30</td>\n",
       "      <td>12:34</td>\n",
       "      <td>55.0</td>\n",
       "      <td>48.0</td>\n",
       "      <td>4.0</td>\n",
       "      <td>12:41</td>\n",
       "      <td>7.0</td>\n",
       "      <td>0.0</td>\n",
       "      <td>0.0</td>\n",
       "      <td>0.0</td>\n",
       "      <td>0.0</td>\n",
       "      <td>0.0</td>\n",
       "      <td>NaN</td>\n",
       "    </tr>\n",
       "  </tbody>\n",
       "</table>\n",
       "</div>"
      ],
      "text/plain": [
       "                    Carrier Code  Flight Number Tail Number  \\\n",
       "Date (MM/DD/YYYY)                                             \n",
       "2015-07-01                    WN          103.0      N8607M   \n",
       "2015-07-01                    WN          144.0      N8609A   \n",
       "2015-07-01                    WN          178.0      N646SW   \n",
       "2015-07-01                    WN          232.0      N204WN   \n",
       "2015-07-01                    WN          238.0      N233LV   \n",
       "\n",
       "                  Destination Airport  Scheduled Departure Time  \\\n",
       "Date (MM/DD/YYYY)                                                 \n",
       "2015-07-01                         MDW                    06:30   \n",
       "2015-07-01                         SAN                    20:55   \n",
       "2015-07-01                         ELP                    20:30   \n",
       "2015-07-01                         ATL                    05:45   \n",
       "2015-07-01                         DAL                    12:30   \n",
       "\n",
       "                  Actual Departure Time  Scheduled Elapsed Time(Minutes)  \\\n",
       "Date (MM/DD/YYYY)                                                          \n",
       "2015-07-01                        06:52                            165.0   \n",
       "2015-07-01                        20:50                            170.0   \n",
       "2015-07-01                        20:45                             90.0   \n",
       "2015-07-01                        05:49                            135.0   \n",
       "2015-07-01                        12:34                             55.0   \n",
       "\n",
       "                   Actual Elapsed Time(Minutes)  Departure Delay(Minutes)  \\\n",
       "Date (MM/DD/YYYY)                                                           \n",
       "2015-07-01                                147.0                      22.0   \n",
       "2015-07-01                                158.0                      -5.0   \n",
       "2015-07-01                                 80.0                      15.0   \n",
       "2015-07-01                                137.0                       4.0   \n",
       "2015-07-01                                 48.0                       4.0   \n",
       "\n",
       "                  Wheels-off Time  Taxi-out Time(Minutes)  \\\n",
       "Date (MM/DD/YYYY)                                           \n",
       "2015-07-01                  07:01                     9.0   \n",
       "2015-07-01                  21:03                    13.0   \n",
       "2015-07-01                  20:55                    10.0   \n",
       "2015-07-01                  06:01                    12.0   \n",
       "2015-07-01                  12:41                     7.0   \n",
       "\n",
       "                   DelayCarrier(Minutes)  DelayWeather(Minutes)  \\\n",
       "Date (MM/DD/YYYY)                                                 \n",
       "2015-07-01                           0.0                    0.0   \n",
       "2015-07-01                           0.0                    0.0   \n",
       "2015-07-01                           0.0                    0.0   \n",
       "2015-07-01                           0.0                    0.0   \n",
       "2015-07-01                           0.0                    0.0   \n",
       "\n",
       "                   DelayNational Aviation System(Minutes)  \\\n",
       "Date (MM/DD/YYYY)                                           \n",
       "2015-07-01                                            0.0   \n",
       "2015-07-01                                            0.0   \n",
       "2015-07-01                                            0.0   \n",
       "2015-07-01                                            0.0   \n",
       "2015-07-01                                            0.0   \n",
       "\n",
       "                   DelaySecurity(Minutes)  \\\n",
       "Date (MM/DD/YYYY)                           \n",
       "2015-07-01                            0.0   \n",
       "2015-07-01                            0.0   \n",
       "2015-07-01                            0.0   \n",
       "2015-07-01                            0.0   \n",
       "2015-07-01                            0.0   \n",
       "\n",
       "                   DelayLate Aircraft Arrival(Minutes)  Unnamed: 17  \n",
       "Date (MM/DD/YYYY)                                                    \n",
       "2015-07-01                                         0.0          NaN  \n",
       "2015-07-01                                         0.0          NaN  \n",
       "2015-07-01                                         0.0          NaN  \n",
       "2015-07-01                                         0.0          NaN  \n",
       "2015-07-01                                         0.0          NaN  "
      ]
     },
     "execution_count": 25,
     "metadata": {},
     "output_type": "execute_result"
    }
   ],
   "source": [
    "urlDataSet = 'https://assets.datacamp.com/production/course_1639/datasets/austin_airport_departure_data_2015_july.csv'\n",
    "df = pd.read_csv(urlDataSet, skiprows=15, parse_dates =True, index_col = 'Date (MM/DD/YYYY)')\n",
    "df.head() "
   ]
  },
  {
   "cell_type": "code",
   "execution_count": 26,
   "metadata": {},
   "outputs": [
    {
     "data": {
      "text/plain": [
       "Date (MM/DD/YYYY)\n",
       "2015-07-01    10\n",
       "2015-07-02    10\n",
       "2015-07-03    11\n",
       "2015-07-04     3\n",
       "2015-07-05     9\n",
       "dtype: int64"
      ]
     },
     "execution_count": 26,
     "metadata": {},
     "output_type": "execute_result"
    }
   ],
   "source": [
    "# Strip extra whitespace from the column names: df.columns\n",
    "df.columns = df.columns.str.strip()\n",
    "\n",
    "# Extract data for which the destination airport is Dallas: dallas\n",
    "dallas = df['Destination Airport'].str.contains('DAL')\n",
    "\n",
    "# Compute the total number of Dallas departures each day: daily_departures\n",
    "daily_departures = dallas.resample('D').sum()\n",
    "daily_departures.head()"
   ]
  },
  {
   "cell_type": "code",
   "execution_count": 27,
   "metadata": {},
   "outputs": [
    {
     "data": {
      "text/plain": [
       "count    31.000000\n",
       "mean      9.322581\n",
       "std       1.989759\n",
       "min       3.000000\n",
       "25%       9.500000\n",
       "50%      10.000000\n",
       "75%      10.000000\n",
       "max      11.000000\n",
       "dtype: float64"
      ]
     },
     "execution_count": 27,
     "metadata": {},
     "output_type": "execute_result"
    }
   ],
   "source": [
    "# Generate the summary statistics for daily Dallas departures: stats\n",
    "stats = daily_departures.describe()\n",
    "stats"
   ]
  },
  {
   "cell_type": "markdown",
   "metadata": {},
   "source": [
    "### Time zones and conversion\n",
    "Time zone handling with pandas typically assumes that you are handling the Index of the Series. In this exercise, you will learn how to handle timezones that are associated with datetimes in the column data, and not just the Index.\n",
    "\n",
    "You will work with the flight departure dataset again, and this time you will select Los Angeles (`'LAX'`) as the destination airport.\n",
    "\n",
    "Here we will use a mask to ensure that we only compute on data we actually want. To learn more about Boolean masks, click [here][1]!\n",
    "\n",
    "[1]: https://docs.scipy.org/doc/numpy/reference/maskedarray.generic.html"
   ]
  },
  {
   "cell_type": "code",
   "execution_count": 28,
   "metadata": {},
   "outputs": [
    {
     "data": {
      "text/html": [
       "<div>\n",
       "<style scoped>\n",
       "    .dataframe tbody tr th:only-of-type {\n",
       "        vertical-align: middle;\n",
       "    }\n",
       "\n",
       "    .dataframe tbody tr th {\n",
       "        vertical-align: top;\n",
       "    }\n",
       "\n",
       "    .dataframe thead th {\n",
       "        text-align: right;\n",
       "    }\n",
       "</style>\n",
       "<table border=\"1\" class=\"dataframe\">\n",
       "  <thead>\n",
       "    <tr style=\"text-align: right;\">\n",
       "      <th></th>\n",
       "      <th>Carrier Code</th>\n",
       "      <th>Date (MM/DD/YYYY)</th>\n",
       "      <th>Flight Number</th>\n",
       "      <th>Tail Number</th>\n",
       "      <th>Destination Airport</th>\n",
       "      <th>Scheduled Departure Time</th>\n",
       "      <th>Actual Departure Time</th>\n",
       "      <th>Scheduled Elapsed Time(Minutes)</th>\n",
       "      <th>Actual Elapsed Time(Minutes)</th>\n",
       "      <th>Departure Delay(Minutes)</th>\n",
       "      <th>Wheels-off Time</th>\n",
       "      <th>Taxi-out Time(Minutes)</th>\n",
       "      <th>DelayCarrier(Minutes)</th>\n",
       "      <th>DelayWeather(Minutes)</th>\n",
       "      <th>DelayNational Aviation System(Minutes)</th>\n",
       "      <th>DelaySecurity(Minutes)</th>\n",
       "      <th>DelayLate Aircraft Arrival(Minutes)</th>\n",
       "      <th>Unnamed: 17</th>\n",
       "    </tr>\n",
       "  </thead>\n",
       "  <tbody>\n",
       "    <tr>\n",
       "      <th>0</th>\n",
       "      <td>WN</td>\n",
       "      <td>07/01/2015</td>\n",
       "      <td>103.0</td>\n",
       "      <td>N8607M</td>\n",
       "      <td>MDW</td>\n",
       "      <td>06:30</td>\n",
       "      <td>06:52</td>\n",
       "      <td>165.0</td>\n",
       "      <td>147.0</td>\n",
       "      <td>22.0</td>\n",
       "      <td>07:01</td>\n",
       "      <td>9.0</td>\n",
       "      <td>0.0</td>\n",
       "      <td>0.0</td>\n",
       "      <td>0.0</td>\n",
       "      <td>0.0</td>\n",
       "      <td>0.0</td>\n",
       "      <td>NaN</td>\n",
       "    </tr>\n",
       "    <tr>\n",
       "      <th>1</th>\n",
       "      <td>WN</td>\n",
       "      <td>07/01/2015</td>\n",
       "      <td>144.0</td>\n",
       "      <td>N8609A</td>\n",
       "      <td>SAN</td>\n",
       "      <td>20:55</td>\n",
       "      <td>20:50</td>\n",
       "      <td>170.0</td>\n",
       "      <td>158.0</td>\n",
       "      <td>-5.0</td>\n",
       "      <td>21:03</td>\n",
       "      <td>13.0</td>\n",
       "      <td>0.0</td>\n",
       "      <td>0.0</td>\n",
       "      <td>0.0</td>\n",
       "      <td>0.0</td>\n",
       "      <td>0.0</td>\n",
       "      <td>NaN</td>\n",
       "    </tr>\n",
       "    <tr>\n",
       "      <th>2</th>\n",
       "      <td>WN</td>\n",
       "      <td>07/01/2015</td>\n",
       "      <td>178.0</td>\n",
       "      <td>N646SW</td>\n",
       "      <td>ELP</td>\n",
       "      <td>20:30</td>\n",
       "      <td>20:45</td>\n",
       "      <td>90.0</td>\n",
       "      <td>80.0</td>\n",
       "      <td>15.0</td>\n",
       "      <td>20:55</td>\n",
       "      <td>10.0</td>\n",
       "      <td>0.0</td>\n",
       "      <td>0.0</td>\n",
       "      <td>0.0</td>\n",
       "      <td>0.0</td>\n",
       "      <td>0.0</td>\n",
       "      <td>NaN</td>\n",
       "    </tr>\n",
       "    <tr>\n",
       "      <th>3</th>\n",
       "      <td>WN</td>\n",
       "      <td>07/01/2015</td>\n",
       "      <td>232.0</td>\n",
       "      <td>N204WN</td>\n",
       "      <td>ATL</td>\n",
       "      <td>05:45</td>\n",
       "      <td>05:49</td>\n",
       "      <td>135.0</td>\n",
       "      <td>137.0</td>\n",
       "      <td>4.0</td>\n",
       "      <td>06:01</td>\n",
       "      <td>12.0</td>\n",
       "      <td>0.0</td>\n",
       "      <td>0.0</td>\n",
       "      <td>0.0</td>\n",
       "      <td>0.0</td>\n",
       "      <td>0.0</td>\n",
       "      <td>NaN</td>\n",
       "    </tr>\n",
       "    <tr>\n",
       "      <th>4</th>\n",
       "      <td>WN</td>\n",
       "      <td>07/01/2015</td>\n",
       "      <td>238.0</td>\n",
       "      <td>N233LV</td>\n",
       "      <td>DAL</td>\n",
       "      <td>12:30</td>\n",
       "      <td>12:34</td>\n",
       "      <td>55.0</td>\n",
       "      <td>48.0</td>\n",
       "      <td>4.0</td>\n",
       "      <td>12:41</td>\n",
       "      <td>7.0</td>\n",
       "      <td>0.0</td>\n",
       "      <td>0.0</td>\n",
       "      <td>0.0</td>\n",
       "      <td>0.0</td>\n",
       "      <td>0.0</td>\n",
       "      <td>NaN</td>\n",
       "    </tr>\n",
       "  </tbody>\n",
       "</table>\n",
       "</div>"
      ],
      "text/plain": [
       "  Carrier Code Date (MM/DD/YYYY)  Flight Number Tail Number  \\\n",
       "0           WN        07/01/2015          103.0      N8607M   \n",
       "1           WN        07/01/2015          144.0      N8609A   \n",
       "2           WN        07/01/2015          178.0      N646SW   \n",
       "3           WN        07/01/2015          232.0      N204WN   \n",
       "4           WN        07/01/2015          238.0      N233LV   \n",
       "\n",
       "  Destination Airport Scheduled Departure Time Actual Departure Time  \\\n",
       "0                 MDW                    06:30                 06:52   \n",
       "1                 SAN                    20:55                 20:50   \n",
       "2                 ELP                    20:30                 20:45   \n",
       "3                 ATL                    05:45                 05:49   \n",
       "4                 DAL                    12:30                 12:34   \n",
       "\n",
       "   Scheduled Elapsed Time(Minutes)  Actual Elapsed Time(Minutes)  \\\n",
       "0                            165.0                         147.0   \n",
       "1                            170.0                         158.0   \n",
       "2                             90.0                          80.0   \n",
       "3                            135.0                         137.0   \n",
       "4                             55.0                          48.0   \n",
       "\n",
       "   Departure Delay(Minutes) Wheels-off Time  Taxi-out Time(Minutes)  \\\n",
       "0                      22.0           07:01                     9.0   \n",
       "1                      -5.0           21:03                    13.0   \n",
       "2                      15.0           20:55                    10.0   \n",
       "3                       4.0           06:01                    12.0   \n",
       "4                       4.0           12:41                     7.0   \n",
       "\n",
       "   DelayCarrier(Minutes)  DelayWeather(Minutes)  \\\n",
       "0                    0.0                    0.0   \n",
       "1                    0.0                    0.0   \n",
       "2                    0.0                    0.0   \n",
       "3                    0.0                    0.0   \n",
       "4                    0.0                    0.0   \n",
       "\n",
       "   DelayNational Aviation System(Minutes)  DelaySecurity(Minutes)  \\\n",
       "0                                     0.0                     0.0   \n",
       "1                                     0.0                     0.0   \n",
       "2                                     0.0                     0.0   \n",
       "3                                     0.0                     0.0   \n",
       "4                                     0.0                     0.0   \n",
       "\n",
       "   DelayLate Aircraft Arrival(Minutes)  Unnamed: 17  \n",
       "0                                  0.0          NaN  \n",
       "1                                  0.0          NaN  \n",
       "2                                  0.0          NaN  \n",
       "3                                  0.0          NaN  \n",
       "4                                  0.0          NaN  "
      ]
     },
     "execution_count": 28,
     "metadata": {},
     "output_type": "execute_result"
    }
   ],
   "source": [
    "urlDataSet = 'https://assets.datacamp.com/production/course_1639/datasets/austin_airport_departure_data_2015_july.csv'\n",
    "df = pd.read_csv(urlDataSet, skiprows=15)\n",
    "\n",
    "df.columns = df.columns.str.strip()\n",
    "df.head() "
   ]
  },
  {
   "cell_type": "code",
   "execution_count": 29,
   "metadata": {},
   "outputs": [
    {
     "data": {
      "text/plain": [
       "33    2015-07-01 05:43:00\n",
       "55    2015-07-01 16:27:00\n",
       "91    2015-07-02 05:47:00\n",
       "113   2015-07-02 16:23:00\n",
       "134   2015-07-03 05:30:00\n",
       "dtype: datetime64[ns]"
      ]
     },
     "execution_count": 29,
     "metadata": {},
     "output_type": "execute_result"
    }
   ],
   "source": [
    "# Build a Boolean mask to filter out all the 'LAX' departure flights: mask\n",
    "mask = df['Destination Airport'] == 'LAX'\n",
    "\n",
    "# Use the mask to subset the data: la\n",
    "la = df[mask]\n",
    "\n",
    "# Combine two columns of data to create a datetime series: times_tz_none \n",
    "times_tz_none = pd.to_datetime( la['Date (MM/DD/YYYY)'] + ' ' + la['Wheels-off Time'] )\n",
    "times_tz_none.head()"
   ]
  },
  {
   "cell_type": "code",
   "execution_count": 30,
   "metadata": {},
   "outputs": [
    {
     "data": {
      "text/plain": [
       "33    2015-07-01 05:43:00-05:00\n",
       "55    2015-07-01 16:27:00-05:00\n",
       "91    2015-07-02 05:47:00-05:00\n",
       "113   2015-07-02 16:23:00-05:00\n",
       "134   2015-07-03 05:30:00-05:00\n",
       "dtype: datetime64[ns, US/Central]"
      ]
     },
     "execution_count": 30,
     "metadata": {},
     "output_type": "execute_result"
    }
   ],
   "source": [
    "# Localize the time to US/Central: times_tz_central\n",
    "times_tz_central = times_tz_none.dt.tz_localize('US/Central')\n",
    "times_tz_central.head()"
   ]
  },
  {
   "cell_type": "code",
   "execution_count": 31,
   "metadata": {},
   "outputs": [
    {
     "data": {
      "text/plain": [
       "33    2015-07-01 03:43:00-07:00\n",
       "55    2015-07-01 14:27:00-07:00\n",
       "91    2015-07-02 03:47:00-07:00\n",
       "113   2015-07-02 14:23:00-07:00\n",
       "134   2015-07-03 03:30:00-07:00\n",
       "dtype: datetime64[ns, US/Pacific]"
      ]
     },
     "execution_count": 31,
     "metadata": {},
     "output_type": "execute_result"
    }
   ],
   "source": [
    "# Convert the datetimes from US/Central to US/Pacific\n",
    "times_tz_pacific = times_tz_central.dt.tz_convert('US/Pacific')\n",
    "times_tz_pacific.head()"
   ]
  },
  {
   "cell_type": "markdown",
   "metadata": {},
   "source": [
    "# Time series visualization\n",
    "## Topics \n",
    "- Line types \n",
    "- Plot types\n",
    "- Subplots"
   ]
  },
  {
   "cell_type": "markdown",
   "metadata": {},
   "source": [
    "### Plotting time series, datetime indexing\n",
    "Pandas handles datetimes not only in your data, but also in your plotting.\n",
    "\n",
    "In this exercise, some time series data has been pre-loaded. However, we have not parsed the date-like columns nor set the index, as we have done for you in the past!\n",
    "\n",
    "The plot displayed is how pandas renders data with the default integer/positional index. Your job is to convert the `'Date'` column from a collection of strings into a collection of datetime objects. Then, you will use this converted `'Date'` column as your new index, and re-plot the data, noting the improved datetime awareness. "
   ]
  },
  {
   "cell_type": "code",
   "execution_count": 32,
   "metadata": {},
   "outputs": [
    {
     "data": {
      "text/html": [
       "<div>\n",
       "<style scoped>\n",
       "    .dataframe tbody tr th:only-of-type {\n",
       "        vertical-align: middle;\n",
       "    }\n",
       "\n",
       "    .dataframe tbody tr th {\n",
       "        vertical-align: top;\n",
       "    }\n",
       "\n",
       "    .dataframe thead th {\n",
       "        text-align: right;\n",
       "    }\n",
       "</style>\n",
       "<table border=\"1\" class=\"dataframe\">\n",
       "  <thead>\n",
       "    <tr style=\"text-align: right;\">\n",
       "      <th></th>\n",
       "      <th>Temperature</th>\n",
       "      <th>Date</th>\n",
       "    </tr>\n",
       "  </thead>\n",
       "  <tbody>\n",
       "    <tr>\n",
       "      <th>0</th>\n",
       "      <td>46.2</td>\n",
       "      <td>20100101 00:00</td>\n",
       "    </tr>\n",
       "    <tr>\n",
       "      <th>1</th>\n",
       "      <td>44.6</td>\n",
       "      <td>20100101 01:00</td>\n",
       "    </tr>\n",
       "    <tr>\n",
       "      <th>2</th>\n",
       "      <td>44.1</td>\n",
       "      <td>20100101 02:00</td>\n",
       "    </tr>\n",
       "    <tr>\n",
       "      <th>3</th>\n",
       "      <td>43.8</td>\n",
       "      <td>20100101 03:00</td>\n",
       "    </tr>\n",
       "    <tr>\n",
       "      <th>4</th>\n",
       "      <td>43.5</td>\n",
       "      <td>20100101 04:00</td>\n",
       "    </tr>\n",
       "  </tbody>\n",
       "</table>\n",
       "</div>"
      ],
      "text/plain": [
       "   Temperature            Date\n",
       "0         46.2  20100101 00:00\n",
       "1         44.6  20100101 01:00\n",
       "2         44.1  20100101 02:00\n",
       "3         43.8  20100101 03:00\n",
       "4         43.5  20100101 04:00"
      ]
     },
     "execution_count": 32,
     "metadata": {},
     "output_type": "execute_result"
    }
   ],
   "source": [
    "df = pd.read_csv(filepath+filename, usecols=['Temperature','Date'], nrows=745)\n",
    "df.head()"
   ]
  },
  {
   "cell_type": "code",
   "execution_count": 33,
   "metadata": {},
   "outputs": [
    {
     "data": {
      "image/png": "[encoded data removed]",
      "text/plain": [
       "<Figure size 432x288 with 1 Axes>"
      ]
     },
     "metadata": {
      "needs_background": "light"
     },
     "output_type": "display_data"
    }
   ],
   "source": [
    "# Plot the raw data before setting the datetime index\n",
    "df.plot()\n",
    "plt.show()"
   ]
  },
  {
   "cell_type": "code",
   "execution_count": 34,
   "metadata": {},
   "outputs": [
    {
     "data": {
      "image/png": "[encoded data removed]",
      "text/plain": [
       "<Figure size 432x288 with 1 Axes>"
      ]
     },
     "metadata": {
      "needs_background": "light"
     },
     "output_type": "display_data"
    }
   ],
   "source": [
    "# Convert the 'Date' column into a collection of datetime objects: df.Date\n",
    "df.Date = pd.to_datetime(df.Date)\n",
    "\n",
    "# Set the index to be the converted 'Date' column\n",
    "df.set_index('Date', inplace=True)\n",
    "\n",
    "# Re-plot the DataFrame to see that the axis is now datetime aware!\n",
    "df.plot()\n",
    "plt.show()"
   ]
  },
  {
   "cell_type": "markdown",
   "metadata": {},
   "source": [
    "### Plotting date ranges, partial indexing\n",
    "Now that you have set the DatetimeIndex in your DataFrame, you have a much more powerful and flexible set of tools to use when plotting your time series data. Of these, one of the most convenient is partial string indexing and slicing. \n",
    "\n",
    "Your job is to use partial string indexing of the dates, in a variety of datetime string formats, to plot all the summer data and just one week of data together. \n",
    "\n",
    "First, remind yourself how to extract one month of temperature data using 'May 2010' as a key into `df.Temperature[]`, and call `head()` to inspect the result: `df.Temperature['May 2010'].head()`."
   ]
  },
  {
   "cell_type": "code",
   "execution_count": 35,
   "metadata": {},
   "outputs": [],
   "source": [
    "df = pd.read_csv(filepath+filename, parse_dates = True, index_col = 'Date')"
   ]
  },
  {
   "cell_type": "code",
   "execution_count": 36,
   "metadata": {},
   "outputs": [
    {
     "data": {
      "image/png": "[encoded data removed]",
      "text/plain": [
       "<Figure size 432x288 with 1 Axes>"
      ]
     },
     "metadata": {
      "needs_background": "light"
     },
     "output_type": "display_data"
    },
    {
     "data": {
      "text/plain": [
       "<Figure size 432x288 with 0 Axes>"
      ]
     },
     "metadata": {},
     "output_type": "display_data"
    }
   ],
   "source": [
    "# Plot the summer data\n",
    "df.Temperature['2010-Jun':'2010-Aug'].plot()\n",
    "plt.show()\n",
    "plt.clf()"
   ]
  },
  {
   "cell_type": "code",
   "execution_count": 37,
   "metadata": {},
   "outputs": [
    {
     "data": {
      "image/png": "[encoded data removed]",
      "text/plain": [
       "<Figure size 432x288 with 1 Axes>"
      ]
     },
     "metadata": {
      "needs_background": "light"
     },
     "output_type": "display_data"
    },
    {
     "data": {
      "text/plain": [
       "<Figure size 432x288 with 0 Axes>"
      ]
     },
     "metadata": {},
     "output_type": "display_data"
    }
   ],
   "source": [
    "# Plot the one week data\n",
    "df.Temperature['2010-06-10':'2010-06-17'].plot()\n",
    "plt.show()\n",
    "plt.clf()"
   ]
  }
 ],
 "metadata": {
  "kernelspec": {
   "display_name": "Python 3",
   "language": "python",
   "name": "python3"
  },
  "language_info": {
   "codemirror_mode": {
    "name": "ipython",
    "version": 3
   },
   "file_extension": ".py",
   "mimetype": "text/x-python",
   "name": "python",
   "nbconvert_exporter": "python",
   "pygments_lexer": "ipython3",
   "version": "3.7.1"
  }
 },
 "nbformat": 4,
 "nbformat_minor": 2
}

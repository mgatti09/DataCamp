{
 "cells": [
  {
   "cell_type": "markdown",
   "metadata": {},
   "source": [
    "## Creating Tables with SQLAlchemy\n",
    "Previously, you used the `Table` object to reflect a table from an existing database, but what if you wanted to create a new table? You'd still use the `Table` object; however, you'd need to replace the `autoload` and `autoload_with` parameters with Column objects.\n",
    "\n",
    "The `Column` object takes a name, a SQLAlchemy type with an optional format, and optional keyword arguments for different constraints.\n",
    "\n",
    "When defining the table, recall how in the video Jason passed in `255` as the maximum length of a String by using `Column('name', String(255))`. Checking out the slides from the video may help: you can download them by clicking on 'Slides' next to the IPython Shell.\n",
    "\n",
    "After defining the table, you can create the table in the database by using the `.create_all()` method on metadata and supplying the engine as the only parameter. Go for it!"
   ]
  },
  {
   "cell_type": "code",
   "execution_count": 1,
   "metadata": {},
   "outputs": [],
   "source": [
    "import pandas as pd\n",
    "def get_df_select_stmt(conn, select_stmt):\n",
    "    # Results of executing the select_stmt\n",
    "    results = conn.execute(select_stmt).fetchall()\n",
    "\n",
    "    # Create a DataFrame from the results: df\n",
    "    df = pd.DataFrame(results)\n",
    "\n",
    "    # Set column names\n",
    "    df.columns = results[0].keys()\n",
    "    \n",
    "    return df    "
   ]
  },
  {
   "cell_type": "code",
   "execution_count": 2,
   "metadata": {},
   "outputs": [
    {
     "name": "stdout",
     "output_type": "stream",
     "text": [
      "['employees']\n"
     ]
    }
   ],
   "source": [
    "# Import create_engine\n",
    "from sqlalchemy import create_engine, MetaData\n",
    "\n",
    "# Metadata\n",
    "metadata = MetaData()\n",
    "\n",
    "# Create an engine that connects to the census.sqlite file: engine\n",
    "engine = create_engine('sqlite:///employees.sqlite')\n",
    "\n",
    "# create connection\n",
    "connection = engine.connect()\n",
    "\n",
    "# Print table names\n",
    "print(engine.table_names())"
   ]
  },
  {
   "cell_type": "code",
   "execution_count": 3,
   "metadata": {},
   "outputs": [],
   "source": [
    "# Import Table, Column, String, Integer, Float, Boolean from sqlalchemy\n",
    "from sqlalchemy import Table, Column, String, Integer, Float, Boolean\n",
    "\n",
    "# Define a new table with a name, count, amount, and valid column: data\n",
    "data = Table('data', metadata,\n",
    "             Column('name', String(255), unique=True),\n",
    "             Column('count', Integer(), default=1),\n",
    "             Column('amount', Float()),\n",
    "             Column('valid', Boolean(), default=False)\n",
    ")\n",
    "\n",
    "# Define census table\n",
    "census = Table('census', metadata,\n",
    "             Column('state', String(100)),\n",
    "             Column('sex', String(1)),\n",
    "             Column('age', Integer()),\n",
    "             Column('pop2000', Integer()),\n",
    "             Column('pop2008', Integer())\n",
    ")\n",
    "\n",
    "# Use the metadata to create the table\n",
    "metadata.create_all(engine)"
   ]
  },
  {
   "cell_type": "code",
   "execution_count": 4,
   "metadata": {},
   "outputs": [
    {
     "name": "stdout",
     "output_type": "stream",
     "text": [
      "Table('data', MetaData(bind=None), Column('name', String(length=255), table=<data>), Column('count', Integer(), table=<data>, default=ColumnDefault(1)), Column('amount', Float(), table=<data>), Column('valid', Boolean(), table=<data>, default=ColumnDefault(False)), schema=None)\n"
     ]
    }
   ],
   "source": [
    "# Print table details\n",
    "print(repr(data))"
   ]
  },
  {
   "cell_type": "code",
   "execution_count": 5,
   "metadata": {},
   "outputs": [
    {
     "name": "stdout",
     "output_type": "stream",
     "text": [
      "['census', 'data', 'employees']\n"
     ]
    }
   ],
   "source": [
    "# Print table names\n",
    "print(engine.table_names())"
   ]
  },
  {
   "cell_type": "code",
   "execution_count": 6,
   "metadata": {},
   "outputs": [
    {
     "name": "stdout",
     "output_type": "stream",
     "text": [
      "Table('data', MetaData(bind=None), Column('name', String(length=255), table=<data>), Column('count', Integer(), table=<data>, default=ColumnDefault(1)), Column('amount', Float(), table=<data>), Column('valid', Boolean(), table=<data>, default=ColumnDefault(False)), schema=None)\n"
     ]
    }
   ],
   "source": [
    "# Print the table details\n",
    "print(repr(metadata.tables['data']))"
   ]
  },
  {
   "cell_type": "markdown",
   "metadata": {},
   "source": [
    "## Inserting a single row with an insert() statement\n",
    "There are several ways to perform an insert with SQLAlchemy; however, we are going to focus on the one that follows the same pattern as the `select` statement.\n",
    "\n",
    "It uses an `insert` statement where you specify the table as an argument, and supply the data you wish to insert into the value via the `.values()` method as keyword arguments."
   ]
  },
  {
   "cell_type": "code",
   "execution_count": 7,
   "metadata": {},
   "outputs": [
    {
     "name": "stdout",
     "output_type": "stream",
     "text": [
      "1\n"
     ]
    }
   ],
   "source": [
    "# Import insert and select from sqlalchemy\n",
    "from sqlalchemy import insert, select\n",
    "\n",
    "# Build an insert statement to insert a record into the data table: stmt\n",
    "stmt = insert(data).values(name='Anna', count=1, amount=1000.00, valid=True)\n",
    "\n",
    "# Execute the statement via the connection: results\n",
    "results = connection.execute(stmt)\n",
    "\n",
    "# Print result rowcount\n",
    "print(results.rowcount)"
   ]
  },
  {
   "cell_type": "code",
   "execution_count": 8,
   "metadata": {},
   "outputs": [
    {
     "name": "stdout",
     "output_type": "stream",
     "text": [
      "('Anna', 1, 1000.0, True)\n"
     ]
    }
   ],
   "source": [
    "# Build a select statement to validate the insert\n",
    "stmt = select([data]).where(data.columns.name == 'Anna')\n",
    "\n",
    "# Print the result of executing the query.\n",
    "print(connection.execute(stmt).first())"
   ]
  },
  {
   "cell_type": "markdown",
   "metadata": {},
   "source": [
    "## Inserting Multiple Records at Once\n",
    "It's time to practice inserting multiple records at once!\n",
    "\n",
    "As Jason showed you in the video, you'll want to first build a list of dictionaries that represents the data you want to insert. Then, in the `.execute()` method, you can pair this list of dictionaries with an insert statement, which will `insert` all the records in your list of dictionaries."
   ]
  },
  {
   "cell_type": "code",
   "execution_count": 9,
   "metadata": {},
   "outputs": [
    {
     "name": "stdout",
     "output_type": "stream",
     "text": [
      "2\n"
     ]
    }
   ],
   "source": [
    "# Build a list of dictionaries: values_list\n",
    "values_list = [\n",
    "    {'name': 'Ana', 'count': 1, 'amount': 1000.00, 'valid': True},\n",
    "    {'name': 'Taylor', 'count': 1, 'amount': 750.00, 'valid': False}\n",
    "]\n",
    "\n",
    "# Build an insert statement for the data table: stmt\n",
    "stmt = insert(data)\n",
    "\n",
    "# Execute stmt with the values_list: results\n",
    "results = connection.execute(stmt, values_list)\n",
    "\n",
    "# Print rowcount\n",
    "print(results.rowcount)"
   ]
  },
  {
   "cell_type": "code",
   "execution_count": 10,
   "metadata": {},
   "outputs": [
    {
     "data": {
      "text/html": [
       "<div>\n",
       "<style scoped>\n",
       "    .dataframe tbody tr th:only-of-type {\n",
       "        vertical-align: middle;\n",
       "    }\n",
       "\n",
       "    .dataframe tbody tr th {\n",
       "        vertical-align: top;\n",
       "    }\n",
       "\n",
       "    .dataframe thead th {\n",
       "        text-align: right;\n",
       "    }\n",
       "</style>\n",
       "<table border=\"1\" class=\"dataframe\">\n",
       "  <thead>\n",
       "    <tr style=\"text-align: right;\">\n",
       "      <th></th>\n",
       "      <th>name</th>\n",
       "      <th>count</th>\n",
       "      <th>amount</th>\n",
       "      <th>valid</th>\n",
       "    </tr>\n",
       "  </thead>\n",
       "  <tbody>\n",
       "    <tr>\n",
       "      <th>0</th>\n",
       "      <td>Anna</td>\n",
       "      <td>1</td>\n",
       "      <td>1000.0</td>\n",
       "      <td>True</td>\n",
       "    </tr>\n",
       "    <tr>\n",
       "      <th>1</th>\n",
       "      <td>Ana</td>\n",
       "      <td>1</td>\n",
       "      <td>1000.0</td>\n",
       "      <td>True</td>\n",
       "    </tr>\n",
       "    <tr>\n",
       "      <th>2</th>\n",
       "      <td>Taylor</td>\n",
       "      <td>1</td>\n",
       "      <td>750.0</td>\n",
       "      <td>False</td>\n",
       "    </tr>\n",
       "  </tbody>\n",
       "</table>\n",
       "</div>"
      ],
      "text/plain": [
       "     name  count  amount  valid\n",
       "0    Anna      1  1000.0   True\n",
       "1     Ana      1  1000.0   True\n",
       "2  Taylor      1   750.0  False"
      ]
     },
     "execution_count": 10,
     "metadata": {},
     "output_type": "execute_result"
    }
   ],
   "source": [
    "# Build a select statement to validate the insert\n",
    "stmt = select([data])\n",
    "\n",
    "# Print the result of executing the query.\n",
    "df = get_df_select_stmt(connection, stmt)\n",
    "df.head()"
   ]
  },
  {
   "cell_type": "markdown",
   "metadata": {},
   "source": [
    "## Loading a CSV into a Table\n",
    "You've done a great job so far at inserting data into tables! You're now going to learn how to load the contents of a CSV file into a table.\n",
    "\n",
    "We have used the `csv module` to set up a `csv_reader`, which is just a reader object that can iterate over the lines in a given CSV file - in this case, a census CSV file. Using the `enumerate()` function, you can loop over the `csv_reader` to handle the results one at a time. Here, for example, the first line it would return is:\n",
    "\n",
    "`0 ['Illinois', 'M', '0', '89600', '95012']`\n",
    "\n",
    "`0` is the `idx` - or line number - while `['Illinois', 'M', '0', '89600', '95012']` is the `row`, corresponding to the column names `'state'` , `'sex'`, `'age'`, `'pop2000'` and `'pop2008'`. `'Illinois'` can be accessed with `row[0]`, `'M'` with `row[1]`, and so on. You can create a dictionary containing this information where the keys are the column names and the values are the entries in each line. Then, by appending this dictionary to a list, you can combine it with an `insert` statement to load it all into a table!"
   ]
  },
  {
   "cell_type": "code",
   "execution_count": 11,
   "metadata": {},
   "outputs": [],
   "source": [
    "# Import insert from sqlalchemy\n",
    "from sqlalchemy import insert\n",
    "# Import csv\n",
    "import csv\n",
    "\n",
    "def load_data_census_from_csv():\n",
    "    with open('../_datasets/census.csv') as csvfile:\n",
    "        csv_reader = csv.reader(csvfile, delimiter=',')\n",
    "\n",
    "        # Create a insert statement for census: stmt\n",
    "        stmt = insert(census)\n",
    "\n",
    "        # Create an empty list and zeroed row count: values_list, total_rowcount\n",
    "        values_list = []\n",
    "        total_rowcount = 0\n",
    "\n",
    "        # Enumerate the rows of csv_reader\n",
    "        for idx, row in enumerate(csv_reader):\n",
    "            #create data and append to values_list\n",
    "            data = {'state': row[0], 'sex': row[1], 'age': row[2], 'pop2000': row[3], 'pop2008': row[4]}\n",
    "            values_list.append(data)\n",
    "\n",
    "            # Check to see if divisible by 51\n",
    "            if idx % 51 == 0:\n",
    "                results = connection.execute(stmt, values_list)\n",
    "                total_rowcount += results.rowcount\n",
    "                values_list = []\n",
    "\n",
    "    # Print total rowcount\n",
    "    return (total_rowcount)"
   ]
  },
  {
   "cell_type": "code",
   "execution_count": 12,
   "metadata": {},
   "outputs": [
    {
     "name": "stdout",
     "output_type": "stream",
     "text": [
      "8722\n"
     ]
    }
   ],
   "source": [
    "total_rowcount = load_data_census_from_csv()\n",
    "print(total_rowcount)"
   ]
  },
  {
   "cell_type": "code",
   "execution_count": 16,
   "metadata": {},
   "outputs": [
    {
     "data": {
      "text/html": [
       "<div>\n",
       "<style scoped>\n",
       "    .dataframe tbody tr th:only-of-type {\n",
       "        vertical-align: middle;\n",
       "    }\n",
       "\n",
       "    .dataframe tbody tr th {\n",
       "        vertical-align: top;\n",
       "    }\n",
       "\n",
       "    .dataframe thead th {\n",
       "        text-align: right;\n",
       "    }\n",
       "</style>\n",
       "<table border=\"1\" class=\"dataframe\">\n",
       "  <thead>\n",
       "    <tr style=\"text-align: right;\">\n",
       "      <th></th>\n",
       "      <th>state</th>\n",
       "      <th>sex</th>\n",
       "      <th>age</th>\n",
       "      <th>pop2000</th>\n",
       "      <th>pop2008</th>\n",
       "    </tr>\n",
       "  </thead>\n",
       "  <tbody>\n",
       "    <tr>\n",
       "      <th>0</th>\n",
       "      <td>Illinois</td>\n",
       "      <td>M</td>\n",
       "      <td>70</td>\n",
       "      <td>35307</td>\n",
       "      <td>35929</td>\n",
       "    </tr>\n",
       "    <tr>\n",
       "      <th>1</th>\n",
       "      <td>Illinois</td>\n",
       "      <td>F</td>\n",
       "      <td>70</td>\n",
       "      <td>44539</td>\n",
       "      <td>43143</td>\n",
       "    </tr>\n",
       "    <tr>\n",
       "      <th>2</th>\n",
       "      <td>District of Columbia</td>\n",
       "      <td>M</td>\n",
       "      <td>70</td>\n",
       "      <td>1498</td>\n",
       "      <td>1611</td>\n",
       "    </tr>\n",
       "    <tr>\n",
       "      <th>3</th>\n",
       "      <td>District of Columbia</td>\n",
       "      <td>F</td>\n",
       "      <td>70</td>\n",
       "      <td>2193</td>\n",
       "      <td>2007</td>\n",
       "    </tr>\n",
       "    <tr>\n",
       "      <th>4</th>\n",
       "      <td>New Jersey</td>\n",
       "      <td>M</td>\n",
       "      <td>70</td>\n",
       "      <td>26370</td>\n",
       "      <td>25459</td>\n",
       "    </tr>\n",
       "  </tbody>\n",
       "</table>\n",
       "</div>"
      ],
      "text/plain": [
       "                  state sex  age  pop2000  pop2008\n",
       "0              Illinois   M   70    35307    35929\n",
       "1              Illinois   F   70    44539    43143\n",
       "2  District of Columbia   M   70     1498     1611\n",
       "3  District of Columbia   F   70     2193     2007\n",
       "4            New Jersey   M   70    26370    25459"
      ]
     },
     "execution_count": 16,
     "metadata": {},
     "output_type": "execute_result"
    }
   ],
   "source": [
    "# Getting records from census where age is 70\n",
    "stmt = select([census]).where(census.columns.age == 70)\n",
    "\n",
    "df = get_df_select_stmt(connection, stmt)\n",
    "df.head()"
   ]
  },
  {
   "cell_type": "markdown",
   "metadata": {},
   "source": [
    "## Updating individual records\n",
    "The `update` statement is very similar to an `insert` statement, except that it also typically uses a `where` clause to help us determine what data to update. You'll be using the FIPS state code using here, which is appropriated by the U.S. government to identify U.S. states and certain other associated areas. Recall that you can update all wages in the `employees` table as follows:\n",
    "```phyton\n",
    "stmt = update(employees).values(wage=100.00)\n",
    "```\n",
    "For your convenience, the names of the tables and columns of interest in this exercise are: `state_fact` (Table), `name` (Column), and `fips_state` (Column)."
   ]
  },
  {
   "cell_type": "code",
   "execution_count": 17,
   "metadata": {},
   "outputs": [
    {
     "name": "stdout",
     "output_type": "stream",
     "text": [
      "['census', 'state_fact']\n"
     ]
    }
   ],
   "source": [
    "# Import create_engine\n",
    "from sqlalchemy import create_engine, MetaData, select, update\n",
    "\n",
    "# Metadata\n",
    "metadata_census = MetaData()\n",
    "\n",
    "# Create an engine that connects to the census.sqlite file: engine\n",
    "engine_census = create_engine('sqlite:///census.sqlite')\n",
    "\n",
    "# create connection\n",
    "connection_census = engine_census.connect()\n",
    "\n",
    "# Print table names\n",
    "print(engine_census.table_names())\n",
    "\n",
    "# Reflect census and state_fact table via engine_mySQL: \n",
    "state_fact = Table('state_fact', metadata, autoload=True, autoload_with=engine_census)"
   ]
  },
  {
   "cell_type": "code",
   "execution_count": 18,
   "metadata": {},
   "outputs": [
    {
     "data": {
      "text/html": [
       "<div>\n",
       "<style scoped>\n",
       "    .dataframe tbody tr th:only-of-type {\n",
       "        vertical-align: middle;\n",
       "    }\n",
       "\n",
       "    .dataframe tbody tr th {\n",
       "        vertical-align: top;\n",
       "    }\n",
       "\n",
       "    .dataframe thead th {\n",
       "        text-align: right;\n",
       "    }\n",
       "</style>\n",
       "<table border=\"1\" class=\"dataframe\">\n",
       "  <thead>\n",
       "    <tr style=\"text-align: right;\">\n",
       "      <th></th>\n",
       "      <th>id</th>\n",
       "      <th>name</th>\n",
       "      <th>abbreviation</th>\n",
       "      <th>country</th>\n",
       "      <th>type</th>\n",
       "      <th>sort</th>\n",
       "      <th>status</th>\n",
       "      <th>occupied</th>\n",
       "      <th>notes</th>\n",
       "      <th>fips_state</th>\n",
       "      <th>assoc_press</th>\n",
       "      <th>standard_federal_region</th>\n",
       "      <th>census_region</th>\n",
       "      <th>census_region_name</th>\n",
       "      <th>census_division</th>\n",
       "      <th>census_division_name</th>\n",
       "      <th>circuit_court</th>\n",
       "    </tr>\n",
       "  </thead>\n",
       "  <tbody>\n",
       "    <tr>\n",
       "      <th>0</th>\n",
       "      <td>32</td>\n",
       "      <td>New York</td>\n",
       "      <td>NY</td>\n",
       "      <td>USA</td>\n",
       "      <td>state</td>\n",
       "      <td>10</td>\n",
       "      <td>current</td>\n",
       "      <td>occupied</td>\n",
       "      <td></td>\n",
       "      <td>0</td>\n",
       "      <td>N.Y.</td>\n",
       "      <td>II</td>\n",
       "      <td>1</td>\n",
       "      <td>Northeast</td>\n",
       "      <td>2</td>\n",
       "      <td>Mid-Atlantic</td>\n",
       "      <td>2</td>\n",
       "    </tr>\n",
       "  </tbody>\n",
       "</table>\n",
       "</div>"
      ],
      "text/plain": [
       "   id      name abbreviation country   type sort   status  occupied notes  \\\n",
       "0  32  New York           NY     USA  state   10  current  occupied         \n",
       "\n",
       "  fips_state assoc_press standard_federal_region census_region  \\\n",
       "0          0        N.Y.                      II             1   \n",
       "\n",
       "  census_region_name census_division census_division_name circuit_court  \n",
       "0          Northeast               2         Mid-Atlantic             2  "
      ]
     },
     "execution_count": 18,
     "metadata": {},
     "output_type": "execute_result"
    }
   ],
   "source": [
    "# Build a select statement: select_stmt\n",
    "select_stmt = select([state_fact]).where(state_fact.columns.name == \"New York\")\n",
    "\n",
    "df = get_df_select_stmt(connection_census, select_stmt)\n",
    "df.head()"
   ]
  },
  {
   "cell_type": "code",
   "execution_count": 19,
   "metadata": {},
   "outputs": [
    {
     "name": "stdout",
     "output_type": "stream",
     "text": [
      "1\n"
     ]
    }
   ],
   "source": [
    "# Build a statement to update the fips_state to 36: stmt\n",
    "stmt = update(state_fact).values(fips_state = 36)\n",
    "\n",
    "# Append a where clause to limit it to records for New York state\n",
    "stmt = stmt.where(state_fact.columns.name == \"New York\")\n",
    "\n",
    "# Execute the statement: results\n",
    "results = connection_census.execute(stmt)\n",
    "\n",
    "# Print rowcount\n",
    "print(results.rowcount)"
   ]
  },
  {
   "cell_type": "code",
   "execution_count": 20,
   "metadata": {},
   "outputs": [
    {
     "data": {
      "text/html": [
       "<div>\n",
       "<style scoped>\n",
       "    .dataframe tbody tr th:only-of-type {\n",
       "        vertical-align: middle;\n",
       "    }\n",
       "\n",
       "    .dataframe tbody tr th {\n",
       "        vertical-align: top;\n",
       "    }\n",
       "\n",
       "    .dataframe thead th {\n",
       "        text-align: right;\n",
       "    }\n",
       "</style>\n",
       "<table border=\"1\" class=\"dataframe\">\n",
       "  <thead>\n",
       "    <tr style=\"text-align: right;\">\n",
       "      <th></th>\n",
       "      <th>id</th>\n",
       "      <th>name</th>\n",
       "      <th>abbreviation</th>\n",
       "      <th>country</th>\n",
       "      <th>type</th>\n",
       "      <th>sort</th>\n",
       "      <th>status</th>\n",
       "      <th>occupied</th>\n",
       "      <th>notes</th>\n",
       "      <th>fips_state</th>\n",
       "      <th>assoc_press</th>\n",
       "      <th>standard_federal_region</th>\n",
       "      <th>census_region</th>\n",
       "      <th>census_region_name</th>\n",
       "      <th>census_division</th>\n",
       "      <th>census_division_name</th>\n",
       "      <th>circuit_court</th>\n",
       "    </tr>\n",
       "  </thead>\n",
       "  <tbody>\n",
       "    <tr>\n",
       "      <th>0</th>\n",
       "      <td>32</td>\n",
       "      <td>New York</td>\n",
       "      <td>NY</td>\n",
       "      <td>USA</td>\n",
       "      <td>state</td>\n",
       "      <td>10</td>\n",
       "      <td>current</td>\n",
       "      <td>occupied</td>\n",
       "      <td></td>\n",
       "      <td>36</td>\n",
       "      <td>N.Y.</td>\n",
       "      <td>II</td>\n",
       "      <td>1</td>\n",
       "      <td>Northeast</td>\n",
       "      <td>2</td>\n",
       "      <td>Mid-Atlantic</td>\n",
       "      <td>2</td>\n",
       "    </tr>\n",
       "  </tbody>\n",
       "</table>\n",
       "</div>"
      ],
      "text/plain": [
       "   id      name abbreviation country   type sort   status  occupied notes  \\\n",
       "0  32  New York           NY     USA  state   10  current  occupied         \n",
       "\n",
       "  fips_state assoc_press standard_federal_region census_region  \\\n",
       "0         36        N.Y.                      II             1   \n",
       "\n",
       "  census_region_name census_division census_division_name circuit_court  \n",
       "0          Northeast               2         Mid-Atlantic             2  "
      ]
     },
     "execution_count": 20,
     "metadata": {},
     "output_type": "execute_result"
    }
   ],
   "source": [
    "# Results of executing the select_stmt\n",
    "results = connection_census.execute(select_stmt).fetchall()\n",
    "\n",
    "df = get_df_select_stmt(connection_census, select_stmt)\n",
    "df.head()"
   ]
  },
  {
   "cell_type": "markdown",
   "metadata": {},
   "source": [
    "## Updating Multiple Records\n",
    "As Jason discussed in the video, by using a `where` clause that selects more records, you can update multiple records at once. It's time now to practice this!\n",
    "\n",
    "For your convenience, the names of the tables and columns of interest in this exercise are: `state_fact` (Table), `notes` (Column), and `census_region_name` (Column)."
   ]
  },
  {
   "cell_type": "code",
   "execution_count": 21,
   "metadata": {},
   "outputs": [
    {
     "data": {
      "text/html": [
       "<div>\n",
       "<style scoped>\n",
       "    .dataframe tbody tr th:only-of-type {\n",
       "        vertical-align: middle;\n",
       "    }\n",
       "\n",
       "    .dataframe tbody tr th {\n",
       "        vertical-align: top;\n",
       "    }\n",
       "\n",
       "    .dataframe thead th {\n",
       "        text-align: right;\n",
       "    }\n",
       "</style>\n",
       "<table border=\"1\" class=\"dataframe\">\n",
       "  <thead>\n",
       "    <tr style=\"text-align: right;\">\n",
       "      <th></th>\n",
       "      <th>id</th>\n",
       "      <th>name</th>\n",
       "      <th>abbreviation</th>\n",
       "      <th>country</th>\n",
       "      <th>type</th>\n",
       "      <th>sort</th>\n",
       "      <th>status</th>\n",
       "      <th>occupied</th>\n",
       "      <th>notes</th>\n",
       "      <th>fips_state</th>\n",
       "      <th>assoc_press</th>\n",
       "      <th>standard_federal_region</th>\n",
       "      <th>census_region</th>\n",
       "      <th>census_region_name</th>\n",
       "      <th>census_division</th>\n",
       "      <th>census_division_name</th>\n",
       "      <th>circuit_court</th>\n",
       "    </tr>\n",
       "  </thead>\n",
       "  <tbody>\n",
       "    <tr>\n",
       "      <th>0</th>\n",
       "      <td>37</td>\n",
       "      <td>Oregon</td>\n",
       "      <td>OR</td>\n",
       "      <td>USA</td>\n",
       "      <td>state</td>\n",
       "      <td>10</td>\n",
       "      <td>current</td>\n",
       "      <td>occupied</td>\n",
       "      <td></td>\n",
       "      <td>41</td>\n",
       "      <td>Ore.</td>\n",
       "      <td>X</td>\n",
       "      <td>4</td>\n",
       "      <td>West</td>\n",
       "      <td>9</td>\n",
       "      <td>Pacific</td>\n",
       "      <td>9</td>\n",
       "    </tr>\n",
       "    <tr>\n",
       "      <th>1</th>\n",
       "      <td>3</td>\n",
       "      <td>Arizona</td>\n",
       "      <td>AZ</td>\n",
       "      <td>USA</td>\n",
       "      <td>state</td>\n",
       "      <td>10</td>\n",
       "      <td>current</td>\n",
       "      <td>occupied</td>\n",
       "      <td></td>\n",
       "      <td>4</td>\n",
       "      <td>Ariz.</td>\n",
       "      <td>IX</td>\n",
       "      <td>4</td>\n",
       "      <td>West</td>\n",
       "      <td>8</td>\n",
       "      <td>Mountain</td>\n",
       "      <td>9</td>\n",
       "    </tr>\n",
       "    <tr>\n",
       "      <th>2</th>\n",
       "      <td>6</td>\n",
       "      <td>Colorado</td>\n",
       "      <td>CO</td>\n",
       "      <td>USA</td>\n",
       "      <td>state</td>\n",
       "      <td>10</td>\n",
       "      <td>current</td>\n",
       "      <td>occupied</td>\n",
       "      <td></td>\n",
       "      <td>8</td>\n",
       "      <td>Colo.</td>\n",
       "      <td>VIII</td>\n",
       "      <td>4</td>\n",
       "      <td>West</td>\n",
       "      <td>8</td>\n",
       "      <td>Mountain</td>\n",
       "      <td>10</td>\n",
       "    </tr>\n",
       "    <tr>\n",
       "      <th>3</th>\n",
       "      <td>11</td>\n",
       "      <td>Hawaii</td>\n",
       "      <td>HI</td>\n",
       "      <td>USA</td>\n",
       "      <td>state</td>\n",
       "      <td>10</td>\n",
       "      <td>current</td>\n",
       "      <td>occupied</td>\n",
       "      <td></td>\n",
       "      <td>15</td>\n",
       "      <td>Hawaii</td>\n",
       "      <td>IX</td>\n",
       "      <td>4</td>\n",
       "      <td>West</td>\n",
       "      <td>9</td>\n",
       "      <td>Pacific</td>\n",
       "      <td>9</td>\n",
       "    </tr>\n",
       "    <tr>\n",
       "      <th>4</th>\n",
       "      <td>26</td>\n",
       "      <td>Montana</td>\n",
       "      <td>MT</td>\n",
       "      <td>USA</td>\n",
       "      <td>state</td>\n",
       "      <td>10</td>\n",
       "      <td>current</td>\n",
       "      <td>occupied</td>\n",
       "      <td></td>\n",
       "      <td>30</td>\n",
       "      <td>Mont.</td>\n",
       "      <td>VIII</td>\n",
       "      <td>4</td>\n",
       "      <td>West</td>\n",
       "      <td>8</td>\n",
       "      <td>Mountain</td>\n",
       "      <td>9</td>\n",
       "    </tr>\n",
       "  </tbody>\n",
       "</table>\n",
       "</div>"
      ],
      "text/plain": [
       "   id      name abbreviation country   type sort   status  occupied notes  \\\n",
       "0  37    Oregon           OR     USA  state   10  current  occupied         \n",
       "1   3   Arizona           AZ     USA  state   10  current  occupied         \n",
       "2   6  Colorado           CO     USA  state   10  current  occupied         \n",
       "3  11    Hawaii           HI     USA  state   10  current  occupied         \n",
       "4  26   Montana           MT     USA  state   10  current  occupied         \n",
       "\n",
       "  fips_state assoc_press standard_federal_region census_region  \\\n",
       "0         41        Ore.                       X             4   \n",
       "1          4       Ariz.                      IX             4   \n",
       "2          8       Colo.                    VIII             4   \n",
       "3         15      Hawaii                      IX             4   \n",
       "4         30       Mont.                    VIII             4   \n",
       "\n",
       "  census_region_name census_division census_division_name circuit_court  \n",
       "0               West               9              Pacific             9  \n",
       "1               West               8             Mountain             9  \n",
       "2               West               8             Mountain            10  \n",
       "3               West               9              Pacific             9  \n",
       "4               West               8             Mountain             9  "
      ]
     },
     "execution_count": 21,
     "metadata": {},
     "output_type": "execute_result"
    }
   ],
   "source": [
    "# Build a select statement: select_stmt\n",
    "select_stmt = select([state_fact]).where(state_fact.columns.census_region_name == 'West')\n",
    "\n",
    "# Results of executing the select_stmt\n",
    "results = connection_census.execute(select_stmt).fetchall()\n",
    "\n",
    "df = get_df_select_stmt(connection_census, select_stmt)\n",
    "df.head()"
   ]
  },
  {
   "cell_type": "code",
   "execution_count": 22,
   "metadata": {},
   "outputs": [
    {
     "name": "stdout",
     "output_type": "stream",
     "text": [
      "13\n"
     ]
    }
   ],
   "source": [
    "# Build a statement to update the notes to 'The Wild West': stmt\n",
    "stmt = update(state_fact).values(notes='The Wild West')\n",
    "\n",
    "# Append a where clause to match the West census region records\n",
    "stmt = stmt.where(state_fact.columns.census_region_name == \"West\")\n",
    "\n",
    "# Execute the statement: results\n",
    "results = connection_census.execute(stmt)\n",
    "\n",
    "# Print rowcount\n",
    "print(results.rowcount)"
   ]
  },
  {
   "cell_type": "code",
   "execution_count": 23,
   "metadata": {},
   "outputs": [
    {
     "data": {
      "text/html": [
       "<div>\n",
       "<style scoped>\n",
       "    .dataframe tbody tr th:only-of-type {\n",
       "        vertical-align: middle;\n",
       "    }\n",
       "\n",
       "    .dataframe tbody tr th {\n",
       "        vertical-align: top;\n",
       "    }\n",
       "\n",
       "    .dataframe thead th {\n",
       "        text-align: right;\n",
       "    }\n",
       "</style>\n",
       "<table border=\"1\" class=\"dataframe\">\n",
       "  <thead>\n",
       "    <tr style=\"text-align: right;\">\n",
       "      <th></th>\n",
       "      <th>id</th>\n",
       "      <th>name</th>\n",
       "      <th>abbreviation</th>\n",
       "      <th>country</th>\n",
       "      <th>type</th>\n",
       "      <th>sort</th>\n",
       "      <th>status</th>\n",
       "      <th>occupied</th>\n",
       "      <th>notes</th>\n",
       "      <th>fips_state</th>\n",
       "      <th>assoc_press</th>\n",
       "      <th>standard_federal_region</th>\n",
       "      <th>census_region</th>\n",
       "      <th>census_region_name</th>\n",
       "      <th>census_division</th>\n",
       "      <th>census_division_name</th>\n",
       "      <th>circuit_court</th>\n",
       "    </tr>\n",
       "  </thead>\n",
       "  <tbody>\n",
       "    <tr>\n",
       "      <th>0</th>\n",
       "      <td>37</td>\n",
       "      <td>Oregon</td>\n",
       "      <td>OR</td>\n",
       "      <td>USA</td>\n",
       "      <td>state</td>\n",
       "      <td>10</td>\n",
       "      <td>current</td>\n",
       "      <td>occupied</td>\n",
       "      <td>The Wild West</td>\n",
       "      <td>41</td>\n",
       "      <td>Ore.</td>\n",
       "      <td>X</td>\n",
       "      <td>4</td>\n",
       "      <td>West</td>\n",
       "      <td>9</td>\n",
       "      <td>Pacific</td>\n",
       "      <td>9</td>\n",
       "    </tr>\n",
       "    <tr>\n",
       "      <th>1</th>\n",
       "      <td>3</td>\n",
       "      <td>Arizona</td>\n",
       "      <td>AZ</td>\n",
       "      <td>USA</td>\n",
       "      <td>state</td>\n",
       "      <td>10</td>\n",
       "      <td>current</td>\n",
       "      <td>occupied</td>\n",
       "      <td>The Wild West</td>\n",
       "      <td>4</td>\n",
       "      <td>Ariz.</td>\n",
       "      <td>IX</td>\n",
       "      <td>4</td>\n",
       "      <td>West</td>\n",
       "      <td>8</td>\n",
       "      <td>Mountain</td>\n",
       "      <td>9</td>\n",
       "    </tr>\n",
       "    <tr>\n",
       "      <th>2</th>\n",
       "      <td>6</td>\n",
       "      <td>Colorado</td>\n",
       "      <td>CO</td>\n",
       "      <td>USA</td>\n",
       "      <td>state</td>\n",
       "      <td>10</td>\n",
       "      <td>current</td>\n",
       "      <td>occupied</td>\n",
       "      <td>The Wild West</td>\n",
       "      <td>8</td>\n",
       "      <td>Colo.</td>\n",
       "      <td>VIII</td>\n",
       "      <td>4</td>\n",
       "      <td>West</td>\n",
       "      <td>8</td>\n",
       "      <td>Mountain</td>\n",
       "      <td>10</td>\n",
       "    </tr>\n",
       "    <tr>\n",
       "      <th>3</th>\n",
       "      <td>11</td>\n",
       "      <td>Hawaii</td>\n",
       "      <td>HI</td>\n",
       "      <td>USA</td>\n",
       "      <td>state</td>\n",
       "      <td>10</td>\n",
       "      <td>current</td>\n",
       "      <td>occupied</td>\n",
       "      <td>The Wild West</td>\n",
       "      <td>15</td>\n",
       "      <td>Hawaii</td>\n",
       "      <td>IX</td>\n",
       "      <td>4</td>\n",
       "      <td>West</td>\n",
       "      <td>9</td>\n",
       "      <td>Pacific</td>\n",
       "      <td>9</td>\n",
       "    </tr>\n",
       "    <tr>\n",
       "      <th>4</th>\n",
       "      <td>26</td>\n",
       "      <td>Montana</td>\n",
       "      <td>MT</td>\n",
       "      <td>USA</td>\n",
       "      <td>state</td>\n",
       "      <td>10</td>\n",
       "      <td>current</td>\n",
       "      <td>occupied</td>\n",
       "      <td>The Wild West</td>\n",
       "      <td>30</td>\n",
       "      <td>Mont.</td>\n",
       "      <td>VIII</td>\n",
       "      <td>4</td>\n",
       "      <td>West</td>\n",
       "      <td>8</td>\n",
       "      <td>Mountain</td>\n",
       "      <td>9</td>\n",
       "    </tr>\n",
       "  </tbody>\n",
       "</table>\n",
       "</div>"
      ],
      "text/plain": [
       "   id      name abbreviation country   type sort   status  occupied  \\\n",
       "0  37    Oregon           OR     USA  state   10  current  occupied   \n",
       "1   3   Arizona           AZ     USA  state   10  current  occupied   \n",
       "2   6  Colorado           CO     USA  state   10  current  occupied   \n",
       "3  11    Hawaii           HI     USA  state   10  current  occupied   \n",
       "4  26   Montana           MT     USA  state   10  current  occupied   \n",
       "\n",
       "           notes fips_state assoc_press standard_federal_region census_region  \\\n",
       "0  The Wild West         41        Ore.                       X             4   \n",
       "1  The Wild West          4       Ariz.                      IX             4   \n",
       "2  The Wild West          8       Colo.                    VIII             4   \n",
       "3  The Wild West         15      Hawaii                      IX             4   \n",
       "4  The Wild West         30       Mont.                    VIII             4   \n",
       "\n",
       "  census_region_name census_division census_division_name circuit_court  \n",
       "0               West               9              Pacific             9  \n",
       "1               West               8             Mountain             9  \n",
       "2               West               8             Mountain            10  \n",
       "3               West               9              Pacific             9  \n",
       "4               West               8             Mountain             9  "
      ]
     },
     "execution_count": 23,
     "metadata": {},
     "output_type": "execute_result"
    }
   ],
   "source": [
    "df = get_df_select_stmt(connection_census, select_stmt)\n",
    "df.head()"
   ]
  },
  {
   "cell_type": "markdown",
   "metadata": {},
   "source": [
    "## Correlated Updates\n",
    "You can also update records with data from a select statement. This is called a correlated update. It works by defining a `select` statement that returns the value you want to update the record with and assigning that as the value in an `update` statement.\n",
    "\n",
    "You'll be using a `flat_census` in this exercise as the target of your correlated update. The `flat_census` table is a summarized copy of your census table.\n",
    "\n",
    "```python\n",
    "Build a statement to select name from state_fact: stmt\n",
    "fips_stmt = select([state_fact.columns.name])\n",
    "\n",
    "# Append a where clause to Match the fips_state to flat_census fips_code\n",
    "fips_stmt = fips_stmt.where(\n",
    "    state_fact.columns.fips_state == flat_census.columns.fips_code)\n",
    "\n",
    "# Build an update statement to set the name to fips_stmt: update_stmt\n",
    "update_stmt = update(flat_census).values(state_name=fips_stmt)\n",
    "\n",
    "# Execute update_stmt: results\n",
    "results = connection.execute(update_stmt)\n",
    "\n",
    "# Print rowcount\n",
    "print(results.rowcount)\n",
    "```"
   ]
  },
  {
   "cell_type": "markdown",
   "metadata": {},
   "source": [
    "The equivalent sql is\n",
    "```sql\n",
    "UPDATE flat_census SET state_name=(SELECT state_fact.name \n",
    "FROM state_fact \n",
    "WHERE state_fact.fips_state = flat_census.fips_code)\n",
    "```"
   ]
  },
  {
   "cell_type": "markdown",
   "metadata": {},
   "source": [
    "## Deleting all the records from a table\n",
    "Often, you'll need to empty a table of all of its records so you can reload the data. You can do this with a `delete` statement with just the table as an argument. For example, in the video, Jason deleted the table `extra_employees` by executing as follows:\n",
    "```Phyton\n",
    "delete_stmt = delete(extra_employees)\n",
    "result_proxy = connection.execute(delete_stmt)\n",
    "```\n",
    "Do be careful, though, as deleting cannot be undone!"
   ]
  },
  {
   "cell_type": "code",
   "execution_count": 24,
   "metadata": {},
   "outputs": [
    {
     "name": "stdout",
     "output_type": "stream",
     "text": [
      "['census', 'data', 'employees']\n"
     ]
    }
   ],
   "source": [
    "# Print table names\n",
    "print(engine.table_names())\n",
    "\n",
    "# Reflect census and data table via engine: \n",
    "census = Table('census', metadata, autoload=True, autoload_with=engine)\n",
    "data = Table('data', metadata, autoload=True, autoload_with=engine)"
   ]
  },
  {
   "cell_type": "code",
   "execution_count": 25,
   "metadata": {},
   "outputs": [
    {
     "name": "stdout",
     "output_type": "stream",
     "text": [
      "8722\n",
      "[]\n"
     ]
    }
   ],
   "source": [
    "# Import delete, select\n",
    "from sqlalchemy import delete, select\n",
    "\n",
    "# Build a statement to empty the census table: stmt\n",
    "stmt = delete(census)\n",
    "\n",
    "# Execute the statement: results\n",
    "results = connection.execute(stmt)\n",
    "\n",
    "# Print affected rowcount\n",
    "print(results.rowcount)\n",
    "\n",
    "# Build a statement to select all records from the census table\n",
    "stmt = select([census])\n",
    "\n",
    "# Print the results of executing the statement to verify there are no rows\n",
    "print(connection.execute(stmt).fetchall())"
   ]
  },
  {
   "cell_type": "markdown",
   "metadata": {},
   "source": [
    "## Deleting specific records\n",
    "By using a `where()` clause, you can target the `delete` statement to remove only certain records. For example, Jason deleted all rows from the `employees` table that had id 3 with the following delete statement:\n",
    "```Phyton\n",
    "delete(employees).where(employees.columns.id == 3) \n",
    "```\n",
    "Here you'll delete `ALL` rows which have `'M'` in the `sex` column and `36` in the `age` column. We have included code at the start which computes the total number of these rows. It is important to make sure that this is the number of rows that you actually delete.\n"
   ]
  },
  {
   "cell_type": "code",
   "execution_count": 26,
   "metadata": {},
   "outputs": [
    {
     "name": "stdout",
     "output_type": "stream",
     "text": [
      "8722\n"
     ]
    }
   ],
   "source": [
    "total_rowcount = load_data_census_from_csv()\n",
    "print(total_rowcount)"
   ]
  },
  {
   "cell_type": "code",
   "execution_count": 27,
   "metadata": {},
   "outputs": [
    {
     "name": "stdout",
     "output_type": "stream",
     "text": [
      "51 51\n"
     ]
    }
   ],
   "source": [
    "# Import delete, select\n",
    "from sqlalchemy import func, and_\n",
    "\n",
    "# Build a statement to count records using the sex column for Men ('M') age 36: stmt\n",
    "stmt = select([func.count(census.columns.sex)]).where(\n",
    "    and_(census.columns.sex == 'M',\n",
    "         census.columns.age == 36)\n",
    ")\n",
    "\n",
    "# Execute the select statement and use the scalar() fetch method to save the record count\n",
    "to_delete = connection.execute(stmt).scalar()\n",
    "\n",
    "# Build a statement to delete records from the census table: stmt_del\n",
    "stmt_del = delete(census)\n",
    "\n",
    "# Append a where clause to target Men ('M') age 36\n",
    "stmt_del = stmt_del.where(\n",
    "    and_(census.columns.sex == 'M',\n",
    "         census.columns.age == 36)\n",
    ")\n",
    "\n",
    "# Execute the statement: results\n",
    "results = connection.execute(stmt_del)\n",
    "\n",
    "# Print affected rowcount and to_delete record count, make sure they match\n",
    "print(results.rowcount, to_delete)"
   ]
  },
  {
   "cell_type": "markdown",
   "metadata": {},
   "source": [
    "## Deleting a Table Completely\n",
    "You're now going to practice dropping individual tables from a database with the `.drop()` method, as well as all tables in a database with the `.drop_all()` method!\n",
    "\n",
    "As Spider-Man's Uncle Ben (as well as Jason, in the video!) said: With great power, comes great responsibility. Do be careful when deleting tables, as it's not simple or fast to restore large databases! Remember, you can check to see if a table exists with the `.exists()` method.\n",
    "\n",
    "This is the final exercise in this chapter: After this, you'll be ready to apply everything you've learned to a case study in the final chapter of this course!"
   ]
  },
  {
   "cell_type": "code",
   "execution_count": 28,
   "metadata": {},
   "outputs": [
    {
     "name": "stdout",
     "output_type": "stream",
     "text": [
      "existe tabla census: True\n",
      "existe tabla data: True\n"
     ]
    }
   ],
   "source": [
    "print(\"existe tabla census: \"+ (str)(census.exists(engine)))\n",
    "print(\"existe tabla data: \"+ (str)(data.exists(engine)))"
   ]
  },
  {
   "cell_type": "code",
   "execution_count": 29,
   "metadata": {},
   "outputs": [
    {
     "name": "stdout",
     "output_type": "stream",
     "text": [
      "['employees']\n"
     ]
    }
   ],
   "source": [
    "census.drop(engine)\n",
    "data.drop(engine)\n",
    "print(engine.table_names())"
   ]
  }
 ],
 "metadata": {
  "kernelspec": {
   "display_name": "Python 3",
   "language": "python",
   "name": "python3"
  },
  "language_info": {
   "codemirror_mode": {
    "name": "ipython",
    "version": 3
   },
   "file_extension": ".py",
   "mimetype": "text/x-python",
   "name": "python",
   "nbconvert_exporter": "python",
   "pygments_lexer": "ipython3",
   "version": "3.7.1"
  }
 },
 "nbformat": 4,
 "nbformat_minor": 2
}

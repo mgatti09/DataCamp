{
 "cells": [
  {
   "cell_type": "markdown",
   "metadata": {},
   "source": [
    "## Engines and Connection Strings\n",
    "Alright, it's time to create your first engine! An engine is just a common interface to a database, and the information it requires to connect to one is contained in a connection string, such as `sqlite:///census_nyc.sqlite`. Here, `sqlite` is the database driver, while `census_nyc.sqlite` is a SQLite file contained in the local directory.\n",
    "\n",
    "You can learn a lot more about connection strings in the [SQLAlchemy documentation][1].\n",
    "\n",
    "Your job in this exercise is to create an engine that connects to a local SQLite file named `census.sqlite`. Then, print the names of the tables it contains using the .table_names() method. Note that when you just want to print the `table names`, you do not need to use `engine.connect()` after creating the engine.\n",
    "\n",
    "[1]:http://docs.sqlalchemy.org/en/latest/core/engines.html#database-urls"
   ]
  },
  {
   "cell_type": "code",
   "execution_count": 12,
   "metadata": {},
   "outputs": [
    {
     "name": "stdout",
     "output_type": "stream",
     "text": [
      "['census', 'state_fact']\n"
     ]
    }
   ],
   "source": [
    "# Import create_engine\n",
    "from sqlalchemy import create_engine\n",
    "\n",
    "# Create an engine that connects to the census.sqlite file: engine\n",
    "engine = create_engine('sqlite:///census.sqlite')\n",
    "\n",
    "# Print table names\n",
    "print(engine.table_names())"
   ]
  },
  {
   "cell_type": "markdown",
   "metadata": {},
   "source": [
    "## Autoloading Tables from a Database\n",
    "SQLAlchemy can be used to automatically load tables from a database using something called reflection. Reflection is the process of reading the database and building the metadata based on that information. It's the opposite of creating a Table by hand and is very useful for working with existing databases. To perform reflection, you need to import the `Table` object from the `SQLAlchemy package`. Then, you use this `Table` object to read your table from the engine and autoload the columns. Using the `Table` object in this manner is a lot like passing arguments to a function. For example, to autoload the columns with the engine, you have to specify the keyword arguments `autoload=True` and `autoload_with=engine` to `Table()`.\n",
    "\n",
    "In this exercise, your job is to reflect the `census` table available on your `engine` into a variable called `census`. "
   ]
  },
  {
   "cell_type": "code",
   "execution_count": 13,
   "metadata": {},
   "outputs": [],
   "source": [
    "from sqlalchemy import MetaData, Table\n",
    "metadata = MetaData()"
   ]
  },
  {
   "cell_type": "code",
   "execution_count": 14,
   "metadata": {},
   "outputs": [
    {
     "name": "stdout",
     "output_type": "stream",
     "text": [
      "Table('census', MetaData(bind=None), Column('state', VARCHAR(length=30), table=<census>), Column('sex', VARCHAR(length=1), table=<census>), Column('age', INTEGER(), table=<census>), Column('pop2000', INTEGER(), table=<census>), Column('pop2008', INTEGER(), table=<census>), schema=None)\n"
     ]
    }
   ],
   "source": [
    "# Import Table\n",
    "from sqlalchemy import Table\n",
    "\n",
    "# Reflect census table from the engine: census\n",
    "census = Table('census', metadata, autoload=True, autoload_with=engine)\n",
    "\n",
    "# Print census table metadata\n",
    "print(repr(census))"
   ]
  },
  {
   "cell_type": "markdown",
   "metadata": {},
   "source": [
    "## Viewing Table Details\n",
    "Great job reflecting the `census` table! Now you can begin to learn more about the columns and structure of your table. It is important to get an understanding of your database by examining the column names. This can be done by using the `.columns` attribute and accessing the `.keys()` method. For example, `census.columns.keys()` would return a list of column names of the `census` table.\n",
    "\n",
    "Following this, we can use the metadata container to find out more details about the reflected table such as the columns and their types. For example, table objects are stored in the `metadata.` tables dictionary, so you can get the metadata of your `census` table with `metadata.tables['census']`. This is similar to your use of the `repr()` function on the `census` table from the previous exercise."
   ]
  },
  {
   "cell_type": "code",
   "execution_count": 15,
   "metadata": {},
   "outputs": [
    {
     "name": "stdout",
     "output_type": "stream",
     "text": [
      "['state', 'sex', 'age', 'pop2000', 'pop2008']\n"
     ]
    }
   ],
   "source": [
    "# Print the column names\n",
    "print(census.columns.keys())"
   ]
  },
  {
   "cell_type": "code",
   "execution_count": 16,
   "metadata": {},
   "outputs": [
    {
     "name": "stdout",
     "output_type": "stream",
     "text": [
      "Table('census', MetaData(bind=None), Column('state', VARCHAR(length=30), table=<census>), Column('sex', VARCHAR(length=1), table=<census>), Column('age', INTEGER(), table=<census>), Column('pop2000', INTEGER(), table=<census>), Column('pop2008', INTEGER(), table=<census>), schema=None)\n"
     ]
    }
   ],
   "source": [
    "# Print full table metadata\n",
    "print(repr(metadata.tables['census']))"
   ]
  },
  {
   "cell_type": "markdown",
   "metadata": {},
   "source": [
    "## Selecting data from a Table: raw SQL\n",
    "Using what we just learned about SQL and applying the `.execute()` method on our connection, we can leverage a raw SQL query to query all the records in our `census` table. The object returned by the `.execute()` method is a **ResultProxy**. On this ResultProxy, we can then use the `.fetchall()` method to get our results - that is, the **ResultSet**.\n",
    "\n",
    "In this exercise, you'll use a traditional SQL query. In the next exercise, you'll move to SQLAlchemy and begin to understand its advantages. Go for it!\n",
    "\n",
    "#### Basic SQL querying\n",
    "```python\n",
    "In [1]: from sqlalchemy import create_engine\n",
    "In [2]: engine = create_engine('sqlite:///census_nyc.sqlite')\n",
    "In [3]: connection = engine.connect()\n",
    "In [4]: stmt = 'SELECT * FROM people'\n",
    "In [5]: result_proxy = connection.execute(stmt)\n",
    "In [6]: result_set = result_proxy.fetchall()\n",
    "```"
   ]
  },
  {
   "cell_type": "code",
   "execution_count": 20,
   "metadata": {},
   "outputs": [
    {
     "name": "stdout",
     "output_type": "stream",
     "text": [
      "<class 'list'>\n",
      "<class 'sqlalchemy.engine.result.RowProxy'>\n"
     ]
    },
    {
     "data": {
      "text/plain": [
       "[('Illinois', 'M', 0, 89600, 95012),\n",
       " ('Illinois', 'M', 1, 88445, 91829),\n",
       " ('Illinois', 'M', 2, 88729, 89547),\n",
       " ('Illinois', 'M', 3, 88868, 90037),\n",
       " ('Illinois', 'M', 4, 91947, 91111)]"
      ]
     },
     "execution_count": 20,
     "metadata": {},
     "output_type": "execute_result"
    }
   ],
   "source": [
    "# Import create_engine\n",
    "from sqlalchemy import create_engine\n",
    "\n",
    "# Create an engine that connects to the census.sqlite file: engine\n",
    "engine = create_engine('sqlite:///census.sqlite')\n",
    "\n",
    "# create connection\n",
    "connection = engine.connect()\n",
    "\n",
    "# Build select statement for census table: stmt\n",
    "stmt = \"SELECT * FROM census\"\n",
    "\n",
    "# Execute the statement \n",
    "result_proxy = connection.execute(stmt)\n",
    "\n",
    "# Execute the statement and fetch the results\n",
    "result_set = result_proxy.fetchall()\n",
    "\n",
    "# Check the datatype\n",
    "print(type(result_set))\n",
    "\n",
    "# Check the datatype of the first element\n",
    "print(type(result_set[0]))\n",
    "\n",
    "result_set[:5]"
   ]
  },
  {
   "cell_type": "markdown",
   "metadata": {},
   "source": [
    "## Selecting data from a Table with SQLAlchemy\n",
    "Excellent work so far! It's now time to build your first select statement using `SQLAlchemy`. **SQLAlchemy provides a nice \"Pythonic\" way of interacting with databases**. So rather than dealing with the differences between specific dialects of traditional SQL such as MySQL or PostgreSQL, you can leverage the Pythonic `framework of SQLAlchemy` to streamline your workflow and more efficiently query your data. For this reason, it is worth learning even if you may already be familiar with traditional SQL.\n",
    "\n",
    "In this exercise, you'll once again build a statement to query all records from the `census` table. This time, however, you'll make use of the `select()` function of the sqlalchemy module. This function requires a list of tables or columns as the only required argument."
   ]
  },
  {
   "cell_type": "code",
   "execution_count": 23,
   "metadata": {},
   "outputs": [
    {
     "name": "stdout",
     "output_type": "stream",
     "text": [
      "SELECT census.state, census.sex, census.age, census.pop2000, census.pop2008 \n",
      "FROM census\n"
     ]
    }
   ],
   "source": [
    "from sqlalchemy import MetaData, Table, select\n",
    "metadata = MetaData()\n",
    "engine = create_engine('sqlite:///census.sqlite')\n",
    "\n",
    "# Reflect census table via engine: census\n",
    "census = Table('census', metadata, autoload=True, autoload_with=engine)\n",
    "\n",
    "# Build select statement for census table: stmt\n",
    "stmt = select([census])\n",
    "\n",
    "# Print the emitted statement to see the SQL emitted\n",
    "print(stmt)"
   ]
  },
  {
   "cell_type": "code",
   "execution_count": 25,
   "metadata": {},
   "outputs": [
    {
     "name": "stdout",
     "output_type": "stream",
     "text": [
      "<class 'list'>\n",
      "<class 'sqlalchemy.engine.result.RowProxy'>\n"
     ]
    },
    {
     "data": {
      "text/plain": [
       "[('Illinois', 'M', 0, 89600, 95012),\n",
       " ('Illinois', 'M', 1, 88445, 91829),\n",
       " ('Illinois', 'M', 2, 88729, 89547),\n",
       " ('Illinois', 'M', 3, 88868, 90037),\n",
       " ('Illinois', 'M', 4, 91947, 91111)]"
      ]
     },
     "execution_count": 25,
     "metadata": {},
     "output_type": "execute_result"
    }
   ],
   "source": [
    "# Execute the statement and fetch the results\n",
    "result_set = connection.execute(stmt).fetchall()\n",
    "\n",
    "# Check the datatype\n",
    "print(type(result_set))\n",
    "\n",
    "# Check the datatype of the first element\n",
    "print(type(result_set[0]))\n",
    "\n",
    "result_set[:5]"
   ]
  },
  {
   "cell_type": "markdown",
   "metadata": {},
   "source": [
    "## Handling a ResultSet\n",
    "Recall the differences between a ResultProxy and a ResultSet:\n",
    "\n",
    "* **ResultProxy**: The object returned by the `.execute()` method. It can be used in a variety of ways to get the data returned by the query.\n",
    "* **ResultSet**: The actual data asked for in the query when using a fetch method such as `.fetchall()` on a ResultProxy.\n",
    "\n",
    "This separation between the ResultSet and ResultProxy allows us to fetch as much or as little data as we desire.\n",
    "\n",
    "Once we have a ResultSet, we can use Python to access all the data within it by column name and by list style indexes. For example, you can get the first row of the results by using `results[0]`. With that first row then assigned to a variable `first_row`, you can get data from the first column by either using `first_row[0]` or by column name such as `first_row['column_name']`. You'll now practice exactly this using the ResultSet you obtained from the `census` table in the previous exercise."
   ]
  },
  {
   "cell_type": "code",
   "execution_count": 26,
   "metadata": {},
   "outputs": [
    {
     "name": "stdout",
     "output_type": "stream",
     "text": [
      "('Illinois', 'M', 0, 89600, 95012)\n",
      "Illinois\n",
      "Illinois\n"
     ]
    }
   ],
   "source": [
    "# Get the first row of the results by using an index: first_row\n",
    "first_row = result_set[0]\n",
    "\n",
    "# Print the first row of the results\n",
    "print(first_row)\n",
    "\n",
    "# Print the first column of the first row by using an index\n",
    "print(first_row[0])\n",
    "\n",
    "# Print the 'state' column of the first row by using its name\n",
    "print(first_row['state'])"
   ]
  }
 ],
 "metadata": {
  "kernelspec": {
   "display_name": "Python 3",
   "language": "python",
   "name": "python3"
  },
  "language_info": {
   "codemirror_mode": {
    "name": "ipython",
    "version": 3
   },
   "file_extension": ".py",
   "mimetype": "text/x-python",
   "name": "python",
   "nbconvert_exporter": "python",
   "pygments_lexer": "ipython3",
   "version": "3.7.1"
  }
 },
 "nbformat": 4,
 "nbformat_minor": 2
}

{
 "cells": [
  {
   "cell_type": "markdown",
   "metadata": {},
   "source": [
    "# Chapter One. Introduction to TensorFlow\n",
    "What is graph-based computation? In this chapter, you'll learn about the engine that powers TensorFlow\n",
    "and what makes it such an attractive choice for data science projects. We will talk about constants and\n",
    "variables, basic operations, such as addition and multiplication, and advanced operations, such as\n",
    "differentiation. By the end of the chapter, you'll know how to construct and solve graph-based\n",
    "computational models.\n",
    "\n",
    "> **Topics:**\n",
    "- 1. Constants and variables\n",
    "    - 1.1 Defining constants with convenience functions\n",
    "    - 1.2 Defining variables\n",
    "    - 1.3 Checking properties of tensors\n",
    "- 2. Basic operations\n",
    "    - 2.1. Performing element-wise multiplication\n",
    "    - 2.2. Making predictions with matrix multiplication\n",
    "    - 2.3. Summing over tensor dimensions\n",
    "- 3. Advanced operations\n",
    "    - 3.1. Reshaping tensors\n",
    "    - 3.2. Optimizing with gradients\n",
    "    - 3.3. Working with image data"
   ]
  },
  {
   "cell_type": "code",
   "execution_count": 1,
   "metadata": {},
   "outputs": [],
   "source": [
    "import numpy as np\n",
    "import tensorflow as tf\n",
    "\n",
    "filepath = '../_datasets/'\n"
   ]
  },
  {
   "cell_type": "markdown",
   "metadata": {},
   "source": [
    "## 1. Constants and variables\n",
    "\n",
    "### What is TensorFlow?\n",
    "- **Open-source library for graph-based numerical computation**\n",
    "    - Developed by the Google Brain Team\n",
    "- **Low and high level APIs**\n",
    "    - Addition, multiplication, differentiation\n",
    "    - Machine learning models\n",
    "- **Important changes in TensorFlow 2.0**\n",
    "    - Eager execution by default\n",
    "    - Model building with Keras and Estimators\n",
    "\n",
    "### What is a tensor?\n",
    "- Generalization of vectors and matrices\n",
    "- Collection of numbers\n",
    "- Specific shape\n",
    "\n",
    "![][tensor]\n",
    "\n",
    "### Defining tensors in TensorFlow\n",
    "```Python\n",
    "import tensorflow as tf\n",
    "# 0D Tensor\n",
    "d0 = tf.ones((1,))\n",
    "\n",
    "# 1D Tensor\n",
    "d1 = tf.ones((2,))\n",
    "\n",
    "# 2D Tensor\n",
    "d2 = tf.ones((2, 2))\n",
    "\n",
    "# 3D Tensor\n",
    "d3 = tf.ones((2, 2, 2))\n",
    "\n",
    "# Print the 3D tensor\n",
    "print(d3.numpy())\n",
    "```\n",
    "\n",
    "### Defining constants in TensorFlow\n",
    "- **A constant is the simplest category of tensor**\n",
    "    - Not trainable\n",
    "    - Can have any dimension\n",
    "\n",
    "```Python\n",
    "from tensorflow import constant\n",
    "\n",
    "# Define a 2x3 constant.\n",
    "a = constant(3, shape=[2, 3])\n",
    "\n",
    "# Define a 2x2 constant.\n",
    "b = constant([1, 2, 3, 4], shape=[2, 2])\n",
    "```\n",
    "\n",
    "### Using convenience functions to define constants\n",
    "\n",
    "![][02-functions]\n",
    "\n",
    "### Defining and initializing variables\n",
    "\n",
    "```Python\n",
    "import tensorflow as tf\n",
    "\n",
    "# Define a variable\n",
    "a0 = tf.Variable([1, 2, 3, 4, 5, 6], dtype=tf.float32)\n",
    "a1 = tf.Variable([1, 2, 3, 4, 5, 6], dtype=tf.int16)\n",
    "\n",
    "# Define a constant\n",
    "b = tf.constant(2, tf.float32)\n",
    "\n",
    "# Compute their product\n",
    "c0 = tf.multiply(a0, b)\n",
    "c1 = a0*b\n",
    "```\n",
    "\n",
    "[tensor]: _Docs/01-tensor.png\n",
    "[02-functions]: _Docs/02-functions.png"
   ]
  },
  {
   "cell_type": "markdown",
   "metadata": {},
   "source": [
    "### 1.1 Defining constants with convenience functions\n",
    "A constant is the simplest category of tensor. It can't be trained, which makes it a bad choice for a model's parameters, but a good choice for input data. Input data may be transformed after it is defined or loaded, but is typically not modified by the training process.\n",
    "\n",
    "In this exercise, we will practice defining constants using some of the operations discussed in the video. Note that we have not imported the entire `tensorflow` API and will not import it for most exercises. You can complete this exercise using the operations `fill()`, `ones_like()`, and `constant()`, which have been imported from tensorflow version 2.0."
   ]
  },
  {
   "cell_type": "code",
   "execution_count": 2,
   "metadata": {},
   "outputs": [
    {
     "name": "stdout",
     "output_type": "stream",
     "text": [
      "[1 2 3 4]\n"
     ]
    }
   ],
   "source": [
    "# Define a 3x4 tensor with all values equal to 9\n",
    "A34 = tf.fill([3, 4], 9)\n",
    "\n",
    "# Define a tensor of ones with the same shape as A34\n",
    "B34 = tf.ones_like(A34)\n",
    "\n",
    "# Define the one-dimensional vector, C1\n",
    "C1 = tf.constant([1, 2, 3, 4])\n",
    "\n",
    "# Print C1 as a numpy array\n",
    "print(C1.numpy())"
   ]
  },
  {
   "cell_type": "markdown",
   "metadata": {},
   "source": [
    "### 1.2 Defining variables\n",
    "Unlike a constant, a variable's value can be modified. This will be quite useful when we want to train a model by updating its parameters. Constants can't be used for this purpose, so variables are the natural choice.\n",
    "\n",
    "Let's try defining and working with a variable."
   ]
  },
  {
   "cell_type": "code",
   "execution_count": 3,
   "metadata": {},
   "outputs": [
    {
     "name": "stdout",
     "output_type": "stream",
     "text": [
      "<tf.Variable 'Variable:0' shape=(4,) dtype=int32, numpy=array([1, 2, 3, 4])>\n",
      "[1 2 3 4]\n"
     ]
    }
   ],
   "source": [
    "# Define the 1-dimensional variable A1\n",
    "A1 = tf.Variable([1, 2, 3, 4])\n",
    "\n",
    "# Print the variable A1\n",
    "print(A1)\n",
    "\n",
    "# Convert A1 to a numpy array and assign it to B1\n",
    "B1 = A1.numpy()\n",
    "\n",
    "# Print B1\n",
    "print(B1)"
   ]
  },
  {
   "cell_type": "markdown",
   "metadata": {},
   "source": [
    "### 1.3 Checking properties of tensors\n",
    "In later chapters, you will make use of constants and variables to train models. Your datasets will be represented as constant tensors of type `tf.Tensor()` or numpy arrays. The model's parameters will be represented by variables that are updated during computation.\n",
    "\n",
    "In this exercise, you will examine the properties of two tensors: `A1` and `B1`. Note that they have already been defined and are available in the Python shell. Use the `print()` function to determine which statement about `A1` and `B1` is true.\n",
    "\n"
   ]
  },
  {
   "cell_type": "code",
   "execution_count": 4,
   "metadata": {},
   "outputs": [
    {
     "name": "stdout",
     "output_type": "stream",
     "text": [
      "tf.Tensor([1. 2. 3. 4.], shape=(4,), dtype=float32)\n",
      "<tf.Variable 'Variable:0' shape=(3,) dtype=float32, numpy=array([7., 3., 4.], dtype=float32)>\n"
     ]
    }
   ],
   "source": [
    "A1 = tf.constant([1., 2., 3., 4.])\n",
    "B1 = tf.Variable([7., 3., 4.])\n",
    "\n",
    "print(A1)\n",
    "print(B1)"
   ]
  },
  {
   "cell_type": "markdown",
   "metadata": {},
   "source": [
    "\n",
    "**Possible Answers**\n",
    "- [ ] A1 is a variable and B1 is a constant.\n",
    "- [ ] A1 is a constant, B1 is a variable, and both are of type int16.\n",
    "- [ ] A1 is a 1-dimensional tensor of shape 3.\n",
    "- [x] A1 is a constant, B1 is a variable, and A1 is the tensor [1, 2, 3, 4]."
   ]
  },
  {
   "cell_type": "markdown",
   "metadata": {},
   "source": [
    "## 2. Basic operations\n",
    "\n",
    "### What is a TensorFlow operation?\n",
    "\n",
    "![][03-TensorFlow_operation]\n",
    "\n",
    "### Applying the addition operator\n",
    "\n",
    "```Python\n",
    "#Import constant and add from tensorflow\n",
    "from tensorflow import constant, add\n",
    "\n",
    "# Define 0-dimensional tensors\n",
    "A0 = constant([1])\n",
    "B0 = constant([2])\n",
    "\n",
    "# Define 1-dimensional tensors\n",
    "A1 = constant([1, 2])\n",
    "B1 = constant([3, 4])\n",
    "\n",
    "# Define 2-dimensional tensors\n",
    "A2 = constant([[1, 2], [3, 4]])\n",
    "B2 = constant([[5, 6], [7, 8]])\n",
    "\n",
    "# Perform tensor addition with add()\n",
    "C0 = add(A0, B0)\n",
    "C1 = add(A1, B1)\n",
    "C2 = add(A2, B2)\n",
    "```\n",
    "\n",
    "### Performing tensor addition\n",
    "\n",
    "- The `add()` operation performs element-wise addition with two tensors\n",
    "- Element-wise addition requires both tensors to have the same shape:\n",
    "    - Scalar addition: $1 + 2 = 3$\n",
    "    - Vector addition: $[1, 2] + [3, 4] = [4, 6]$\n",
    "    - Matrix addition: \n",
    "    \\begin{eqnarray} \n",
    "        \\\\ \\nonumber    \n",
    "        \\left(\n",
    "        \\begin{array}{ll}\n",
    "          1 & 2 \\\\\n",
    "          3 & 4 \\\\\n",
    "        \\end{array}\n",
    "        \\right) + \n",
    "        \\left(\n",
    "        \\begin{array}{ll}\n",
    "        5 & 6   \\\\\n",
    "        7 & 8   \\\\\n",
    "        \\end{array}\n",
    "        \\right) = \n",
    "        \\left(\n",
    "        \\begin{array}{llll}\n",
    "        6  & 8  \\\\\n",
    "        10 & 12  \\\\\n",
    "        \\end{array}\n",
    "        \\right)\n",
    "    \\end{eqnarray}\n",
    "- The `add()` operator is overloaded\n",
    "\n",
    "### How to perform multiplication in TensorFlow\n",
    "- **Element-wise multiplication** performed using `multiply()` operation\n",
    "    - The tensors multiplied must have the same shape\n",
    "    - E.g. [1,2,3] and [3,4,5] or [1,2] and [3,4]\n",
    "- **Matrix multiplication** performed with `matmul()` operator\n",
    "    - The `matmul(A,B)` operation multiplies `A` by `B`\n",
    "    - Number of columns of `A` must equal the number of rows of `B`\n",
    "\n",
    "### Applying the multiplication operators\n",
    "\n",
    "```Python\n",
    "# Import operators from tensorflow\n",
    "from tensorflow import ones, matmul, multiply\n",
    "\n",
    "# Define tensors\n",
    "A0 = ones(1)\n",
    "A31 = ones([3, 1])\n",
    "A34 = ones([3, 4])\n",
    "A43 = ones([4, 3])\n",
    "```\n",
    "\n",
    "- What types of operations are valid?\n",
    "    - `multiply(A0, A0)` , `multiply(A31, A31)` , and `multiply(A34, A34)`\n",
    "    - `matmul(A43, A34)`, but not `matmul(A43, A43)`\n",
    "\n",
    "###  Summing over tensor dimensions\n",
    "- The `reduce_sum()` operator sums over the dimensions of a tensor\n",
    "    - `reduce_sum(A)` sums over all dimensions of A\n",
    "    - `reduce_sum(A, i)` sums over dimension i\n",
    "\n",
    "```Python\n",
    "# Import operations from tensorflow\n",
    "from tensorflow import ones, reduce_sum\n",
    "\n",
    "# Define a 2x3x4 tensor of ones\n",
    "A = ones([2, 3, 4]) \n",
    "\n",
    "# Sum over all dimensions\n",
    "B = reduce_sum(A)\n",
    "\n",
    "# Sum over dimensions 0, 1, and 2\n",
    "B0 = reduce_sum(A, 0)\n",
    "B1 = reduce_sum(A, 1)\n",
    "B2 = reduce_sum(A, 2)\n",
    "```\n",
    "\n",
    "[03-TensorFlow_operation]:_Docs/03-TensorFlow_operation.png"
   ]
  },
  {
   "cell_type": "markdown",
   "metadata": {},
   "source": [
    "### 2.1 Performing element-wise multiplication\n",
    "Element-wise multiplication in TensorFlow is performed using two tensors with identical shapes. This is because the operation multiplies elements in corresponding positions in the two tensors. An example of an element-wise multiplication, denoted by the ⊙ symbol, is shown below:\n",
    "\n",
    "\\begin{eqnarray} \n",
    "        \\\\ \\nonumber    \n",
    "        \\left(\n",
    "        \\begin{array}{ll}\n",
    "            1 & 2 \\\\\n",
    "            2 & 1 \\\\\n",
    "        \\end{array}\n",
    "        \\right) ⊙ \n",
    "        \\left(\n",
    "        \\begin{array}{ll}\n",
    "            3 & 1   \\\\\n",
    "            2 & 5   \\\\\n",
    "        \\end{array}\n",
    "        \\right) = \n",
    "        \\left(\n",
    "        \\begin{array}{llll}\n",
    "            3  & 2  \\\\\n",
    "            4 & 5  \\\\\n",
    "        \\end{array}\n",
    "        \\right)\n",
    "    \\end{eqnarray}\n",
    "\n",
    "\n",
    "In this exercise, you will perform element-wise multiplication, paying careful attention to the shape of the tensors you multiply."
   ]
  },
  {
   "cell_type": "code",
   "execution_count": 5,
   "metadata": {},
   "outputs": [
    {
     "name": "stdout",
     "output_type": "stream",
     "text": [
      "[1 2 3 4]\n",
      "[[1 2 3]\n",
      " [1 6 4]]\n"
     ]
    }
   ],
   "source": [
    "# Define tensors A1 and A23 as constants\n",
    "A1 = tf.constant([1, 2, 3, 4])\n",
    "A23 = tf.constant([[1, 2, 3], [1, 6, 4]])\n",
    "\n",
    "# Define B1 and B23 to have the correct shape\n",
    "B1 = tf.ones_like(A1)\n",
    "B23 = tf.ones_like(A23)\n",
    "\n",
    "# Perform element-wise multiplication\n",
    "C1 = tf.multiply(A1,B1)\n",
    "C23 = tf.multiply(A23, B23)\n",
    "\n",
    "# Print the tensors C1 and C23\n",
    "print(C1.numpy())\n",
    "print(C23.numpy())"
   ]
  },
  {
   "cell_type": "markdown",
   "metadata": {},
   "source": [
    "### 2.2 Making predictions with matrix multiplication\n",
    "In later chapters, you will learn to train linear regression models. This process will yield a vector of parameters that can be multiplied by the input data to generate a vector of predictions. In the exercise, we will use the following tensors:\n",
    "\n",
    "![][04-tensor]\n",
    "\n",
    "`X` is the matrix of input data, `b` is the parameter vector, and `y` is the target vector. You will use `matmul()` to perform matrix multiplication of `X` by `b` to generate predictions, `ypred`, which you will compare with `y`. \n",
    "\n",
    "[04-tensor]:_Docs/04-tensor.png\n"
   ]
  },
  {
   "cell_type": "code",
   "execution_count": 6,
   "metadata": {},
   "outputs": [
    {
     "name": "stdout",
     "output_type": "stream",
     "text": [
      "[[ 1]\n",
      " [ 0]\n",
      " [-1]\n",
      " [-3]]\n"
     ]
    }
   ],
   "source": [
    "# Define X, b, and y as constants\n",
    "X = tf.constant([[1, 2], [2, 1], [5, 8], [6, 10]])\n",
    "b = tf.constant([[1], [2]])\n",
    "y = tf.constant([[6], [4], [20], [23]])\n",
    "\n",
    "# Compute ypred using X and b\n",
    "ypred = tf.matmul(X,b)\n",
    "\n",
    "# Compute and print the error\n",
    "error = y - ypred\n",
    "print(error.numpy())"
   ]
  },
  {
   "cell_type": "markdown",
   "metadata": {},
   "source": [
    "### 2.3 Summing over tensor dimensions\n",
    "You've been given a matrix, wealth. This contains the value of bond and stock wealth for five individuals. Note that this is given in thousands of dollars.\n",
    "\n",
    "![][05-Summing]\n",
    "\n",
    "The first row corresponds to bonds and the second corresponds to stocks. Each column gives the stock and bond wealth for a single individual. Use `wealth`, `reduce_sum()`, and `.numpy()` to determine which statements are correct about wealth.\n",
    "\n",
    "[05-Summing]:_Docs/05-Summing.png"
   ]
  },
  {
   "cell_type": "code",
   "execution_count": 7,
   "metadata": {},
   "outputs": [
    {
     "name": "stdout",
     "output_type": "stream",
     "text": [
      "Sum over columns: [61  9 64  3 35]\n",
      "Sum over rows: [ 50 122]\n"
     ]
    }
   ],
   "source": [
    "wealth = tf.constant([[11,  7,  4,  3, 25], [50,  2, 60,  0, 10]])\n",
    "print('Sum over columns:', tf.reduce_sum(wealth,0).numpy())\n",
    "print('Sum over rows:', tf.reduce_sum(wealth,1).numpy())"
   ]
  },
  {
   "cell_type": "markdown",
   "metadata": {},
   "source": [
    "**Possible Answers**\n",
    "- [ ] The individual in the first column has the highest total wealth (i.e. stocks + bonds).\n",
    "- [ ] Combined, the 5 individuals hold USD 50,000 in stocks.\n",
    "- [X] Combined, the 5 individuals hold USD 50,000 in bonds.\n",
    "- [ ] The individual in the second column has the lowest total wealth (i.e. stocks + bonds)."
   ]
  },
  {
   "cell_type": "markdown",
   "metadata": {},
   "source": [
    "## 3. Advanced operations\n",
    "\n",
    "### Overview of advanced operations\n",
    "- We have covered basic operations in TensorFlow\n",
    "    - `add()` , `multiply()` , `matmul()` , and `reduce_sum()`\n",
    "- In this lesson, we explore advanced operations\n",
    "    - `gradient()` , `reshape()` , and `random()`\n",
    "    \n",
    "### Overview of advanced operations\n",
    "\n",
    "![][06-advanced_operations]\n",
    "\n",
    "### Finding the optimum\n",
    "- In many problems, we will want to find the optimun of a function.\n",
    "    - Minimum: Lowest value of a loss function.\n",
    "    - Maximum: Highest value of objective function.\n",
    "- We can do this using the `gradient()` operation.\n",
    "    - Optimum: Find a point where gradient = 0.\n",
    "    - Minimum: Change in gradient > 0\n",
    "    - Maximum: Change in gradient < 0\n",
    "\n",
    "### Calculating the gradient\n",
    "\n",
    "![][07-y_x]\n",
    "![][08-y_x2]\n",
    "\n",
    "### Gradients in TensorFlow\n",
    "\n",
    "```Python\n",
    "# Import tensorflow under the alias tf\n",
    "import tensorflow as tf\n",
    "\n",
    "# Define x\n",
    "x = tf.Variable(-1.0)\n",
    "\n",
    "# Define y within instance of GradientTape\n",
    "with tf.GradientTape() as tape:\n",
    "tape.watch(x)\n",
    "y = tf.multiply(x, x)\n",
    "\n",
    "# Evaluate the gradient of y at x = -1\n",
    "g = tape.gradient(y, x)\n",
    "print(g.numpy())\n",
    "-2.0\n",
    "```\n",
    "\n",
    "### Images as tensors\n",
    "\n",
    "![][09-images_as_tensors]\n",
    "\n",
    "### How to reshape a grayscale image\n",
    "```Python\n",
    "# Import tensorflow as alias tf\n",
    "import tensorflow as tf\n",
    "\n",
    "# Generate grayscale image\n",
    "gray = tf.random.uniform([2, 2], maxval=255, dtype='int32')\n",
    "\n",
    "# Reshape grayscale image\n",
    "gray = tf.reshape(gray, [2*2, 1])\n",
    "```\n",
    "\n",
    "![][10-reshape_grayscale]\n",
    "\n",
    "### How to reshape a color image\n",
    "\n",
    "```Python\n",
    "# Import tensorflow as alias tf\n",
    "import tensorflow as tf\n",
    "\n",
    "# Generate color image\n",
    "color = tf.random.uniform([2, 2, 3], maxval=255, dtype='int32')\n",
    "\n",
    "# Reshape color image\n",
    "color = tf.reshape(color, [2*2, 3])\n",
    "```\n",
    "\n",
    "![][11-reshape_color]\n",
    "\n",
    "[06-advanced_operations]:_Docs/06-advanced_operations.png\n",
    "[07-y_x]:_Docs/07-y_x.png\n",
    "[08-y_x2]:_Docs/08-y_x2.png\n",
    "[09-images_as_tensors]:_Docs/09-images_as_tensors.png\n",
    "[10-reshape_grayscale]:_Docs/10-reshape_grayscale.png\n",
    "[11-reshape_color]:_Docs/11-reshape_color.png"
   ]
  },
  {
   "cell_type": "markdown",
   "metadata": {},
   "source": [
    "### 3.1 Reshaping tensors\n",
    "In many machine learning problems, you will need to reshape your input data. \n",
    "\n",
    "Some models are designed to use image data as an input. Many, however, require you to transform the data into a vector. In this exercise, we will use the `reshape()` operation to practice transforming tensors. "
   ]
  },
  {
   "cell_type": "markdown",
   "metadata": {},
   "source": [
    "Reshape the grayscale `image` into a 256x1 `image_vector` and a 4x4x4x4 `image_tensor`."
   ]
  },
  {
   "cell_type": "code",
   "execution_count": 8,
   "metadata": {},
   "outputs": [],
   "source": [
    "# Define input image\n",
    "image = tf.ones([16, 16])\n",
    "\n",
    "# Reshape image into a vector\n",
    "image_vector = tf.reshape(image, (256, 1))\n",
    "\n",
    "# Reshape image into a higher dimensional tensor\n",
    "image_tensor = tf.reshape(image, (4, 4, 4, 4))"
   ]
  },
  {
   "cell_type": "markdown",
   "metadata": {},
   "source": [
    "Adapt `image` by adding three color channels and then adjust `image_vector` and `image_tensor` accordingly."
   ]
  },
  {
   "cell_type": "code",
   "execution_count": 9,
   "metadata": {},
   "outputs": [],
   "source": [
    "# Add three color channels\n",
    "image = tf.ones([16, 16, 3])\n",
    "\n",
    "# Reshape image into a vector\n",
    "image_vector = tf.reshape(image, (768, 1))\n",
    "\n",
    "# Reshape image into a higher dimensional tensor\n",
    "image_tensor = tf.reshape(image, (4, 4, 4, 4, 3))"
   ]
  },
  {
   "cell_type": "markdown",
   "metadata": {},
   "source": [
    "### 3.2 Optimizing with gradients\n",
    "You are given a loss function, $y=x^2$, which you want to minimize. You can do this by computing the slope using the `GradientTape()` operation at different values of `x`. If the ***slope is positive***, you can ***decrease the loss by lowering `x`***. If it is ***negative***, you can ***decrease it by increasing `x`***. **This is how gradient descent works**.\n",
    "\n",
    "The image shows a plot of y equals x squared. It also shows the gradient at x equals -1, x equals 0, and x equals 1.\n",
    "\n",
    "![][08-y_x2]\n",
    "\n",
    "In practice, you will use a high level tensorflow operation to perform gradient descent automatically. In this exercise, however, you will compute the slope at `x` values of `-1`, `1`, and `0`. \n",
    "\n",
    "[08-y_x2]:_Docs/08-y_x2.png"
   ]
  },
  {
   "cell_type": "code",
   "execution_count": 10,
   "metadata": {},
   "outputs": [
    {
     "name": "stdout",
     "output_type": "stream",
     "text": [
      "-2.0\n",
      "2.0\n",
      "0.0\n"
     ]
    }
   ],
   "source": [
    "def compute_gradient(x0):\n",
    "  \t# Define x as a variable with an initial value of x0\n",
    "\tx = tf.Variable(x0)\n",
    "\twith tf.GradientTape() as tape:\n",
    "\t\ttape.watch(x)\n",
    "        # Define y using the multiply operation\n",
    "\t\ty = tf.multiply(x,x)\n",
    "    # Return the gradient of y with respect to x\n",
    "\treturn tape.gradient(y, x).numpy()\n",
    "\n",
    "# Compute and print gradients at x = -1, 1, and 0\n",
    "print(compute_gradient(-1.0))\n",
    "print(compute_gradient(1.0))\n",
    "print(compute_gradient(0.0))"
   ]
  },
  {
   "cell_type": "markdown",
   "metadata": {},
   "source": [
    "Notice that the slope is positive at `x` = 1, which means that we can lower the loss by reducing `x`. The slope is negative at `x` = -1, which means that we can lower the loss by increasing `x`. The slope at `x` = 0 is 0, which means that we cannot lower the loss by either increasing or decreasing `x`. This is because the loss is minimized at `x` = 0."
   ]
  },
  {
   "cell_type": "markdown",
   "metadata": {},
   "source": [
    "### 3.3 Working with image data\n",
    "You are given a black-and-white image of a letter, which has been encoded as a tensor, `letter`. You want to determine whether the letter is an X or a K. You don't have a trained neural network, but you do have a simple model, `model`, which can be used to classify `letter`.\n",
    "\n",
    "The 3x3 tensor, `letter`, and the 1x3 tensor, `model`, are available in the Python shell. You can determine whether letter is a K by multiplying `letter` by `model`, summing over the result, and then checking if it is equal to 1. As with more complicated models, such as neural networks, `model` is a collection of weights, arranged in a tensor.\n",
    "\n",
    "Note that the functions `reshape()`, `matmul()`, and `reduce_sum()` have been imported from tensorflow and are available for use."
   ]
  },
  {
   "cell_type": "code",
   "execution_count": 11,
   "metadata": {},
   "outputs": [],
   "source": [
    "letter = np.array ([[1., 0., 1.],\n",
    "                    [1., 1., 0.],\n",
    "                    [1., 0., 1.]])\n",
    "model = np.array([[ 1.,  0., -1.]])"
   ]
  },
  {
   "cell_type": "code",
   "execution_count": 12,
   "metadata": {},
   "outputs": [
    {
     "name": "stdout",
     "output_type": "stream",
     "text": [
      "1.0\n"
     ]
    }
   ],
   "source": [
    "# Reshape model from a 1x3 to a 3x1 tensor\n",
    "model = tf.reshape(model, (3, 1))\n",
    "\n",
    "# Multiply letter by model\n",
    "output = tf.matmul(letter, model)\n",
    "\n",
    "# Sum over output and print prediction using the numpy method\n",
    "prediction = tf.reduce_sum(output)\n",
    "print(prediction.numpy())"
   ]
  }
 ],
 "metadata": {
  "kernelspec": {
   "display_name": "Python 3",
   "language": "python",
   "name": "python3"
  },
  "language_info": {
   "codemirror_mode": {
    "name": "ipython",
    "version": 3
   },
   "file_extension": ".py",
   "mimetype": "text/x-python",
   "name": "python",
   "nbconvert_exporter": "python",
   "pygments_lexer": "ipython3",
   "version": "3.7.3"
  }
 },
 "nbformat": 4,
 "nbformat_minor": 2
}
